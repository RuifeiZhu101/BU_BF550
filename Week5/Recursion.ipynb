{
 "cells": [
  {
   "cell_type": "markdown",
   "id": "8b342c84",
   "metadata": {},
   "source": [
    "Factorial: n!=n*(n-1)*(n-2)*...*2*1\n",
    "           1!=1\n",
    "           0!=1"
   ]
  },
  {
   "cell_type": "code",
   "execution_count": 1,
   "id": "7ade5c4d",
   "metadata": {},
   "outputs": [],
   "source": [
    "#Recursion\n",
    "def factorial(n):\n",
    "   if n == 1:\n",
    "       return n\n",
    "   else:\n",
    "       return n*factorial(n-1)"
   ]
  },
  {
   "cell_type": "code",
   "execution_count": 3,
   "id": "7bd61319",
   "metadata": {},
   "outputs": [
    {
     "data": {
      "text/plain": [
       "24"
      ]
     },
     "execution_count": 3,
     "metadata": {},
     "output_type": "execute_result"
    }
   ],
   "source": [
    "factorial(4)"
   ]
  },
  {
   "cell_type": "code",
   "execution_count": 23,
   "id": "d7106004",
   "metadata": {},
   "outputs": [],
   "source": [
    "#Non recursion\n",
    "def fact_forloop(n):\n",
    "    a=1\n",
    "    for i in range(n):\n",
    "        a=a*(i+1)\n",
    "        #print(a)\n",
    "        #print(i)\n",
    "    \n",
    "    return a\n",
    "    "
   ]
  },
  {
   "cell_type": "code",
   "execution_count": 24,
   "id": "9ed418b0",
   "metadata": {},
   "outputs": [
    {
     "data": {
      "text/plain": [
       "24"
      ]
     },
     "execution_count": 24,
     "metadata": {},
     "output_type": "execute_result"
    }
   ],
   "source": [
    "fact_forloop(4)"
   ]
  }
 ],
 "metadata": {
  "kernelspec": {
   "display_name": "Python 3 (ipykernel)",
   "language": "python",
   "name": "python3"
  },
  "language_info": {
   "codemirror_mode": {
    "name": "ipython",
    "version": 3
   },
   "file_extension": ".py",
   "mimetype": "text/x-python",
   "name": "python",
   "nbconvert_exporter": "python",
   "pygments_lexer": "ipython3",
   "version": "3.9.12"
  }
 },
 "nbformat": 4,
 "nbformat_minor": 5
}
