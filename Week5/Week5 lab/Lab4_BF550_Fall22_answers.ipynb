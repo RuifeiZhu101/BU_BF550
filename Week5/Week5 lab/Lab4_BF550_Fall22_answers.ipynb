{
 "cells": [
  {
   "cell_type": "markdown",
   "metadata": {
    "id": "Vt4IHcWMSBJV"
   },
   "source": [
    "# BF550 Lab 4 Fall 2022\n",
    "\n",
    "In this lab, we will work with data in Pandas and visualization with Seaborn. We will learn common, but complicated Pandas operations such as melt and merge. I have left cell outputs with the intended solution, but your task will be to write the corresponding code (unless otherwise noted)."
   ]
  },
  {
   "cell_type": "code",
   "execution_count": 1,
   "metadata": {
    "id": "Yf8lW0XnR0Z9"
   },
   "outputs": [],
   "source": [
    "import pandas as pd\n",
    "import numpy as np\n",
    "import matplotlib.pyplot as plt\n",
    "import seaborn as sns"
   ]
  },
  {
   "cell_type": "markdown",
   "metadata": {
    "id": "ZTdMVoCoapyU"
   },
   "source": [
    "# 0. Seaborn review\n",
    "\n",
    "With [Seaborn](https://seaborn.pydata.org/) we can plot categorical data by using the column names of a pandas Dataframe:"
   ]
  },
  {
   "cell_type": "code",
   "execution_count": 2,
   "metadata": {
    "colab": {
     "base_uri": "https://localhost:8080/",
     "height": 206
    },
    "id": "ZKvGW9Mha2Yi",
    "outputId": "f17b7ecb-68cc-4736-f481-256954a8244f"
   },
   "outputs": [
    {
     "data": {
      "text/html": [
       "<div>\n",
       "<style scoped>\n",
       "    .dataframe tbody tr th:only-of-type {\n",
       "        vertical-align: middle;\n",
       "    }\n",
       "\n",
       "    .dataframe tbody tr th {\n",
       "        vertical-align: top;\n",
       "    }\n",
       "\n",
       "    .dataframe thead th {\n",
       "        text-align: right;\n",
       "    }\n",
       "</style>\n",
       "<table border=\"1\" class=\"dataframe\">\n",
       "  <thead>\n",
       "    <tr style=\"text-align: right;\">\n",
       "      <th></th>\n",
       "      <th>total_bill</th>\n",
       "      <th>tip</th>\n",
       "      <th>sex</th>\n",
       "      <th>smoker</th>\n",
       "      <th>day</th>\n",
       "      <th>time</th>\n",
       "      <th>size</th>\n",
       "    </tr>\n",
       "  </thead>\n",
       "  <tbody>\n",
       "    <tr>\n",
       "      <th>0</th>\n",
       "      <td>16.99</td>\n",
       "      <td>1.01</td>\n",
       "      <td>Female</td>\n",
       "      <td>No</td>\n",
       "      <td>Sun</td>\n",
       "      <td>Dinner</td>\n",
       "      <td>2</td>\n",
       "    </tr>\n",
       "    <tr>\n",
       "      <th>1</th>\n",
       "      <td>10.34</td>\n",
       "      <td>1.66</td>\n",
       "      <td>Male</td>\n",
       "      <td>No</td>\n",
       "      <td>Sun</td>\n",
       "      <td>Dinner</td>\n",
       "      <td>3</td>\n",
       "    </tr>\n",
       "    <tr>\n",
       "      <th>2</th>\n",
       "      <td>21.01</td>\n",
       "      <td>3.50</td>\n",
       "      <td>Male</td>\n",
       "      <td>No</td>\n",
       "      <td>Sun</td>\n",
       "      <td>Dinner</td>\n",
       "      <td>3</td>\n",
       "    </tr>\n",
       "    <tr>\n",
       "      <th>3</th>\n",
       "      <td>23.68</td>\n",
       "      <td>3.31</td>\n",
       "      <td>Male</td>\n",
       "      <td>No</td>\n",
       "      <td>Sun</td>\n",
       "      <td>Dinner</td>\n",
       "      <td>2</td>\n",
       "    </tr>\n",
       "    <tr>\n",
       "      <th>4</th>\n",
       "      <td>24.59</td>\n",
       "      <td>3.61</td>\n",
       "      <td>Female</td>\n",
       "      <td>No</td>\n",
       "      <td>Sun</td>\n",
       "      <td>Dinner</td>\n",
       "      <td>4</td>\n",
       "    </tr>\n",
       "  </tbody>\n",
       "</table>\n",
       "</div>"
      ],
      "text/plain": [
       "   total_bill   tip     sex smoker  day    time  size\n",
       "0       16.99  1.01  Female     No  Sun  Dinner     2\n",
       "1       10.34  1.66    Male     No  Sun  Dinner     3\n",
       "2       21.01  3.50    Male     No  Sun  Dinner     3\n",
       "3       23.68  3.31    Male     No  Sun  Dinner     2\n",
       "4       24.59  3.61  Female     No  Sun  Dinner     4"
      ]
     },
     "execution_count": 2,
     "metadata": {},
     "output_type": "execute_result"
    }
   ],
   "source": [
    "\"Load data\"\n",
    "tips = sns.load_dataset('tips')\n",
    "tips.head()"
   ]
  },
  {
   "cell_type": "code",
   "execution_count": 3,
   "metadata": {
    "colab": {
     "base_uri": "https://localhost:8080/",
     "height": 279
    },
    "id": "7spoVNd1a7rG",
    "outputId": "8e05beec-906b-4487-c825-a3965302ad76"
   },
   "outputs": [
    {
     "data": {
      "image/png": "[encoded data removed]",
      "text/plain": [
       "<Figure size 640x480 with 1 Axes>"
      ]
     },
     "metadata": {},
     "output_type": "display_data"
    }
   ],
   "source": [
    "\"Plot data\"\n",
    "# Create a lineplot where:\n",
    "# days are on the x axis\n",
    "# total_bill is on the y axis\n",
    "# colored by sex\n",
    "sns.lineplot(data=tips, x='day', y='total_bill', hue='sex')\n",
    "plt.show()"
   ]
  },
  {
   "cell_type": "markdown",
   "metadata": {
    "id": "Cz02AY7ySQxz"
   },
   "source": [
    "## Categorical data and transformations\n",
    "Note that the data we want to plot must be in a **column** in order for us to point Seaborn towards it (each argument we pass to a Seaborn function is the name of a column in our dataframe). The data we want won't always be in columns, so we may have to *transform* the data.\n",
    "\n",
    "# Exercise: visualizing counts data\n",
    "In the following lab **you will visualize count data over time from different locations**. \n",
    "\n",
    "Notice that your typical count dataset is a table of samples and features (the count of each feature in each sample, where a feature can be a gene, species, etc.)\n",
    "\n",
    "| **Sample** | Feature 1 | Feature 2 | ... | Feature N |\n",
    "| --- | --- | --- | --- | ---|\n",
    "| **S1** | S1F1 | S1F2 | ... | S1FN |\n",
    "| **S2**  | S2F1 | S2F2 | ... | S2FN |\n",
    "\n",
    "If we wanted to color by `feature` like how we colored by `sex` in the previous plot, note that the format that this data is in won't allow us to do that. There is no column specifying the `feature`. \n",
    "\n",
    "We will have to transform the data so that `feature` becomes a column and each value of the matrix gets its own row:\n",
    "\n",
    "| Sample | feature| value |\n",
    "| --- | --- | --- |\n",
    "| S1 | Feature 1 | S1F1|\n",
    "| S1 | Feature 2| S1F2|\n",
    "| S2 | Feature 1| S2F1|\n",
    "| S2 | Feature 2| S2F2|\n",
    "| ... | ... | ... |\n",
    "| S1 | Feature N | S1FN|\n",
    "| S2 | Feature N | S2FN|\n",
    "\n",
    "Now, `feature` is a column that we can pass to Seaborn for visualizion. In today's lab, we will learn how to perform this transformation, called \"metling\", and how to plot the resulting data.\n",
    "\n",
    "# 1. Generate data\n",
    "Since you have learned some numpy and pandas, we will use both of them to generate some synthetic ecological data on the number of animals observed in a forest over time.\n",
    "\n",
    "* **Each row in `df` will be the counts of animals from a particular forest at a particular time**\n",
    "* **Each row in `md` will be the metadata for a particular sample**\n",
    "\n",
    "For now, run this cell, and then come back later to try and understand what is going on."
   ]
  },
  {
   "cell_type": "code",
   "execution_count": 4,
   "metadata": {
    "colab": {
     "base_uri": "https://localhost:8080/",
     "height": 238
    },
    "id": "W7IqtjvTSQIA",
    "outputId": "bbd5d6b3-a2ab-4f01-c022-5ec70398056b"
   },
   "outputs": [
    {
     "data": {
      "text/html": [
       "<div>\n",
       "<style scoped>\n",
       "    .dataframe tbody tr th:only-of-type {\n",
       "        vertical-align: middle;\n",
       "    }\n",
       "\n",
       "    .dataframe tbody tr th {\n",
       "        vertical-align: top;\n",
       "    }\n",
       "\n",
       "    .dataframe thead th {\n",
       "        text-align: right;\n",
       "    }\n",
       "</style>\n",
       "<table border=\"1\" class=\"dataframe\">\n",
       "  <thead>\n",
       "    <tr style=\"text-align: right;\">\n",
       "      <th></th>\n",
       "      <th>lion</th>\n",
       "      <th>tiger</th>\n",
       "      <th>bear</th>\n",
       "      <th>wolf</th>\n",
       "      <th>rabbit</th>\n",
       "    </tr>\n",
       "    <tr>\n",
       "      <th>Sample</th>\n",
       "      <th></th>\n",
       "      <th></th>\n",
       "      <th></th>\n",
       "      <th></th>\n",
       "      <th></th>\n",
       "    </tr>\n",
       "  </thead>\n",
       "  <tbody>\n",
       "    <tr>\n",
       "      <th>S0</th>\n",
       "      <td>22</td>\n",
       "      <td>17</td>\n",
       "      <td>40</td>\n",
       "      <td>41</td>\n",
       "      <td>80</td>\n",
       "    </tr>\n",
       "    <tr>\n",
       "      <th>S1</th>\n",
       "      <td>19</td>\n",
       "      <td>14</td>\n",
       "      <td>44</td>\n",
       "      <td>43</td>\n",
       "      <td>80</td>\n",
       "    </tr>\n",
       "    <tr>\n",
       "      <th>S2</th>\n",
       "      <td>20</td>\n",
       "      <td>20</td>\n",
       "      <td>44</td>\n",
       "      <td>44</td>\n",
       "      <td>72</td>\n",
       "    </tr>\n",
       "    <tr>\n",
       "      <th>S3</th>\n",
       "      <td>18</td>\n",
       "      <td>22</td>\n",
       "      <td>38</td>\n",
       "      <td>33</td>\n",
       "      <td>89</td>\n",
       "    </tr>\n",
       "    <tr>\n",
       "      <th>S4</th>\n",
       "      <td>19</td>\n",
       "      <td>18</td>\n",
       "      <td>52</td>\n",
       "      <td>38</td>\n",
       "      <td>73</td>\n",
       "    </tr>\n",
       "  </tbody>\n",
       "</table>\n",
       "</div>"
      ],
      "text/plain": [
       "        lion  tiger  bear  wolf  rabbit\n",
       "Sample                                 \n",
       "S0        22     17    40    41      80\n",
       "S1        19     14    44    43      80\n",
       "S2        20     20    44    44      72\n",
       "S3        18     22    38    33      89\n",
       "S4        19     18    52    38      73"
      ]
     },
     "execution_count": 4,
     "metadata": {},
     "output_type": "execute_result"
    }
   ],
   "source": [
    "\"Synthetic data properties\"\n",
    "# Animals\n",
    "animals = ['lion', 'tiger', 'bear', 'wolf', 'rabbit']\n",
    "# Freqs of each animal\n",
    "freqs = [.1, .1, .2, .2, .4]\n",
    "# Locations\n",
    "locations = ['congo', 'amazon', 'redwood']\n",
    "ns = [200, 300, 500]\n",
    "# Months\n",
    "months = np.linspace(0, 20, 5)\n",
    "\n",
    "\"Create sample names\"\n",
    "# Sample for each timepoint and location\n",
    "sample_names = [f'{l}_{int(t)}' for l in locations for t in months]\n",
    "# Create metadata file\n",
    "md = pd.DataFrame([{'Sample': f'S{i}', 'description': s, 'location': s.split('_')[0], 'month': s.split('_')[1]} for i, s in enumerate(sample_names)])\n",
    "# Save to file\n",
    "## NOTICE: WE ARE NOT SAVING THE INDEX HERE. TAKE A LOOK AT MD TO SEE WHY\n",
    "md.to_csv('lab4_md.csv', index=False)\n",
    "\n",
    "\"Generate counts\"\n",
    "# Sample from multinomial for each location with different n and same freqs\n",
    "np.random.seed(123) \n",
    "data = np.array([x for n in ns for x in np.random.multinomial(n, freqs, len(months))])\n",
    "\n",
    "\"Create DataFrame\"\n",
    "df = pd.DataFrame(data, md.Sample, animals)\n",
    "# Save to file\n",
    "## NOTICE: WE *ARE* SAVING THE INDEX HERE. TAKE A LOOK AT DF TO SEE WHY\n",
    "df.to_csv('lab4_counts.csv')\n",
    "df.head()"
   ]
  },
  {
   "cell_type": "markdown",
   "metadata": {
    "id": "rAonAM7vXAyd"
   },
   "source": [
    "# 2. Load the data\n",
    "\n",
    "\n"
   ]
  },
  {
   "cell_type": "code",
   "execution_count": 5,
   "metadata": {
    "colab": {
     "base_uri": "https://localhost:8080/",
     "height": 206
    },
    "id": "Besqlc-eXbgE",
    "outputId": "7bd2a488-9694-4a5c-bb79-2cbe277927c3"
   },
   "outputs": [
    {
     "data": {
      "text/html": [
       "<div>\n",
       "<style scoped>\n",
       "    .dataframe tbody tr th:only-of-type {\n",
       "        vertical-align: middle;\n",
       "    }\n",
       "\n",
       "    .dataframe tbody tr th {\n",
       "        vertical-align: top;\n",
       "    }\n",
       "\n",
       "    .dataframe thead th {\n",
       "        text-align: right;\n",
       "    }\n",
       "</style>\n",
       "<table border=\"1\" class=\"dataframe\">\n",
       "  <thead>\n",
       "    <tr style=\"text-align: right;\">\n",
       "      <th></th>\n",
       "      <th>Sample</th>\n",
       "      <th>description</th>\n",
       "      <th>location</th>\n",
       "      <th>month</th>\n",
       "    </tr>\n",
       "  </thead>\n",
       "  <tbody>\n",
       "    <tr>\n",
       "      <th>0</th>\n",
       "      <td>S0</td>\n",
       "      <td>congo_0</td>\n",
       "      <td>congo</td>\n",
       "      <td>0</td>\n",
       "    </tr>\n",
       "    <tr>\n",
       "      <th>1</th>\n",
       "      <td>S1</td>\n",
       "      <td>congo_5</td>\n",
       "      <td>congo</td>\n",
       "      <td>5</td>\n",
       "    </tr>\n",
       "    <tr>\n",
       "      <th>2</th>\n",
       "      <td>S2</td>\n",
       "      <td>congo_10</td>\n",
       "      <td>congo</td>\n",
       "      <td>10</td>\n",
       "    </tr>\n",
       "    <tr>\n",
       "      <th>3</th>\n",
       "      <td>S3</td>\n",
       "      <td>congo_15</td>\n",
       "      <td>congo</td>\n",
       "      <td>15</td>\n",
       "    </tr>\n",
       "    <tr>\n",
       "      <th>4</th>\n",
       "      <td>S4</td>\n",
       "      <td>congo_20</td>\n",
       "      <td>congo</td>\n",
       "      <td>20</td>\n",
       "    </tr>\n",
       "  </tbody>\n",
       "</table>\n",
       "</div>"
      ],
      "text/plain": [
       "  Sample description location  month\n",
       "0     S0     congo_0    congo      0\n",
       "1     S1     congo_5    congo      5\n",
       "2     S2    congo_10    congo     10\n",
       "3     S3    congo_15    congo     15\n",
       "4     S4    congo_20    congo     20"
      ]
     },
     "execution_count": 5,
     "metadata": {},
     "output_type": "execute_result"
    }
   ],
   "source": [
    "\"Load the metadata file\"\n",
    "# See the Generate Data cell above to find the metadata file name\n",
    "md = pd.read_csv('lab4_md.csv')\n",
    "md.head()"
   ]
  },
  {
   "cell_type": "code",
   "execution_count": 6,
   "metadata": {
    "colab": {
     "base_uri": "https://localhost:8080/",
     "height": 238
    },
    "id": "1Qyyi7fsZZa2",
    "outputId": "d25905b4-e6c8-43de-8464-a4806f4d5c1a"
   },
   "outputs": [
    {
     "data": {
      "text/html": [
       "<div>\n",
       "<style scoped>\n",
       "    .dataframe tbody tr th:only-of-type {\n",
       "        vertical-align: middle;\n",
       "    }\n",
       "\n",
       "    .dataframe tbody tr th {\n",
       "        vertical-align: top;\n",
       "    }\n",
       "\n",
       "    .dataframe thead th {\n",
       "        text-align: right;\n",
       "    }\n",
       "</style>\n",
       "<table border=\"1\" class=\"dataframe\">\n",
       "  <thead>\n",
       "    <tr style=\"text-align: right;\">\n",
       "      <th></th>\n",
       "      <th>lion</th>\n",
       "      <th>tiger</th>\n",
       "      <th>bear</th>\n",
       "      <th>wolf</th>\n",
       "      <th>rabbit</th>\n",
       "    </tr>\n",
       "    <tr>\n",
       "      <th>Sample</th>\n",
       "      <th></th>\n",
       "      <th></th>\n",
       "      <th></th>\n",
       "      <th></th>\n",
       "      <th></th>\n",
       "    </tr>\n",
       "  </thead>\n",
       "  <tbody>\n",
       "    <tr>\n",
       "      <th>S0</th>\n",
       "      <td>22</td>\n",
       "      <td>17</td>\n",
       "      <td>40</td>\n",
       "      <td>41</td>\n",
       "      <td>80</td>\n",
       "    </tr>\n",
       "    <tr>\n",
       "      <th>S1</th>\n",
       "      <td>19</td>\n",
       "      <td>14</td>\n",
       "      <td>44</td>\n",
       "      <td>43</td>\n",
       "      <td>80</td>\n",
       "    </tr>\n",
       "    <tr>\n",
       "      <th>S2</th>\n",
       "      <td>20</td>\n",
       "      <td>20</td>\n",
       "      <td>44</td>\n",
       "      <td>44</td>\n",
       "      <td>72</td>\n",
       "    </tr>\n",
       "    <tr>\n",
       "      <th>S3</th>\n",
       "      <td>18</td>\n",
       "      <td>22</td>\n",
       "      <td>38</td>\n",
       "      <td>33</td>\n",
       "      <td>89</td>\n",
       "    </tr>\n",
       "    <tr>\n",
       "      <th>S4</th>\n",
       "      <td>19</td>\n",
       "      <td>18</td>\n",
       "      <td>52</td>\n",
       "      <td>38</td>\n",
       "      <td>73</td>\n",
       "    </tr>\n",
       "  </tbody>\n",
       "</table>\n",
       "</div>"
      ],
      "text/plain": [
       "        lion  tiger  bear  wolf  rabbit\n",
       "Sample                                 \n",
       "S0        22     17    40    41      80\n",
       "S1        19     14    44    43      80\n",
       "S2        20     20    44    44      72\n",
       "S3        18     22    38    33      89\n",
       "S4        19     18    52    38      73"
      ]
     },
     "execution_count": 6,
     "metadata": {},
     "output_type": "execute_result"
    }
   ],
   "source": [
    "\"Load the counts file and set the `Sample` column (first column) as the index\"\n",
    "df = pd.read_csv('lab4_counts.csv', index_col=0)\n",
    "df.head()"
   ]
  },
  {
   "cell_type": "markdown",
   "metadata": {
    "id": "KCM0voMSZvbN"
   },
   "source": [
    "# 3. Rename the axes in `df`\n",
    "Renaming the index axis in `df` to `Sample` (just like in `md`) and renaming the column axis to `animal` will help us in the next step. Google `pandas rename axis` if you aren't familiar with the syntax. Note that you could perform this renaming step when the data is loaded with:\n",
    "\n",
    "`df = pd.read_csv('filepath').<function you have to figure out here>`"
   ]
  },
  {
   "cell_type": "code",
   "execution_count": 82,
   "metadata": {
    "colab": {
     "base_uri": "https://localhost:8080/",
     "height": 238
    },
    "id": "ukw0R4bXZuHM",
    "outputId": "f29a3df8-56ba-48fe-f6a6-99f01cd791c9"
   },
   "outputs": [
    {
     "data": {
      "text/html": [
       "<div>\n",
       "<style scoped>\n",
       "    .dataframe tbody tr th:only-of-type {\n",
       "        vertical-align: middle;\n",
       "    }\n",
       "\n",
       "    .dataframe tbody tr th {\n",
       "        vertical-align: top;\n",
       "    }\n",
       "\n",
       "    .dataframe thead th {\n",
       "        text-align: right;\n",
       "    }\n",
       "</style>\n",
       "<table border=\"1\" class=\"dataframe\">\n",
       "  <thead>\n",
       "    <tr style=\"text-align: right;\">\n",
       "      <th>animal</th>\n",
       "      <th>lion</th>\n",
       "      <th>tiger</th>\n",
       "      <th>bear</th>\n",
       "      <th>wolf</th>\n",
       "      <th>rabbit</th>\n",
       "    </tr>\n",
       "    <tr>\n",
       "      <th>Sample</th>\n",
       "      <th></th>\n",
       "      <th></th>\n",
       "      <th></th>\n",
       "      <th></th>\n",
       "      <th></th>\n",
       "    </tr>\n",
       "  </thead>\n",
       "  <tbody>\n",
       "    <tr>\n",
       "      <th>S0</th>\n",
       "      <td>22</td>\n",
       "      <td>17</td>\n",
       "      <td>40</td>\n",
       "      <td>41</td>\n",
       "      <td>80</td>\n",
       "    </tr>\n",
       "    <tr>\n",
       "      <th>S1</th>\n",
       "      <td>19</td>\n",
       "      <td>14</td>\n",
       "      <td>44</td>\n",
       "      <td>43</td>\n",
       "      <td>80</td>\n",
       "    </tr>\n",
       "    <tr>\n",
       "      <th>S2</th>\n",
       "      <td>20</td>\n",
       "      <td>20</td>\n",
       "      <td>44</td>\n",
       "      <td>44</td>\n",
       "      <td>72</td>\n",
       "    </tr>\n",
       "    <tr>\n",
       "      <th>S3</th>\n",
       "      <td>18</td>\n",
       "      <td>22</td>\n",
       "      <td>38</td>\n",
       "      <td>33</td>\n",
       "      <td>89</td>\n",
       "    </tr>\n",
       "    <tr>\n",
       "      <th>S4</th>\n",
       "      <td>19</td>\n",
       "      <td>18</td>\n",
       "      <td>52</td>\n",
       "      <td>38</td>\n",
       "      <td>73</td>\n",
       "    </tr>\n",
       "  </tbody>\n",
       "</table>\n",
       "</div>"
      ],
      "text/plain": [
       "animal  lion  tiger  bear  wolf  rabbit\n",
       "Sample                                 \n",
       "S0        22     17    40    41      80\n",
       "S1        19     14    44    43      80\n",
       "S2        20     20    44    44      72\n",
       "S3        18     22    38    33      89\n",
       "S4        19     18    52    38      73"
      ]
     },
     "execution_count": 82,
     "metadata": {},
     "output_type": "execute_result"
    }
   ],
   "source": [
    "\"Rename axes\"\n",
    "df = df.rename_axis(columns='animal')\n",
    "df.head()"
   ]
  },
  {
   "cell_type": "markdown",
   "metadata": {
    "id": "9PvLB4Aib5jH"
   },
   "source": [
    "# 4. Melt the data\n",
    "\n",
    "If we want to make a plot where each line is colored by an `animal`, note that we need a Dataframe with a column called `animal`. We don't have that now, but we could transform our *wideform* data to *longform* in order to get that. \n",
    "\n",
    "## Wideform vs. longform data\n",
    "Wideform dataframe\n",
    "\n",
    "|Index\t|Feature 1|\tFeature 2|\n",
    "| --- | --- | ---|\n",
    "I1\t|A\t|B\n",
    "I2\t|C\t|D\n",
    "\n",
    "\n",
    "Longform dataframe\n",
    "\n",
    "|Index |\tfeature\t|value|\n",
    "| ---|---|---|\n",
    "I1\t|Feature 1|\tA|\n",
    "I1|\tFeature 2|\tB|\n",
    "I2|\tFeature 1|\tC|\n",
    "I2|\tFeature 2|\tD|\n",
    "\n",
    "Going from wideform to longform data is called [melting](https://pandas.pydata.org/docs/reference/api/pandas.melt.html) and going from longform to wideform is called [pivotting](https://pandas.pydata.org/docs/reference/api/pandas.DataFrame.pivot.html). When we melt the data, each observation now has it's own row. You can read more about these operations here: https://github.com/michaelsilverstein/Pandas-and-Plotting/blob/master/lessons/melting_pivotting.ipynb. \n",
    "\n",
    "\n",
    "In the example above, `Index` is the `id_vars`. There is a special case of melting called \"stacking\" (https://pandas.pydata.org/docs/reference/api/pandas.DataFrame.stack.html) to melt a Dataframe using the index as the `id_vars` and the columns as the `value_vars`."
   ]
  },
  {
   "cell_type": "code",
   "execution_count": 84,
   "metadata": {
    "colab": {
     "base_uri": "https://localhost:8080/"
    },
    "id": "j8smNafWe6yo",
    "outputId": "740f420d-0304-4277-8958-844b7546abec"
   },
   "outputs": [
    {
     "data": {
      "text/plain": [
       "Sample  animal\n",
       "S0      lion       22\n",
       "        tiger      17\n",
       "        bear       40\n",
       "        wolf       41\n",
       "        rabbit     80\n",
       "                 ... \n",
       "S14     lion       55\n",
       "        tiger      45\n",
       "        bear      103\n",
       "        wolf       94\n",
       "        rabbit    203\n",
       "Length: 75, dtype: int64"
      ]
     },
     "execution_count": 84,
     "metadata": {},
     "output_type": "execute_result"
    }
   ],
   "source": [
    "\"Stack the counts table and convert it into a dataframe\"\n",
    "# I'VE GIVEN YOU THE ANSWER HERE, BUT LOOK AT WHAT df.stack() does, and then look at what .reset_index() does\n",
    "df.stack()"
   ]
  },
  {
   "cell_type": "code",
   "execution_count": 85,
   "metadata": {
    "colab": {
     "base_uri": "https://localhost:8080/",
     "height": 206
    },
    "id": "oOMr-g1LgHb2",
    "outputId": "7eed6ec3-f883-4def-934b-d217805d77d5"
   },
   "outputs": [
    {
     "data": {
      "text/html": [
       "<div>\n",
       "<style scoped>\n",
       "    .dataframe tbody tr th:only-of-type {\n",
       "        vertical-align: middle;\n",
       "    }\n",
       "\n",
       "    .dataframe tbody tr th {\n",
       "        vertical-align: top;\n",
       "    }\n",
       "\n",
       "    .dataframe thead th {\n",
       "        text-align: right;\n",
       "    }\n",
       "</style>\n",
       "<table border=\"1\" class=\"dataframe\">\n",
       "  <thead>\n",
       "    <tr style=\"text-align: right;\">\n",
       "      <th></th>\n",
       "      <th>Sample</th>\n",
       "      <th>animal</th>\n",
       "      <th>counts</th>\n",
       "    </tr>\n",
       "  </thead>\n",
       "  <tbody>\n",
       "    <tr>\n",
       "      <th>0</th>\n",
       "      <td>S0</td>\n",
       "      <td>lion</td>\n",
       "      <td>22</td>\n",
       "    </tr>\n",
       "    <tr>\n",
       "      <th>1</th>\n",
       "      <td>S0</td>\n",
       "      <td>tiger</td>\n",
       "      <td>17</td>\n",
       "    </tr>\n",
       "    <tr>\n",
       "      <th>2</th>\n",
       "      <td>S0</td>\n",
       "      <td>bear</td>\n",
       "      <td>40</td>\n",
       "    </tr>\n",
       "    <tr>\n",
       "      <th>3</th>\n",
       "      <td>S0</td>\n",
       "      <td>wolf</td>\n",
       "      <td>41</td>\n",
       "    </tr>\n",
       "    <tr>\n",
       "      <th>4</th>\n",
       "      <td>S0</td>\n",
       "      <td>rabbit</td>\n",
       "      <td>80</td>\n",
       "    </tr>\n",
       "  </tbody>\n",
       "</table>\n",
       "</div>"
      ],
      "text/plain": [
       "  Sample  animal  counts\n",
       "0     S0    lion      22\n",
       "1     S0   tiger      17\n",
       "2     S0    bear      40\n",
       "3     S0    wolf      41\n",
       "4     S0  rabbit      80"
      ]
     },
     "execution_count": 85,
     "metadata": {},
     "output_type": "execute_result"
    }
   ],
   "source": [
    "stacked = df.stack().reset_index(name='counts')\n",
    "stacked.head()"
   ]
  },
  {
   "cell_type": "markdown",
   "metadata": {
    "id": "CqQaBKzzYhZO"
   },
   "source": [
    "# 5. Merge metadata\n",
    "Remember, we want to be able to plot the counts of each animal **over time from each location**. We have a `Sample` name associated with each count but we need the **metadata** (`md`) in order to include this information.\n",
    "\n",
    "In pandas we can [merge](https://pandas.pydata.org/docs/reference/api/pandas.DataFrame.merge.html) dataframes if they share the same column names (like `Sample` in `stacked` and `md`). (You can also [join](https://pandas.pydata.org/docs/reference/api/pandas.DataFrame.join.html) dataframes on their index).\n",
    "\n",
    "So, we can include sample metadata by merging `stacked` and `md`."
   ]
  },
  {
   "cell_type": "code",
   "execution_count": 86,
   "metadata": {
    "colab": {
     "base_uri": "https://localhost:8080/",
     "height": 206
    },
    "id": "rKSjLuXpif_Q",
    "outputId": "fee10efe-4438-4d1d-decb-17b2fc49bf35"
   },
   "outputs": [
    {
     "data": {
      "text/html": [
       "<div>\n",
       "<style scoped>\n",
       "    .dataframe tbody tr th:only-of-type {\n",
       "        vertical-align: middle;\n",
       "    }\n",
       "\n",
       "    .dataframe tbody tr th {\n",
       "        vertical-align: top;\n",
       "    }\n",
       "\n",
       "    .dataframe thead th {\n",
       "        text-align: right;\n",
       "    }\n",
       "</style>\n",
       "<table border=\"1\" class=\"dataframe\">\n",
       "  <thead>\n",
       "    <tr style=\"text-align: right;\">\n",
       "      <th></th>\n",
       "      <th>Sample</th>\n",
       "      <th>animal</th>\n",
       "      <th>counts</th>\n",
       "      <th>description</th>\n",
       "      <th>location</th>\n",
       "      <th>month</th>\n",
       "    </tr>\n",
       "  </thead>\n",
       "  <tbody>\n",
       "    <tr>\n",
       "      <th>0</th>\n",
       "      <td>S0</td>\n",
       "      <td>lion</td>\n",
       "      <td>22</td>\n",
       "      <td>congo_0</td>\n",
       "      <td>congo</td>\n",
       "      <td>0</td>\n",
       "    </tr>\n",
       "    <tr>\n",
       "      <th>1</th>\n",
       "      <td>S0</td>\n",
       "      <td>tiger</td>\n",
       "      <td>17</td>\n",
       "      <td>congo_0</td>\n",
       "      <td>congo</td>\n",
       "      <td>0</td>\n",
       "    </tr>\n",
       "    <tr>\n",
       "      <th>2</th>\n",
       "      <td>S0</td>\n",
       "      <td>bear</td>\n",
       "      <td>40</td>\n",
       "      <td>congo_0</td>\n",
       "      <td>congo</td>\n",
       "      <td>0</td>\n",
       "    </tr>\n",
       "    <tr>\n",
       "      <th>3</th>\n",
       "      <td>S0</td>\n",
       "      <td>wolf</td>\n",
       "      <td>41</td>\n",
       "      <td>congo_0</td>\n",
       "      <td>congo</td>\n",
       "      <td>0</td>\n",
       "    </tr>\n",
       "    <tr>\n",
       "      <th>4</th>\n",
       "      <td>S0</td>\n",
       "      <td>rabbit</td>\n",
       "      <td>80</td>\n",
       "      <td>congo_0</td>\n",
       "      <td>congo</td>\n",
       "      <td>0</td>\n",
       "    </tr>\n",
       "  </tbody>\n",
       "</table>\n",
       "</div>"
      ],
      "text/plain": [
       "  Sample  animal  counts description location  month\n",
       "0     S0    lion      22     congo_0    congo      0\n",
       "1     S0   tiger      17     congo_0    congo      0\n",
       "2     S0    bear      40     congo_0    congo      0\n",
       "3     S0    wolf      41     congo_0    congo      0\n",
       "4     S0  rabbit      80     congo_0    congo      0"
      ]
     },
     "execution_count": 86,
     "metadata": {},
     "output_type": "execute_result"
    }
   ],
   "source": [
    "\"Merge the stacked counts and the metadata\"\n",
    "merged = stacked.merge(md)\n",
    "merged.head()"
   ]
  },
  {
   "cell_type": "markdown",
   "metadata": {
    "id": "QTrfHMNEjKiO"
   },
   "source": [
    "# 6. Visualize counts over time\n",
    "\n",
    "Remember that in Jupyter, you can read the docstring for any function by placing your cursor within the function parenthesis and pressing `Shift+Tab`."
   ]
  },
  {
   "cell_type": "code",
   "execution_count": 94,
   "metadata": {
    "colab": {
     "base_uri": "https://localhost:8080/",
     "height": 283
    },
    "id": "EAYLyzZLiuSl",
    "outputId": "d5431f16-fab0-4d8d-f900-9e1a6da768cf"
   },
   "outputs": [
    {
     "data": {
      "image/png": "[encoded data removed]",
      "text/plain": [
       "<Figure size 432x288 with 1 Axes>"
      ]
     },
     "metadata": {
      "needs_background": "light"
     },
     "output_type": "display_data"
    }
   ],
   "source": [
    "\"Visualize the counts of each animal over time by location in one plot\"\n",
    "# As a challenge, add circular markers to this plot! (no for loops or matplotlib, there's an argument to pass to the seaborn function)\n",
    "sns.lineplot(x='month', y='counts', hue='animal', style='location', data=merged)\n",
    "plt.show()"
   ]
  },
  {
   "cell_type": "markdown",
   "metadata": {
    "id": "v4UoCxpzkSF4"
   },
   "source": [
    "# 7. Facetting\n",
    "This looks pretty messy, let's visualize this data again, but [facet](https://seaborn.pydata.org/generated/seaborn.FacetGrid.html) by `location` (create subplots based on `location`). We can easily make facet plots for relational data with the `sns.relplot()` function (https://seaborn.pydata.org/generated/seaborn.relplot.html)."
   ]
  },
  {
   "cell_type": "code",
   "execution_count": 88,
   "metadata": {
    "colab": {
     "base_uri": "https://localhost:8080/",
     "height": 225
    },
    "id": "6y06dnQ7khqI",
    "outputId": "b0eeacd1-8eda-4f94-83bd-31529d9a73f1"
   },
   "outputs": [
    {
     "data": {
      "image/png": "[encoded data removed]",
      "text/plain": [
       "<Figure size 713.5x216 with 3 Axes>"
      ]
     },
     "metadata": {
      "needs_background": "light"
     },
     "output_type": "display_data"
    }
   ],
   "source": [
    "\"Visualize counts of each animal facetted by location\"\n",
    "# Instead of a scatter plot, make it a lineplot, and make the size (hint: height) of each subplot smaller\n",
    "g = sns.relplot(x='month', y='counts', hue='animal', col='location', kind='line', data=merged, height=3)\n",
    "g.set_xlabels('Month')\n",
    "g.set_ylabels('Counts')\n",
    "plt.show()"
   ]
  },
  {
   "cell_type": "markdown",
   "metadata": {
    "id": "EzffR6Y_YCAw"
   },
   "source": [
    "# 8. Subsetting data\n",
    "As an exercise, subset the `merged` to a new dataframe that just contains all of the 'lion' data from the 'redwood' location and then plot these counts as a barplot. Do this again with 'lion' and 'tiger'."
   ]
  },
  {
   "cell_type": "code",
   "execution_count": 89,
   "metadata": {
    "id": "woG6cCr7YixB"
   },
   "outputs": [
    {
     "data": {
      "image/png": "[encoded data removed]",
      "text/plain": [
       "<Figure size 432x288 with 1 Axes>"
      ]
     },
     "metadata": {
      "needs_background": "light"
     },
     "output_type": "display_data"
    }
   ],
   "source": [
    "\"Subset data to lion in redwood\"\n",
    "# Here I'm using \"eq\" for equals\n",
    "lion_redwood = merged[merged.location.eq('redwood') & merged.animal.eq('lion')]\n",
    "lion_redwood = merged[merge\n",
    "\"Visualize barplots\"\n",
    "sns.barplot(x='month', y='counts', data=lion_redwood)\n",
    "plt.show()"
   ]
  },
  {
   "cell_type": "code",
   "execution_count": 91,
   "metadata": {
    "id": "JqmhqQp5YqBw"
   },
   "outputs": [
    {
     "data": {
      "image/png": "[encoded data removed]",
      "text/plain": [
       "<Figure size 432x288 with 1 Axes>"
      ]
     },
     "metadata": {
      "needs_background": "light"
     },
     "output_type": "display_data"
    }
   ],
   "source": [
    "\"Subset data to lion *and* tiger in redwood\"\n",
    "# Here I use \"is_in\" to subset to multiple items\n",
    "lion_tiger_redwood = merged[merged.location.eq('redwood') & merged.animal.isin(['lion', 'tiger'])]\n",
    "\n",
    "\"Visualize barplots\"\n",
    "sns.barplot(x='month', y='counts', hue='animal', data=lion_tiger_redwood)\n",
    "plt.show()"
   ]
  },
  {
   "cell_type": "markdown",
   "metadata": {
    "id": "wKwPdLX_lLoN"
   },
   "source": [
    "# 9. Relative abundance\n",
    "\n",
    "The absolute count of each animal is interesting, but if we want to compare trends between locations, we may want to *normalize* our data by the total number of counts (divide the counts in each sample by the total number of counts for that sample). \n",
    "\n",
    "Normalize the counts data and re-produce the plot from **Problem 6**."
   ]
  },
  {
   "cell_type": "code",
   "execution_count": 97,
   "metadata": {
    "id": "4BLfK29-l1ed"
   },
   "outputs": [
    {
     "data": {
      "image/png": "[encoded data removed]",
      "text/plain": [
       "<Figure size 432x288 with 1 Axes>"
      ]
     },
     "metadata": {
      "needs_background": "light"
     },
     "output_type": "display_data"
    }
   ],
   "source": [
    "\"Normalize counts\"\n",
    "# Let's start with the original counts and normalize that\n",
    "## Sum of each sample. The (1) means take the sum of rows (instead of 0, which is the columns and the default behavior)\n",
    "sample_sum = df.sum(1)\n",
    "# Divide each sample (row) by this sample sum\n",
    "normalized = df.divide(sample_sum, axis='index')\n",
    "\n",
    "# Notice, that we can do this in one line\n",
    "normalized = df.divide(df.sum(1), axis='index')\n",
    "\n",
    "# We now have to melt and merge metadata\n",
    "normalized_merged = normalized.stack().reset_index(name='abundance').merge(md)\n",
    "\n",
    "\"Visualize normalized counts\"\n",
    "sns.lineplot(x='month', y='abundance', hue='animal', style='location', data=normalized_merged)\n",
    "# I'll move the legend\n",
    "plt.legend(bbox_to_anchor=(1, 1))\n",
    "plt.show()"
   ]
  },
  {
   "cell_type": "markdown",
   "metadata": {
    "id": "35gxtPWcrqxs"
   },
   "source": [
    "# 10. Challenge\n",
    "Alice, Bobby, and Carl have weird parents. On 5 separate occasions, their parents have recorded how many Cheerios they ate that day and how high they were able to jump when they came home from school. The parents are interested in if there's any relationship between eating Cheerios and jumping high (there's not...) so they would like to visualize this data.\n",
    "\n",
    "\n",
    "For each child, generate the number of cheerios they ate and how they jumped for five days, assuming that each kid eats different amounts of cheerios and jumps different a height on average. Create a single scatter plot of this data (Cheerios vs. jump height), colored by each kid. Draw arrows from between each subsequent time point for each child, keeping the colors of the arrows and the scatterpoints consistent for each child. Do this again, but create a subplot for each child."
   ]
  }
 ],
 "metadata": {
  "colab": {
   "collapsed_sections": [],
   "provenance": []
  },
  "kernelspec": {
   "display_name": "Python 3 (ipykernel)",
   "language": "python",
   "name": "python3"
  },
  "language_info": {
   "codemirror_mode": {
    "name": "ipython",
    "version": 3
   },
   "file_extension": ".py",
   "mimetype": "text/x-python",
   "name": "python",
   "nbconvert_exporter": "python",
   "pygments_lexer": "ipython3",
   "version": "3.9.12"
  }
 },
 "nbformat": 4,
 "nbformat_minor": 4
}
