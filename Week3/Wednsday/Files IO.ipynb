{
 "cells": [
  {
   "cell_type": "markdown",
   "id": "98250e58",
   "metadata": {},
   "source": [
    "Files need to be open first, in read 'r', write 'w', append 'a', or create 'x'."
   ]
  },
  {
   "cell_type": "code",
   "execution_count": 3,
   "id": "2760a521",
   "metadata": {},
   "outputs": [],
   "source": [
    "#let's read a file first. I have created a file named 'text_file.txt' in my working directory\n",
    "infile=open(\"text_file.txt\",\"r\")"
   ]
  },
  {
   "cell_type": "code",
   "execution_count": 4,
   "id": "ba6c048d-5a33-4018-b200-b6bb415766f2",
   "metadata": {},
   "outputs": [
    {
     "data": {
      "text/plain": [
       "<_io.TextIOWrapper name='text_file.txt' mode='r' encoding='UTF-8'>"
      ]
     },
     "execution_count": 4,
     "metadata": {},
     "output_type": "execute_result"
    }
   ],
   "source": [
    "infile"
   ]
  },
  {
   "cell_type": "code",
   "execution_count": 22,
   "id": "1812e58b",
   "metadata": {},
   "outputs": [
    {
     "data": {
      "text/plain": [
       "'This is the first line of the text\\n1\\n2\\n3\\n4\\n5'"
      ]
     },
     "execution_count": 22,
     "metadata": {},
     "output_type": "execute_result"
    }
   ],
   "source": [
    "#let's read it all\n",
    "infile.read()"
   ]
  },
  {
   "cell_type": "code",
   "execution_count": 5,
   "id": "3014c6e0",
   "metadata": {},
   "outputs": [
    {
     "data": {
      "text/plain": [
       "'Thi'"
      ]
     },
     "execution_count": 5,
     "metadata": {},
     "output_type": "execute_result"
    }
   ],
   "source": [
    "#Let's read it line by line\n",
    "infile.readline(3)"
   ]
  },
  {
   "cell_type": "code",
   "execution_count": 27,
   "id": "158b05c0",
   "metadata": {},
   "outputs": [
    {
     "data": {
      "text/plain": [
       "['This is the first line of the text\\n', '1\\n', '2\\n', '3\\n', '4\\n', '5']"
      ]
     },
     "execution_count": 27,
     "metadata": {},
     "output_type": "execute_result"
    }
   ],
   "source": [
    "#Let's read the rest of the file\n",
    "infile.readlines()"
   ]
  },
  {
   "cell_type": "code",
   "execution_count": 28,
   "id": "358e55f7",
   "metadata": {},
   "outputs": [
    {
     "data": {
      "text/plain": [
       "'This is the first line of the text\\n'"
      ]
     },
     "execution_count": 28,
     "metadata": {},
     "output_type": "execute_result"
    }
   ],
   "source": [
    "infile2=open(\"text_file.txt\",\"r\")\n",
    "firstline = infile2.readline()\n",
    "firstline"
   ]
  },
  {
   "cell_type": "code",
   "execution_count": 29,
   "id": "fb02123d",
   "metadata": {},
   "outputs": [
    {
     "name": "stdout",
     "output_type": "stream",
     "text": [
      "This is the first line of the text\n",
      "\n"
     ]
    }
   ],
   "source": [
    "print(firstline)"
   ]
  },
  {
   "cell_type": "code",
   "execution_count": 37,
   "id": "92f662a0",
   "metadata": {},
   "outputs": [],
   "source": [
    "#Let's create a file, and write something there\n",
    "newfile = open(\"my_second_file.txt\",\"x\")"
   ]
  },
  {
   "cell_type": "code",
   "execution_count": 39,
   "id": "e7de90df-ff1f-4cf8-8164-95f94ed2429b",
   "metadata": {},
   "outputs": [],
   "source": [
    "desktopfile = open('/Users/ruby/Downloads/my_download.txt','x')"
   ]
  },
  {
   "cell_type": "code",
   "execution_count": 1,
   "id": "6e2f61e5",
   "metadata": {},
   "outputs": [
    {
     "ename": "NameError",
     "evalue": "name 'newfile' is not defined",
     "output_type": "error",
     "traceback": [
      "\u001b[0;31m---------------------------------------------------------------------------\u001b[0m",
      "\u001b[0;31mNameError\u001b[0m                                 Traceback (most recent call last)",
      "Input \u001b[0;32mIn [1]\u001b[0m, in \u001b[0;36m<cell line: 1>\u001b[0;34m()\u001b[0m\n\u001b[0;32m----> 1\u001b[0m \u001b[38;5;28mprint\u001b[39m(\u001b[38;5;124m\"\u001b[39m\u001b[38;5;124mThis is going in the new file!\u001b[39m\u001b[38;5;124m\"\u001b[39m,file\u001b[38;5;241m=\u001b[39m\u001b[43mnewfile\u001b[49m)\n",
      "\u001b[0;31mNameError\u001b[0m: name 'newfile' is not defined"
     ]
    }
   ],
   "source": [
    "print(\"This is going in the new file!\",file=newfile)"
   ]
  },
  {
   "cell_type": "code",
   "execution_count": 2,
   "id": "2564c012",
   "metadata": {},
   "outputs": [
    {
     "ename": "NameError",
     "evalue": "name 'newfile' is not defined",
     "output_type": "error",
     "traceback": [
      "\u001b[0;31m---------------------------------------------------------------------------\u001b[0m",
      "\u001b[0;31mNameError\u001b[0m                                 Traceback (most recent call last)",
      "Input \u001b[0;32mIn [2]\u001b[0m, in \u001b[0;36m<cell line: 1>\u001b[0;34m()\u001b[0m\n\u001b[0;32m----> 1\u001b[0m \u001b[38;5;28mprint\u001b[39m(\u001b[38;5;124m\"\u001b[39m\u001b[38;5;124mThis is going too!\u001b[39m\u001b[38;5;124m\"\u001b[39m,file\u001b[38;5;241m=\u001b[39m\u001b[43mnewfile\u001b[49m)\n\u001b[1;32m      2\u001b[0m desktopfile\u001b[38;5;241m.\u001b[39mclose()\n",
      "\u001b[0;31mNameError\u001b[0m: name 'newfile' is not defined"
     ]
    }
   ],
   "source": [
    "print(\"This is going too!\",file=newfile)\n",
    "desktopfile.close()"
   ]
  },
  {
   "cell_type": "code",
   "execution_count": 42,
   "id": "b7abaf68",
   "metadata": {},
   "outputs": [],
   "source": [
    "open_new = open(\"my_new_file.txt\",\"a\")\n",
    "print(\"This will be appended!\",file=open_new)\n",
    "open_new.close()"
   ]
  },
  {
   "cell_type": "code",
   "execution_count": 6,
   "id": "3b3a6f8b",
   "metadata": {},
   "outputs": [],
   "source": [
    "#Be careful with the writing option\n",
    "open_new = open(\"my_new_file.txt\",\"w\")\n",
    "print(\"This will overwrite your file!\",file=open_new)\n",
    "open_new.close()"
   ]
  }
 ],
 "metadata": {
  "kernelspec": {
   "display_name": "Python 3 (ipykernel)",
   "language": "python",
   "name": "python3"
  },
  "language_info": {
   "codemirror_mode": {
    "name": "ipython",
    "version": 3
   },
   "file_extension": ".py",
   "mimetype": "text/x-python",
   "name": "python",
   "nbconvert_exporter": "python",
   "pygments_lexer": "ipython3",
   "version": "3.9.12"
  }
 },
 "nbformat": 4,
 "nbformat_minor": 5
}
