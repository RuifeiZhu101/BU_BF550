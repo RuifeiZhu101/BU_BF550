{
 "cells": [
  {
   "cell_type": "markdown",
   "id": "a630b7ed-a840-4758-ab85-e13cddc29639",
   "metadata": {
    "id": "a630b7ed-a840-4758-ab85-e13cddc29639"
   },
   "source": [
    "# BF550 Lab 2 - Working with a `.fasta` file\n",
    "\n",
    "Fall 2022\n",
    "\n",
    "In this lab, you will work with a FASTA file of the *E. coli* genome. A fasta file contains a metadata header as the first line and then a nucleotide sequence split over the subsequent lines. Here, you will ultimately create a Python class that will be able to read this file and report some basic statistics."
   ]
  },
  {
   "cell_type": "markdown",
   "id": "078301e8-d607-4d95-8731-a312f325c2dc",
   "metadata": {
    "id": "078301e8-d607-4d95-8731-a312f325c2dc"
   },
   "source": [
    "# 1. Read a fasta file"
   ]
  },
  {
   "cell_type": "code",
   "execution_count": 60,
   "id": "d40a2f60-a793-49c7-ba5f-22770daebb0f",
   "metadata": {
    "id": "d40a2f60-a793-49c7-ba5f-22770daebb0f"
   },
   "outputs": [],
   "source": [
    "def readFasta(filepath):\n",
    "    \"\"\"\n",
    "    Reads a FASTA file from `filepath` and returns the nucleotide sequence as a single string\n",
    "    \n",
    "    Input:\n",
    "    | filepath <str>: File path to FASTA file\n",
    "    \n",
    "    Output:\n",
    "    | seq <str>: Sequence from `filepath`\n",
    "    \"\"\"\n",
    "    seq = ''\n",
    "    \n",
    "    # WRITE YOUR CODE FOR READING IN THE FASTA FILE HERE\n",
    "    seq = ''\n",
    "    with open(filepath) as fh:\n",
    "        for line in fh.readlines():\n",
    "            # Only keep lines that start with A, T, G, or C (to handle the \"end\" at the last row)\n",
    "            if any([line.startswith(x) for x in 'ATGC']):\n",
    "                line = line.strip()\n",
    "                seq += line\n",
    "    \n",
    "    return seq"
   ]
  },
  {
   "cell_type": "code",
   "execution_count": 71,
   "id": "3d6b975e-16b6-4f29-8514-0ac92e54bb27",
   "metadata": {
    "id": "3d6b975e-16b6-4f29-8514-0ac92e54bb27"
   },
   "outputs": [
    {
     "data": {
      "text/plain": [
       "'AGCTTTTCAT'"
      ]
     },
     "execution_count": 71,
     "metadata": {},
     "output_type": "execute_result"
    }
   ],
   "source": [
    "\"Use `readFasta` to read in the E. coli genome\"\n",
    "# Read in fasta file\n",
    "filepath = 'ecoli_genome.fasta'\n",
    "ecoli_genome = readFasta(filepath)\n",
    "\n",
    "# DISPLAY THE FIRST 10 NUCLEOTIDES OF THE GENOME\n",
    "ecoli_genome[:10]"
   ]
  },
  {
   "cell_type": "markdown",
   "id": "72af2f9b-ef05-4480-8663-1dcf2f2307c5",
   "metadata": {
    "id": "72af2f9b-ef05-4480-8663-1dcf2f2307c5"
   },
   "source": [
    "# 2. Nucleotide frequency"
   ]
  },
  {
   "cell_type": "code",
   "execution_count": 62,
   "id": "016b1e19-47c5-4030-ba37-08fd8272f180",
   "metadata": {
    "id": "016b1e19-47c5-4030-ba37-08fd8272f180"
   },
   "outputs": [],
   "source": [
    "def nucleotideFrequency(seq):\n",
    "    \"\"\"\n",
    "    Compute the nucleotide frequency of `seq`\n",
    "    \n",
    "    Input:\n",
    "    | seq <str>: A nucleotide sequence containing A, T, G, and C\n",
    "    \n",
    "    Output:\n",
    "    | counts <dict>: Counts of each nucleotide\n",
    "    \"\"\"\n",
    "    counts = {'A': 0, 'T': 0, 'G': 0, 'C': 0}\n",
    "    \n",
    "    # WRITE YOUR CODE FOR UPDATING the `counts` dictionary here\n",
    "    # YOU SHOULD BE ABLE TO WRITE THIS WITHOUT ANY `if` statements (use dictionary indexing)\n",
    "    \n",
    "    for s in seq:\n",
    "        counts[s] += 1\n",
    "    \n",
    "    return counts"
   ]
  },
  {
   "cell_type": "code",
   "execution_count": 63,
   "id": "6df1a199-8588-4dad-8db7-e04f3f72ff26",
   "metadata": {
    "id": "6df1a199-8588-4dad-8db7-e04f3f72ff26"
   },
   "outputs": [
    {
     "data": {
      "text/plain": [
       "{'A': 1142742, 'T': 1141382, 'G': 1177437, 'C': 1180091}"
      ]
     },
     "execution_count": 63,
     "metadata": {},
     "output_type": "execute_result"
    }
   ],
   "source": [
    "\"Compute the nucleotide frequency of the ecoli genome\"\n",
    "nuc_freq = nucleotideFrequency(ecoli_genome)\n",
    "\n",
    "# DISPLAY THE NUCLEOTIDE FREQUENCY OF THE GENOME\n",
    "nuc_freq"
   ]
  },
  {
   "cell_type": "markdown",
   "id": "f1c47d56-425d-4c50-8d09-f0337b9b8df3",
   "metadata": {
    "id": "f1c47d56-425d-4c50-8d09-f0337b9b8df3"
   },
   "source": [
    "# 3. GC content"
   ]
  },
  {
   "cell_type": "code",
   "execution_count": 19,
   "id": "18a25efa-807f-43a2-9d8c-72ed3fe558cf",
   "metadata": {
    "id": "18a25efa-807f-43a2-9d8c-72ed3fe558cf"
   },
   "outputs": [],
   "source": [
    "def gcContent(nucleotide_frequency):\n",
    "    \"\"\"\n",
    "    Compute the GC content given nucleotide frequencies\n",
    "    \n",
    "    The GC content is the fraction of `seq` that is either G or C\n",
    "    \n",
    "    Input:\n",
    "    | nucleotide_frequencies <dict>: Frequency of each nucleotide\n",
    "    \n",
    "    Output:\n",
    "    | gc <float>: The GC content of `seq`\n",
    "    \"\"\"\n",
    "    # Compute GC content\n",
    "    gc = (nuc_freq['G'] + nuc_freq['C']) / sum(nuc_freq.values())\n",
    "\n",
    "    return gc"
   ]
  },
  {
   "cell_type": "code",
   "execution_count": 20,
   "id": "9fcd9b5e-de53-43ae-bf51-f0cebdb20f0a",
   "metadata": {
    "id": "9fcd9b5e-de53-43ae-bf51-f0cebdb20f0a"
   },
   "outputs": [
    {
     "data": {
      "text/plain": [
       "0.5079070985933456"
      ]
     },
     "execution_count": 20,
     "metadata": {},
     "output_type": "execute_result"
    }
   ],
   "source": [
    "\"Calculate the GC content of the genome\"\n",
    "gc = gcContent(nuc_freq)\n",
    "\n",
    "# DISPLAY THE GC CONTENT OF THE GENOME\n",
    "gc"
   ]
  },
  {
   "cell_type": "markdown",
   "id": "b4f88a2d-a298-47b8-8577-38f38c6bfb92",
   "metadata": {
    "id": "b4f88a2d-a298-47b8-8577-38f38c6bfb92"
   },
   "source": [
    "# 4. Dinucleotide content"
   ]
  },
  {
   "cell_type": "code",
   "execution_count": 30,
   "id": "d671093a-c957-4367-b38f-66dce076f78b",
   "metadata": {
    "id": "d671093a-c957-4367-b38f-66dce076f78b"
   },
   "outputs": [],
   "source": [
    "def dnFrequency(seq):\n",
    "    \"\"\"\n",
    "    Compute the dinucleotide frequency of `seq`\n",
    "    \n",
    "    Input:\n",
    "    | seq <str>: A nucleotide sequence containing A, T, G, and C\n",
    "    \n",
    "    Output:\n",
    "    | dinuc_freq <dict>: Counts of each dinucleotide {'AA': <int>, 'AT': <int>, ...}\n",
    "\n",
    "    # Example\n",
    "    seq = 'AATC'\n",
    "\n",
    "    dinuq_freq = {'AA': 1, 'AT': 1, 'TC': 1, (rest zeros)}\n",
    "    \"\"\"\n",
    "    # INITIALIZE A DICTIONARY WITH ALL DINUCLEOTIDE PAIRS AND SET EACH VALUE TO ZERO\n",
    "    nucs = 'ATGC'\n",
    "    # Initialize \n",
    "    dinuc_freq = {x+y:0 for x in nucs for y in nucs}\n",
    "    \n",
    "    # Count each dinucleotide\n",
    "    for i in range(len(seq) - 1):\n",
    "        dinuc = seq[i: i+2]\n",
    "        dinuc_freq[dinuc] += 1\n",
    "    \n",
    "    return dinuc_freq"
   ]
  },
  {
   "cell_type": "code",
   "execution_count": 31,
   "id": "2429fce9-703a-49f4-bc0f-9f820b6213dc",
   "metadata": {
    "id": "2429fce9-703a-49f4-bc0f-9f820b6213dc"
   },
   "outputs": [
    {
     "data": {
      "text/plain": [
       "{'AA': 338006,\n",
       " 'AT': 309950,\n",
       " 'AG': 238013,\n",
       " 'AC': 256773,\n",
       " 'TA': 212024,\n",
       " 'TT': 339584,\n",
       " 'TG': 322379,\n",
       " 'TC': 267395,\n",
       " 'GA': 267384,\n",
       " 'GT': 255699,\n",
       " 'GG': 270252,\n",
       " 'GC': 384102,\n",
       " 'CA': 325327,\n",
       " 'CT': 236149,\n",
       " 'CG': 346793,\n",
       " 'CC': 271821}"
      ]
     },
     "execution_count": 31,
     "metadata": {},
     "output_type": "execute_result"
    }
   ],
   "source": [
    "\"Compute the dinucleotide frequency of the genome\"\n",
    "dinuc_freq = dnFrequency(ecoli_genome)\n",
    "dinuc_freq"
   ]
  },
  {
   "cell_type": "markdown",
   "id": "0504120e-41ed-49e9-91af-3783d750b290",
   "metadata": {
    "id": "0504120e-41ed-49e9-91af-3783d750b290"
   },
   "source": [
    "# 5. A `Genome` class\n",
    "Create a class that contains all of the above functions"
   ]
  },
  {
   "cell_type": "code",
   "execution_count": 74,
   "id": "1012787f-783e-45ef-87e3-e76d2b09292d",
   "metadata": {
    "id": "1012787f-783e-45ef-87e3-e76d2b09292d"
   },
   "outputs": [],
   "source": [
    "class Genome:\n",
    "    \"\"\"\n",
    "    Read, store, and analyze the contents of a genome from a FASTA file\n",
    "    \"\"\"\n",
    "    def __init__(self, filepath):\n",
    "        self.filepath = filepath\n",
    "        self.genome = None\n",
    "        self.nucleotide_frequency = None\n",
    "        self.gc_content = None\n",
    "        self.dinucleotide_frequency = None\n",
    "    \n",
    "    # UPDATE THE FOLLOWING FUNCTIONS TO POPULATE THE ABOVE PROPERTIES\n",
    "    def readFasta(self):\n",
    "        \"\"\"\n",
    "        Reads a FASTA file from `filepath` and returns the nucleotide sequence as a single string\n",
    "\n",
    "        Input:\n",
    "        | filepath <str>: File path to FASTA file\n",
    "\n",
    "        Output:\n",
    "        | seq <str>: Sequence from `filepath`\n",
    "        \"\"\"\n",
    "        filepath = self.filepath\n",
    "        seq = ''\n",
    "\n",
    "        # WRITE YOUR CODE FOR READING IN THE FASTA FILE HERE\n",
    "        seq = ''\n",
    "        with open(filepath) as fh:\n",
    "            for line in fh.readlines():\n",
    "                if any([line.startswith(x) for x in 'ATGC']):\n",
    "                    line = line.strip()\n",
    "                    seq += line\n",
    "    \n",
    "        self.genome = seq\n",
    "\n",
    "    def nucleotideFrequency(self):\n",
    "        \"\"\"\n",
    "        Compute the nucleotide frequency of `seq`\n",
    "\n",
    "        Input:\n",
    "        | seq <str>: A nucleotide sequence containing A, T, G, and C\n",
    "\n",
    "        Output:\n",
    "        | counts <dict>: Counts of each nucleotide\n",
    "        \"\"\"\n",
    "        counts = {'A': 0, 'T': 0, 'G': 0, 'C': 0}\n",
    "        for s in seq:\n",
    "            counts[s] += 1\n",
    "        self.nucleotide_frequency = counts\n",
    "\n",
    "    def gcContent(self):\n",
    "        \"\"\"\n",
    "        Compute the GC content given nucleotide frequencies\n",
    "\n",
    "        The GC content is the fraction of `seq` that is either G or C\n",
    "\n",
    "        Input:\n",
    "        | nucleotide_frequencies <dict>: Frequency of each nucleotide\n",
    "\n",
    "        Output:\n",
    "        | gc <float>: The GC content of `seq`\n",
    "        \"\"\"\n",
    "        # Compute GC content\n",
    "        gc = (nuc_freq['G'] + nuc_freq['C']) / sum(nuc_freq.values())\n",
    "\n",
    "        self.gc_content = gc\n",
    "    \n",
    "    def dnFrequency(self):\n",
    "        \"\"\"\n",
    "        Compute the dinucleotide frequency of `seq`\n",
    "\n",
    "        Input:\n",
    "        | seq <str>: A nucleotide sequence containing A, T, G, and C\n",
    "\n",
    "        Output:\n",
    "        | dinuc_freq <dict>: Counts of each dinucleotide {'AA': <int>, 'AT': <int>, ...}\n",
    "\n",
    "        # Example\n",
    "        seq = 'AATC'\n",
    "\n",
    "        dinuq_freq = {'AA': 1, 'AT': 1, 'TC': 1, (rest zeros)}\n",
    "        \"\"\"\n",
    "        # INITIALIZE A DICTIONARY WITH ALL DINUCLEOTIDE PAIRS AND SET EACH VALUE TO ZERO\n",
    "        nucs = 'ATGC'\n",
    "        # Initialize \n",
    "        dinuc_freq = {x+y:0 for x in nucs for y in nucs}\n",
    "\n",
    "        # Count each dinucleotide\n",
    "        seq = self.genome\n",
    "        for i in range(len(seq) - 1):\n",
    "            dinuc = seq[i: i+2]\n",
    "            dinuc_freq[dinuc] += 1\n",
    "\n",
    "        self.dinucleotide_frequency = dinuc_freq"
   ]
  },
  {
   "cell_type": "code",
   "execution_count": 75,
   "id": "048d37be-95f2-463b-80e2-0aa80b68ee7c",
   "metadata": {
    "id": "048d37be-95f2-463b-80e2-0aa80b68ee7c"
   },
   "outputs": [
    {
     "name": "stdout",
     "output_type": "stream",
     "text": [
      "{'A': 1, 'T': 2, 'G': 0, 'C': 1}\n",
      "0.5079070985933456\n",
      "{'AA': 338006, 'AT': 309950, 'AG': 238013, 'AC': 256773, 'TA': 212024, 'TT': 339584, 'TG': 322379, 'TC': 267395, 'GA': 267384, 'GT': 255699, 'GG': 270252, 'GC': 384102, 'CA': 325327, 'CT': 236149, 'CG': 346793, 'CC': 271821}\n"
     ]
    }
   ],
   "source": [
    "\"Using the `Genome` class, print the nucleotide frequency, gc content and dinucleotide frequency\"\n",
    "# Create `Genome` object\n",
    "ecoli = Genome(filepath)\n",
    "\n",
    "ecoli.readFasta()\n",
    "\n",
    "# PRINT nuc frequency with object\n",
    "ecoli.nucleotideFrequency()\n",
    "print(ecoli.nucleotide_frequency)\n",
    "\n",
    "# PRINT gc content with object\n",
    "ecoli.gcContent()\n",
    "print(ecoli.gc_content)\n",
    "\n",
    "# PRINT dinuc frequency with object\n",
    "ecoli.dnFrequency()\n",
    "print(ecoli.dinucleotide_frequency)\n"
   ]
  },
  {
   "cell_type": "markdown",
   "id": "bca915d9-0063-495e-9d13-e72d708b6c70",
   "metadata": {
    "id": "bca915d9-0063-495e-9d13-e72d708b6c70"
   },
   "source": [
    "# 6. Challenge: k-mer frequency\n",
    "Write a function to count not just the dinucleotide frequency but the k-mer (k-nucleotide) frequency for any `k` 1-5. Plot the distribution of each k-mer."
   ]
  },
  {
   "cell_type": "markdown",
   "id": "fd7e3b15-f674-4a64-8ec7-a019f96082b9",
   "metadata": {
    "id": "fd7e3b15-f674-4a64-8ec7-a019f96082b9"
   },
   "source": [
    "# 7. Challenge: Translate this DNA sequence into an amino acid sequence\n"
   ]
  }
 ],
 "metadata": {
  "colab": {
   "collapsed_sections": [],
   "provenance": []
  },
  "kernelspec": {
   "display_name": "Python 3 (ipykernel)",
   "language": "python",
   "name": "python3"
  },
  "language_info": {
   "codemirror_mode": {
    "name": "ipython",
    "version": 3
   },
   "file_extension": ".py",
   "mimetype": "text/x-python",
   "name": "python",
   "nbconvert_exporter": "python",
   "pygments_lexer": "ipython3",
   "version": "3.9.12"
  }
 },
 "nbformat": 4,
 "nbformat_minor": 5
}
