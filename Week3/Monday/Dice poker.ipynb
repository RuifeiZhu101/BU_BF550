{
 "cells": [
  {
   "cell_type": "markdown",
   "id": "9e03e313",
   "metadata": {},
   "source": [
    "First, let's define the problem together:\n",
    "* Start with some money, say             100 dollars\n",
    "* Each round costs                       10  dollars\n",
    "* The player rolls all 5 dice at first\n",
    "* The player has 2 chances to re-roll and get better hand\n",
    "* The player's money is update as follows\n",
    "        *Two pairs                           +5\n",
    "        *Three of a kind                     +8\n",
    "        *Full house (1 pair and 3 of a kind) +12\n",
    "        *Four of a kind                      +25\n",
    "        *Straight (1-5 or 2-6)               +20\n",
    "        *Five of a kind                      +30\n",
    "\n"
   ]
  },
  {
   "cell_type": "code",
   "execution_count": 3,
   "id": "8984dd84",
   "metadata": {},
   "outputs": [],
   "source": [
    "#First, let's make the dice gorup of 5\n",
    "# dice.py\n",
    "\n",
    "from random import randrange\n",
    "\n",
    "class Dice:\n",
    "    def __init__(self):\n",
    "        self.dice = [0]*5 \n",
    "        self.rollAll()\n",
    "\n",
    "    def roll(self, which):\n",
    "        for pos in which:\n",
    "            self.dice[pos] = randrange(1,7)\n",
    "\n",
    "    def rollAll(self):\n",
    "        self.roll(range(5))\n",
    "\n",
    "    def values(self):\n",
    "        return self.dice[:]\n",
    "\n",
    "    def score(self):\n",
    "        # Create the counts list\n",
    "        counts = [0] * 7  \n",
    "        for value in self.dice:\n",
    "            counts[value] = counts[value] + 1\n",
    "\n",
    "        # score the hand\n",
    "        if 5 in counts:\n",
    "            return \"Five of a Kind\", 30\n",
    "        elif 4 in counts:\n",
    "            return \"Four of a Kind\", 15\n",
    "        elif (3 in counts) and (2 in counts):\n",
    "            return \"Full House\", 12\n",
    "        elif 3 in counts:\n",
    "            return \"Three of a Kind\", 8\n",
    "        elif not (2 in counts) and (counts[1]==0 or counts[6] == 0):\n",
    "            return \"Straight\", 20\n",
    "        elif counts.count(2) == 2:\n",
    "            return \"Two Pairs\", 5\n",
    "        else:\n",
    "            return \"Garbage\", 0"
   ]
  },
  {
   "cell_type": "code",
   "execution_count": 6,
   "id": "81728e00",
   "metadata": {},
   "outputs": [],
   "source": [
    "dice1=Dice()\n",
    "dice1.roll([0])"
   ]
  },
  {
   "cell_type": "code",
   "execution_count": 7,
   "id": "bb51e083",
   "metadata": {},
   "outputs": [
    {
     "data": {
      "text/plain": [
       "[4, 3, 2, 6, 5]"
      ]
     },
     "execution_count": 7,
     "metadata": {},
     "output_type": "execute_result"
    }
   ],
   "source": [
    "dice1.rollAll()\n",
    "dice1.dice"
   ]
  },
  {
   "cell_type": "code",
   "execution_count": null,
   "id": "83b60029-2212-4f8d-95bb-9fd32988963b",
   "metadata": {},
   "outputs": [],
   "source": [
    "# pokerapp.py\n",
    "\n",
    "#from dice import Dice\n",
    "\n",
    "class PokerApp:\n",
    "    \n",
    "    def __init__(self):\n",
    "        self.dice = Dice()\n",
    "        self.money = 100"
   ]
  },
  {
   "cell_type": "code",
   "execution_count": 8,
   "id": "fd7846c6",
   "metadata": {},
   "outputs": [],
   "source": [
    "# pokerapp.py\n",
    "\n",
    "#from dice import Dice\n",
    "\n",
    "class PokerApp:\n",
    "\n",
    "    def __init__(self, interface):\n",
    "        self.dice = Dice()\n",
    "        self.money = 100\n",
    "        self.interface = interface\n",
    "\n",
    "    def run(self):\n",
    "        while self.money >= 10 and self.interface.wantToPlay():\n",
    "            self.playRound()            \n",
    "        self.interface.close()\n",
    "\n",
    "    def playRound(self):\n",
    "        self.money = self.money - 10\n",
    "        self.interface.setMoney(self.money)\n",
    "        self.doRolls()\n",
    "        result, score = self.dice.score()\n",
    "        self.interface.showResult(result, score)\n",
    "        self.money = self.money + score\n",
    "        self.interface.setMoney(self.money)        \n",
    "\n",
    "    def doRolls(self):\n",
    "        self.dice.rollAll()\n",
    "        roll = 1\n",
    "        self.interface.setDice(self.dice.values())\n",
    "        toRoll = self.interface.chooseDice()\n",
    "        while roll < 3 and toRoll != []:\n",
    "            self.dice.roll(toRoll)\n",
    "            roll = roll + 1\n",
    "            self.interface.setDice(self.dice.values())\n",
    "            if roll < 3:\n",
    "                toRoll = self.interface.chooseDice()\n"
   ]
  },
  {
   "cell_type": "code",
   "execution_count": 9,
   "id": "fe137ff7",
   "metadata": {},
   "outputs": [],
   "source": [
    "# textpoker.py\n",
    "\n",
    "#from pokerapp import PokerApp\n",
    "\n",
    "class TextInterface:\n",
    "\n",
    "    def __init__(self):\n",
    "        print(\"Welcome to video poker.\")\n",
    "\n",
    "    def setMoney(self, amt):\n",
    "        print(\"You currently have ${0}.\".format(amt))\n",
    "\n",
    "    def setDice(self, values):\n",
    "        print(\"Dice:\", values)\n",
    "\n",
    "    def wantToPlay(self):\n",
    "        ans = input(\"Do you wish to try your luck? \")\n",
    "        return ans[0] in \"yY\"\n",
    "\n",
    "    def close(self):\n",
    "        print(\"\\nThanks for playing!\")\n",
    "\n",
    "    def showResult(self, msg, score):\n",
    "        print(\"{0}. You win ${1}.\".format(msg, score))\n",
    "\n",
    "    def chooseDice(self):\n",
    "        return eval(input(\"Enter list of which to change ([] to stop) \"))\n",
    "\n",
    "#inter = TextInterface()\n",
    "#app = PokerApp(inter)\n",
    "#app.run()"
   ]
  },
  {
   "cell_type": "code",
   "execution_count": 12,
   "id": "3cadec5f",
   "metadata": {},
   "outputs": [
    {
     "name": "stdout",
     "output_type": "stream",
     "text": [
      "Welcome to video poker.\n"
     ]
    },
    {
     "name": "stdin",
     "output_type": "stream",
     "text": [
      "Do you wish to try your luck?  y\n"
     ]
    },
    {
     "name": "stdout",
     "output_type": "stream",
     "text": [
      "You currently have $90.\n",
      "Dice: [4, 6, 3, 5, 3]\n"
     ]
    },
    {
     "name": "stdin",
     "output_type": "stream",
     "text": [
      "Enter list of which to change ([] to stop)  [0]\n"
     ]
    },
    {
     "name": "stdout",
     "output_type": "stream",
     "text": [
      "Dice: [4, 6, 3, 5, 3]\n"
     ]
    },
    {
     "name": "stdin",
     "output_type": "stream",
     "text": [
      "Enter list of which to change ([] to stop)  [0]\n"
     ]
    },
    {
     "name": "stdout",
     "output_type": "stream",
     "text": [
      "Dice: [5, 6, 3, 5, 3]\n",
      "Two Pairs. You win $5.\n",
      "You currently have $95.\n"
     ]
    },
    {
     "name": "stdin",
     "output_type": "stream",
     "text": [
      "Do you wish to try your luck?  y\n"
     ]
    },
    {
     "name": "stdout",
     "output_type": "stream",
     "text": [
      "You currently have $85.\n",
      "Dice: [6, 5, 6, 1, 4]\n"
     ]
    },
    {
     "name": "stdin",
     "output_type": "stream",
     "text": [
      "Enter list of which to change ([] to stop)  [4]\n"
     ]
    },
    {
     "name": "stdout",
     "output_type": "stream",
     "text": [
      "Dice: [6, 5, 6, 1, 2]\n"
     ]
    },
    {
     "name": "stdin",
     "output_type": "stream",
     "text": [
      "Enter list of which to change ([] to stop)  [4]\n"
     ]
    },
    {
     "name": "stdout",
     "output_type": "stream",
     "text": [
      "Dice: [6, 5, 6, 1, 6]\n",
      "Three of a Kind. You win $8.\n",
      "You currently have $93.\n"
     ]
    },
    {
     "name": "stdin",
     "output_type": "stream",
     "text": [
      "Do you wish to try your luck?  n\n"
     ]
    },
    {
     "name": "stdout",
     "output_type": "stream",
     "text": [
      "\n",
      "Thanks for playing!\n"
     ]
    }
   ],
   "source": [
    "inter = TextInterface()\n",
    "app = PokerApp(inter)\n",
    "app.run()"
   ]
  },
  {
   "cell_type": "markdown",
   "id": "ed871e7b",
   "metadata": {},
   "source": [
    "Let's try a GUI"
   ]
  },
  {
   "cell_type": "code",
   "execution_count": 13,
   "id": "1bf04948",
   "metadata": {},
   "outputs": [],
   "source": [
    "# guipoker.py\n",
    "\n",
    "from graphics import *\n",
    "#from pokerapp import PokerApp\n",
    "from button import Button\n",
    "from cdieview import ColorDieView\n",
    "\n",
    "class GraphicsInterface:\n",
    "\n",
    "    def __init__(self):\n",
    "        self.win = GraphWin(\"Dice Poker\", 600, 400)\n",
    "        self.win.setBackground(\"green3\")\n",
    "        banner = Text(Point(300,30), \"Python  Poker  Parlor\")\n",
    "        banner.setSize(24)\n",
    "        banner.setFill(\"yellow2\")\n",
    "        banner.setStyle(\"bold\")\n",
    "        banner.draw(self.win)\n",
    "        self.msg = Text(Point(300,380), \"Welcome to the Dice Table\")\n",
    "        self.msg.setSize(18)\n",
    "        self.msg.draw(self.win)\n",
    "        self.createDice(Point(300,100), 75)\n",
    "        self.buttons = []\n",
    "        self.addDiceButtons(Point(300,170), 75, 30)\n",
    "        b = Button(self.win, Point(300, 230), 400, 40, \"Roll Dice\")\n",
    "        self.buttons.append(b)\n",
    "        b = Button(self.win, Point(300, 280), 150, 40, \"Score\")\n",
    "        self.buttons.append(b)\n",
    "        b = Button(self.win, Point(570,375), 40, 30, \"Quit\")\n",
    "        self.buttons.append(b)\n",
    "        self.money = Text(Point(300,325), \"$100\")\n",
    "        self.money.setSize(18)\n",
    "        self.money.draw(self.win)\n",
    "\n",
    "    def createDice(self, center, size):\n",
    "        center.move(-3*size,0)\n",
    "        self.dice = []\n",
    "        for i in range(5):\n",
    "            view = ColorDieView(self.win, center, size)\n",
    "            self.dice.append(view)\n",
    "            center.move(1.5*size,0)\n",
    "\n",
    "    def addDiceButtons(self, center, width, height):\n",
    "        center.move(-3*width, 0)\n",
    "        for i in range(1,6):\n",
    "            label = \"Die {0}\".format(i)\n",
    "            b = Button(self.win, center, width, height, label)\n",
    "            self.buttons.append(b)\n",
    "            center.move(1.5*width, 0)\n",
    "\n",
    "    def setMoney(self, amt):\n",
    "        self.money.setText(\"${0}\".format(amt))\n",
    "\n",
    "    def showResult(self, msg, score):\n",
    "        if score > 0:\n",
    "            text = \"{0}! You win ${1}\".format(msg, score)\n",
    "        else:\n",
    "            text = \"You rolled {0}\".format(msg)\n",
    "        self.msg.setText(text)\n",
    "\n",
    "    def setDice(self, values):\n",
    "        for i in range(5):\n",
    "            self.dice[i].setValue(values[i])\n",
    "\n",
    "    def wantToPlay(self):\n",
    "        ans = self.choose([\"Roll Dice\", \"Quit\"])\n",
    "        self.msg.setText(\"\")\n",
    "        return ans == \"Roll Dice\"\n",
    "\n",
    "    def close(self):\n",
    "        self.win.close()\n",
    "\n",
    "    def chooseDice(self):\n",
    "        # choices is a list of the indexes of the selected dice\n",
    "        choices = []                   # No dice chosen yet\n",
    "        while True: \n",
    "            # wait for user to click a valid button\n",
    "            b = self.choose([\"Die 1\", \"Die 2\", \"Die 3\", \"Die 4\", \"Die 5\",\n",
    "                             \"Roll Dice\", \"Score\"])\n",
    "\n",
    "            if b[0] == \"D\":            # User clicked a die button\n",
    "                i = int(b[4]) - 1      # Translate label to die index\n",
    "                if i in choices:       # Currently selected, unselect it\n",
    "                    choices.remove(i)\n",
    "                    self.dice[i].setColor(\"black\")\n",
    "                else:                  # Currently unselected, select it\n",
    "                    choices.append(i)\n",
    "                    self.dice[i].setColor(\"gray\")\n",
    "            else:                      # User clicked Roll or Score\n",
    "                for d in self.dice:    # Revert appearance of all dice\n",
    "                    d.setColor(\"black\")\n",
    "                if b == \"Score\":       # Score clicked, ignore choices\n",
    "                    return []\n",
    "                elif choices != []:    # Don't accept Roll unless some\n",
    "                    return choices     #   dice are actually selected\n",
    "\n",
    "    \n",
    "    def choose(self, choices):\n",
    "        buttons = self.buttons\n",
    "\n",
    "        # activate choice buttons, deactivate others\n",
    "        for b in buttons:\n",
    "            if b.getLabel() in choices:\n",
    "                b.activate()\n",
    "            else:\n",
    "                b.deactivate()\n",
    "\n",
    "        # get mouse clicks until an active button is clicked\n",
    "        while True:\n",
    "            p = self.win.getMouse()\n",
    "            for b in buttons:\n",
    "                if b.clicked(p):\n",
    "                    return b.getLabel()  # function exit here.\n"
   ]
  },
  {
   "cell_type": "code",
   "execution_count": 14,
   "id": "33565e67",
   "metadata": {},
   "outputs": [],
   "source": [
    "inter = GraphicsInterface()\n",
    "app = PokerApp(inter)\n",
    "app.run()"
   ]
  },
  {
   "cell_type": "markdown",
   "id": "d306b76e",
   "metadata": {},
   "source": [
    "The graphics library was created specifically for this course, but "
   ]
  },
  {
   "cell_type": "code",
   "execution_count": 15,
   "id": "487e3d44",
   "metadata": {},
   "outputs": [
    {
     "data": {
      "application/vnd.jupyter.widget-view+json": {
       "model_id": "78678b39ae414e76b1a56e6e50b90d1d",
       "version_major": 2,
       "version_minor": 0
      },
      "text/plain": [
       "IntSlider(value=0)"
      ]
     },
     "metadata": {},
     "output_type": "display_data"
    }
   ],
   "source": [
    "import ipywidgets as widgets\n",
    "\n",
    "widgets.IntSlider()"
   ]
  },
  {
   "cell_type": "code",
   "execution_count": 10,
   "id": "8fea8050",
   "metadata": {},
   "outputs": [
    {
     "data": {
      "application/vnd.jupyter.widget-view+json": {
       "model_id": "23429644f5924ae589fa68d658c10543",
       "version_major": 2,
       "version_minor": 0
      },
      "text/plain": [
       "IntSlider(value=0)"
      ]
     },
     "metadata": {},
     "output_type": "display_data"
    }
   ],
   "source": [
    "from IPython.display import display\n",
    "w = widgets.IntSlider()\n",
    "display(w)"
   ]
  },
  {
   "cell_type": "code",
   "execution_count": 14,
   "id": "cf73948c",
   "metadata": {},
   "outputs": [
    {
     "data": {
      "text/plain": [
       "16"
      ]
     },
     "execution_count": 14,
     "metadata": {},
     "output_type": "execute_result"
    }
   ],
   "source": [
    "w.value"
   ]
  }
 ],
 "metadata": {
  "kernelspec": {
   "display_name": "Python 3 (ipykernel)",
   "language": "python",
   "name": "python3"
  },
  "language_info": {
   "codemirror_mode": {
    "name": "ipython",
    "version": 3
   },
   "file_extension": ".py",
   "mimetype": "text/x-python",
   "name": "python",
   "nbconvert_exporter": "python",
   "pygments_lexer": "ipython3",
   "version": "3.9.12"
  }
 },
 "nbformat": 4,
 "nbformat_minor": 5
}
