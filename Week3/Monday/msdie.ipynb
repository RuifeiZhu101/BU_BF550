{
 "cells": [
  {
   "cell_type": "code",
   "execution_count": 10,
   "id": "9ff14215",
   "metadata": {},
   "outputs": [],
   "source": [
    "#from random import randrange(this is a better option)\n",
    "import random #by just importing random, when you call a function in it, you have to add random. in front of the function \n",
    "class MSDie:\n",
    "    \"\"\" This is a class to simulate a simple random die. The first method is the constractor \"\"\"\n",
    "    def __init__(self, sides):\n",
    "        self.sides = sides\n",
    "        self.value = 1\n",
    "\n",
    "    def roll(self):\n",
    "        self.value = random.randrange(1, self.sides+1)\n",
    "\n",
    "    def getValue(self):\n",
    "        return self.value\n",
    "\n",
    "    def setValue(self, value):\n",
    "        self.value = value "
   ]
  },
  {
   "cell_type": "code",
   "execution_count": 11,
   "id": "5414ad99",
   "metadata": {},
   "outputs": [],
   "source": [
    "die1 = MSDie(5)"
   ]
  },
  {
   "cell_type": "code",
   "execution_count": 12,
   "id": "b6eefbba",
   "metadata": {},
   "outputs": [],
   "source": [
    "die1.roll()\n",
    "die1.getValue()\n",
    "die1.setValue(2)"
   ]
  },
  {
   "cell_type": "code",
   "execution_count": 10,
   "id": "61b82745-c149-4f99-8d30-f0b75e9cb539",
   "metadata": {},
   "outputs": [
    {
     "data": {
      "text/plain": [
       "' This is a class to simulate a simple random die. The first method is the constractor '"
      ]
     },
     "execution_count": 10,
     "metadata": {},
     "output_type": "execute_result"
    }
   ],
   "source": [
    "die1.__doc__"
   ]
  },
  {
   "cell_type": "code",
   "execution_count": 11,
   "id": "63b7a010-bd2b-4304-aadc-8b64300b88fa",
   "metadata": {},
   "outputs": [
    {
     "data": {
      "text/plain": [
       "5"
      ]
     },
     "execution_count": 11,
     "metadata": {},
     "output_type": "execute_result"
    }
   ],
   "source": [
    "#This is not really good. Python does not support real Encapsulation.\n",
    "die1.value"
   ]
  },
  {
   "cell_type": "code",
   "execution_count": null,
   "id": "1be47a20-d99e-4748-9f34-49e4d8e18def",
   "metadata": {},
   "outputs": [],
   "source": []
  }
 ],
 "metadata": {
  "kernelspec": {
   "display_name": "Python 3 (ipykernel)",
   "language": "python",
   "name": "python3"
  },
  "language_info": {
   "codemirror_mode": {
    "name": "ipython",
    "version": 3
   },
   "file_extension": ".py",
   "mimetype": "text/x-python",
   "name": "python",
   "nbconvert_exporter": "python",
   "pygments_lexer": "ipython3",
   "version": "3.9.12"
  }
 },
 "nbformat": 4,
 "nbformat_minor": 5
}
