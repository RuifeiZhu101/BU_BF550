{
 "cells": [
  {
   "cell_type": "markdown",
   "id": "b33d71ef",
   "metadata": {},
   "source": [
    "# Lists are pointers"
   ]
  },
  {
   "cell_type": "code",
   "execution_count": 1,
   "id": "cdf1a3ee",
   "metadata": {},
   "outputs": [],
   "source": [
    "#Let's play with this function\n",
    "def c2f(t):\n",
    "    return 9/5*t+32"
   ]
  },
  {
   "cell_type": "code",
   "execution_count": 2,
   "id": "82321e7a",
   "metadata": {},
   "outputs": [
    {
     "data": {
      "text/plain": [
       "98.60000000000001"
      ]
     },
     "execution_count": 2,
     "metadata": {},
     "output_type": "execute_result"
    }
   ],
   "source": [
    "c2f(37)"
   ]
  },
  {
   "cell_type": "code",
   "execution_count": 3,
   "id": "b323526e",
   "metadata": {},
   "outputs": [
    {
     "name": "stdout",
     "output_type": "stream",
     "text": [
      "37\n"
     ]
    }
   ],
   "source": [
    "#Why this doesnt work #because the c2f function lies in a scope, you cannot access it out of the scope\n",
    "temp=37\n",
    "c2f(temp)\n",
    "print(temp)"
   ]
  },
  {
   "cell_type": "code",
   "execution_count": 4,
   "id": "cbcf2444",
   "metadata": {},
   "outputs": [
    {
     "data": {
      "text/plain": [
       "98.60000000000001"
      ]
     },
     "execution_count": 4,
     "metadata": {},
     "output_type": "execute_result"
    }
   ],
   "source": [
    "c2f(temp)"
   ]
  },
  {
   "cell_type": "code",
   "execution_count": 5,
   "id": "29a52df2",
   "metadata": {},
   "outputs": [],
   "source": [
    "# Now, this function will modify the input argument. Make it a list. \n",
    "def c2f_list(lt):\n",
    "    lt[0] = lt[0]*9/5+32"
   ]
  },
  {
   "cell_type": "code",
   "execution_count": 6,
   "id": "994d2ac9",
   "metadata": {},
   "outputs": [
    {
     "name": "stdout",
     "output_type": "stream",
     "text": [
      "id of x: 140523710278720\n",
      "value of x [98.6]\n",
      "id of x: 140523710278720\n"
     ]
    }
   ],
   "source": [
    "x = [37]; print('id of x:',id(x)); \n",
    "c2f_list(x); print('value of x',x);\n",
    "print('id of x:',id(x)) # note that the ID of x did not change unlike our example with integers"
   ]
  },
  {
   "cell_type": "code",
   "execution_count": 7,
   "id": "01e2b59d",
   "metadata": {},
   "outputs": [
    {
     "name": "stdout",
     "output_type": "stream",
     "text": [
      "id of x: 140523709961456\n"
     ]
    }
   ],
   "source": [
    "print('id of x:',id(x[0]))"
   ]
  },
  {
   "cell_type": "code",
   "execution_count": 8,
   "id": "7f49f372",
   "metadata": {},
   "outputs": [
    {
     "data": {
      "text/plain": [
       "[98.6]"
      ]
     },
     "execution_count": 8,
     "metadata": {},
     "output_type": "execute_result"
    }
   ],
   "source": [
    "x"
   ]
  },
  {
   "cell_type": "code",
   "execution_count": 9,
   "id": "de789c8c",
   "metadata": {},
   "outputs": [
    {
     "data": {
      "text/plain": [
       "98.6"
      ]
     },
     "execution_count": 9,
     "metadata": {},
     "output_type": "execute_result"
    }
   ],
   "source": [
    "x[0]"
   ]
  },
  {
   "cell_type": "code",
   "execution_count": 10,
   "id": "dddcabe4",
   "metadata": {},
   "outputs": [
    {
     "name": "stdout",
     "output_type": "stream",
     "text": [
      "l_one= [1, 2, 3]\n",
      "l_two= ['one', 'two', 'three']\n",
      "id(l_one)= 140523710286080 id(l_two)= 140523710285824\n",
      "l_one= [1, 2, 3]\n",
      "l_two= [1, 2, 3]\n",
      "id(l_one)= 140523710286080 id(l_two)= 140523710286080\n",
      "l_one= [1, 'dos', 3]\n",
      "l_two= [1, 'dos', 3]\n"
     ]
    }
   ],
   "source": [
    "# Lists are pointers\n",
    "l_one = [1,2,3]; l_two = ['one', 'two', 'three']; \n",
    "print(\"l_one=\",l_one)\n",
    "print(\"l_two=\",l_two)\n",
    "print(\"id(l_one)=\",id(l_one),\"id(l_two)=\", id(l_two))\n",
    "l_two = l_one; # now lists refer to the same point in memory, so both could be used to modify what is in that memory\n",
    "print(\"l_one=\",l_one)\n",
    "print(\"l_two=\",l_two)\n",
    "print(\"id(l_one)=\",id(l_one),\"id(l_two)=\", id(l_two)) #the l_two totally equals l_one, even the id\n",
    "l_two[1] = 'dos'; \n",
    "print(\"l_one=\",l_one)\n",
    "print(\"l_two=\",l_two)\n",
    "#print(id(l_one[0]))\n"
   ]
  },
  {
   "cell_type": "code",
   "execution_count": 12,
   "id": "d4751aba",
   "metadata": {},
   "outputs": [
    {
     "name": "stdout",
     "output_type": "stream",
     "text": [
      "l_one= [1, 'dos', 3]\n",
      "l_three= [1, 'dos', 3]\n",
      "id(l_one)= 140523710286080 id(l_three)= 140523710214272\n",
      "id(l_one[1])= 140523645187888 id(l_three[1])= 140523645187888\n",
      "l_one= [1, 'dos', 3]\n",
      "l_three= [1, 'new', 3]\n",
      "id(l_one)= 140523710286080 id(l_three)= 140523710214272\n",
      "id(l_one[1])= 140523645187888 id(l_three[1])= 140523639074480\n"
     ]
    }
   ],
   "source": [
    "l_three=[]\n",
    "l_three[:]=l_one[:] #in this way, l_three the list itself doesn't change, but the elements in l_three are changed\n",
    "print(\"l_one=\",l_one)\n",
    "print(\"l_three=\",l_three)\n",
    "print(\"id(l_one)=\",id(l_one),\"id(l_three)=\", id(l_three))\n",
    "print(\"id(l_one[1])=\",id(l_one[1]),\"id(l_three[1])=\", id(l_three[1]))\n",
    "l_three[1]='new'\n",
    "print(\"l_one=\",l_one)\n",
    "print(\"l_three=\",l_three)\n",
    "print(\"id(l_one)=\",id(l_one),\"id(l_three)=\", id(l_three))\n",
    "print(\"id(l_one[1])=\",id(l_one[1]),\"id(l_three[1])=\", id(l_three[1]))"
   ]
  },
  {
   "cell_type": "code",
   "execution_count": null,
   "id": "f5c88d7a",
   "metadata": {},
   "outputs": [],
   "source": []
  }
 ],
 "metadata": {
  "kernelspec": {
   "display_name": "Python 3 (ipykernel)",
   "language": "python",
   "name": "python3"
  },
  "language_info": {
   "codemirror_mode": {
    "name": "ipython",
    "version": 3
   },
   "file_extension": ".py",
   "mimetype": "text/x-python",
   "name": "python",
   "nbconvert_exporter": "python",
   "pygments_lexer": "ipython3",
   "version": "3.9.12"
  }
 },
 "nbformat": 4,
 "nbformat_minor": 5
}
