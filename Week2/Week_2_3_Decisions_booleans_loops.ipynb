{
 "cells": [
  {
   "cell_type": "code",
   "execution_count": 2,
   "id": "79e03512",
   "metadata": {},
   "outputs": [
    {
     "name": "stdout",
     "output_type": "stream",
     "text": [
      "x = 0\n"
     ]
    }
   ],
   "source": [
    "#Simple decision\n",
    "x=0\n",
    "if x == 0:\n",
    "    print(\"x =\",x)"
   ]
  },
  {
   "cell_type": "code",
   "execution_count": 3,
   "id": "722e4c25",
   "metadata": {},
   "outputs": [
    {
     "name": "stdout",
     "output_type": "stream",
     "text": [
      "x = 0\n"
     ]
    }
   ],
   "source": [
    "x=0\n",
    "if x == 0:\n",
    "    print(\"x =\",x)\n",
    "else:\n",
    "    print(\"x !=\", 0)"
   ]
  },
  {
   "cell_type": "code",
   "execution_count": 4,
   "id": "a76d9421",
   "metadata": {},
   "outputs": [
    {
     "name": "stdout",
     "output_type": "stream",
     "text": [
      "x is positive\n"
     ]
    }
   ],
   "source": [
    "x=1\n",
    "if x == 0:\n",
    "    print(\"x =\",x)\n",
    "elif x>0:\n",
    "    print(\"x is positive\")\n",
    "else:\n",
    "    print(\"x is negative\")"
   ]
  },
  {
   "cell_type": "code",
   "execution_count": 5,
   "id": "3c687df4",
   "metadata": {},
   "outputs": [
    {
     "name": "stdout",
     "output_type": "stream",
     "text": [
      "False\n"
     ]
    }
   ],
   "source": [
    "#What is ==? Relational operator, returns a boolean.\n",
    "print(1==2)"
   ]
  },
  {
   "cell_type": "code",
   "execution_count": 6,
   "id": "416e5a76",
   "metadata": {},
   "outputs": [
    {
     "name": "stdout",
     "output_type": "stream",
     "text": [
      "a = True\n",
      "b = False\n"
     ]
    }
   ],
   "source": [
    "#What is printed here? A boolean value.\n",
    "a=True\n",
    "b=False\n",
    "print(\"a =\",a)\n",
    "print(\"b =\",b)\n",
    "\n"
   ]
  },
  {
   "cell_type": "code",
   "execution_count": 7,
   "id": "0833214f",
   "metadata": {},
   "outputs": [
    {
     "name": "stdout",
     "output_type": "stream",
     "text": [
      "'1<2' = True\n",
      "'1<=1' = True\n",
      "'1<=2' = True\n",
      "'1==2' = False\n",
      "'1>2' = False\n",
      "'1>=1' = True\n",
      "'1!=2' = True\n"
     ]
    }
   ],
   "source": [
    "#Realtional operators\n",
    "print(\"'1<2' =\",1<2)\n",
    "print(\"'1<=1' =\",1<=1)\n",
    "print(\"'1<=2' =\",1<=2)\n",
    "print(\"'1==2' =\",1==2)\n",
    "print(\"'1>2' =\",1>2)\n",
    "print(\"'1>=1' =\",1>=1)\n",
    "print(\"'1!=2' =\",1!=2)"
   ]
  },
  {
   "cell_type": "markdown",
   "id": "91244678",
   "metadata": {},
   "source": [
    "let's look at this function with a decision\n",
    "\n",
    "Solving the quadratic equation aX**2+bX+c=0\n",
    "\n",
    "Discriminant D=b**2-4ac\n",
    "\n",
    "The solutions are: \n",
    "\n",
    "X1=(-b+sqrt(D))/2a\n",
    "\n",
    "X2=(-b-sqrt(D))/2a\n",
    "\n",
    "What happens if D<0?"
   ]
  },
  {
   "cell_type": "code",
   "execution_count": 13,
   "id": "767e8f07",
   "metadata": {},
   "outputs": [],
   "source": [
    "import math\n",
    "\n",
    "def quadratic():\n",
    "    print(\"This program solves a quadratic equation\\n\")\n",
    "   #use a try block to avoid match domin error(square cannot be applied to negetive number)\n",
    "    try:\n",
    "        a = float(input(\"Enter coefficiant a:\"))\n",
    "        b = float(input(\"Enter coefficiant b:\"))\n",
    "        c = float(input(\"Enter coefficiant c:\"))\n",
    "    \n",
    "        discRoot = math.sqrt(b * b-4 * a * c)\n",
    "        root1 = (-b + discRoot)/(2*a)\n",
    "        root2 = (-b - discRoot)/(2*a)\n",
    "        \n",
    "        print(\"\\nThe solutions are:\",root1, root2)\n",
    "    except:\n",
    "        print(\"No real roots.\")"
   ]
  },
  {
   "cell_type": "code",
   "execution_count": 14,
   "id": "4ca39d41",
   "metadata": {},
   "outputs": [
    {
     "name": "stdout",
     "output_type": "stream",
     "text": [
      "This program solves a quadratic equation\n",
      "\n"
     ]
    },
    {
     "name": "stdin",
     "output_type": "stream",
     "text": [
      "Enter coefficiant a: 3\n",
      "Enter coefficiant b: 3\n",
      "Enter coefficiant c: 7\n"
     ]
    },
    {
     "name": "stdout",
     "output_type": "stream",
     "text": [
      "No real roots.\n"
     ]
    }
   ],
   "source": [
    "quadratic()"
   ]
  },
  {
   "cell_type": "markdown",
   "id": "957fe7b0",
   "metadata": {},
   "source": [
    "Can we avoid this printing on the standard output?\n",
    "Can we make it have a control over the errors?\n",
    "First let's try decisions."
   ]
  },
  {
   "cell_type": "code",
   "execution_count": null,
   "id": "8f093bc7",
   "metadata": {},
   "outputs": [],
   "source": [
    "import math\n",
    "\n",
    "def quadratic():\n",
    "    print(\"This program solves a quadratic equation\\n\")\n",
    "    \n",
    "    a = float(input(\"Enter coefficiant a:\"))\n",
    "    b = float(input(\"Enter coefficiant b:\"))\n",
    "    c = float(input(\"Enter coefficiant c:\"))\n",
    "    \n",
    "    discRoot = math.sqrt(b * b-4 * a * c)\n",
    "    root1 = (-b + discRoot)/(2*a)\n",
    "    root2 = (-b - discRoot)/(2*a)\n",
    "    \n",
    "    print(\"\\nThe solutions are:\",root1, root2)"
   ]
  },
  {
   "cell_type": "markdown",
   "id": "524a641a",
   "metadata": {},
   "source": [
    "Now look at the exceptions handling in python."
   ]
  },
  {
   "cell_type": "code",
   "execution_count": null,
   "id": "14b32409",
   "metadata": {},
   "outputs": [],
   "source": [
    "import math\n",
    "\n",
    "def quadratic():\n",
    "    print(\"This program solves a quadratic equation\\n\")\n",
    "    \n",
    "    try:\n",
    "        a = float(input(\"Enter coefficiant a:\"))\n",
    "        b = float(input(\"Enter coefficiant b:\"))\n",
    "        c = float(input(\"Enter coefficiant c:\"))\n",
    "        discRoot = math.sqrt(b * b-4 * a * c)\n",
    "        root1 = (-b + discRoot)/(2*a)\n",
    "        root2 = (-b - discRoot)/(2*a)\n",
    "        print(\"\\nThe solutions are:\",root1, root2)\n",
    "    except ValueError:\n",
    "        print(\"\\nNo real roots.\")"
   ]
  },
  {
   "cell_type": "code",
   "execution_count": 16,
   "id": "7f1f7c30",
   "metadata": {},
   "outputs": [
    {
     "name": "stdout",
     "output_type": "stream",
     "text": [
      "This program solves a quadratic equation\n",
      "\n"
     ]
    },
    {
     "name": "stdin",
     "output_type": "stream",
     "text": [
      "Enter coefficiant a: 3\n",
      "Enter coefficiant b: 3\n",
      "Enter coefficiant c: 7\n"
     ]
    },
    {
     "name": "stdout",
     "output_type": "stream",
     "text": [
      "No real roots.\n"
     ]
    }
   ],
   "source": [
    "quadratic()"
   ]
  },
  {
   "cell_type": "markdown",
   "id": "9d634596",
   "metadata": {},
   "source": [
    "# Booleans"
   ]
  },
  {
   "cell_type": "code",
   "execution_count": 15,
   "id": "e32938c7",
   "metadata": {},
   "outputs": [
    {
     "name": "stdout",
     "output_type": "stream",
     "text": [
      "True and True = True\n",
      "True and False = False\n",
      "True or True = True\n",
      "True or False = True\n",
      "False or False = False\n",
      "Not True = False\n",
      "Not False = True\n"
     ]
    }
   ],
   "source": [
    "a=True\n",
    "b=False\n",
    "\n",
    "#Boolean operators\n",
    "print(\"True and True =\",a and a)\n",
    "print(\"True and False =\",a and b)\n",
    "print(\"True or True =\",a or a)\n",
    "print(\"True or False =\",a or b)\n",
    "print(\"False or False =\",b or b)\n",
    "print(\"Not True =\", not a)\n",
    "print(\"Not False =\",not b)"
   ]
  },
  {
   "cell_type": "code",
   "execution_count": 17,
   "id": "4243e05c",
   "metadata": {},
   "outputs": [
    {
     "name": "stdout",
     "output_type": "stream",
     "text": [
      "a= 1\n",
      "b= 2\n",
      "c= False\n"
     ]
    }
   ],
   "source": [
    "a=1\n",
    "b=2\n",
    "c = a == b #c = EQUAL(a,b)\n",
    "print(\"a=\",a)\n",
    "print(\"b=\",b)\n",
    "print(\"c=\",c)"
   ]
  },
  {
   "cell_type": "code",
   "execution_count": 18,
   "id": "cfe68eb7",
   "metadata": {},
   "outputs": [
    {
     "ename": "SyntaxError",
     "evalue": "cannot assign to comparison (2003976212.py, line 1)",
     "output_type": "error",
     "traceback": [
      "\u001b[0;36m  Input \u001b[0;32mIn [18]\u001b[0;36m\u001b[0m\n\u001b[0;31m    c == a = b\u001b[0m\n\u001b[0m    ^\u001b[0m\n\u001b[0;31mSyntaxError\u001b[0m\u001b[0;31m:\u001b[0m cannot assign to comparison\n"
     ]
    }
   ],
   "source": [
    "c == a = b\n",
    "print(\"a=\",a)\n",
    "print(\"b=\",b)\n",
    "print(\"c=\",c)"
   ]
  },
  {
   "cell_type": "code",
   "execution_count": 19,
   "id": "9b961521",
   "metadata": {},
   "outputs": [
    {
     "ename": "SyntaxError",
     "evalue": "invalid syntax (3524274422.py, line 1)",
     "output_type": "error",
     "traceback": [
      "\u001b[0;36m  Input \u001b[0;32mIn [19]\u001b[0;36m\u001b[0m\n\u001b[0;31m    c = (a = b)\u001b[0m\n\u001b[0m           ^\u001b[0m\n\u001b[0;31mSyntaxError\u001b[0m\u001b[0;31m:\u001b[0m invalid syntax\n"
     ]
    }
   ],
   "source": [
    "c = (a = b)\n",
    "print(\"a=\",a)\n",
    "print(\"b=\",b)\n",
    "print(\"c=\",c)"
   ]
  },
  {
   "cell_type": "code",
   "execution_count": 20,
   "id": "ecd5d801",
   "metadata": {},
   "outputs": [
    {
     "name": "stdout",
     "output_type": "stream",
     "text": [
      "a= 1\n",
      "b= 2\n",
      "c= True\n"
     ]
    }
   ],
   "source": [
    "c = not(a == b) and (a != b)\n",
    "print(\"a=\",a)\n",
    "print(\"b=\",b)\n",
    "print(\"c=\",c)"
   ]
  },
  {
   "cell_type": "markdown",
   "id": "cc05973b",
   "metadata": {},
   "source": [
    "# Loops"
   ]
  },
  {
   "cell_type": "code",
   "execution_count": 21,
   "id": "44eed2a6",
   "metadata": {},
   "outputs": [
    {
     "name": "stdout",
     "output_type": "stream",
     "text": [
      "0\n",
      "1\n",
      "2\n",
      "3\n",
      "4\n"
     ]
    }
   ],
   "source": [
    "for i in range(5):\n",
    "    print(i)"
   ]
  },
  {
   "cell_type": "code",
   "execution_count": 22,
   "id": "95a75dfc",
   "metadata": {},
   "outputs": [
    {
     "name": "stdout",
     "output_type": "stream",
     "text": [
      "Ilija\n",
      "is\n",
      "my name.\n"
     ]
    }
   ],
   "source": [
    "for i in ['Ilija', 'is','my name.']:\n",
    "    print(i)"
   ]
  },
  {
   "cell_type": "code",
   "execution_count": 23,
   "id": "f1151d8e",
   "metadata": {},
   "outputs": [
    {
     "name": "stdout",
     "output_type": "stream",
     "text": [
      "Ilija\n",
      "is\n",
      "my name.\n",
      "And this is\n",
      "5\n"
     ]
    }
   ],
   "source": [
    "for i in ['Ilija', 'is','my name.','And this is',5]:\n",
    "    print(i)"
   ]
  },
  {
   "cell_type": "code",
   "execution_count": 24,
   "id": "a3f467c2",
   "metadata": {},
   "outputs": [
    {
     "name": "stdout",
     "output_type": "stream",
     "text": [
      "5\n",
      "True\n",
      "2.3\n",
      "name\n"
     ]
    }
   ],
   "source": [
    "a=5\n",
    "b=True\n",
    "c=2.3\n",
    "d='name'\n",
    "for i in [a,b,c,d]:\n",
    "    print(i)"
   ]
  },
  {
   "cell_type": "code",
   "execution_count": null,
   "id": "97cd4e20",
   "metadata": {},
   "outputs": [],
   "source": [
    "#Infinite loops\n",
    "i=0\n",
    "while i<=10:\n",
    "    print(i)\n",
    "    i=i+1\n"
   ]
  },
  {
   "cell_type": "code",
   "execution_count": null,
   "id": "fa47adef",
   "metadata": {},
   "outputs": [],
   "source": [
    "for i in range(11):\n",
    "    print(i)"
   ]
  },
  {
   "cell_type": "code",
   "execution_count": null,
   "id": "2bb0d07d",
   "metadata": {},
   "outputs": [],
   "source": [
    "#Why infinite? Danger!\n",
    "i=0\n",
    "while i<=10:\n",
    "    print(i)\n",
    "#to stop an infinate loop, go \"Kernel\"--> Interupt Kernel\n",
    "#to shut the output window, go \"Edit\" --> Clear output"
   ]
  },
  {
   "cell_type": "code",
   "execution_count": null,
   "id": "48e197d3",
   "metadata": {},
   "outputs": [],
   "source": [
    "#Infinite loops are good to stop it by the input. Interactive loops.\n",
    "#Let's do an interactive average\n",
    "moredata=\"yes\"\n",
    "total=0\n",
    "counter=0\n",
    "while moredata == \"yes\": # try while moredata[0] == \"y\", it should work\n",
    "    x=float(input(\"Enter a number:\"))\n",
    "    total=total+x\n",
    "    counter=counter+1\n",
    "    moredata=input(\"Do you want to enter more numbers?\")\n",
    "    \n",
    "print(\"\\nThe average is:\", total/counter)\n"
   ]
  },
  {
   "cell_type": "code",
   "execution_count": null,
   "id": "8fc62f85-e15f-47b6-bf12-f8668bbbd896",
   "metadata": {},
   "outputs": [],
   "source": [
    "#Good for terminating file input. Let's read a file.\n",
    "filename=input(\"What file is your input in?\")\n",
    "infile=open(filename,'r')\n",
    "line=infile.readline()\n",
    "while line !=\"\":\n",
    "    print(line)\n",
    "    #This is gonna lead to a infinate loop. Why?"
   ]
  },
  {
   "cell_type": "code",
   "execution_count": null,
   "id": "88e1d5bb",
   "metadata": {},
   "outputs": [],
   "source": [
    "#To fix this\n",
    "filename=input(\"What file is your input in?\")\n",
    "infile=open(filename,'r')\n",
    "\n",
    "while line !=\"\":\n",
    "    line=infile.readline()\n",
    "    print(line)"
   ]
  },
  {
   "cell_type": "code",
   "execution_count": null,
   "id": "07f1366d",
   "metadata": {},
   "outputs": [],
   "source": [
    "#Can we do the same with a for loop?\n",
    "filename=input(\"What file is your input in?\")\n",
    "infile=open(filename,'r')\n",
    "line=infile.readline()\n",
    "for i in range(10):\n",
    "    print(line)\n",
    "    line=infile.readline()\n",
    "    if line == \"\":\n",
    "        break"
   ]
  },
  {
   "cell_type": "code",
   "execution_count": null,
   "id": "ec6d790e",
   "metadata": {},
   "outputs": [],
   "source": [
    "#Loop and a half\n",
    "while True:\n",
    "    number=float(input(\"Enter a positive number:\"))\n",
    "    if number <=0: \n",
    "        print(\"The number you entred is not positive!\")\n",
    "        break\n",
    "    print(number)"
   ]
  }
 ],
 "metadata": {
  "kernelspec": {
   "display_name": "Python 3 (ipykernel)",
   "language": "python",
   "name": "python3"
  },
  "language_info": {
   "codemirror_mode": {
    "name": "ipython",
    "version": 3
   },
   "file_extension": ".py",
   "mimetype": "text/x-python",
   "name": "python",
   "nbconvert_exporter": "python",
   "pygments_lexer": "ipython3",
   "version": "3.9.12"
  }
 },
 "nbformat": 4,
 "nbformat_minor": 5
}
