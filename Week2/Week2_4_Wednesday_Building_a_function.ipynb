{
 "cells": [
  {
   "cell_type": "code",
   "execution_count": 3,
   "id": "81695294",
   "metadata": {},
   "outputs": [],
   "source": [
    "#Let's start with the chaos() function\n",
    "def chaos():\n",
    "    print(\"This program illustrates chaotic behavior.\")\n",
    "    x = eval(input(\"Enter a number betweek 0 and 1: \"))\n",
    "    for i in range(10):\n",
    "        x = 3.9 * x * (1-x)\n",
    "        print(x)"
   ]
  },
  {
   "cell_type": "code",
   "execution_count": 4,
   "id": "a6cf9273-24fe-42a5-8be2-45d2d8e5d3eb",
   "metadata": {},
   "outputs": [
    {
     "name": "stdout",
     "output_type": "stream",
     "text": [
      "This program illustrates chaotic behavior.\n"
     ]
    },
    {
     "name": "stdin",
     "output_type": "stream",
     "text": [
      "Enter a number betweek 0 and 1:  0.2\n"
     ]
    },
    {
     "name": "stdout",
     "output_type": "stream",
     "text": [
      "0.6240000000000001\n",
      "0.9150335999999998\n",
      "0.30321373239705673\n",
      "0.8239731430433209\n",
      "0.5656614700878645\n",
      "0.9581854282490118\n",
      "0.1562578420270518\n",
      "0.5141811824451928\n",
      "0.9742156868513789\n",
      "0.09796598114189214\n"
     ]
    }
   ],
   "source": [
    "chaos()"
   ]
  },
  {
   "cell_type": "code",
   "execution_count": 6,
   "id": "ce410671",
   "metadata": {},
   "outputs": [],
   "source": [
    "#Look closer at input(), let's make a simple print function hello(). What is the difference? \n",
    "\n",
    "def hello():\n",
    "    x = input(\"Enter a name: \")\n",
    "    print(\"Hello\",x)\n"
   ]
  },
  {
   "cell_type": "code",
   "execution_count": 7,
   "id": "663a4596",
   "metadata": {},
   "outputs": [
    {
     "name": "stdin",
     "output_type": "stream",
     "text": [
      "Enter a name:  Ruifei\n"
     ]
    },
    {
     "name": "stdout",
     "output_type": "stream",
     "text": [
      "Hello Ruifei\n"
     ]
    }
   ],
   "source": [
    "hello()"
   ]
  },
  {
   "cell_type": "code",
   "execution_count": 8,
   "id": "0aaba4c2",
   "metadata": {},
   "outputs": [],
   "source": [
    "# input can take expressions\n",
    "def what_is():\n",
    "    x = input(\"Enter an expression: \")\n",
    "    print(\"The results is:\",x)"
   ]
  },
  {
   "cell_type": "code",
   "execution_count": 10,
   "id": "bec99363",
   "metadata": {},
   "outputs": [
    {
     "name": "stdin",
     "output_type": "stream",
     "text": [
      "Enter an expression:  a+b\n"
     ]
    },
    {
     "name": "stdout",
     "output_type": "stream",
     "text": [
      "The results is: a+b\n"
     ]
    }
   ],
   "source": [
    "what_is()"
   ]
  },
  {
   "cell_type": "code",
   "execution_count": 11,
   "id": "a1d900e0",
   "metadata": {},
   "outputs": [],
   "source": [
    "def what_is():\n",
    "    x = eval(input(\"Enter an expression: \"))\n",
    "    print(\"The results is:\",x)"
   ]
  },
  {
   "cell_type": "code",
   "execution_count": 12,
   "id": "d6e5a2f7",
   "metadata": {},
   "outputs": [
    {
     "name": "stdin",
     "output_type": "stream",
     "text": [
      "Enter an expression:  5\n"
     ]
    },
    {
     "name": "stdout",
     "output_type": "stream",
     "text": [
      "The results is: 5\n"
     ]
    }
   ],
   "source": [
    "a=5\n",
    "what_is()"
   ]
  },
  {
   "cell_type": "markdown",
   "id": "e15eeaf9",
   "metadata": {},
   "source": [
    "# eval() is dangerous, problem with security"
   ]
  },
  {
   "cell_type": "code",
   "execution_count": null,
   "id": "d7d5eb37",
   "metadata": {},
   "outputs": [],
   "source": [
    "#Let's continua with our function chaos, let's make it better.\n",
    "def chaos():\n",
    "    print(\"This program illustrates chaotic behavior.\")\n",
    "    x = eval(input(\"Enter a number between 0 and 1: \"))\n",
    "    for i in range(10):\n",
    "        x = 3.9 * x * (1-x)\n",
    "        print(x)"
   ]
  },
  {
   "cell_type": "code",
   "execution_count": null,
   "id": "5889b047",
   "metadata": {},
   "outputs": [],
   "source": [
    "chaos()"
   ]
  },
  {
   "cell_type": "code",
   "execution_count": null,
   "id": "153285d2",
   "metadata": {},
   "outputs": [],
   "source": [
    "#Let's continue with our function chaos, let's make it better.\n",
    "def chaos():\n",
    "    print(\"This program illustrates chaotic behavior.\")\n",
    "    x = eval(input(\"Enter the initial value, a number betweek 0 and 1: \"))\n",
    "    y = eval(input(\"Enter the sequence length, an integer betweek 0 and 100: \"))\n",
    "    for i in range(y):\n",
    "        x = 3.9 * x * (1-x)\n",
    "        print(x)"
   ]
  },
  {
   "cell_type": "code",
   "execution_count": null,
   "id": "a76d6f68",
   "metadata": {},
   "outputs": [],
   "source": [
    "chaos()"
   ]
  },
  {
   "cell_type": "code",
   "execution_count": null,
   "id": "b7240eca",
   "metadata": {},
   "outputs": [],
   "source": [
    "#How about the parameter?\n",
    "def chaos():\n",
    "    print(\"This program illustrates chaotic behavior.\")\n",
    "    x = eval(input(\"Enter the initial value, a number between 0 and 1: \"))\n",
    "    y = eval(input(\"Enter the sequence length, an integer between 0 and 100: \"))\n",
    "    p = eval(input(\"Enter the prefactor, a real number greater than 0: \"))\n",
    "    for i in range(y):\n",
    "        x = p * x * (1-x)\n",
    "        print(x)"
   ]
  },
  {
   "cell_type": "code",
   "execution_count": null,
   "id": "4c4b14b8",
   "metadata": {},
   "outputs": [],
   "source": [
    "chaos()"
   ]
  },
  {
   "cell_type": "markdown",
   "id": "0a01320b",
   "metadata": {},
   "source": [
    "What we are doing here is working by the proper programming process:\n",
    "\n",
    "    1. Analyze the problem\n",
    "    \n",
    "    2. Determine specifications\n",
    "    \n",
    "    3. Create a design\n",
    "    \n",
    "    4. Implement the design\n",
    "    \n",
    "    5. Test/debug\n",
    "    \n",
    "    6. Maintain"
   ]
  },
  {
   "cell_type": "code",
   "execution_count": null,
   "id": "3bab06e8",
   "metadata": {},
   "outputs": [],
   "source": [
    "#Let's think about the specifications for chaos()\n",
    "#What happens if we enter negative numbers?\n",
    "chaos()"
   ]
  },
  {
   "cell_type": "code",
   "execution_count": 13,
   "id": "a1ff2753",
   "metadata": {},
   "outputs": [],
   "source": [
    "#Let's think about the specifications\n",
    "def chaos():\n",
    "    print(\"This program illustrates chaotic behavior.\")\n",
    "    x = eval(input(\"Enter the initial value, a number betweek 0 and 1: \"))\n",
    "    if x<=0:\n",
    "        print(\"The initial value must be greater than 0. Please try again!\")\n",
    "        return\n",
    "    y = eval(input(\"Enter the sequence length, an integer betweek 0 and 100: \"))\n",
    "    p = eval(input(\"Enter the prefactor, a real number greater than 0: \"))\n",
    "    for i in range(y):\n",
    "        x = p * x * (1-x)\n",
    "        print(x)"
   ]
  },
  {
   "cell_type": "code",
   "execution_count": 14,
   "id": "2b1b0cb9",
   "metadata": {},
   "outputs": [
    {
     "name": "stdout",
     "output_type": "stream",
     "text": [
      "This program illustrates chaotic behavior.\n"
     ]
    },
    {
     "name": "stdin",
     "output_type": "stream",
     "text": [
      "Enter the initial value, a number betweek 0 and 1:  -1\n"
     ]
    },
    {
     "name": "stdout",
     "output_type": "stream",
     "text": [
      "The initial value must be greater than 0. Please try again!\n"
     ]
    }
   ],
   "source": [
    "chaos()"
   ]
  },
  {
   "cell_type": "code",
   "execution_count": 15,
   "id": "fe2dea6a",
   "metadata": {},
   "outputs": [],
   "source": [
    "def chaos():\n",
    "    print(\"This program illustrates chaotic behavior.\")\n",
    "    x = eval(input(\"Enter the initial value, a number betweek 0 and 1: \"))\n",
    "    if x<=0:\n",
    "        print(\"The initial value must be greater than 0. Please try again!\")\n",
    "        return\n",
    "    elif x>=1:\n",
    "        print(\"The initial value must be smaller than 1. Please try again!\")\n",
    "        return\n",
    "    y = eval(input(\"Enter the sequence length, an integer between 0 and 100: \"))\n",
    "    p = eval(input(\"Enter the prefactor, a real number greater than 0: \"))\n",
    "    for i in range(y):\n",
    "        x = p * x * (1-x)\n",
    "        print(x)"
   ]
  },
  {
   "cell_type": "code",
   "execution_count": 16,
   "id": "db6ea43f-64f0-41a2-8e51-8fa8c499f680",
   "metadata": {},
   "outputs": [
    {
     "name": "stdout",
     "output_type": "stream",
     "text": [
      "This program illustrates chaotic behavior.\n"
     ]
    },
    {
     "name": "stdin",
     "output_type": "stream",
     "text": [
      "Enter the initial value, a number betweek 0 and 1:  2\n"
     ]
    },
    {
     "name": "stdout",
     "output_type": "stream",
     "text": [
      "The initial value must be smaller than 1. Please try again!\n"
     ]
    }
   ],
   "source": [
    "chaos()"
   ]
  },
  {
   "cell_type": "code",
   "execution_count": 18,
   "id": "344fbe3f",
   "metadata": {},
   "outputs": [],
   "source": [
    "#Let's continue\n",
    "def chaos():\n",
    "    print(\"This program illustrates chaotic behavior.\")\n",
    "    x = eval(input(\"Enter the initial value, a number betweek 0 and 1: \"))\n",
    "    if x<=0:\n",
    "        print(\"The initial value must be greater than 0. Please try again!\")\n",
    "        return\n",
    "    elif x>=1:\n",
    "        print(\"The initial value must be smaller than 1. Please try again!\")\n",
    "        return\n",
    "    y = eval(input(\"Enter the sequence length, an integer between 0 and 100: \"))\n",
    "    if y<=0:\n",
    "        print(\"The initial value must be greater than 0. Please try again!\")\n",
    "        return\n",
    "    elif y>=100:\n",
    "        print(\"The initial value must be smaller than 1. Please try again!\")\n",
    "        return\n",
    "    p = eval(input(\"Enter the prefactor, a real number greater than 0: \"))\n",
    "    for i in range(y):\n",
    "        x = p * x * (1-x)\n",
    "        print(x)"
   ]
  },
  {
   "cell_type": "code",
   "execution_count": 19,
   "id": "6557961b-e301-41f4-a50f-dfe8be677ad6",
   "metadata": {},
   "outputs": [
    {
     "name": "stdout",
     "output_type": "stream",
     "text": [
      "This program illustrates chaotic behavior.\n"
     ]
    },
    {
     "name": "stdin",
     "output_type": "stream",
     "text": [
      "Enter the initial value, a number betweek 0 and 1:  0.2\n",
      "Enter the sequence length, an integer between 0 and 100:  -1\n"
     ]
    },
    {
     "name": "stdout",
     "output_type": "stream",
     "text": [
      "The initial value must be greater than 0. Please try again!\n"
     ]
    }
   ],
   "source": [
    "chaos()"
   ]
  },
  {
   "cell_type": "code",
   "execution_count": 20,
   "id": "90a80057-e91d-4988-aa66-006c84519fe0",
   "metadata": {},
   "outputs": [],
   "source": [
    "def chaos():\n",
    "    print(\"This program illustrates chaotic behavior.\")\n",
    "    x = eval(input(\"Enter the initial value, a number betweek 0 and 1: \"))\n",
    "    if x<=0:\n",
    "        print(\"The initial value must be greater than 0. Please try again!\")\n",
    "        return\n",
    "    elif x>=1:\n",
    "        print(\"The initial value must be smaller than 1. Please try again!\")\n",
    "        return\n",
    "    y = eval(input(\"Enter the sequence length, an integer between 0 and 100: \"))\n",
    "    if y<=0:\n",
    "        print(\"The initial value must be greater than 0. Please try again!\")\n",
    "        return\n",
    "    elif y>=100:\n",
    "        print(\"The initial value must be smaller than 1. Please try again!\")\n",
    "        return\n",
    "    p = eval(input(\"Enter the prefactor, a real number greater than 0: \"))\n",
    "    if p<=0:\n",
    "        print(\"The initial value must be greater than 0. Please try again!\")\n",
    "        return\n",
    "\n",
    "    for i in range(y):\n",
    "        x = p * x * (1-x)\n",
    "        print(x)"
   ]
  },
  {
   "cell_type": "code",
   "execution_count": 21,
   "id": "ce6fac03-ddc2-4959-97a5-30ee3c7ac25c",
   "metadata": {},
   "outputs": [
    {
     "name": "stdout",
     "output_type": "stream",
     "text": [
      "This program illustrates chaotic behavior.\n"
     ]
    },
    {
     "name": "stdin",
     "output_type": "stream",
     "text": [
      "Enter the initial value, a number betweek 0 and 1:  0.2\n",
      "Enter the sequence length, an integer between 0 and 100:  50\n",
      "Enter the prefactor, a real number greater than 0:  -1\n"
     ]
    },
    {
     "name": "stdout",
     "output_type": "stream",
     "text": [
      "The initial value must be greater than 0. Please try again!\n"
     ]
    }
   ],
   "source": [
    "chaos()"
   ]
  },
  {
   "cell_type": "code",
   "execution_count": 22,
   "id": "12d6d96a-8450-4962-a889-4b0464ffddc8",
   "metadata": {},
   "outputs": [],
   "source": [
    "def chaos():\n",
    "    print(\"This program illustrates chaotic behavior.\")\n",
    "    x = eval(input(\"Enter the initial value, a number betweek 0 and 1: \"))\n",
    "    if x<=0:\n",
    "        print(\"The initial value must be greater than 0. Please try again!\")\n",
    "        return\n",
    "    elif x>=1:\n",
    "        print(\"The initial value must be smaller than 1. Please try again!\")\n",
    "        return\n",
    "    y = eval(input(\"Enter the sequence length, an integer between 0 and 100: \"))\n",
    "    if y<=0:\n",
    "        print(\"The initial value must be greater than 0. Please try again!\")\n",
    "        return\n",
    "    elif y>=100:\n",
    "        print(\"The initial value must be smaller than 1. Please try again!\")\n",
    "        return\n",
    "    p = eval(input(\"Enter the prefactor, a real number greater than 0: \"))\n",
    "    if p<=0:\n",
    "        print(\"The initial value must be greater than 0. Please try again!\")\n",
    "        return\n",
    "\n",
    "    for i in range(y): #notice that range() can only take the intager, so if you put a number that is not an intager would also be a probme`\n",
    "        x = p * x * (1-x)\n",
    "        print(x)"
   ]
  },
  {
   "cell_type": "code",
   "execution_count": 23,
   "id": "5668e5df-573f-4e02-b3aa-c646b6394f85",
   "metadata": {},
   "outputs": [
    {
     "name": "stdout",
     "output_type": "stream",
     "text": [
      "This program illustrates chaotic behavior.\n"
     ]
    },
    {
     "name": "stdin",
     "output_type": "stream",
     "text": [
      "Enter the initial value, a number betweek 0 and 1:  0.1\n",
      "Enter the sequence length, an integer between 0 and 100:  30\n",
      "Enter the prefactor, a real number greater than 0:  2\n"
     ]
    },
    {
     "name": "stdout",
     "output_type": "stream",
     "text": [
      "0.18000000000000002\n",
      "0.2952\n",
      "0.41611392\n",
      "0.4859262511644672\n",
      "0.49960385918742867\n",
      "0.49999968614491325\n",
      "0.49999999999980305\n",
      "0.5\n",
      "0.5\n",
      "0.5\n",
      "0.5\n",
      "0.5\n",
      "0.5\n",
      "0.5\n",
      "0.5\n",
      "0.5\n",
      "0.5\n",
      "0.5\n",
      "0.5\n",
      "0.5\n",
      "0.5\n",
      "0.5\n",
      "0.5\n",
      "0.5\n",
      "0.5\n",
      "0.5\n",
      "0.5\n",
      "0.5\n",
      "0.5\n",
      "0.5\n"
     ]
    }
   ],
   "source": [
    "chaos()"
   ]
  },
  {
   "cell_type": "code",
   "execution_count": null,
   "id": "00e9ae44-feee-43c8-8d99-7fb45067a06b",
   "metadata": {},
   "outputs": [],
   "source": []
  }
 ],
 "metadata": {
  "kernelspec": {
   "display_name": "Python 3 (ipykernel)",
   "language": "python",
   "name": "python3"
  },
  "language_info": {
   "codemirror_mode": {
    "name": "ipython",
    "version": 3
   },
   "file_extension": ".py",
   "mimetype": "text/x-python",
   "name": "python",
   "nbconvert_exporter": "python",
   "pygments_lexer": "ipython3",
   "version": "3.9.12"
  }
 },
 "nbformat": 4,
 "nbformat_minor": 5
}
