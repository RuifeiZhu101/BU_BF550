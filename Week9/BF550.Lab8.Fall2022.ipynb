{
 "cells": [
  {
   "cell_type": "markdown",
   "id": "60b2c85b-cacf-456e-93cf-e179991a72ef",
   "metadata": {
    "id": "60b2c85b-cacf-456e-93cf-e179991a72ef"
   },
   "source": [
    "# BF550 Fall 2022 Lab 8: Differential expression\n",
    "A common task in bioinformatics is to assess the affect of some treatment by quantifying *differential expression*, or how the expression of some features differ between subjects of the treatment and control groups. These statistics are typically calculated on large datasets. Here we will explore how to handle these calculations seemlessly using Pandas' `groupby()` function to easily calculate differential expression betwee control and treatment for each group of genes."
   ]
  },
  {
   "cell_type": "code",
   "execution_count": 1,
   "id": "9c38cd7c-6945-4d9f-9ab4-8f286a4239f0",
   "metadata": {
    "id": "9c38cd7c-6945-4d9f-9ab4-8f286a4239f0"
   },
   "outputs": [],
   "source": [
    "import numpy as np\n",
    "import pandas as pd\n",
    "import matplotlib.pyplot as plt\n",
    "import seaborn as sns\n",
    "\n",
    "import scipy.stats as sps"
   ]
  },
  {
   "cell_type": "markdown",
   "id": "954a76de-086e-4d93-82d1-a12d4e5a9945",
   "metadata": {
    "id": "954a76de-086e-4d93-82d1-a12d4e5a9945"
   },
   "source": [
    "# Problem 1: Building intuition for p-values\n",
    "Calculate p-values as data is sampled from two distributions that are nearing one another.\n",
    "\n",
    "**Tasks**: \n",
    "1. X: Generate 25 samples from a normal distribution with $\\mu=0\\text{ and }\\sigma=1$\n",
    "2. Y: Generate 25 samples from another normal distribution with $\\mu=4\\text{ and }\\sigma=1$\n",
    "3. In one figure, plot these two distributions with transparency in order to see overlapping bins. For ease of visibility, use 10 bins that range from the minimum value to the maximum value over all 50 samples (the bins for the two distributions should overlap).\n",
    "4. Use a t-test (`sps.ttest_rel()`) to test the hypothesis: X < Y\n",
    "5. Make the title of the figure the resulting p-value (formatted in scientific notation with 2 digits after the decimal point)\n",
    "6. Repeat steps 2-5 with $Y_\\mu \\in \\{3, 2, 1, 0\\}$ with a different figure for each comparison.\n",
    "7. Make a figure with properly labeled axes that shows the $Y_\\mu-X_\\mu$ on the x-axis and the corresponding p-value on a log scaled y-axis."
   ]
  },
  {
   "cell_type": "code",
   "execution_count": 21,
   "id": "68ca6f33-0000-4374-85be-ecff28014fe6",
   "metadata": {
    "id": "68ca6f33-0000-4374-85be-ecff28014fe6"
   },
   "outputs": [
    {
     "data": {
      "image/png": "[encoded data removed]",
      "text/plain": [
       "<Figure size 640x480 with 1 Axes>"
      ]
     },
     "metadata": {},
     "output_type": "display_data"
    }
   ],
   "source": [
    "\"T-test on nearing distributions\"\n",
    "n_samples = 25\n",
    "# X: Generate 25 samples from a normal distribution with  𝜇=0 and 𝜎=1\n",
    "x = np.random.normal(0, 1, n_samples)\n",
    "\n",
    "pval=[]\n",
    "for means in [4,3,2,1,0]:\n",
    "    # Y: Generate 25 samples from a normal distribution with  𝜇=4 and 𝜎=1\n",
    "    y = np.random.normal(4, 1, n_samples)\n",
    "\n",
    "    #doing independent t-test with alternative to test the Hyphothesis that x<y(see document)\n",
    "    pval = sps.ttest_ind(x,y,alternative='less').pvalue\n",
    "\n",
    "    #make bins\n",
    "    combined=np.concatenate((x,y))\n",
    "    min_val = combined.min()\n",
    "    max_val = combined.max()\n",
    "    bins= np.linspace(min_val,max_val,10)\n",
    "\n",
    "    kwargs={'bins':bins, 'ec':'w', 'alpha':.7}\n",
    "\n",
    "    plt.hist(x,label='x',**kwargs)\n",
    "    plt.hist(y,label='y',**kwargs)\n",
    "    plt.title(f'p={pval:.2e}')\n",
    "    plt.show()"
   ]
  },
  {
   "cell_type": "code",
   "execution_count": null,
   "id": "4d8db407-a0da-4b70-bd19-bd3e4d877f46",
   "metadata": {},
   "outputs": [],
   "source": [
    "#doing independent t-test with alternative to test the Hyphothesis that x<y(see document)\n",
    "sps.ttest_ind(x,y,alternative='less')"
   ]
  },
  {
   "cell_type": "code",
   "execution_count": null,
   "id": "97ef402f-23ca-4770-91ee-6c91fcda3971",
   "metadata": {},
   "outputs": [],
   "source": []
  },
  {
   "cell_type": "code",
   "execution_count": null,
   "id": "db7d301b-095c-4ece-9a7a-dae48e5244fb",
   "metadata": {},
   "outputs": [],
   "source": [
    "# Means for each Y\n",
    "y_means = np.mean(y)\n",
    "y_means\n",
    "# A list to save each p-value to\n",
    "#ps = []"
   ]
  },
  {
   "cell_type": "code",
   "execution_count": null,
   "id": "d996df8b-0af9-45f5-b3da-3c025aaafbae",
   "metadata": {
    "id": "d996df8b-0af9-45f5-b3da-3c025aaafbae"
   },
   "outputs": [],
   "source": [
    "\"Direct relationship between means and p-values\""
   ]
  },
  {
   "cell_type": "markdown",
   "id": "9fa816b3-d388-45aa-a0f2-80f7e3bf7e9d",
   "metadata": {
    "id": "9fa816b3-d388-45aa-a0f2-80f7e3bf7e9d"
   },
   "source": [
    "# Gene expression data\n",
    "The remainder of the lab will involve using the synthetic dataset generated in the following cell. You can imagine this dataset describing the expression of 1000 genes in 28 subjects - 13 who received some treatment and 15 who did not (control) - measured through transcriptomics sequencing. Your tasks with this dataset will involve investigating the effect of the treatment by finding which genes are **differentially expressed**.\n",
    "\n",
    "Run this cell to generate the `gene_df`, the dataset of the expression of each gene for each subject."
   ]
  },
  {
   "cell_type": "code",
   "execution_count": 77,
   "id": "7264ecc3-05ad-4978-835e-de725a63f8f1",
   "metadata": {
    "id": "7264ecc3-05ad-4978-835e-de725a63f8f1",
    "outputId": "5ba752ca-02e7-4697-a8bc-5dc4e808dcdd"
   },
   "outputs": [
    {
     "data": {
      "text/html": [
       "<div>\n",
       "<style scoped>\n",
       "    .dataframe tbody tr th:only-of-type {\n",
       "        vertical-align: middle;\n",
       "    }\n",
       "\n",
       "    .dataframe tbody tr th {\n",
       "        vertical-align: top;\n",
       "    }\n",
       "\n",
       "    .dataframe thead th {\n",
       "        text-align: right;\n",
       "    }\n",
       "</style>\n",
       "<table border=\"1\" class=\"dataframe\">\n",
       "  <thead>\n",
       "    <tr style=\"text-align: right;\">\n",
       "      <th></th>\n",
       "      <th>control_0</th>\n",
       "      <th>control_1</th>\n",
       "      <th>control_2</th>\n",
       "      <th>control_3</th>\n",
       "      <th>control_4</th>\n",
       "      <th>control_5</th>\n",
       "      <th>control_6</th>\n",
       "      <th>control_7</th>\n",
       "      <th>control_8</th>\n",
       "      <th>control_9</th>\n",
       "      <th>...</th>\n",
       "      <th>treatment_3</th>\n",
       "      <th>treatment_4</th>\n",
       "      <th>treatment_5</th>\n",
       "      <th>treatment_6</th>\n",
       "      <th>treatment_7</th>\n",
       "      <th>treatment_8</th>\n",
       "      <th>treatment_9</th>\n",
       "      <th>treatment_10</th>\n",
       "      <th>treatment_11</th>\n",
       "      <th>treatment_12</th>\n",
       "    </tr>\n",
       "  </thead>\n",
       "  <tbody>\n",
       "    <tr>\n",
       "      <th>G_0</th>\n",
       "      <td>5</td>\n",
       "      <td>14</td>\n",
       "      <td>13</td>\n",
       "      <td>17</td>\n",
       "      <td>15</td>\n",
       "      <td>2</td>\n",
       "      <td>5</td>\n",
       "      <td>15</td>\n",
       "      <td>8</td>\n",
       "      <td>2</td>\n",
       "      <td>...</td>\n",
       "      <td>16</td>\n",
       "      <td>17</td>\n",
       "      <td>2</td>\n",
       "      <td>14</td>\n",
       "      <td>2</td>\n",
       "      <td>11</td>\n",
       "      <td>16</td>\n",
       "      <td>23</td>\n",
       "      <td>8</td>\n",
       "      <td>16</td>\n",
       "    </tr>\n",
       "    <tr>\n",
       "      <th>G_1</th>\n",
       "      <td>1</td>\n",
       "      <td>2</td>\n",
       "      <td>2</td>\n",
       "      <td>2</td>\n",
       "      <td>0</td>\n",
       "      <td>0</td>\n",
       "      <td>0</td>\n",
       "      <td>1</td>\n",
       "      <td>1</td>\n",
       "      <td>0</td>\n",
       "      <td>...</td>\n",
       "      <td>0</td>\n",
       "      <td>1</td>\n",
       "      <td>0</td>\n",
       "      <td>4</td>\n",
       "      <td>0</td>\n",
       "      <td>2</td>\n",
       "      <td>0</td>\n",
       "      <td>1</td>\n",
       "      <td>1</td>\n",
       "      <td>1</td>\n",
       "    </tr>\n",
       "    <tr>\n",
       "      <th>G_2</th>\n",
       "      <td>13</td>\n",
       "      <td>13</td>\n",
       "      <td>13</td>\n",
       "      <td>22</td>\n",
       "      <td>11</td>\n",
       "      <td>3</td>\n",
       "      <td>5</td>\n",
       "      <td>17</td>\n",
       "      <td>15</td>\n",
       "      <td>10</td>\n",
       "      <td>...</td>\n",
       "      <td>21</td>\n",
       "      <td>15</td>\n",
       "      <td>4</td>\n",
       "      <td>12</td>\n",
       "      <td>10</td>\n",
       "      <td>31</td>\n",
       "      <td>9</td>\n",
       "      <td>24</td>\n",
       "      <td>3</td>\n",
       "      <td>13</td>\n",
       "    </tr>\n",
       "    <tr>\n",
       "      <th>G_3</th>\n",
       "      <td>0</td>\n",
       "      <td>4</td>\n",
       "      <td>5</td>\n",
       "      <td>5</td>\n",
       "      <td>4</td>\n",
       "      <td>2</td>\n",
       "      <td>2</td>\n",
       "      <td>4</td>\n",
       "      <td>5</td>\n",
       "      <td>5</td>\n",
       "      <td>...</td>\n",
       "      <td>4</td>\n",
       "      <td>6</td>\n",
       "      <td>0</td>\n",
       "      <td>4</td>\n",
       "      <td>1</td>\n",
       "      <td>11</td>\n",
       "      <td>4</td>\n",
       "      <td>6</td>\n",
       "      <td>3</td>\n",
       "      <td>2</td>\n",
       "    </tr>\n",
       "    <tr>\n",
       "      <th>G_4</th>\n",
       "      <td>3</td>\n",
       "      <td>1</td>\n",
       "      <td>5</td>\n",
       "      <td>1</td>\n",
       "      <td>1</td>\n",
       "      <td>0</td>\n",
       "      <td>1</td>\n",
       "      <td>3</td>\n",
       "      <td>2</td>\n",
       "      <td>0</td>\n",
       "      <td>...</td>\n",
       "      <td>3</td>\n",
       "      <td>3</td>\n",
       "      <td>1</td>\n",
       "      <td>2</td>\n",
       "      <td>2</td>\n",
       "      <td>4</td>\n",
       "      <td>2</td>\n",
       "      <td>6</td>\n",
       "      <td>2</td>\n",
       "      <td>3</td>\n",
       "    </tr>\n",
       "  </tbody>\n",
       "</table>\n",
       "<p>5 rows × 28 columns</p>\n",
       "</div>"
      ],
      "text/plain": [
       "     control_0  control_1  control_2  control_3  control_4  control_5  \\\n",
       "G_0          5         14         13         17         15          2   \n",
       "G_1          1          2          2          2          0          0   \n",
       "G_2         13         13         13         22         11          3   \n",
       "G_3          0          4          5          5          4          2   \n",
       "G_4          3          1          5          1          1          0   \n",
       "\n",
       "     control_6  control_7  control_8  control_9  ...  treatment_3  \\\n",
       "G_0          5         15          8          2  ...           16   \n",
       "G_1          0          1          1          0  ...            0   \n",
       "G_2          5         17         15         10  ...           21   \n",
       "G_3          2          4          5          5  ...            4   \n",
       "G_4          1          3          2          0  ...            3   \n",
       "\n",
       "     treatment_4  treatment_5  treatment_6  treatment_7  treatment_8  \\\n",
       "G_0           17            2           14            2           11   \n",
       "G_1            1            0            4            0            2   \n",
       "G_2           15            4           12           10           31   \n",
       "G_3            6            0            4            1           11   \n",
       "G_4            3            1            2            2            4   \n",
       "\n",
       "     treatment_9  treatment_10  treatment_11  treatment_12  \n",
       "G_0           16            23             8            16  \n",
       "G_1            0             1             1             1  \n",
       "G_2            9            24             3            13  \n",
       "G_3            4             6             3             2  \n",
       "G_4            2             6             2             3  \n",
       "\n",
       "[5 rows x 28 columns]"
      ]
     },
     "execution_count": 95,
     "metadata": {},
     "output_type": "execute_result"
    }
   ],
   "source": [
    "\"Priors for genes\"\n",
    "n_genes = 1000\n",
    "gene_names = [f'G_{g}' for g in range(n_genes)]\n",
    "\n",
    "# Random seed for reproducibility\n",
    "np.random.seed(123) \n",
    "# Sample prior probabilities of each gene from a Dirichlet distribution\n",
    "alpha = np.ones(n_genes)/2\n",
    "priors_control = np.random.dirichlet(alpha)\n",
    "\n",
    "# Choose genes to be differentially expressed in treatment\n",
    "de_genes = np.random.choice(range(n_genes), 20)\n",
    "alpha[de_genes] = 1/1.5\n",
    "np.random.seed(123) \n",
    "priors_treatment = np.random.dirichlet(alpha)\n",
    "\n",
    "\"Priors for biological samples\"\n",
    "n_control = 15\n",
    "n_treatment = 13\n",
    "n_samples = n_treatment + n_control\n",
    "sample_names = [f'{condition}_{i}' for condition, size in zip(['control', 'treatment'], [n_control, n_treatment]) for i in range(size)]\n",
    "\n",
    "# Random sequencing depth for each sample\n",
    "seq_depths = np.random.normal(1e4, 4e3, n_samples).astype(int)\n",
    "\n",
    "\"Generate gene count data\"\n",
    "count_data = []\n",
    "# Generate count data samples, drawing from Dirichlets for control or treatment\n",
    "priors = priors_control\n",
    "for i, depth in enumerate(seq_depths):\n",
    "    # After generating data for controls, start generating data for treatments\n",
    "    if i == n_control:\n",
    "        priors = priors_treatment\n",
    "    # Sample gene counts \n",
    "    sample_counts = np.random.multinomial(depth, priors)\n",
    "    # Save\n",
    "    count_data.append(sample_counts)\n",
    "\n",
    "gene_df = pd.DataFrame(count_data, sample_names, gene_names).T\n",
    "# Filter out genes with no counts\n",
    "gene_df = gene_df[gene_df.gt(0).any(1)]\n",
    "gene_df.head()"
   ]
  },
  {
   "cell_type": "markdown",
   "id": "c4f652df-d4d9-4ea8-a45c-f6734221bae0",
   "metadata": {
    "id": "c4f652df-d4d9-4ea8-a45c-f6734221bae0"
   },
   "source": [
    "# Problem 2: Preprocess data\n",
    "In reality, expression data like this is generated by sequencing RNA transcripts from the cells of each study subject. Each biological sample is sequenced to a certain \"depth\", like picking a fixed number of marbles from a bag, which is independent of any biological property about that sample. As a consequence, it is only valid to interpret this data as [\"compositional\"](https://academic-oup-com.ezproxy.bu.edu/bioinformatics/article/34/16/2870/4956011) - so while we can't draw any meaning from comparing the raw counts of one gene in two different samples, we can meaningfully compare the *relative abundance* of one gene in two different samples. So our first step will be to calculate the relative abundance of each gene in each sample, by normalizing the count of each gene to the sample \"depth\" (total number of counts in that sample).\n",
    "\n",
    "**Tasks**:\n",
    "1. Calculate the relative `abundance` for all genes in `gene_df`: Normalize each sample by that sample's total number of counts (its depth)\n",
    "2. Transform `gene_df` from wideform to longform. Create a column that indicates the `condition` (`control` or `treatment`) for each sample.\n",
    "\n",
    "*Note: For those of you who do or will analyze compositional data, there are more rigorous approaches than just analyzing relative abundances, such as using the CLR transformation (see the linked article for more info).*"
   ]
  },
  {
   "cell_type": "code",
   "execution_count": 91,
   "id": "0b2d415d-eabe-4125-823d-700c348b4858",
   "metadata": {
    "id": "0b2d415d-eabe-4125-823d-700c348b4858"
   },
   "outputs": [
    {
     "data": {
      "text/html": [
       "<div>\n",
       "<style scoped>\n",
       "    .dataframe tbody tr th:only-of-type {\n",
       "        vertical-align: middle;\n",
       "    }\n",
       "\n",
       "    .dataframe tbody tr th {\n",
       "        vertical-align: top;\n",
       "    }\n",
       "\n",
       "    .dataframe thead th {\n",
       "        text-align: right;\n",
       "    }\n",
       "</style>\n",
       "<table border=\"1\" class=\"dataframe\">\n",
       "  <thead>\n",
       "    <tr style=\"text-align: right;\">\n",
       "      <th></th>\n",
       "      <th>gene</th>\n",
       "      <th>Sample</th>\n",
       "      <th>abundance</th>\n",
       "    </tr>\n",
       "  </thead>\n",
       "  <tbody>\n",
       "    <tr>\n",
       "      <th>0</th>\n",
       "      <td>G_0</td>\n",
       "      <td>control_0</td>\n",
       "      <td>0.000706</td>\n",
       "    </tr>\n",
       "    <tr>\n",
       "      <th>1</th>\n",
       "      <td>G_0</td>\n",
       "      <td>control_1</td>\n",
       "      <td>0.001411</td>\n",
       "    </tr>\n",
       "    <tr>\n",
       "      <th>2</th>\n",
       "      <td>G_0</td>\n",
       "      <td>control_2</td>\n",
       "      <td>0.001346</td>\n",
       "    </tr>\n",
       "    <tr>\n",
       "      <th>3</th>\n",
       "      <td>G_0</td>\n",
       "      <td>control_3</td>\n",
       "      <td>0.001595</td>\n",
       "    </tr>\n",
       "    <tr>\n",
       "      <th>4</th>\n",
       "      <td>G_0</td>\n",
       "      <td>control_4</td>\n",
       "      <td>0.001791</td>\n",
       "    </tr>\n",
       "  </tbody>\n",
       "</table>\n",
       "</div>"
      ],
      "text/plain": [
       "  gene     Sample  abundance\n",
       "0  G_0  control_0   0.000706\n",
       "1  G_0  control_1   0.001411\n",
       "2  G_0  control_2   0.001346\n",
       "3  G_0  control_3   0.001595\n",
       "4  G_0  control_4   0.001791"
      ]
     },
     "execution_count": 96,
     "metadata": {},
     "output_type": "execute_result"
    }
   ],
   "source": [
    "\"Normalize\"\n",
    "gene_normalized = gene_df.divide(gene_df.sum())\n",
    "\n",
    "gene_normalized.head()\n",
    "\n",
    "\"Stack\"\n",
    "# Let's rename as 'abundance'\n",
    "\n",
    "gene_stacked = gene_normalized.rename_axis(index='gene',columns='Sample').stack().reset_index(name='abundance')\n",
    "\n",
    "gene_stacked.head()"
   ]
  },
  {
   "cell_type": "code",
   "execution_count": 79,
   "id": "ab5df604-5864-4914-87bf-390313676ffd",
   "metadata": {},
   "outputs": [
    {
     "data": {
      "text/plain": [
       "0          control\n",
       "1          control\n",
       "2          control\n",
       "3          control\n",
       "4          control\n",
       "           ...    \n",
       "26539    treatment\n",
       "26540    treatment\n",
       "26541    treatment\n",
       "26542    treatment\n",
       "26543    treatment\n",
       "Name: Sample, Length: 26544, dtype: object"
      ]
     },
     "execution_count": 97,
     "metadata": {},
     "output_type": "execute_result"
    }
   ],
   "source": [
    "gene_stacked.Sample.str.split('_').str.get(0)"
   ]
  },
  {
   "cell_type": "code",
   "execution_count": 80,
   "id": "dbcce0cb-0140-4f2f-8c61-23888ed802e0",
   "metadata": {},
   "outputs": [
    {
     "data": {
      "text/plain": [
       "0    control\n",
       "1    control\n",
       "2    control\n",
       "3    control\n",
       "4    control\n",
       "Name: Sample, dtype: object"
      ]
     },
     "execution_count": 80,
     "metadata": {},
     "output_type": "execute_result"
    }
   ],
   "source": [
    "gene_stacked.Sample.apply(lambda x: x.split('_')[0]).head()"
   ]
  },
  {
   "cell_type": "code",
   "execution_count": 102,
   "id": "0c178022-8cda-40ca-a247-2fdfa896e9c5",
   "metadata": {},
   "outputs": [
    {
     "data": {
      "text/html": [
       "<div>\n",
       "<style scoped>\n",
       "    .dataframe tbody tr th:only-of-type {\n",
       "        vertical-align: middle;\n",
       "    }\n",
       "\n",
       "    .dataframe tbody tr th {\n",
       "        vertical-align: top;\n",
       "    }\n",
       "\n",
       "    .dataframe thead th {\n",
       "        text-align: right;\n",
       "    }\n",
       "</style>\n",
       "<table border=\"1\" class=\"dataframe\">\n",
       "  <thead>\n",
       "    <tr style=\"text-align: right;\">\n",
       "      <th></th>\n",
       "      <th>gene</th>\n",
       "      <th>Sample</th>\n",
       "      <th>abundance</th>\n",
       "      <th>condition</th>\n",
       "    </tr>\n",
       "  </thead>\n",
       "  <tbody>\n",
       "    <tr>\n",
       "      <th>0</th>\n",
       "      <td>G_0</td>\n",
       "      <td>control_0</td>\n",
       "      <td>0.000706</td>\n",
       "      <td>control</td>\n",
       "    </tr>\n",
       "    <tr>\n",
       "      <th>1</th>\n",
       "      <td>G_0</td>\n",
       "      <td>control_1</td>\n",
       "      <td>0.001411</td>\n",
       "      <td>control</td>\n",
       "    </tr>\n",
       "    <tr>\n",
       "      <th>2</th>\n",
       "      <td>G_0</td>\n",
       "      <td>control_2</td>\n",
       "      <td>0.001346</td>\n",
       "      <td>control</td>\n",
       "    </tr>\n",
       "    <tr>\n",
       "      <th>3</th>\n",
       "      <td>G_0</td>\n",
       "      <td>control_3</td>\n",
       "      <td>0.001595</td>\n",
       "      <td>control</td>\n",
       "    </tr>\n",
       "    <tr>\n",
       "      <th>4</th>\n",
       "      <td>G_0</td>\n",
       "      <td>control_4</td>\n",
       "      <td>0.001791</td>\n",
       "      <td>control</td>\n",
       "    </tr>\n",
       "  </tbody>\n",
       "</table>\n",
       "</div>"
      ],
      "text/plain": [
       "  gene     Sample  abundance condition\n",
       "0  G_0  control_0   0.000706   control\n",
       "1  G_0  control_1   0.001411   control\n",
       "2  G_0  control_2   0.001346   control\n",
       "3  G_0  control_3   0.001595   control\n",
       "4  G_0  control_4   0.001791   control"
      ]
     },
     "execution_count": 106,
     "metadata": {},
     "output_type": "execute_result"
    }
   ],
   "source": [
    "\"Indicate condition\"\n",
    "gene_stacked['condition'] = gene_stacked.Sample.apply(lambda x: x.split('_')[0]).head()\n",
    "gene_stacked.head()"
   ]
  },
  {
   "cell_type": "markdown",
   "id": "4df019b6-02ea-48bd-b864-84f075335e14",
   "metadata": {
    "id": "4df019b6-02ea-48bd-b864-84f075335e14"
   },
   "source": [
    "# Problem 3: Visualize gene expression\n",
    "Before searching for differentially expressed genes, let's take a look at how gene abundances are distributed. There are 1000 genes, which is a lot, so to start let's take a look at the difference in abundance of the top 20 most abundant genes.\n",
    "\n",
    "**Task**:\n",
    "1. List all genes sorted by their mean abundance over all samples.\n",
    "2. In one figure, generate boxplots for the abundance of the top 20 genes, in order of mean abundance (most to least), colored by `condition`.\n",
    "3. Make this figure large enough so that the gene names are visible (or rotate the `xticklabels`)."
   ]
  },
  {
   "cell_type": "code",
   "execution_count": 103,
   "id": "57669bf8-b141-4d52-a3d8-a7e1f65c72ad",
   "metadata": {},
   "outputs": [
    {
     "data": {
      "text/plain": [
       "0.0011877654411739502"
      ]
     },
     "execution_count": 103,
     "metadata": {},
     "output_type": "execute_result"
    }
   ],
   "source": [
    "gene_stacked[gene_stacked.gene.eq('G_0')].abundance.mean()"
   ]
  },
  {
   "cell_type": "code",
   "execution_count": 104,
   "id": "b3d1574c-5f2a-4527-9344-5cdb0aa6f144",
   "metadata": {},
   "outputs": [
    {
     "data": {
      "text/plain": [
       "Index(['G_274', 'G_500', 'G_590', 'G_122', 'G_527', 'G_374', 'G_266', 'G_592',\n",
       "       'G_732', 'G_788', 'G_380', 'G_299', 'G_991', 'G_182', 'G_187', 'G_695',\n",
       "       'G_285', 'G_982', 'G_348', 'G_17'],\n",
       "      dtype='object', name='gene')"
      ]
     },
     "execution_count": 104,
     "metadata": {},
     "output_type": "execute_result"
    }
   ],
   "source": [
    "gene_stacked.groupby('gene').abundance.mean().sort_values(ascending=False).index[:20]"
   ]
  },
  {
   "cell_type": "code",
   "execution_count": 84,
   "id": "ae730d3d-ffa7-4603-9ecf-7a645316e74f",
   "metadata": {
    "id": "ae730d3d-ffa7-4603-9ecf-7a645316e74f"
   },
   "outputs": [
    {
     "data": {
      "image/png": "[encoded data removed]",
      "text/plain": [
       "<Figure size 1500x500 with 1 Axes>"
      ]
     },
     "metadata": {},
     "output_type": "display_data"
    }
   ],
   "source": [
    "\"Distribution of highly abundant genes\"\n",
    "# Sorted list of genes by mean abundance over all samples\n",
    "order = gene_stacked.groupby('gene').abundance.mean().sort_values(ascending=False).index[:20]\n",
    "\n",
    "# Boxplots of the abundance of the top 20 most abundant genes in each condition\n",
    "plt.figure(figsize=(15, 5))\n",
    "sns.boxplot(x='gene', y='abundance', hue='condition', order=order, data=gene_stacked)\n",
    "plt.show()\n"
   ]
  },
  {
   "cell_type": "markdown",
   "id": "99f83236-72d8-49a5-8848-725d8e69dd3c",
   "metadata": {
    "id": "99f83236-72d8-49a5-8848-725d8e69dd3c"
   },
   "source": [
    "# Problem 4: Differential abundance of one gene\n",
    "Notice that the most abundant genes are not necessarily **differentially abundant** let's use hypothesis testing to see if any genes are though. Since we don't know the effect of our treatment on each gene (it could raise *or* lower expression), let's use a two-tailed test (testing that control and treatment just have different levels of expression, without any hypothesis that one is greater than the other). Assuming we don't have any strong evidence that this data is normally distributed, let's use the non-paramteric [Mann-Whitney U test](https://en.wikipedia.org/wiki/Mann%E2%80%93Whitney_U_test).\n",
    "\n",
    "We want to assess the differential expression between control and treatment for *all* genes, but let's start off by calculating differential expression for one gene, `G_918`.\n",
    "\n",
    "**Tasks:**\n",
    "1. Subset `gene_stacked` to where `gene` is `G_918`\n",
    "2. Plot kernel density estimate plots for the `abundance` colored by `condition`.\n",
    "3. Calculate the Mann-Whitney (`sps.mannwhitneyu()`) p-value for these two distrubtions and set this as the title."
   ]
  },
  {
   "cell_type": "code",
   "execution_count": null,
   "id": "9d3ffca8-b686-4186-9422-c3982fa898a3",
   "metadata": {
    "id": "9d3ffca8-b686-4186-9422-c3982fa898a3"
   },
   "outputs": [],
   "source": [
    "\"Mann-Whitney for G_918\"\n",
    "# Subset to G_918\n",
    "g918_df = gene_stacked[gene_stacked.gene.eq('G_918')]\n",
    "\n",
    "# To calculate the p-value with Mann-Whitney, we need the two lists we are testing\n",
    "g918_control_abundance = None\n",
    "g918_treatment_abundance = None\n",
    "\n",
    "# Calculate the Mann-Whitney p-value\n",
    "p = None\n",
    "\n",
    "# Visualize distributions as kde plots and set title as p-value\n",
    "\n",
    "plt.show()"
   ]
  },
  {
   "cell_type": "markdown",
   "id": "1e01078b-1872-4c16-aaa5-b5186572ff07",
   "metadata": {
    "id": "1e01078b-1872-4c16-aaa5-b5186572ff07"
   },
   "source": [
    "# Problem 5: Differential abundance on all genes\n",
    "Clearly, `G_918` is not affected by this treatment. Let's perform this differential expression test on *all* genes to figure out which ones may be affected by the treatment. Since we want to perform a function on all *groups* of `gene`s, this is the **perfect** opportunity to use pandas' `groupby()` function!\n",
    "\n",
    "**Task**:\n",
    "1. Using `gene_stacked.groupby('gene').apply()`, calculate the Mann-Whitney p-value for each gene\n",
    "2. Remake the boxplot figure from Problem 3, but with the top 25 most differentially expressed genes in order of significance."
   ]
  },
  {
   "cell_type": "code",
   "execution_count": null,
   "id": "af7068a2-5e07-47bd-b0c6-f7da4507e2ee",
   "metadata": {
    "id": "af7068a2-5e07-47bd-b0c6-f7da4507e2ee"
   },
   "outputs": [],
   "source": [
    "\"Calculate differential expression for each gene\"\n",
    "# Hint: look at how we calculated differential expression for one gene above. How can we apply this function to each gene?\n",
    "de_ps = gene_stacked.groupby('gene').apply(CALCULATE DIFFERENTIAL EXPRESSION FOR THIS GENE HERE)\n",
    "\n",
    "\"Visualize top 25 most differentially expressed genes\"\n",
    "# Order for our boxplots from most to least significant for the top 25 most differentially expressed genes\n",
    "order = None\n",
    "\n",
    "plt.show()"
   ]
  }
 ],
 "metadata": {
  "colab": {
   "collapsed_sections": [],
   "provenance": []
  },
  "kernelspec": {
   "display_name": "Python 3 (ipykernel)",
   "language": "python",
   "name": "python3"
  },
  "language_info": {
   "codemirror_mode": {
    "name": "ipython",
    "version": 3
   },
   "file_extension": ".py",
   "mimetype": "text/x-python",
   "name": "python",
   "nbconvert_exporter": "python",
   "pygments_lexer": "ipython3",
   "version": "3.9.12"
  }
 },
 "nbformat": 4,
 "nbformat_minor": 5
}
