{
 "cells": [
  {
   "cell_type": "markdown",
   "metadata": {},
   "source": [
    "Let's explore a few more features of numpy; still in one dimension"
   ]
  },
  {
   "cell_type": "code",
   "execution_count": 1,
   "metadata": {},
   "outputs": [],
   "source": [
    "import numpy as np\n",
    "np.set_printoptions(precision=3) \n",
    "import matplotlib.pyplot as plt"
   ]
  },
  {
   "cell_type": "code",
   "execution_count": 2,
   "metadata": {},
   "outputs": [
    {
     "name": "stdout",
     "output_type": "stream",
     "text": [
      "1.21.5\n"
     ]
    }
   ],
   "source": [
    "print(np.__version__)"
   ]
  },
  {
   "cell_type": "code",
   "execution_count": 3,
   "metadata": {},
   "outputs": [
    {
     "name": "stdout",
     "output_type": "stream",
     "text": [
      "[1 2 3]\n",
      "3\n",
      "<class 'numpy.ndarray'>\n",
      "int64\n"
     ]
    }
   ],
   "source": [
    "# default type conversions\n",
    "a = np.array([1, 2, 3])\n",
    "print(a)\n",
    "print(a.size)\n",
    "print(type(a))\n",
    "print(a.dtype)"
   ]
  },
  {
   "cell_type": "code",
   "execution_count": 4,
   "metadata": {},
   "outputs": [
    {
     "name": "stdout",
     "output_type": "stream",
     "text": [
      "c= [1.  2.1 3. ]\n",
      "float64\n",
      "d= [1 2 3]\n"
     ]
    }
   ],
   "source": [
    "c = np.array([1, 2.1, 3]) # standard upcast #cast: change the type\n",
    "print('c=', c)\n",
    "print(c.dtype)\n",
    "d = np.array([1, 2.6, 3], dtype='int') # fractional part is discarded\n",
    "print('d=', d)"
   ]
  },
  {
   "cell_type": "code",
   "execution_count": 5,
   "metadata": {},
   "outputs": [
    {
     "ename": "SyntaxError",
     "evalue": "invalid syntax (3765575891.py, line 1)",
     "output_type": "error",
     "traceback": [
      "\u001b[0;36m  Input \u001b[0;32mIn [5]\u001b[0;36m\u001b[0m\n\u001b[0;31m    a = [1 2 3] # unfortunately cannot make arrays like that\u001b[0m\n\u001b[0m           ^\u001b[0m\n\u001b[0;31mSyntaxError\u001b[0m\u001b[0;31m:\u001b[0m invalid syntax\n"
     ]
    }
   ],
   "source": [
    "a = [1 2 3] # unfortunately cannot make arrays like that"
   ]
  },
  {
   "cell_type": "code",
   "execution_count": 8,
   "metadata": {},
   "outputs": [
    {
     "name": "stdout",
     "output_type": "stream",
     "text": [
      "e = [                  0                  20                   0\n",
      "                   0 4613349223037927424 3761968254896189494\n",
      " 3833739095573553453 3258183018689147956 4135818719030425188\n",
      "     137586666594659]\n"
     ]
    }
   ],
   "source": [
    "e = np.empty(10, dtype='int') # get whatever is in the memory; no initiliazation cost\n",
    "print('e =', e) # for the hackers out there"
   ]
  },
  {
   "cell_type": "code",
   "execution_count": 13,
   "metadata": {},
   "outputs": [],
   "source": [
    "import numpy as np\n",
    "np.set_printoptions(precision=3) \n",
    "import matplotlib.pyplot as plt\n",
    "# generate random numbers\n",
    "# setting seed has pros and cons\n",
    "np.random.seed(20220926) # this is not a very random starting point"
   ]
  },
  {
   "cell_type": "code",
   "execution_count": 11,
   "metadata": {},
   "outputs": [
    {
     "name": "stdout",
     "output_type": "stream",
     "text": [
      "[0.686 0.347 0.972 0.133 0.237 0.084 0.441 0.571 0.264 0.681 0.563 0.21\n",
      " 0.926 0.527 0.346 0.914 0.717 0.439 0.013 0.864 0.513 0.675 0.215 0.251\n",
      " 0.622]\n",
      "[0.588 0.535 0.28  0.481 0.762 0.405 0.111 0.438 0.653 0.075 0.402 0.997\n",
      " 0.031 0.764 0.027 0.783 0.486 0.763 0.941 0.596 0.645 0.68  0.501 0.997\n",
      " 0.545]\n"
     ]
    }
   ],
   "source": [
    "# uniform random numbers between 0 and 1\n",
    "ra = np.random.random(25)\n",
    "print(ra)\n",
    "rb=np.random.random(25)\n",
    "print(rb)"
   ]
  },
  {
   "cell_type": "code",
   "execution_count": 14,
   "metadata": {},
   "outputs": [
    {
     "name": "stdout",
     "output_type": "stream",
     "text": [
      "[0.686 0.347 0.972 0.133 0.237 0.084 0.441 0.571 0.264 0.681 0.563 0.21\n",
      " 0.926 0.527 0.346 0.914 0.717 0.439 0.013 0.864 0.513 0.675 0.215 0.251\n",
      " 0.622]\n",
      "[0.588 0.535 0.28  0.481 0.762 0.405 0.111 0.438 0.653 0.075 0.402 0.997\n",
      " 0.031 0.764 0.027 0.783 0.486 0.763 0.941 0.596 0.645 0.68  0.501 0.997\n",
      " 0.545]\n"
     ]
    }
   ],
   "source": [
    "ra = np.random.random(25)\n",
    "print(ra)\n",
    "rb=np.random.random(25)\n",
    "print(rb)"
   ]
  },
  {
   "cell_type": "code",
   "execution_count": 15,
   "metadata": {},
   "outputs": [
    {
     "name": "stdout",
     "output_type": "stream",
     "text": [
      "[2.027 2.104 1.968 2.038 2.115 2.121 2.224 2.018 2.135 1.995]\n"
     ]
    }
   ],
   "source": [
    "nra = np.random.normal(2, 0.1, 10)\n",
    "print(nra)\n",
    "#plt.hist(nra)"
   ]
  },
  {
   "cell_type": "code",
   "execution_count": 16,
   "metadata": {},
   "outputs": [
    {
     "name": "stdout",
     "output_type": "stream",
     "text": [
      "[6 5 5 4 6 9 3 0 0 0 0 8 3 9 4 5 4 2 0 2 4 1 8 6 0]\n"
     ]
    }
   ],
   "source": [
    "# from, to, dimensions of array\n",
    "ri = np.random.randint(0, 10, 25) # last int not included\n",
    "print(ri)"
   ]
  },
  {
   "cell_type": "code",
   "execution_count": 17,
   "metadata": {},
   "outputs": [
    {
     "name": "stdout",
     "output_type": "stream",
     "text": [
      "[5 9 0 8 4]\n"
     ]
    }
   ],
   "source": [
    "# accessing elements start:stop:step\n",
    "print(ri[2:15:3])"
   ]
  },
  {
   "cell_type": "code",
   "execution_count": 18,
   "metadata": {},
   "outputs": [
    {
     "name": "stdout",
     "output_type": "stream",
     "text": [
      "[5 3 0 3 4]\n"
     ]
    }
   ],
   "source": [
    "# accessing elements\n",
    "print(ri[15:2:-3])"
   ]
  },
  {
   "cell_type": "code",
   "execution_count": 19,
   "metadata": {},
   "outputs": [
    {
     "data": {
      "text/plain": [
       "5"
      ]
     },
     "execution_count": 19,
     "metadata": {},
     "output_type": "execute_result"
    }
   ],
   "source": [
    "ri[15]"
   ]
  },
  {
   "cell_type": "code",
   "execution_count": 20,
   "metadata": {},
   "outputs": [
    {
     "name": "stdout",
     "output_type": "stream",
     "text": [
      "[5 0 4 4]\n"
     ]
    }
   ],
   "source": [
    "# accessing elements\n",
    "print(ri[2::6])"
   ]
  },
  {
   "cell_type": "code",
   "execution_count": 21,
   "metadata": {},
   "outputs": [
    {
     "name": "stdout",
     "output_type": "stream",
     "text": [
      "[0 6 8 1 4 2 0 2 4 5 4 9 3 8 0 0 0 0 3 9 6 4 5 5 6]\n"
     ]
    }
   ],
   "source": [
    "print(ri[::-1])"
   ]
  },
  {
   "cell_type": "code",
   "execution_count": 22,
   "metadata": {},
   "outputs": [
    {
     "data": {
      "text/plain": [
       "array([6, 5, 5, 4, 6, 9, 3, 0, 0, 0, 0, 8, 3, 9, 4, 5, 4, 2, 0, 2, 4, 1,\n",
       "       8, 6, 0])"
      ]
     },
     "execution_count": 22,
     "metadata": {},
     "output_type": "execute_result"
    }
   ],
   "source": [
    "ri[:]"
   ]
  },
  {
   "cell_type": "code",
   "execution_count": 23,
   "metadata": {},
   "outputs": [
    {
     "name": "stdout",
     "output_type": "stream",
     "text": [
      "[6 5 6 3 0 0 3 4 4 0 4 8 0]\n"
     ]
    }
   ],
   "source": [
    "riv = ri[::2] #change both arraies\n",
    "print(riv)"
   ]
  },
  {
   "cell_type": "code",
   "execution_count": 24,
   "metadata": {},
   "outputs": [
    {
     "name": "stdout",
     "output_type": "stream",
     "text": [
      "[100   5   5   4   6   9   3   0   0   0   0   8   3   9   4   5   4   2\n",
      "   0   2   4   1   8   6   0]\n",
      "[100   5   6   3   0   0   3   4   4   0   4   8   0]\n"
     ]
    }
   ],
   "source": [
    "# idea of views\n",
    "riv[0] = 100 #change both arries\n",
    "print(ri)\n",
    "print(riv)"
   ]
  },
  {
   "cell_type": "code",
   "execution_count": 25,
   "metadata": {},
   "outputs": [
    {
     "name": "stdout",
     "output_type": "stream",
     "text": [
      "[3131    6    8    1    4    2    0    2    4    5    4    9    3    8\n",
      "    0    0    0    0    3    9    6    4    5    5  100]\n",
      "[ 100    5    5    4    6    9    3    0    0    0    0    8    3    9\n",
      "    4    5    4    2    0    2    4    1    8    6 3131]\n",
      "[ 100    5    6    3    0    0    3    4    4    0    4    8 3131]\n"
     ]
    }
   ],
   "source": [
    "# more on views\n",
    "rri = ri[::-1]\n",
    "#print(id(ri), id(rri))\n",
    "rri[0] = 3131\n",
    "print(rri)\n",
    "print(ri)\n",
    "print(riv)"
   ]
  },
  {
   "cell_type": "code",
   "execution_count": 26,
   "metadata": {},
   "outputs": [
    {
     "name": "stdout",
     "output_type": "stream",
     "text": [
      "[  -1    5    5    4    6    9    3    0    0    0    0    8    3    9\n",
      "    4    5    4    2    0    2    4    1    8    6 3131]\n",
      "[ 100    5    5    4    6    9    3    0    0    0    0    8    3    9\n",
      "    4    5    4    2    0    2    4    1    8    6 3131]\n"
     ]
    }
   ],
   "source": [
    "cri = ri.copy() #use array.copy()to copy the array without changing the origin array\n",
    "cri[0] = -1\n",
    "print(cri)\n",
    "print(ri)"
   ]
  },
  {
   "cell_type": "code",
   "execution_count": 27,
   "metadata": {},
   "outputs": [
    {
     "name": "stdout",
     "output_type": "stream",
     "text": [
      "[8.829 5.227 9.714 7.644 4.247 1.867 3.491 4.784 1.193 5.296 4.875 4.978\n",
      " 4.819 0.105 9.639 0.792 0.935 4.627 1.749 0.337]\n"
     ]
    }
   ],
   "source": [
    "# using boolean expressions to select elements\n",
    "ar = np.random.random(20) * 10\n",
    "print(ar)"
   ]
  },
  {
   "cell_type": "code",
   "execution_count": 28,
   "metadata": {},
   "outputs": [
    {
     "name": "stdout",
     "output_type": "stream",
     "text": [
      "[ True  True  True  True False False False False False  True False False\n",
      " False False  True False False False False False]\n"
     ]
    }
   ],
   "source": [
    "print(ar>5)"
   ]
  },
  {
   "cell_type": "code",
   "execution_count": 29,
   "metadata": {},
   "outputs": [
    {
     "name": "stdout",
     "output_type": "stream",
     "text": [
      "[8.829 5.227 9.714 7.644 5.296 9.639]\n"
     ]
    }
   ],
   "source": [
    "print(ar[ar>5])"
   ]
  },
  {
   "cell_type": "code",
   "execution_count": 30,
   "metadata": {},
   "outputs": [
    {
     "data": {
      "text/plain": [
       "7.725004563783443"
      ]
     },
     "execution_count": 30,
     "metadata": {},
     "output_type": "execute_result"
    }
   ],
   "source": [
    "ar[ar>5].mean()"
   ]
  },
  {
   "cell_type": "code",
   "execution_count": null,
   "metadata": {},
   "outputs": [],
   "source": []
  }
 ],
 "metadata": {
  "kernelspec": {
   "display_name": "Python 3 (ipykernel)",
   "language": "python",
   "name": "python3"
  },
  "language_info": {
   "codemirror_mode": {
    "name": "ipython",
    "version": 3
   },
   "file_extension": ".py",
   "mimetype": "text/x-python",
   "name": "python",
   "nbconvert_exporter": "python",
   "pygments_lexer": "ipython3",
   "version": "3.9.12"
  }
 },
 "nbformat": 4,
 "nbformat_minor": 4
}
