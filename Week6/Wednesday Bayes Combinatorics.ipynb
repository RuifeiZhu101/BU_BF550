{
 "cells": [
  {
   "cell_type": "code",
   "execution_count": 2,
   "id": "e2d1feb7",
   "metadata": {},
   "outputs": [],
   "source": [
    "import numpy as np\n",
    "np.set_printoptions(precision=3)\n",
    "np.random.seed(20221110)\n",
    "import matplotlib.pyplot as plt\n",
    "import seaborn as sns\n",
    "#sns.set()"
   ]
  },
  {
   "cell_type": "markdown",
   "id": "17e7856c",
   "metadata": {},
   "source": [
    "# Bayes' theorem\n",
    "\n",
    "The theorem is extremelu helpful in answering questions of conditional probability:\n",
    "\n",
    "        1. I tested positive for COVID. The test is super accurate, like 99%. \n",
    "           It is extremely likely that I have COVID, right?  \n",
    "           \n",
    "        2. Should the public health services test rutinely the entire population for a rare disease? \n",
    "           The tests are extremely accurate, 99%. Should we treat the patients after one positive test? \n",
    "           Should we double check?\n",
    "           \n",
    "        3. A geologist studies a potential oil well. He believes that there is a chance of 65% that the \n",
    "           location contains oil. \n",
    "           The oil company obtains core samples, and the samples test positive for oil. The test is accurate 85% \n",
    "           of the time, when there really is oil to be found, but 6% of the time will test positive for oil, \n",
    "           even if there is no oil. \n",
    "           What are the chances that the well contains oil?\n",
    "        \n"
   ]
  },
  {
   "cell_type": "code",
   "execution_count": 5,
   "id": "edb3f2d0",
   "metadata": {},
   "outputs": [
    {
     "data": {
      "image/png": "[encoded data removed]",
      "text/plain": [
       "<Figure size 432x288 with 1 Axes>"
      ]
     },
     "metadata": {
      "needs_background": "light"
     },
     "output_type": "display_data"
    }
   ],
   "source": [
    "import matplotlib.image as mpimg\n",
    "fig=plt.imshow(mpimg.imread('bayes.png'))\n",
    "fig.axes.get_xaxis().set_visible(False)\n",
    "fig.axes.get_yaxis().set_visible(False)"
   ]
  },
  {
   "cell_type": "markdown",
   "id": "08c100c8",
   "metadata": {},
   "source": [
    "So $A$ is being sick, $Ac$ not being sick.\n",
    "\n",
    "$B$ is tested positive. The blue part are true positives, the green part are false positives. \n",
    "(Yellow are true negatives, and orange are false positives).\n",
    "\n",
    "We want to find the ratio of true positives to being sick. In other words, what is the probability to be in the blue region, if found in the blue or green region. \n",
    "\n",
    "First note that $P(B)=P(A\\ and\\ B)+P(Ac\\ and\\ B)$. \n",
    "\n",
    "Recall the formula for conditional probability $P(A\\ and\\ B)=P(B|A)P(A)$. So we have:\n",
    "\n",
    "$P(B)=P(B|A)P(A)+P(B|Ac)P(Ac)$\n",
    "\n",
    "What we want to find is, if thested positive, i.e. if $B$, what is the probability of being sick, i.e. $P(A|B)$.\n",
    "\n",
    "From the formula for conditional probability:\n",
    "\n",
    "$P(A\\ and\\ B)=P(B|A)P(A)$\n",
    "\n",
    "and\n",
    "\n",
    "$P(A\\ and\\ B)=P(A|B)P(B)$\n",
    "\n",
    "Put them together:\n",
    "\n",
    "$P(A|B)P(B)=P(B|A)P(A)$\n",
    "\n",
    "So we have:\n",
    "\n",
    "$P(A|B)=\\frac{P(B|A)P(A)}{P(B)}$\n",
    "\n",
    "The infamous $\\bf{Bayes' theorem}$. Here $P(A)$ is the $\\bf{prior}$ probability that the tested patient is sick. This is the probability (or belief if you will) that the patient is sick before we did any testing. Now we have evidence $B$, with the $\\bf{marginal}$ probability $P(B)$ of a positive test, and the $\\bf{likelyhood}$ that the test is accurate $P(B|A)$. \n",
    "\n",
    "$P(A|B)$ is the $\\bf{posterior}$ probability the the patient is sick. We have to correct our belief after we obtained some evidence. Not 100% conclusive evidence (there is no such thing), only some evidence. \n",
    "\n",
    "We can also write (better for calculations):\n",
    "\n",
    "$P(A|B)=\\frac{P(B|A)P(A)}{P(B|A)P(A)+P(B|Ac)P(Ac)}$\n",
    "\n"
   ]
  },
  {
   "cell_type": "code",
   "execution_count": 14,
   "id": "fc85fae1",
   "metadata": {},
   "outputs": [
    {
     "name": "stdout",
     "output_type": "stream",
     "text": [
      "The posterior, i.e. the probability to be sick if tested positive is  0.161\n",
      "The prior, i.e. the probability to be sick, before tested is  0.01\n"
     ]
    }
   ],
   "source": [
    "#Examples\n",
    "#Let's do the COVID test first.\n",
    "Test_PosIfSick=0.95 #This is the likelyhood P(B|A) of a true positive\n",
    "Test_NegIfNot=0.95  #This is the likelyhood of a true negative\n",
    "Sick=0.01           #This is the prior P(A)\n",
    "NonSick=1-Sick      #This is P(Ac)=1-P(A)\n",
    "\n",
    "SickIfPos=(Test_PosIfSick*Sick)/(Test_PosIfSick*Sick+(1-Test_NegIfNot)*NonSick)\n",
    "print(\"The posterior, i.e. the probability to be sick if tested positive is \",round(SickIfPos,3))\n",
    "print(\"The prior, i.e. the probability to be sick, before tested is \",Sick)"
   ]
  },
  {
   "cell_type": "code",
   "execution_count": 16,
   "id": "6150f9d8",
   "metadata": {},
   "outputs": [
    {
     "name": "stdout",
     "output_type": "stream",
     "text": [
      "The posterior, i.e. the probability to be sick if tested positive is  0.5\n"
     ]
    }
   ],
   "source": [
    "#Examples\n",
    "#Let's do the COVID test first.\n",
    "Test_PosIfSick=0.99 #This is the likelyhood P(B|A) of a true positive\n",
    "Test_NegIfNot=0.99  #This is the likelyhood of a true negative\n",
    "Sick=0.01            #This is the prior P(A)\n",
    "NonSick=1-Sick      #This is P(Ac)=1-P(A)\n",
    "\n",
    "SickIfPos=(Test_PosIfSick*Sick)/(Test_PosIfSick*Sick+(1-Test_NegIfNot)*NonSick)\n",
    "print(\"The posterior, i.e. the probability to be sick if tested positive is \",round(SickIfPos,3))\n",
    "#print(\"The prior, i.e. the probability to be sick, before tested is \",Sick)"
   ]
  },
  {
   "cell_type": "markdown",
   "id": "c7f6e2e1",
   "metadata": {},
   "source": [
    "With an extremely accurate test, the result is pretty much a coin toss. Why?"
   ]
  },
  {
   "cell_type": "code",
   "execution_count": 33,
   "id": "9f54c9ad",
   "metadata": {},
   "outputs": [
    {
     "name": "stdout",
     "output_type": "stream",
     "text": [
      "The posterior, i.e. the probability to be sick if tested positive is  1.0\n",
      "The prior, i.e. the probability to be sick, before tested is  0.01\n"
     ]
    }
   ],
   "source": [
    "#Let's change the prior\n",
    "Test_PosIfSick=0.99 #This is the likelyhood P(B|A) of a true positive\n",
    "Test_NegIfNot=0.99  #This is the likelyhood of a true negative\n",
    "Sick=0.01          #This is the prior P(A)\n",
    "NonSick=1-Sick     #This is P(Ac)=1-P(A)\n",
    "\n",
    "SickIfPos=(Test_PosIfSick*Sick)/(Test_PosIfSick*Sick+(1-Test_NegIfNot)*NonSick)\n",
    "print(\"The posterior, i.e. the probability to be sick if tested positive is \",round(SickIfPos,3))\n",
    "print(\"The prior, i.e. the probability to be sick, before tested is \",Sick)"
   ]
  },
  {
   "cell_type": "markdown",
   "id": "28a5d80f",
   "metadata": {},
   "source": [
    "Here's the dilema, would you test routinely for an extremely rare disease?\n",
    "\n",
    "Would you start treatment after one (very accurate) test? Or ask for another one. Do you understand the role of second oppinion?\n",
    "\n",
    "We started with a prior of 1%. Did a test, modified the belief to 50%. Coin toss. \n",
    "\n",
    "Now 50% is our prior. Did another test, if positive, the posterior now is 99%. Better start a treatment.\n",
    "\n",
    "Even with the best experimental equipment possible, when measuring for a rare phenomena, repeat the experiment (many times). "
   ]
  },
  {
   "cell_type": "markdown",
   "id": "266443f2",
   "metadata": {},
   "source": [
    "# Combinatorics\n",
    "\n",
    "Let's play with calculating some probabilities from scratch.\n",
    "\n",
    "## Permutations\n",
    "\n",
    "If we have several (say N) distinct elements, the permutations are all possible \n",
    "orderings of all of the N elements.\n",
    "\n",
    "Example: \n",
    "\n",
    "ABC can be permuted:\n",
    "\n",
    "ABC\n",
    "ACB\n",
    "BAC\n",
    "BCA\n",
    "CAB\n",
    "CBA\n",
    "\n",
    "If we take them in randomized order, what is the probability to get one of the pemutations?\n",
    "They are all equaly probable, so:\n",
    "\n",
    "$P(BAC)=\\frac{1}{n_{p(N)}}$\n",
    "\n",
    "where $n_{p(N)}$ is the number of all permutations of $N$ elements, $p(N)$. \n",
    "\n",
    "We formed all of the 3 elements permutations above by setting the first element fixed, \n",
    "then permuting the rest $N-1$ elements. \n",
    "\n",
    "$n_{p(N)}=N*n_{p(N-1)}$\n",
    "\n",
    "Do you remember this recursive formula?\n",
    "\n",
    "$n_{p(N)}=N!$ \n",
    "\n",
    "Factorial.\n",
    "\n",
    "So $P(BAC)=\\frac{1}{3!}=\\frac{1}{3*2*1}=\\frac{1}{6}$\n",
    "\n",
    "## Partial permutations, variations\n",
    "\n",
    "From $N$ elements, take $K$ at random.\n",
    "\n",
    "Example: ABCD\n",
    "\n",
    "Take only two:\n",
    "\n",
    "AB\n",
    "AC\n",
    "AD\n",
    "BA\n",
    "BC\n",
    "BD\n",
    "CA\n",
    "CB\n",
    "CD\n",
    "DA\n",
    "DB\n",
    "DC\n",
    "\n",
    "So we have the number of permutations, but divided by the number of permutations of the missing elements.\n",
    "\n",
    "$nPk=\\frac{n!}{(n-k)!}$\n",
    "\n",
    "## Combinations\n",
    "\n",
    "What if the order of the elements is not important?\n",
    "\n",
    "AB=BA, AC=CA etc.\n",
    "\n",
    "AB\n",
    "AC \n",
    "AD\n",
    "BC\n",
    "BD\n",
    "CD\n",
    "\n",
    "So, we need to reduce the number of $k$ taken out of $n$ elements, by the number of permutations of $k$ elements.\n",
    "\n",
    "$C_{n,k}=\\frac{n!}{(n-k)!k!}$\n",
    "\n",
    "This is the binomial formula. \n",
    "\n",
    "Recall:\n",
    "\n",
    "$(a+b)^n=\\Sigma_{k=0}^{n}\\binom{n}{k}a^kb^{n-k}$\n"
   ]
  }
 ],
 "metadata": {
  "kernelspec": {
   "display_name": "Python 3 (ipykernel)",
   "language": "python",
   "name": "python3"
  },
  "language_info": {
   "codemirror_mode": {
    "name": "ipython",
    "version": 3
   },
   "file_extension": ".py",
   "mimetype": "text/x-python",
   "name": "python",
   "nbconvert_exporter": "python",
   "pygments_lexer": "ipython3",
   "version": "3.9.12"
  }
 },
 "nbformat": 4,
 "nbformat_minor": 5
}
