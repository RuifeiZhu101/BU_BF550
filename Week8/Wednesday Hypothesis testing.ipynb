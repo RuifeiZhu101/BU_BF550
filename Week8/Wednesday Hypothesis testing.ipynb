{
 "cells": [
  {
   "cell_type": "code",
   "execution_count": 1,
   "id": "8f13ca67",
   "metadata": {},
   "outputs": [],
   "source": [
    "import numpy as np\n",
    "np.random.seed(20221110)\n",
    "import matplotlib.pyplot as plt\n",
    "import seaborn as sns\n",
    "sns.set()\n",
    "import scipy.stats as stats"
   ]
  },
  {
   "cell_type": "markdown",
   "id": "ac18212f",
   "metadata": {},
   "source": [
    "# Hypothesis testing\n",
    "\n",
    "Example: \n",
    "\n",
    "Clinical study of a drug. We have two groups:\n",
    "\n",
    "1. Patients with administered drug, i.e. with a treatment.\n",
    "2. Control group, received a placebo.\n",
    "\n",
    "Let's say that 39% of the first group recovered, and 30% of the second group recovered.\n",
    "\n",
    "The question is:\n",
    "\n",
    "Is the drug working?"
   ]
  },
  {
   "cell_type": "markdown",
   "id": "35c27320",
   "metadata": {},
   "source": [
    "In other words, is the results obtained by chance? \n",
    "\n",
    "What if we did the same test many times. Extremely many times. \n",
    "\n",
    "Would the results show that there is nodifference bewteen the groups, or not?\n",
    "\n",
    "Key question:\n",
    "\n",
    "### What is the probability that the drug has no effect at all, and we obtained the result by chance?\n",
    "\n",
    "## This probability is called p-value.\n"
   ]
  },
  {
   "cell_type": "markdown",
   "id": "7e94bbf4",
   "metadata": {},
   "source": [
    "# Hypothesis\n",
    "\n",
    "### Null hypothesis \n",
    "\n",
    "#### $H_0$: There is no effect at all (the drug has no effect)\n",
    "\n",
    "\n",
    "### Alternative hypothesis \n",
    "\n",
    "#### $H_1$: There IS effect (the drug cures)\n",
    "\n",
    "Types of tests:\n",
    "\n",
    "1. Left tailed: $H_1$ states a value of a parameter less than the one stated by $H_0$.\n",
    "2. Right tailed: $H_1$ states a value of a parameter greater than the one stated by $H_0$.\n",
    "3. Two-tailed: $H_1$ states a value of a parameter different (either less or greater) than the one stated by $H_0$.\n",
    "\n",
    "\n",
    "Just like the example above, most medical studies look for recovery rates in a treated group higher than in the control."
   ]
  },
  {
   "cell_type": "markdown",
   "id": "8b65de1c",
   "metadata": {},
   "source": [
    "##### Example:\n",
    "\n",
    "A dog owner thinks that something is wrong with his dog. \n",
    "Takes the dog to the vet, and the doctor says we need to monitor the dog's heart rate. \n",
    "\n",
    "They do exactly that for 6 weeks. Each week, they go to the doctor and measure the heart rate.\n",
    "\n",
    "Here are the results in beats per minute:\n",
    "\n",
    "|week|1|2|3|4|5|6|\n",
    "|-|-|-|-|-|-|-|\n",
    "|HR|93|109|110|89|112|117|\n"
   ]
  },
  {
   "cell_type": "code",
   "execution_count": 4,
   "id": "2381fa3a",
   "metadata": {},
   "outputs": [
    {
     "name": "stdout",
     "output_type": "stream",
     "text": [
      "The mean heart rate is 105.0\n"
     ]
    }
   ],
   "source": [
    "data=[93,109,110,89,112,117]\n",
    "#Let's find the mean heart rate\n",
    "x_bar=np.mean(data)\n",
    "print(\"The mean heart rate is\",x_bar)"
   ]
  },
  {
   "cell_type": "markdown",
   "id": "c98b718e",
   "metadata": {},
   "source": [
    "### Is this a good heart rate for a dog or not?\n",
    "\n",
    "The vet opens up a large book, The manual of veterinary medicine and reads that the average dog heart rate (of a healthy dog) is:\n",
    "\n",
    "$\\mu=115$ beats per minute \n",
    "\n",
    "with the standard deviation of:\n",
    "\n",
    "$\\sigma=12$ beats per minute.\n",
    "\n",
    "(Note that in this case we know the parameters of the population. What distribution do you anticipate we could use for our test of confidence?)\n",
    "\n",
    "#### So, is our dog's heart rate slowed down, or not? \n",
    "\n",
    "#### Or, what is the probability that we got this result at random from the healty dogs' distribution?\n",
    "\n",
    "The zero hypothesis says that the dog is healthy and the distribution of his heart rates is with the parameters above.\n",
    "\n",
    "Let's caluclate the probability to get a heart rate of 105 or lower in this distribution.\n",
    "\n",
    "The z-score in this case is:\n",
    "\n",
    "$z=\\frac{\\bar{x}-\\mu}{\\frac{\\sigma}{\\sqrt{n}}}=\\frac{105-115}{\\frac{12}{\\sqrt{6}}}$\n"
   ]
  },
  {
   "cell_type": "code",
   "execution_count": 15,
   "id": "ccbc86ad",
   "metadata": {},
   "outputs": [
    {
     "name": "stdout",
     "output_type": "stream",
     "text": [
      "The z-score is -2.0412414523193148\n"
     ]
    }
   ],
   "source": [
    "n=6\n",
    "x_bar=105\n",
    "mu=115\n",
    "sigma=12\n",
    "\n",
    "z=(105-115)/(12/np.sqrt(6))\n",
    "print(\"The z-score is\",z)"
   ]
  },
  {
   "cell_type": "markdown",
   "id": "3b9b6fc6",
   "metadata": {},
   "source": [
    "What is the probability that we got this result at random? From the distribution of healthy dogs?"
   ]
  },
  {
   "cell_type": "code",
   "execution_count": 16,
   "id": "8a1cff12",
   "metadata": {},
   "outputs": [
    {
     "data": {
      "image/png": "[encoded data removed]",
      "text/plain": [
       "<Figure size 432x288 with 1 Axes>"
      ]
     },
     "metadata": {},
     "output_type": "display_data"
    },
    {
     "name": "stdout",
     "output_type": "stream",
     "text": [
      "The p-value is, P(z<-2.04)= 0.02061341666858185\n"
     ]
    }
   ],
   "source": [
    "#Let's find the probability of x<x_bar\n",
    "#In other words calculate the integral:\n",
    "x=np.linspace(-4,4,1000)\n",
    "std_normal_pdf=stats.norm.pdf(x)\n",
    "\n",
    "fig=plt.plot(x,std_normal_pdf)\n",
    "plt.xlabel(\"z\")\n",
    "plt.ylabel(\"f(z)\")\n",
    "\n",
    "t = np.arange(-4,4,1/40)\n",
    "plt.fill_between(\n",
    "        x= x, \n",
    "        y1= std_normal_pdf, \n",
    "        where= (-4 < x)&(x < z),\n",
    "        color= \"b\",\n",
    "        alpha= 0.2)\n",
    "        \n",
    "\n",
    "plt.text(-4,0.1,r'The shaded area is')\n",
    "plt.text(-4,0.08,r'the p-value')\n",
    "plt.text(-2.2,-0.02,'z=-2.04')\n",
    "\n",
    "\n",
    "plt.show()\n",
    "\n",
    "print('The p-value is, P(z<-2.04)=',stats.norm.cdf(z))"
   ]
  },
  {
   "cell_type": "markdown",
   "id": "1638d0c5",
   "metadata": {},
   "source": [
    "So the probability that the dog is healthy is 2%.\n",
    "\n",
    "Is this good?\n",
    "\n",
    "What do you think? Should we worry about the dog, or not? "
   ]
  },
  {
   "cell_type": "markdown",
   "id": "2271b92a",
   "metadata": {},
   "source": [
    "In other words, if $H_0$ is true, this is the probability that we got the results from a sample of a population of healthy dogs.\n",
    "\n",
    "To decide if you will accept $H_0$, i.e. say that the dog is healthy, you need to decide before the test, what is your criterium for that decisiton.\n",
    "\n",
    "The smaller the p-value, the greater is the probability the your zero hypothesis is not correct.\n",
    "\n",
    "In biology we typically reject $H_0$ is the p-value is smaller than 5%. \n",
    "\n",
    "The right way to do this, to decide on a p-value threshold before the experiment.\n",
    "\n",
    "This p-value criterium set before the experiment is: \n",
    "\n",
    "### Level of significance $\\alpha$\n",
    "\n",
    "\n",
    "The level of significance is the probability to reject $H_0$, when $H_0$ is true. \n",
    "\n",
    "This is one possible mistake (error) one can make.\n",
    "\n",
    "#### Types of errors:\n",
    "\n",
    "\n",
    "|$H_0$|    Don't reject $H_0$| Reject $H_0$| \n",
    "|-|-|-|\n",
    "|$H_0$ is True|No Error|Type I Error|\n",
    "|$H_0$ is False|Type II Error| No Error|\n",
    "\n",
    "\n",
    "In terms of probabilities:\n",
    "\n",
    "|$H_0$|    Don't reject $H_0$| Reject $H_0$| \n",
    "|-|-|-|\n",
    "|$H_0$ is True|$1-\\alpha$|$\\alpha$|\n",
    "|$H_0$ is False|$\\beta$| $1-\\beta$|\n",
    "\n",
    "Why is the probability of Type II error not related to $\\alpha$?\n",
    "\n",
    "\n",
    "Because it is coming from a different distribution, not the one of $H_0$. \n",
    "\n",
    "In other words, $\\beta$ is the probability to get the result of our experiment, but for the correct distribution where our sample comes from, not the one assumed by $H_0$."
   ]
  },
  {
   "cell_type": "code",
   "execution_count": 49,
   "id": "9500ad62",
   "metadata": {},
   "outputs": [
    {
     "data": {
      "image/png": "[encoded data removed]",
      "text/plain": [
       "<Figure size 432x288 with 1 Axes>"
      ]
     },
     "metadata": {},
     "output_type": "display_data"
    }
   ],
   "source": [
    "#Example\n",
    "#H_0: The sample comes from a normal distribution with sigma=1 and x_bar=1\n",
    "#H_1: The sample comes from a normal distribution with sigma=2 and x_bar=4\n",
    "\n",
    "x=np.linspace(-4,10,1000)\n",
    "\n",
    "H_0=stats.norm.pdf(x,loc=1,scale=1)\n",
    "\n",
    "fig=plt.plot(x,H_0)\n",
    "plt.xlabel(\"x\")\n",
    "plt.ylabel(\"f(x)\")\n",
    "\n",
    "X_bar=2.8\n",
    "\n",
    "plt.fill_between(\n",
    "        x= x, \n",
    "        y1= H_0, \n",
    "        where= (X_bar < x)&(x < 4),\n",
    "        color= \"b\",\n",
    "        alpha= 0.2)\n",
    "\n",
    "H_1=stats.norm.pdf(x,loc=4,scale=2)\n",
    "\n",
    "plt.plot(x,H_1)\n",
    "\n",
    "plt.fill_between(\n",
    "        x= x, \n",
    "        y1= H_1, \n",
    "        where= (-4 < x)&(x < X_bar),\n",
    "        color= \"r\",\n",
    "        alpha= 0.2)\n",
    "        \n",
    "\n",
    "plt.text(-0.5,0.35,r'$H_0$')\n",
    "plt.text(5.7,0.15,r'$H_1$')\n",
    "plt.text(2.7,-0.03,r'$\\bar{x}$')\n",
    "plt.text(1.8,0.05,r'$\\beta$')\n",
    "plt.text(3.1,0.001,r'$\\alpha$')\n",
    "\n",
    "plt.show()\n"
   ]
  },
  {
   "cell_type": "markdown",
   "id": "06835abf",
   "metadata": {},
   "source": [
    "|$H_0$|    Don't reject $H_0$| Reject $H_0$| \n",
    "|-|-|-|\n",
    "|$H_0$ is True|$1-\\alpha$|$\\alpha$|\n",
    "|$H_0$ is False|$\\beta$| $1-\\beta$|\n"
   ]
  },
  {
   "cell_type": "markdown",
   "id": "ffcb093d",
   "metadata": {},
   "source": [
    "#### Procedure for hypothesis testing:\n",
    "\n",
    "1. Set your level of significance $\\alpha$. \n",
    "2. Calculate the p-value.\n",
    "3. If the p-value is smaller or equal to $\\alpha$, reject $H_0$. The data are statistically significant, at the level of $\\alpha$. "
   ]
  },
  {
   "cell_type": "markdown",
   "id": "8f04dcdc",
   "metadata": {},
   "source": [
    "### How do we find the p-value\n",
    "\n",
    "1. Statistical z or t-test. This is OK, but you need to make assumptions about the population. Need large samples $n>30$ if you know nothing about the population.\n",
    "2. Bootsrapping. Good if you have outliers. OK if the sample is a good representative of the population. Can create fake results.\n",
    "3. Fisher exact test. Excellent, but computationally costly. These days that's not a problem."
   ]
  }
 ],
 "metadata": {
  "kernelspec": {
   "display_name": "Python 3 (ipykernel)",
   "language": "python",
   "name": "python3"
  },
  "language_info": {
   "codemirror_mode": {
    "name": "ipython",
    "version": 3
   },
   "file_extension": ".py",
   "mimetype": "text/x-python",
   "name": "python",
   "nbconvert_exporter": "python",
   "pygments_lexer": "ipython3",
   "version": "3.9.12"
  }
 },
 "nbformat": 4,
 "nbformat_minor": 5
}
