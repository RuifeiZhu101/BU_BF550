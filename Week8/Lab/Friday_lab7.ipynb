{
 "cells": [
  {
   "cell_type": "markdown",
   "id": "6e985f58-c2a6-4215-9749-341884cbc0db",
   "metadata": {
    "id": "6e985f58-c2a6-4215-9749-341884cbc0db"
   },
   "source": [
    "# Lab 7 BF550"
   ]
  },
  {
   "cell_type": "markdown",
   "id": "f3996e63-6b5e-4ed1-b2d0-aaab7089560c",
   "metadata": {
    "id": "f3996e63-6b5e-4ed1-b2d0-aaab7089560c"
   },
   "source": [
    "We will be using data from a paper on biofilm formation on [diatoms](https://en.wikipedia.org/wiki/Thalassiosira_pseudonana).\n",
    "\n",
    "Marine diatoms are a proxy for the effects of climate change on the oceans as they are [sensitive to changes](https://www.nature.com/articles/s41558-019-0557-y). They are also a foundation of the oceans food web. Therefore, understanding how diatoms adapt to increased ocean temperatures and acidification is imperitive to predict climate change's future effects.\n",
    "\n",
    "Diatoms also have a resident microbiota of bacteria, which may confer protections and vital nutrients that help with adaptations under duress. The paper we will be studying has carried out a 400-generation selection for bacterial biofilm formation on the diatoms in several conditions. Using their data, we will rediscover several properties about how diatoms and biofilms react to stressors.\n",
    "\n",
    "Paper: https://aslopubs.onlinelibrary.wiley.com/doi/10.1002/lno.11050\n",
    "\n",
    "Datasets: https://zenodo.org/record/1438977"
   ]
  },
  {
   "cell_type": "code",
   "execution_count": 37,
   "id": "ff2bde90-5f62-4caf-8537-9e27b6a38867",
   "metadata": {
    "id": "ff2bde90-5f62-4caf-8537-9e27b6a38867"
   },
   "outputs": [],
   "source": [
    "import pandas as pd\n",
    "import numpy as np\n",
    "np.set_printoptions(precision=3)\n",
    "import matplotlib.pyplot as plt\n",
    "import seaborn as sns\n",
    "sns.set()\n",
    "import scipy.stats as stats"
   ]
  },
  {
   "cell_type": "code",
   "execution_count": 38,
   "id": "62309cf0-bb54-4d9c-b355-f277650644af",
   "metadata": {
    "colab": {
     "base_uri": "https://localhost:8080/",
     "height": 363
    },
    "id": "62309cf0-bb54-4d9c-b355-f277650644af",
    "outputId": "091fac1c-85bf-4397-9804-18d54ee3a734"
   },
   "outputs": [
    {
     "name": "stdout",
     "output_type": "stream",
     "text": [
      "905\n"
     ]
    },
    {
     "data": {
      "text/html": [
       "<div>\n",
       "<style scoped>\n",
       "    .dataframe tbody tr th:only-of-type {\n",
       "        vertical-align: middle;\n",
       "    }\n",
       "\n",
       "    .dataframe tbody tr th {\n",
       "        vertical-align: top;\n",
       "    }\n",
       "\n",
       "    .dataframe thead th {\n",
       "        text-align: right;\n",
       "    }\n",
       "</style>\n",
       "<table border=\"1\" class=\"dataframe\">\n",
       "  <thead>\n",
       "    <tr style=\"text-align: right;\">\n",
       "      <th></th>\n",
       "      <th>cell_number</th>\n",
       "      <th>average_cell_size</th>\n",
       "      <th>pct_coverslip_covered</th>\n",
       "      <th>date</th>\n",
       "      <th>selection_temperature</th>\n",
       "      <th>nutrient_level</th>\n",
       "      <th>week</th>\n",
       "      <th>biofilm_formation_rate</th>\n",
       "      <th>evoplas</th>\n",
       "      <th>assay_temperature</th>\n",
       "    </tr>\n",
       "  </thead>\n",
       "  <tbody>\n",
       "    <tr>\n",
       "      <th>0</th>\n",
       "      <td>2641.0</td>\n",
       "      <td>0.007</td>\n",
       "      <td>15.780</td>\n",
       "      <td>30/04/2015</td>\n",
       "      <td>FS</td>\n",
       "      <td>n+</td>\n",
       "      <td>2</td>\n",
       "      <td>1.020919</td>\n",
       "      <td>evo</td>\n",
       "      <td>FS</td>\n",
       "    </tr>\n",
       "    <tr>\n",
       "      <th>1</th>\n",
       "      <td>3217.0</td>\n",
       "      <td>98.562</td>\n",
       "      <td>10.079</td>\n",
       "      <td>14/05/2015</td>\n",
       "      <td>22</td>\n",
       "      <td>n-</td>\n",
       "      <td>4</td>\n",
       "      <td>0.652081</td>\n",
       "      <td>evo</td>\n",
       "      <td>22</td>\n",
       "    </tr>\n",
       "    <tr>\n",
       "      <th>2</th>\n",
       "      <td>1191.0</td>\n",
       "      <td>91.013</td>\n",
       "      <td>33.446</td>\n",
       "      <td>14/05/2015</td>\n",
       "      <td>22</td>\n",
       "      <td>n-</td>\n",
       "      <td>4</td>\n",
       "      <td>2.163856</td>\n",
       "      <td>evo</td>\n",
       "      <td>22</td>\n",
       "    </tr>\n",
       "    <tr>\n",
       "      <th>3</th>\n",
       "      <td>1076.0</td>\n",
       "      <td>97.420</td>\n",
       "      <td>33.332</td>\n",
       "      <td>14/05/2015</td>\n",
       "      <td>22</td>\n",
       "      <td>n-</td>\n",
       "      <td>4</td>\n",
       "      <td>2.156480</td>\n",
       "      <td>evo</td>\n",
       "      <td>22</td>\n",
       "    </tr>\n",
       "    <tr>\n",
       "      <th>4</th>\n",
       "      <td>5641.0</td>\n",
       "      <td>0.004</td>\n",
       "      <td>66.578</td>\n",
       "      <td>06/08/2015</td>\n",
       "      <td>22</td>\n",
       "      <td>n-</td>\n",
       "      <td>18</td>\n",
       "      <td>2.598774</td>\n",
       "      <td>evo</td>\n",
       "      <td>22</td>\n",
       "    </tr>\n",
       "  </tbody>\n",
       "</table>\n",
       "</div>"
      ],
      "text/plain": [
       "   cell_number  average_cell_size  pct_coverslip_covered        date  \\\n",
       "0       2641.0              0.007                 15.780  30/04/2015   \n",
       "1       3217.0             98.562                 10.079  14/05/2015   \n",
       "2       1191.0             91.013                 33.446  14/05/2015   \n",
       "3       1076.0             97.420                 33.332  14/05/2015   \n",
       "4       5641.0              0.004                 66.578  06/08/2015   \n",
       "\n",
       "  selection_temperature nutrient_level  week  biofilm_formation_rate evoplas  \\\n",
       "0                    FS             n+     2                1.020919     evo   \n",
       "1                    22             n-     4                0.652081     evo   \n",
       "2                    22             n-     4                2.163856     evo   \n",
       "3                    22             n-     4                2.156480     evo   \n",
       "4                    22             n-    18                2.598774     evo   \n",
       "\n",
       "  assay_temperature  \n",
       "0                FS  \n",
       "1                22  \n",
       "2                22  \n",
       "3                22  \n",
       "4                22  "
      ]
     },
     "execution_count": 38,
     "metadata": {},
     "output_type": "execute_result"
    }
   ],
   "source": [
    "# load the dataset\n",
    "columns = [\"cell_number\", \"average_cell_size\", \"pct_coverslip_covered\", \"date\", # let's change the column names to something more informative\n",
    "           \"selection_temperature\", \"nutrient_level\", \"week\", \"biofilm_formation_rate\", \"evoplas\", \"assay_temperature\"]\n",
    "df1 = pd.read_csv('20180930_biofilm_trajectories.csv', names=columns, header=0)\n",
    "print(len(df1))\n",
    "df1.head()"
   ]
  },
  {
   "cell_type": "markdown",
   "id": "f5d9718a-42dd-4e5f-9926-a3d380f69474",
   "metadata": {
    "id": "f5d9718a-42dd-4e5f-9926-a3d380f69474"
   },
   "source": [
    "# Problem 1: Central Limit Theorum\n",
    "1. Subset the DataFrame to contain only weeks 26 and later. We will be treating samples from the same nutrient_level and selection_temperature as independent samples. \n",
    "2. Plot the 'pct_coverslip_covered' histogram for the samples with the following characteristics:\n",
    "\n",
    "|Variable|Value|\n",
    "|-|-|\n",
    "|selection_temperature|26|\n",
    "|nutrient_level|n-|\n",
    "\n",
    "3. Print the mean and standard deviation of the population.\n",
    "\n",
    "4. Illustrate the central limit theorum. Sample the above population 10, 100, and 1000 times using a sample size of 10. Plot the histogram of the means of each of these trials.\n",
    "\n",
    "5. Print the mean and standard deviation of the 1000 trial case. What is the relationship between this standard deviation and that from part 3?\n",
    "\n",
    "**Challenge:**\n",
    "    \n",
    "Using the paper and the descriptions on the data repository linked above, try to determine how we could further subset the data to make it more normal. Put another way: how are we including data that may muddy the analysis? Plot the histogram of this subset. "
   ]
  },
  {
   "cell_type": "code",
   "execution_count": 42,
   "id": "3b5edc1e-a80d-4a1d-9ef7-f536402981f0",
   "metadata": {
    "id": "3b5edc1e-a80d-4a1d-9ef7-f536402981f0",
    "outputId": "5ef6e420-adba-4d99-b59b-1a49cbbfb532"
   },
   "outputs": [
    {
     "name": "stdout",
     "output_type": "stream",
     "text": [
      "Length of df with weeks >= 26::  422\n"
     ]
    },
    {
     "data": {
      "text/html": [
       "<div>\n",
       "<style scoped>\n",
       "    .dataframe tbody tr th:only-of-type {\n",
       "        vertical-align: middle;\n",
       "    }\n",
       "\n",
       "    .dataframe tbody tr th {\n",
       "        vertical-align: top;\n",
       "    }\n",
       "\n",
       "    .dataframe thead th {\n",
       "        text-align: right;\n",
       "    }\n",
       "</style>\n",
       "<table border=\"1\" class=\"dataframe\">\n",
       "  <thead>\n",
       "    <tr style=\"text-align: right;\">\n",
       "      <th></th>\n",
       "      <th>cell_number</th>\n",
       "      <th>average_cell_size</th>\n",
       "      <th>pct_coverslip_covered</th>\n",
       "      <th>date</th>\n",
       "      <th>selection_temperature</th>\n",
       "      <th>nutrient_level</th>\n",
       "      <th>week</th>\n",
       "      <th>biofilm_formation_rate</th>\n",
       "      <th>evoplas</th>\n",
       "      <th>assay_temperature</th>\n",
       "    </tr>\n",
       "  </thead>\n",
       "  <tbody>\n",
       "    <tr>\n",
       "      <th>483</th>\n",
       "      <td>0.0</td>\n",
       "      <td>0.0</td>\n",
       "      <td>84.287630</td>\n",
       "      <td>18/09/2015</td>\n",
       "      <td>22</td>\n",
       "      <td>n-</td>\n",
       "      <td>26</td>\n",
       "      <td>0.0</td>\n",
       "      <td>evo</td>\n",
       "      <td>22</td>\n",
       "    </tr>\n",
       "    <tr>\n",
       "      <th>484</th>\n",
       "      <td>0.0</td>\n",
       "      <td>0.0</td>\n",
       "      <td>88.666910</td>\n",
       "      <td>18/09/2015</td>\n",
       "      <td>22</td>\n",
       "      <td>n+</td>\n",
       "      <td>26</td>\n",
       "      <td>0.0</td>\n",
       "      <td>evo</td>\n",
       "      <td>22</td>\n",
       "    </tr>\n",
       "    <tr>\n",
       "      <th>485</th>\n",
       "      <td>0.0</td>\n",
       "      <td>0.0</td>\n",
       "      <td>94.557968</td>\n",
       "      <td>18/09/2015</td>\n",
       "      <td>22</td>\n",
       "      <td>n+</td>\n",
       "      <td>26</td>\n",
       "      <td>0.0</td>\n",
       "      <td>evo</td>\n",
       "      <td>22</td>\n",
       "    </tr>\n",
       "    <tr>\n",
       "      <th>486</th>\n",
       "      <td>0.0</td>\n",
       "      <td>0.0</td>\n",
       "      <td>87.960550</td>\n",
       "      <td>30/09/2015</td>\n",
       "      <td>22</td>\n",
       "      <td>n+</td>\n",
       "      <td>26</td>\n",
       "      <td>0.0</td>\n",
       "      <td>evo</td>\n",
       "      <td>22</td>\n",
       "    </tr>\n",
       "    <tr>\n",
       "      <th>487</th>\n",
       "      <td>0.0</td>\n",
       "      <td>0.0</td>\n",
       "      <td>76.398457</td>\n",
       "      <td>30/09/2015</td>\n",
       "      <td>22</td>\n",
       "      <td>n-</td>\n",
       "      <td>26</td>\n",
       "      <td>0.0</td>\n",
       "      <td>evo</td>\n",
       "      <td>22</td>\n",
       "    </tr>\n",
       "  </tbody>\n",
       "</table>\n",
       "</div>"
      ],
      "text/plain": [
       "     cell_number  average_cell_size  pct_coverslip_covered        date  \\\n",
       "483          0.0                0.0              84.287630  18/09/2015   \n",
       "484          0.0                0.0              88.666910  18/09/2015   \n",
       "485          0.0                0.0              94.557968  18/09/2015   \n",
       "486          0.0                0.0              87.960550  30/09/2015   \n",
       "487          0.0                0.0              76.398457  30/09/2015   \n",
       "\n",
       "    selection_temperature nutrient_level  week  biofilm_formation_rate  \\\n",
       "483                    22             n-    26                     0.0   \n",
       "484                    22             n+    26                     0.0   \n",
       "485                    22             n+    26                     0.0   \n",
       "486                    22             n+    26                     0.0   \n",
       "487                    22             n-    26                     0.0   \n",
       "\n",
       "    evoplas assay_temperature  \n",
       "483     evo                22  \n",
       "484     evo                22  \n",
       "485     evo                22  \n",
       "486     evo                22  \n",
       "487     evo                22  "
      ]
     },
     "execution_count": 42,
     "metadata": {},
     "output_type": "execute_result"
    }
   ],
   "source": [
    "df2 = df1[df1.week.ge(26)] # ge = greater than or equal to /lt = less than\n",
    "#df2 = df1[df1[\"week\"] >= 26\n",
    "print(\"Length of df with weeks >= 26:: \", len(df2))\n",
    "df2.head()"
   ]
  },
  {
   "cell_type": "code",
   "execution_count": 47,
   "id": "zImE2RHwkwXz",
   "metadata": {
    "colab": {
     "base_uri": "https://localhost:8080/",
     "height": 200
    },
    "id": "zImE2RHwkwXz",
    "outputId": "1e126612-bd55-47f8-9b04-e79dcdfdb75d"
   },
   "outputs": [
    {
     "name": "stdout",
     "output_type": "stream",
     "text": [
      "Length of subsetted df::  75\n",
      "93.28729028866667 2.6230907181282004\n"
     ]
    },
    {
     "data": {
      "image/png": "[encoded data removed]",
      "text/plain": [
       "<Figure size 640x480 with 1 Axes>"
      ]
     },
     "metadata": {},
     "output_type": "display_data"
    }
   ],
   "source": [
    "subset = df2.loc[(df2['selection_temperature']=='26') & (df2['nutrient_level']=='n-')] \n",
    "print(\"Length of subsetted df:: \", len(subset))\n",
    "#subset.head()\n",
    "coverslips = subset.pct_coverslip_covered\n",
    "#coverslips\n",
    "fig = plt.hist(coverslips)\n",
    "print(coverslips.mean(), coverslips.std())"
   ]
  },
  {
   "cell_type": "markdown",
   "id": "261efdaa-1821-4288-af3e-60b34345bc09",
   "metadata": {
    "id": "261efdaa-1821-4288-af3e-60b34345bc09"
   },
   "source": [
    "\n",
    "\n",
    "4. Illustrate the central limit theorum. Sample the above population 10, 100, and 1000 times using a sample size of 10. Plot the histogram of the means of each of these trials.\n",
    "\n",
    "5. Print the mean and standard deviation of the 1000 trial case."
   ]
  },
  {
   "cell_type": "code",
   "execution_count": 48,
   "id": "65325158-45bf-4e15-b999-f89de2ef52f6",
   "metadata": {
    "id": "65325158-45bf-4e15-b999-f89de2ef52f6",
    "outputId": "87f4b156-752a-4835-a55c-38687a284665"
   },
   "outputs": [
    {
     "name": "stdout",
     "output_type": "stream",
     "text": [
      "[92.2   93.727 92.598 92.937 93.    92.056 91.812 92.51  92.959 93.227]\n"
     ]
    },
    {
     "data": {
      "image/png": "[encoded data removed]",
      "text/plain": [
       "<Figure size 640x480 with 1 Axes>"
      ]
     },
     "metadata": {},
     "output_type": "display_data"
    }
   ],
   "source": [
    "#let's do ten samples like this, and calculate means\n",
    "sample_size = 10\n",
    "n_samples = 10\n",
    "def central_limit(sample_size,n_samples):\n",
    "    sample_means = np.zeros(n_samples)\n",
    "    for i in range(n_samples):\n",
    "        sample = coverslips.sample(n=sample_size, replace=True)#sample with repalcement\n",
    "        sample_means[i] = sample.mean()\n",
    "        \n",
    "    fig = plt.hist(sample_means)\n",
    "print(sample_means)\n",
    "central_limit(sample_size,n_samples)"
   ]
  },
  {
   "cell_type": "code",
   "execution_count": 49,
   "id": "cc570ca5-a9bf-4128-891d-1a8d2233748a",
   "metadata": {
    "id": "cc570ca5-a9bf-4128-891d-1a8d2233748a",
    "outputId": "981035a9-c19b-469a-b57e-7c3e6886181b"
   },
   "outputs": [
    {
     "data": {
      "image/png": "[encoded data removed]",
      "text/plain": [
       "<Figure size 640x480 with 1 Axes>"
      ]
     },
     "metadata": {},
     "output_type": "display_data"
    }
   ],
   "source": [
    "#let's do ten samples like this, and calculate means\n",
    "sample_size = 10\n",
    "n_samples = 100\n",
    "central_limit(sample_size,n_samples)"
   ]
  },
  {
   "cell_type": "code",
   "execution_count": 50,
   "id": "ee2a4e39-89ba-40ec-bad9-0b52798c5130",
   "metadata": {
    "id": "ee2a4e39-89ba-40ec-bad9-0b52798c5130",
    "outputId": "fc229db3-8671-4429-f1da-c896902a057a"
   },
   "outputs": [
    {
     "name": "stdout",
     "output_type": "stream",
     "text": [
      "92.7026298831 0.5517831018950942\n"
     ]
    },
    {
     "data": {
      "image/png": "[encoded data removed]",
      "text/plain": [
       "<Figure size 640x480 with 1 Axes>"
      ]
     },
     "metadata": {},
     "output_type": "display_data"
    }
   ],
   "source": [
    "#let's do ten samples like this, and calculate means\n",
    "sample_size = 10\n",
    "n_samples = 1000\n",
    "central_limit(sample_size,n_samples)\n",
    "print(sample_means.mean(), sample_means.std())"
   ]
  },
  {
   "cell_type": "markdown",
   "id": "ctI_qnSUjt9b",
   "metadata": {
    "id": "ctI_qnSUjt9b"
   },
   "source": [
    "# Problem 2: Bootstrapping\n",
    "Using the subsetted DataFrame from problem 1:\n",
    "1. Use bootstrapping to estimate the population mean and standard deviation 'pct_coverslip_covered' of the above subset. Make sure to use an iteration count >1000.\n",
    "\n",
    "2. Use your estimated population mean and standard deviation to overlay a normal curve onto the histogram from Problem 1 part 2.\n",
    "\n",
    "3. Shade the 95% confidence intervals for the normal curve (hint: look at Monday's class notebooks)."
   ]
  },
  {
   "cell_type": "code",
   "execution_count": 54,
   "id": "uIkB12SRjsTz",
   "metadata": {
    "id": "uIkB12SRjsTz"
   },
   "outputs": [
    {
     "name": "stdout",
     "output_type": "stream",
     "text": [
      "(75,)\n"
     ]
    }
   ],
   "source": [
    "iteration_count = 1000\n",
    "for i in range(iteration_count):\n",
    "    trails= np.random.choice(coverslips,size=len(coverslips))\n",
    "print(trails.shape)\n",
    "tMean=trails.mean()                         \n",
    "tStd =trails.std()"
   ]
  },
  {
   "cell_type": "code",
   "execution_count": 34,
   "id": "fd0c0ef1-6cfd-43d1-89b2-53acc3eb94fb",
   "metadata": {
    "id": "uIkB12SRjsTz"
   },
   "outputs": [
    {
     "data": {
      "image/png": "[encoded data removed]",
      "text/plain": [
       "<Figure size 640x480 with 1 Axes>"
      ]
     },
     "metadata": {},
     "output_type": "display_data"
    }
   ],
   "source": [
    "# overlay a normal curve onto the histogram  using seaborn\n",
    "x=np.linspace(coverslips.min(),coverslips.max(),1000)\n",
    "norm= stats.norm.pdf(x,loc=tMean,scale=tStd)\n",
    "\n",
    "fig=plt.hist(coverslips,density=True)\n",
    "fig=plt.plot(x,norm)"
   ]
  },
  {
   "cell_type": "markdown",
   "id": "b343e8b0-fbaf-4e29-8b06-c0d13c361e0b",
   "metadata": {
    "id": "b343e8b0-fbaf-4e29-8b06-c0d13c361e0b"
   },
   "source": [
    "# Problem 3\n",
    "Using the estimated population mean and standard deviation you found in Problem 2:\n",
    "1. Find the z-value for a 'pct_coverslip_covered' value of 30.\n",
    "2. Use the z-value to find the probabilty of getting a value < 30 (p-value).\n",
    "3. What is the probaility of getting a value *exactly* 30.\n",
    "3. What is the probability of getting a value > 30?"
   ]
  },
  {
   "cell_type": "code",
   "execution_count": null,
   "id": "59f7b286-5c86-4c6d-bdb3-bafbda82ec1b",
   "metadata": {
    "id": "59f7b286-5c86-4c6d-bdb3-bafbda82ec1b"
   },
   "outputs": [],
   "source": [
    "# z = (30 - mu) / (std / np.sqrt(n))\n",
    "# print('The p-value is, P(z < ) =',stats.norm.cdf(z))"
   ]
  },
  {
   "cell_type": "markdown",
   "id": "4d182712-7dfd-45c2-b238-cab9c3374885",
   "metadata": {
    "id": "4d182712-7dfd-45c2-b238-cab9c3374885"
   },
   "source": [
    "# Problem 4:\n",
    "We will be using the assay data from Figure 6 in the paper.\n",
    "\n",
    "1. Make a box plot of the '%coverslip_covered' for each selection temperature. Color the box plot by nutrient status.\n",
    "2. Using what you learned in class, determine if there is a statistical difference in '%coverslip_covered' between the full nutrient (n+) and low nutrient (n-) conditions for each temperature condition.\n",
    "\n",
    "What does this tell us about biofilm evolution under different nutrient levels? "
   ]
  },
  {
   "cell_type": "code",
   "execution_count": null,
   "id": "fca52a0b-8a55-4329-9ec0-d263bd4df563",
   "metadata": {
    "id": "fca52a0b-8a55-4329-9ec0-d263bd4df563",
    "outputId": "05457bce-827f-42d1-a438-6c9f7daad264"
   },
   "outputs": [
    {
     "data": {
      "text/html": [
       "<div>\n",
       "<style scoped>\n",
       "    .dataframe tbody tr th:only-of-type {\n",
       "        vertical-align: middle;\n",
       "    }\n",
       "\n",
       "    .dataframe tbody tr th {\n",
       "        vertical-align: top;\n",
       "    }\n",
       "\n",
       "    .dataframe thead th {\n",
       "        text-align: right;\n",
       "    }\n",
       "</style>\n",
       "<table border=\"1\" class=\"dataframe\">\n",
       "  <thead>\n",
       "    <tr style=\"text-align: right;\">\n",
       "      <th></th>\n",
       "      <th>cell_number</th>\n",
       "      <th>average_cell_size</th>\n",
       "      <th>%coverslip_covered</th>\n",
       "      <th>date</th>\n",
       "      <th>selection_temperature</th>\n",
       "      <th>nutrient_level</th>\n",
       "      <th>biofilm_formation_rate</th>\n",
       "      <th>evoplas</th>\n",
       "      <th>assay_temperature</th>\n",
       "    </tr>\n",
       "  </thead>\n",
       "  <tbody>\n",
       "    <tr>\n",
       "      <th>0</th>\n",
       "      <td>5641</td>\n",
       "      <td>0.004</td>\n",
       "      <td>66.578</td>\n",
       "      <td>06/08/2015</td>\n",
       "      <td>22</td>\n",
       "      <td>n-</td>\n",
       "      <td>2.598774</td>\n",
       "      <td>evo</td>\n",
       "      <td>22</td>\n",
       "    </tr>\n",
       "    <tr>\n",
       "      <th>1</th>\n",
       "      <td>3610</td>\n",
       "      <td>0.005</td>\n",
       "      <td>47.528</td>\n",
       "      <td>06/08/2015</td>\n",
       "      <td>22</td>\n",
       "      <td>n+</td>\n",
       "      <td>1.855186</td>\n",
       "      <td>evo</td>\n",
       "      <td>22</td>\n",
       "    </tr>\n",
       "    <tr>\n",
       "      <th>2</th>\n",
       "      <td>3565</td>\n",
       "      <td>0.004</td>\n",
       "      <td>45.482</td>\n",
       "      <td>06/08/2015</td>\n",
       "      <td>22</td>\n",
       "      <td>n+</td>\n",
       "      <td>1.775323</td>\n",
       "      <td>evo</td>\n",
       "      <td>22</td>\n",
       "    </tr>\n",
       "    <tr>\n",
       "      <th>3</th>\n",
       "      <td>2293</td>\n",
       "      <td>0.011</td>\n",
       "      <td>73.157</td>\n",
       "      <td>06/08/2015</td>\n",
       "      <td>22</td>\n",
       "      <td>n+</td>\n",
       "      <td>2.855576</td>\n",
       "      <td>evo</td>\n",
       "      <td>22</td>\n",
       "    </tr>\n",
       "    <tr>\n",
       "      <th>4</th>\n",
       "      <td>806</td>\n",
       "      <td>0.040</td>\n",
       "      <td>91.980</td>\n",
       "      <td>06/08/2015</td>\n",
       "      <td>22</td>\n",
       "      <td>n-</td>\n",
       "      <td>3.590304</td>\n",
       "      <td>evo</td>\n",
       "      <td>22</td>\n",
       "    </tr>\n",
       "  </tbody>\n",
       "</table>\n",
       "</div>"
      ],
      "text/plain": [
       "   cell_number  average_cell_size  %coverslip_covered        date  \\\n",
       "0         5641              0.004              66.578  06/08/2015   \n",
       "1         3610              0.005              47.528  06/08/2015   \n",
       "2         3565              0.004              45.482  06/08/2015   \n",
       "3         2293              0.011              73.157  06/08/2015   \n",
       "4          806              0.040              91.980  06/08/2015   \n",
       "\n",
       "  selection_temperature nutrient_level  biofilm_formation_rate evoplas  \\\n",
       "0                    22             n-                2.598774     evo   \n",
       "1                    22             n+                1.855186     evo   \n",
       "2                    22             n+                1.775323     evo   \n",
       "3                    22             n+                2.855576     evo   \n",
       "4                    22             n-                3.590304     evo   \n",
       "\n",
       "  assay_temperature  \n",
       "0                22  \n",
       "1                22  \n",
       "2                22  \n",
       "3                22  \n",
       "4                22  "
      ]
     },
     "execution_count": 28,
     "metadata": {},
     "output_type": "execute_result"
    }
   ],
   "source": [
    "# load the dataset\n",
    "df3 = pd.read_csv('20180930Ability_to_form_biofilms.csv')\n",
    "\n",
    "# let's change the column names to something more informative\n",
    "columns = [\"cell_number\", \"average_cell_size\", \"%coverslip_covered\", \"date\", \"selection_temperature\", \"nutrient_level\", \"biofilm_formation_rate\", \"evoplas\", \"assay_temperature\"]\n",
    "df3.columns = columns\n",
    "df3.head()"
   ]
  },
  {
   "cell_type": "code",
   "execution_count": null,
   "id": "728572c1-3b90-4e92-bb51-e197fbf902ce",
   "metadata": {
    "id": "728572c1-3b90-4e92-bb51-e197fbf902ce"
   },
   "outputs": [],
   "source": []
  }
 ],
 "metadata": {
  "colab": {
   "collapsed_sections": [],
   "provenance": []
  },
  "kernelspec": {
   "display_name": "Python 3 (ipykernel)",
   "language": "python",
   "name": "python3"
  },
  "language_info": {
   "codemirror_mode": {
    "name": "ipython",
    "version": 3
   },
   "file_extension": ".py",
   "mimetype": "text/x-python",
   "name": "python",
   "nbconvert_exporter": "python",
   "pygments_lexer": "ipython3",
   "version": "3.9.12"
  }
 },
 "nbformat": 4,
 "nbformat_minor": 5
}
