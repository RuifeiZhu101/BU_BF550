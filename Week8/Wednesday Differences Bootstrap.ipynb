{
 "cells": [
  {
   "cell_type": "code",
   "execution_count": 3,
   "id": "14dd6110",
   "metadata": {},
   "outputs": [],
   "source": [
    "import numpy as np\n",
    "np.set_printoptions(precision=3)\n",
    "np.random.seed(20221110)\n",
    "import matplotlib.pyplot as plt\n",
    "import seaborn as sns\n",
    "sns.set()\n",
    "import scipy.stats as stats\n",
    "\n",
    "from IPython.display import display, Markdown"
   ]
  },
  {
   "cell_type": "markdown",
   "id": "3110c00a",
   "metadata": {},
   "source": [
    "### Estimation of difference\n",
    "\n",
    "If we have two populations, say normally distributed. \n",
    "\n",
    "The question is, are these populations different?\n",
    "\n",
    "What does it mean different? Their distributions are different.\n",
    "\n",
    "Example, legth of two subpopulations of the bird genus Accipiter.\n",
    "\n",
    "https://www.audubon.org/news/a-beginners-guide-iding-coopers-and-sharp-shinned-hawks\n",
    "\n",
    "\n",
    "We have two populations, let's say both normally distributed.\n",
    "\n",
    "Are the means of these two populations different?\n",
    "\n",
    "Let's sample each one:\n",
    "\n",
    "Sample from population one: $\\bar{x}_1$, $n_1$, $\\sigma_1$ or $s_1$.\n",
    "\n",
    "Sample from population two: $\\bar{x}_2$, $n_2$, $\\sigma_2$ or $s_2$.\n",
    "\n",
    "We can form a new variable: \n",
    "\n",
    "$\\bar{x}_1-\\bar{x}_2$\n",
    "\n",
    "Now for this variable:\n",
    "\n",
    "1. $\\bar{x}_1-\\bar{x}_2$ is normally distributed\n",
    "2. The mean is $\\mu_{\\bar{x}_1-\\bar{x}_2}=\\mu_1-\\mu_2$\n",
    "2. The standard deviation is $\\sigma_{\\bar{x}_1-\\bar{x}_2}=\\sqrt{\\frac{\\sigma^2_1}{n_1}+\\frac{\\sigma^2_2}{n_2}}$\n",
    "\n",
    "If $n_1>30$ and $n_2>30$, this applies to any distribution.\n",
    "\n",
    "The confidence interval is:\n",
    "\n",
    "$(\\bar{x}_1-\\bar{x}_2)-E<\\mu_1-\\mu_2<(\\bar{x}_1-\\bar{x}_2)+E$\n",
    "\n",
    "where:\n",
    "\n",
    "$E=z_c\\sqrt{\\frac{\\sigma^2_1}{n_1}+\\frac{\\sigma^2_2}{n_2}}$\n",
    "\n",
    "In the case when we don't know $\\sigma_1$ or/and $\\sigma_2$:\n",
    "\n",
    "$E=t_c\\sqrt{\\frac{s^2_1}{n_1}+\\frac{s^2_2}{n_2}}$\n",
    "\n",
    "with dof the smaller of the two $n_1-1$ or $n2_1$.\n",
    "\n",
    "This is not exactly correct, only approximate. "
   ]
  },
  {
   "attachments": {},
   "cell_type": "markdown",
   "id": "9bd85097",
   "metadata": {},
   "source": [
    "## Boxplot\n",
    "\n",
    "Very convenient way to represent the data in a plot.\n",
    "\n",
    "Especially if the data has $\\bf{outliers}$.\n",
    "\n",
    "Outliers do not seem to belong to a distribution.\n",
    "\n",
    "\n",
    "     Q1-1.5IQR   Q1   median  Q3   Q3+1.5IQR\n",
    "                  |-----:-----|\n",
    "  o      |--------|     :     |--------|    o  o\n",
    "                  |-----:-----|\n",
    "flier             <----------->            fliers\n",
    "                       IQR\n",
    "                       \n",
    "The $\\bf{median}$ is the point below which 50% of the point are.\n",
    "\n",
    "The $\\bf{box}$ extends:\n",
    "\n",
    "The $\\bf{first\\ quartile,\\ Q1}$ is the point below 25% of the data is.\n",
    "\n",
    "The $\\bf{third\\ quartile,\\ Q3}$ is the point below 75% of the data is.\n",
    "\n",
    "IQR is the $\\bf{Interquartile\\ Range}$.\n",
    "\n",
    "The $\\bf{whiskers}$ extend to 1.5 of IQR. \n",
    "\n",
    "Why 1.5? From the normal distribution confidence intervals.\n",
    "\n",
    "Any point beyond the whiskers is considered an $\\bf{outlier}$ or $\\bf{flier}$.\n"
   ]
  },
  {
   "cell_type": "code",
   "execution_count": 24,
   "id": "11fb61a4",
   "metadata": {},
   "outputs": [
    {
     "data": {
      "text/plain": [
       "(array([3., 7., 5., 2., 1., 1., 0., 0., 0., 1.]),\n",
       " array([ 2. ,  8.9, 15.8, 22.7, 29.6, 36.5, 43.4, 50.3, 57.2, 64.1, 71. ]),\n",
       " <BarContainer object of 10 artists>)"
      ]
     },
     "execution_count": 24,
     "metadata": {},
     "output_type": "execute_result"
    },
    {
     "data": {
      "image/png": "[encoded data removed]",
      "text/plain": [
       "<Figure size 432x288 with 1 Axes>"
      ]
     },
     "metadata": {},
     "output_type": "display_data"
    }
   ],
   "source": [
    "#Example\n",
    "\n",
    "data=[12,15,21,2,6,3,15,71,22,18,37,12,25,19,33,15,14,17,12,27]\n",
    "plt.hist(data)"
   ]
  },
  {
   "cell_type": "code",
   "execution_count": 25,
   "id": "de33c776",
   "metadata": {},
   "outputs": [
    {
     "data": {
      "image/png": "[encoded data removed]",
      "text/plain": [
       "<Figure size 432x288 with 1 Axes>"
      ]
     },
     "metadata": {},
     "output_type": "display_data"
    }
   ],
   "source": [
    "#Boxplot\n",
    "\n",
    "fig=plt.boxplot(data)\n",
    "plt.show()"
   ]
  },
  {
   "cell_type": "code",
   "execution_count": 26,
   "id": "b7f62590",
   "metadata": {},
   "outputs": [
    {
     "data": {
      "image/png": "[encoded data removed]",
      "text/plain": [
       "<Figure size 432x288 with 1 Axes>"
      ]
     },
     "metadata": {},
     "output_type": "display_data"
    }
   ],
   "source": [
    "#We can also bootstrap the data for the confidence intervals\n",
    "fig=plt.boxplot(data,bootstrap=1000)\n",
    "plt.show()"
   ]
  },
  {
   "cell_type": "markdown",
   "id": "2f0df45c",
   "metadata": {},
   "source": [
    "## What is bootstrapping?\n",
    "\n",
    "Resample the sample. Or fake sampling. \n",
    "\n",
    "Good if we have outliers. In that case t-distribution cannot be used.\n",
    "\n",
    "The ouliers in a way make the distribution extremely skewed.\n",
    "\n",
    "1. Resample the sample with replacements.\n",
    "2. Calculate the resample means $\\bar{x}$.\n",
    "3. Find the confidence intervals from the resampled distribution."
   ]
  },
  {
   "cell_type": "code",
   "execution_count": 44,
   "id": "e86dc491",
   "metadata": {},
   "outputs": [
    {
     "data": {
      "image/png": "[encoded data removed]",
      "text/plain": [
       "<Figure size 432x288 with 2 Axes>"
      ]
     },
     "metadata": {},
     "output_type": "display_data"
    }
   ],
   "source": [
    "#Let's resample our data many times\n",
    "data=[12,15,21,2,6,3,15,71,22,18,37,12,25,19,33,15,14,17,12,27]\n",
    "\n",
    "n_resamples=1000\n",
    "x_bar=np.zeros(n_resamples)\n",
    "for i in range(n_resamples):\n",
    "    sample=np.random.choice(data,len(data))\n",
    "    x_bar[i]=np.mean(sample)\n",
    "\n",
    "    \n",
    "fig, ax=plt.subplots(2)\n",
    "ticks=np.arange(0.0,80.0,10.0)\n",
    "ax[0].hist(data)\n",
    "ax[0].set_title('Sample')\n",
    "ax[0].set_xlabel('x')\n",
    "ax[0].set_ylabel('f(x)')\n",
    "ax[0].set_xticks(ticks)\n",
    "\n",
    "#Now plot the histogram of x_bar\n",
    "\n",
    "ax[1].hist(x_bar, align=\"left\",density=True,alpha=1.0)\n",
    "ax[1].set_title('Resample')\n",
    "ax[1].set_xlabel(r'$\\bar{x}$')\n",
    "ax[1].set_ylabel(r'$f(\\bar{x})$')\n",
    "ax[1].set_xticks(ticks)\n",
    "\n",
    "fig.tight_layout(pad=1)\n",
    "\n",
    "plt.show()    "
   ]
  },
  {
   "cell_type": "code",
   "execution_count": 49,
   "id": "29fa4a42",
   "metadata": {},
   "outputs": [
    {
     "name": "stdout",
     "output_type": "stream",
     "text": [
      "The confidence interval for confidence of 90% is (15.0, 25.45)\n"
     ]
    }
   ],
   "source": [
    "#Let's find the confidence interval for C=0.9\n",
    "#Order the resampled data, x_bar, and find the positions of (1-C)/2\n",
    "\n",
    "sorted_x_bar=np.sort(x_bar)\n",
    "#We have 1000 numbers in x_bar\n",
    "#Get the element 1000-900/2=50 \n",
    "#and 1000-50=950\n",
    "\n",
    "x_lower=sorted_x_bar[50]\n",
    "x_upper=sorted_x_bar[950]\n",
    "print(\"The confidence interval for confidence of 90% is\",(x_lower,x_upper))"
   ]
  }
 ],
 "metadata": {
  "kernelspec": {
   "display_name": "Python 3 (ipykernel)",
   "language": "python",
   "name": "python3"
  },
  "language_info": {
   "codemirror_mode": {
    "name": "ipython",
    "version": 3
   },
   "file_extension": ".py",
   "mimetype": "text/x-python",
   "name": "python",
   "nbconvert_exporter": "python",
   "pygments_lexer": "ipython3",
   "version": "3.9.12"
  }
 },
 "nbformat": 4,
 "nbformat_minor": 5
}
