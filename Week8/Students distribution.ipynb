{
 "cells": [
  {
   "cell_type": "markdown",
   "id": "7cadca1f-ea8d-45a2-9bd4-7a4485a4db85",
   "metadata": {},
   "source": [
    "##### import numpy as np\n",
    "np.set_printoptions(precision=3)\n",
    "np.random.seed(20221110)\n",
    "import matplotlib.pyplot as plt\n",
    "import seaborn as sns\n",
    "sns.set()\n",
    "import scipy.stats as stats\n",
    "\n",
    "from IPython.display import display, Markdown"
   ]
  },
  {
   "cell_type": "markdown",
   "id": "f16b4514",
   "metadata": {},
   "source": [
    "## Estimating the population mean, when all we have is a sample\n",
    "\n",
    "Example:\n",
    "\n",
    "A paleonotologist would found seven fossil horse skeletons. \n",
    "The heights of the skeletons in $cm$ are:\n",
    "\n",
    "|skeleton|1|2|3|4|5|6|7|\n",
    "|-|-|-|-|-|-|-|-|\n",
    "|height [cm]|45.3|47.1|44.2|46.8|46.5|45.5|47.6|\n",
    "\n",
    "Note that the unit is in square brackets (typically, sometimes in (cm)).\n",
    "Note that the precision of the measurement of the hight is at one decimal place. The ruler has no finer scale.\n",
    "\n",
    "Can we estimate the height of the ancient horse population with $C=99\\%$ confidence?\n",
    "\n",
    "Note that we do not know $\\sigma$ of the population in this case. We can only calculate the sample standard deviation $s$.\n",
    "\n",
    "Recall:\n",
    "\n",
    "$s^2=\\frac{\\sum_i(x_i-\\bar{x})^2}{n-1}$\n",
    "\n",
    "Note that we have only $\\bar{x}$ here. No $\\mu$ to be found here."
   ]
  },
  {
   "cell_type": "code",
   "execution_count": 15,
   "id": "9afd8840",
   "metadata": {},
   "outputs": [
    {
     "data": {
      "text/markdown": [
       "$\\bar x$ calculated by hand is 46.14285714285715"
      ],
      "text/plain": [
       "<IPython.core.display.Markdown object>"
      ]
     },
     "metadata": {},
     "output_type": "display_data"
    },
    {
     "data": {
      "text/markdown": [
       "$\\bar x$ calculated by NumPy is 46.14285714285715"
      ],
      "text/plain": [
       "<IPython.core.display.Markdown object>"
      ]
     },
     "metadata": {},
     "output_type": "display_data"
    },
    {
     "data": {
      "text/markdown": [
       "$s_\\bar x$ calculated by hand is 1.1900380145988931"
      ],
      "text/plain": [
       "<IPython.core.display.Markdown object>"
      ]
     },
     "metadata": {},
     "output_type": "display_data"
    },
    {
     "data": {
      "text/markdown": [
       "$s_\\bar x$ calculated by NumPy is 1.1900380145988931"
      ],
      "text/plain": [
       "<IPython.core.display.Markdown object>"
      ]
     },
     "metadata": {},
     "output_type": "display_data"
    }
   ],
   "source": [
    "#So in this case, let's first calculate \"by hand\"\n",
    "x_values=np.array([45.3,47.1,44.2,46.8,46.5,45.5,47.6])\n",
    "n=7\n",
    "\n",
    "x_mean=0\n",
    "for i in range(7):\n",
    "    x_mean+=x_values[i]\n",
    "x_mean/=n\n",
    "\n",
    "display(Markdown(rf\"\"\"$\\bar x$ calculated by hand is {x_mean}\"\"\"))\n",
    "display(Markdown(rf\"\"\"$\\bar x$ calculated by NumPy is {x_values.mean()}\"\"\"))\n",
    "\n",
    "#Now let's do the sample standard deviation\n",
    "\n",
    "s_x_bar_sq=0\n",
    "ddof=1\n",
    "\n",
    "#First calculate the variance\n",
    "for i in range(7):\n",
    "    s_x_bar_sq+=(x_values[i]-x_mean)**2\n",
    "s_x_bar_sq/=n-ddof \n",
    "\n",
    "#Then the sample standard deviation\n",
    "s_x_bar=np.sqrt(s_x_bar_sq)\n",
    "\n",
    "display(Markdown(rf\"\"\"$s_\\bar x$ calculated by hand is {s_x_bar}\"\"\"))\n",
    "display(Markdown(rf\"\"\"$s_\\bar x$ calculated by NumPy is {x_values.std(ddof=1)}\"\"\"))\n",
    "#Note the ddof in x_values.std!"
   ]
  },
  {
   "cell_type": "markdown",
   "id": "817b8c2b",
   "metadata": {},
   "source": [
    "## Students t-distribution\n",
    "\n",
    "Recall:\n",
    "\n",
    "$s=\\sqrt{\\frac{\\sum_i(x_i-\\bar{x})^2}{n-1}}$\n",
    "\n",
    "Let's form the t-scores (t-values, t-transform):\n",
    "\n",
    "$t=\\frac{\\bar{x}-\\mu}{\\frac{s}{\\sqrt{n}}}$\n",
    "\n",
    "The values of the random variable $t$ are distributed by the t-distribuiton with a degree of freedom $d.o.f.=n-1$ (Student's distribution).\n",
    "\n",
    "Why Student's?"
   ]
  },
  {
   "cell_type": "markdown",
   "id": "75d7afed",
   "metadata": {},
   "source": [
    "## W.S. Gosset at the Guiness beer corporation\n",
    "\n",
    "https://en.wikipedia.org/wiki/William_Sealy_Gosset\n",
    "\n",
    "<img src=\"William_Sealy_Gosset.jpg\" alt=\"OF\" width=\"400\"/>\n"
   ]
  },
  {
   "cell_type": "code",
   "execution_count": 28,
   "id": "62db5182",
   "metadata": {},
   "outputs": [
    {
     "data": {
      "text/plain": [
       "Text(-0.3, 0.25, 't-dist.')"
      ]
     },
     "execution_count": 28,
     "metadata": {},
     "output_type": "execute_result"
    },
    {
     "data": {
      "image/png": "[encoded data removed]",
      "text/plain": [
       "<Figure size 432x288 with 1 Axes>"
      ]
     },
     "metadata": {},
     "output_type": "display_data"
    }
   ],
   "source": [
    "#Let's see the difference bewteen normal and t-distribution\n",
    "\n",
    "x=np.linspace(-4,4,1000)\n",
    "std_normal_pdf=stats.norm.pdf(x)\n",
    "\n",
    "fig=plt.plot(x,std_normal_pdf)\n",
    "plt.xlabel(\"z\")\n",
    "plt.ylabel(\"f(z)\")\n",
    "\n",
    "t_pdf=stats.t.pdf(x,df=1)\n",
    "\n",
    "fig=plt.plot(x,t_pdf)\n",
    "\n",
    "plt.text(0.3,0.4,'Normal')\n",
    "plt.text(-0.3,0.25,'t-dist.')"
   ]
  },
  {
   "cell_type": "code",
   "execution_count": 33,
   "id": "27942693",
   "metadata": {},
   "outputs": [
    {
     "data": {
      "text/plain": [
       "Text(-0.3, 0.25, 't-dist.')"
      ]
     },
     "execution_count": 33,
     "metadata": {},
     "output_type": "execute_result"
    },
    {
     "data": {
      "image/png": "[encoded data removed]",
      "text/plain": [
       "<Figure size 432x288 with 1 Axes>"
      ]
     },
     "metadata": {},
     "output_type": "display_data"
    }
   ],
   "source": [
    "#Let's see the difference bewteen normal and t-distribution\n",
    "dof=3 #try 5, 10, 100\n",
    "x=np.linspace(-4,4,1000)\n",
    "std_normal_pdf=stats.norm.pdf(x)\n",
    "\n",
    "fig=plt.plot(x,std_normal_pdf)\n",
    "plt.xlabel(\"z\")\n",
    "plt.ylabel(\"f(z)\")\n",
    "\n",
    "t_pdf=stats.t.pdf(x,df=dof)\n",
    "\n",
    "fig=plt.plot(x,t_pdf)\n",
    "\n",
    "plt.text(0.3,0.4,'Normal')\n",
    "plt.text(-0.3,0.25,'t-dist.')"
   ]
  },
  {
   "cell_type": "markdown",
   "id": "213c4f42",
   "metadata": {},
   "source": [
    "## t-distribution in SciPy\n",
    "\n",
    "https://docs.scipy.org/doc/scipy/reference/generated/scipy.stats.t.html\n"
   ]
  },
  {
   "cell_type": "markdown",
   "id": "76d1d1e2",
   "metadata": {},
   "source": [
    "## Finding the interval given a confidence level\n",
    "\n",
    "For a confidence level $C$ we have:\n",
    "\n",
    "$P(-t_c<t<t_c)=C$\n",
    "\n",
    "or \n",
    "\n",
    "$P(-t_c\\frac{s}{\\sqrt{n}}<\\bar{x}-\\mu<t_c\\frac{s}{\\sqrt{n}})=C$\n",
    "\n",
    "or:\n",
    "\n",
    "$P(\\bar{x}-t_c\\frac{s}{\\sqrt{n}}<\\mu<\\bar{x}+t_c\\frac{s}{\\sqrt{n}})=C$\n",
    "\n",
    "\n",
    "The Marging of error is:\n",
    "\n",
    "$E=t_c\\frac{\\sigma}{\\sqrt{n}}$\n",
    "\n",
    "The result of our estimation of $\\mu$ by sampling therefore is:\n",
    "\n",
    "$P(\\bar{x}-E<\\mu<\\bar{x}+E)=C$\n",
    "\n",
    "or:\n",
    "\n",
    "$\\mu=\\bar{x}\\pm E$\n",
    "\n",
    "at confidence level $C$. "
   ]
  },
  {
   "cell_type": "code",
   "execution_count": 57,
   "id": "9f36a20e",
   "metadata": {},
   "outputs": [
    {
     "name": "stdout",
     "output_type": "stream",
     "text": [
      "The critical interval for confidence 99% for the t-distribution with 10 degrees of freedom is (-3.169272667175838, 3.169272667175838)\n",
      "The critical interval for confidence 99% for the normal distribution is (-2.5758293035489004, 2.5758293035489004)\n"
     ]
    }
   ],
   "source": [
    "#How to find t_c?\n",
    "c=0.99\n",
    "df=10 #do it for 100, 1000, 100000, 1000000\n",
    "t_c=stats.t.interval(c,df)\n",
    "\n",
    "print(rf\"\"\"The critical interval for confidence 99% for the t-distribution with {df} degrees of freedom is\"\"\",t_c)\n",
    "print(\"The critical interval for confidence 99% for the normal distribution is\",stats.norm.interval(0.99))\n"
   ]
  },
  {
   "cell_type": "markdown",
   "id": "50ac7142",
   "metadata": {},
   "source": [
    "## Let's do the horse fossils example again\n",
    "A paleonotologist would found seven fossil horse skeletons. \n",
    "The heights of the skeletons in $cm$ are:\n",
    "\n",
    "|skeleton|1|2|3|4|5|6|7|\n",
    "|-|-|-|-|-|-|-|-|\n",
    "|height [cm]|45.3|47.1|44.2|46.8|46.5|45.5|47.6|\n",
    "\n",
    "Note that the unit is in square brackets (typically, sometimes in (cm)).\n",
    "Note that the precision of the measurement of the hight is at one decimal place. The ruler has no finer scale.\n",
    "\n",
    "Can we estimate the height of the ancient horse population with $C=99\\%$ confidence?\n",
    "\n",
    "Note that we do not know $\\sigma$ of the population in this case. We can only calculate the sample standard deviation $s$.\n",
    "\n",
    "Note that we have only $\\bar{x}$ here. No $\\mu$ to be found here.\n"
   ]
  },
  {
   "cell_type": "code",
   "execution_count": 69,
   "id": "b5ea1fa6",
   "metadata": {},
   "outputs": [
    {
     "data": {
      "text/markdown": [
       "$\\bar x$ calculated by NumPy is 46.14285714285715"
      ],
      "text/plain": [
       "<IPython.core.display.Markdown object>"
      ]
     },
     "metadata": {},
     "output_type": "display_data"
    },
    {
     "data": {
      "text/markdown": [
       "$s_\\bar x$ calculated by NumPy is 1.1900380145988931"
      ],
      "text/plain": [
       "<IPython.core.display.Markdown object>"
      ]
     },
     "metadata": {},
     "output_type": "display_data"
    },
    {
     "data": {
      "text/markdown": [
       "E for a confidence level of 0.99 calculated by the formula is 1.6675718021247106"
      ],
      "text/plain": [
       "<IPython.core.display.Markdown object>"
      ]
     },
     "metadata": {},
     "output_type": "display_data"
    },
    {
     "data": {
      "text/markdown": [
       "The estimated average height of the ancient horses is $46.1 \\pm  1.7$ cm."
      ],
      "text/plain": [
       "<IPython.core.display.Markdown object>"
      ]
     },
     "metadata": {},
     "output_type": "display_data"
    },
    {
     "name": "stdout",
     "output_type": "stream",
     "text": [
      "The 99% confidence interval caluclated with the formula is (44.47528534073244, 47.810428944981865)\n"
     ]
    }
   ],
   "source": [
    "#So in this case, let's first calculate \"by hand\"\n",
    "x_values=np.array([45.3,47.1,44.2,46.8,46.5,45.5,47.6])\n",
    "n=7\n",
    "\n",
    "x_bar=x_values.mean()\n",
    "\n",
    "display(Markdown(rf\"\"\"$\\bar x$ calculated by NumPy is {x_values.mean()}\"\"\"))\n",
    "\n",
    "s_x_bar=x_values.std(ddof=1)\n",
    "\n",
    "display(Markdown(rf\"\"\"$s_\\bar x$ calculated by NumPy is {x_values.std(ddof=1)}\"\"\"))\n",
    "#Note the ddof in x_values.std!\n",
    "\n",
    "c=0.99\n",
    "df=7-1 #do it for 100, 1000, 100000, 1000000\n",
    "t_c=stats.t.interval(c,df)\n",
    "\n",
    "#Standard error for confidance level of 99%\n",
    "\n",
    "E=t_c[1]*s_x_bar/np.sqrt(n)\n",
    "display(Markdown(rf\"\"\"E for a confidence level of {c} calculated by the formula is {E}\"\"\"))\n",
    "\n",
    "display(Markdown(rf\"\"\"The estimated average height of the ancient horses is ${\"{:.1f}\".format(x_bar)} \\pm  {\"{:.1f}\".format(E)}$ cm.\"\"\"))\n",
    "interval=(x_bar-E, x_bar+E)\n",
    "print(\"The 99% confidence interval caluclated with the formula is\",interval)"
   ]
  },
  {
   "cell_type": "code",
   "execution_count": 70,
   "id": "8d52cdd5",
   "metadata": {},
   "outputs": [
    {
     "name": "stdout",
     "output_type": "stream",
     "text": [
      "The 99% confidence interval calculated with the t.interval method is (44.47528534073244, 47.810428944981865)\n"
     ]
    }
   ],
   "source": [
    "#We can calculate directly with the interval method of the t-distribution\n",
    "interval_scipy=stats.t.interval(c,df,loc=x_bar,scale=s_x_bar/np.sqrt(n))\n",
    "print(\"The 99% confidence interval calculated with the t.interval method is\",interval_scipy)"
   ]
  },
  {
   "cell_type": "markdown",
   "id": "9d7eca97",
   "metadata": {},
   "source": [
    "## How to round up the numbers in this case?\n",
    "\n",
    "The round up is dictated by the measuring process. \n",
    "\n",
    "The initial measurements were done with a precision of a single decimal place, so we will round up to that. \n",
    "\n",
    "Sometimes the round up can be done with a single significant digit of the margin of error.\n",
    "\n",
    "In this case we could say:\n",
    "\n",
    "$\\mu=46\\pm2 cm$"
   ]
  },
  {
   "cell_type": "markdown",
   "id": "ac681165",
   "metadata": {},
   "source": [
    "## A problem: we have to assume that the population distribution is normal\n",
    "\n",
    "If we know that the distribution is not normal, the t-scores are t-distributed only if the sample size $n\\geq30$.\n",
    "\n",
    "So to sum up:\n"
   ]
  },
  {
   "cell_type": "markdown",
   "id": "7d51f25c",
   "metadata": {},
   "source": [
    "# Estimates!\n",
    "\n",
    "\n",
    "\n",
    "<pre>\n",
    "<h3>                 Problem</h3>\n",
    "\n",
    "<h3>       &darr;                          &darr;</h3>\n",
    "</pre>\n",
    "\n",
    "$\\ \\ \\ \\ \\ \\ \\ \\ \\ \\ \\ \\ \\ \\ \\ \\ \\ \\ \\ \\sigma$ known $\\ \\ \\ \\ \\ \\ \\ \\ \\ \\ \\ \\ \\ \\ \\ \\ \\ \\ \\ \\ \\ \\ \\ \\ \\ \\ \\ \\ \\ \\ \\ \\ \\ \\ \\ \\ \\ \\ \\ \\ \\ \\ \\ \\ \\ \\ \\sigma$ not known\n",
    "\n",
    "<pre>\n",
    "<h3>       &darr;                          &darr;</h3>\n",
    "</pre>\n",
    "\n",
    "<pre>\n",
    "<h3> Use normal dist.           Use t-distribution</h3>\n",
    "</pre>    \n",
    "\n",
    "$\\ \\ \\ \\ \\ \\ \\ \\ \\ \\ \\ \\ \\ \\ \\ \\ \\ \\ \\ \\ E=z_c\\frac{\\sigma}{\\sqrt{n}}$  $\\ \\ \\ \\ \\ \\ \\ \\ \\ \\ \\ \\ \\ \\ \\ \\ \\ \\ \\ \\ \\ \\ \\ \\ \\ \\ \\ \\ \\ \\ \\ \\ \\ \\ \\ \\ \\ \\ \\ \\ \\ \\ \\ \\ \\ \\ \\ E=t_c\\frac{s}{\\sqrt{n}}$ \n",
    "\n",
    "\n",
    "<pre>\n",
    "<h3> &darr;             &darr;             &darr;             &darr;</h3>\n",
    "</pre> \n",
    "\n",
    "<pre>\n",
    "<h5>Pop. dist.        Pop. dist.      Pop. dist.         Pop. dist. </h5>\n",
    "</pre>    \n",
    "\n",
    "<pre>\n",
    "<h5> normal            unknown          normal             unknown</h5>\n",
    "</pre>\n",
    "<pre>\n",
    "<h5> Any n              n>=30            Any n              n>=30</h5>\n",
    "</pre>    \n"
   ]
  },
  {
   "cell_type": "code",
   "execution_count": 74,
   "id": "e79cb89f",
   "metadata": {},
   "outputs": [
    {
     "name": "stdout",
     "output_type": "stream",
     "text": [
      "The interval correctly calculated with the t-distribution is (44.47528534073244, 47.810428944981865)\n",
      "The interval incorrectly calculated with the normal distribution is (44.984269494229075, 47.30144479148523)\n"
     ]
    }
   ],
   "source": [
    "#How much would we make an error if we used normal instead of t-distribution\n",
    "#So in this case, let's first calculate \"by hand\"\n",
    "x_values=np.array([45.3,47.1,44.2,46.8,46.5,45.5,47.6])\n",
    "n=7\n",
    "\n",
    "x_bar=x_values.mean()\n",
    "\n",
    "s_x_bar=x_values.std(ddof=1)\n",
    "\n",
    "c=0.99\n",
    "df=7-1 #do it for 100, 1000, 100000, 1000000\n",
    "\n",
    "interval_t=stats.t.interval(c,df,loc=x_bar,scale=s_x_bar/np.sqrt(n))\n",
    "\n",
    "interval_normal=stats.norm.interval(c,loc=x_bar,scale=s_x_bar/np.sqrt(n))\n",
    "\n",
    "print(\"The interval correctly calculated with the t-distribution is\", interval_t)\n",
    "print(\"The interval incorrectly calculated with the normal distribution is\", interval_normal)"
   ]
  },
  {
   "cell_type": "markdown",
   "id": "8f248871",
   "metadata": {},
   "source": [
    "So the difference is not that great for n=7.\n",
    "\n",
    "In biology we typically do 3 replicates. \n",
    "\n",
    "What is the difference if we have n=3?"
   ]
  },
  {
   "cell_type": "code",
   "execution_count": 75,
   "id": "4e0e0384",
   "metadata": {},
   "outputs": [
    {
     "name": "stdout",
     "output_type": "stream",
     "text": [
      "The interval correctly calculated with the t-distribution is (37.144377923729685, 53.92228874293699)\n",
      "The interval incorrectly calculated with the normal distribution is (43.35611836552172, 47.710548301144954)\n"
     ]
    }
   ],
   "source": [
    "x_values=np.array([45.3,47.1,44.2])\n",
    "n=3\n",
    "\n",
    "x_bar=x_values.mean()\n",
    "\n",
    "s_x_bar=x_values.std(ddof=1)\n",
    "\n",
    "c=0.99\n",
    "df=n-1 #do it for 100, 1000, 100000, 1000000\n",
    "\n",
    "interval_t=stats.t.interval(c,df,loc=x_bar,scale=s_x_bar/np.sqrt(n))\n",
    "\n",
    "interval_normal=stats.norm.interval(c,loc=x_bar,scale=s_x_bar/np.sqrt(n))\n",
    "\n",
    "print(\"The interval correctly calculated with the t-distribution is\", interval_t)\n",
    "print(\"The interval incorrectly calculated with the normal distribution is\", interval_normal)"
   ]
  },
  {
   "cell_type": "markdown",
   "id": "fc40821c",
   "metadata": {},
   "source": [
    "t-distribution estimate of the margin of error is important in real-life situations, when the sample size is very small."
   ]
  }
 ],
 "metadata": {
  "kernelspec": {
   "display_name": "Python 3 (ipykernel)",
   "language": "python",
   "name": "python3"
  },
  "language_info": {
   "codemirror_mode": {
    "name": "ipython",
    "version": 3
   },
   "file_extension": ".py",
   "mimetype": "text/x-python",
   "name": "python",
   "nbconvert_exporter": "python",
   "pygments_lexer": "ipython3",
   "version": "3.9.12"
  }
 },
 "nbformat": 4,
 "nbformat_minor": 5
}
