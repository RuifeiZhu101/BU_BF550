{
 "cells": [
  {
   "cell_type": "code",
   "execution_count": 1,
   "id": "f9f0ebe9",
   "metadata": {},
   "outputs": [],
   "source": [
    "import numpy as np\n",
    "np.set_printoptions(precision=3)\n",
    "np.random.seed(20221110)\n",
    "import matplotlib.pyplot as plt\n",
    "import seaborn as sns\n",
    "sns.set()\n",
    "import scipy.stats as stats"
   ]
  },
  {
   "cell_type": "markdown",
   "id": "8616e0a7",
   "metadata": {},
   "source": [
    "\n",
    "# Estimation\n",
    "\n",
    "Let's start with an example.\n",
    "\n",
    "## The Old faithfull gayser in Yellowstone NP\n",
    "\n",
    "https://www.yellowstonepark.com/things-to-do/geysers-hot-springs/about-old-faithful/\n",
    "\n",
    "\n",
    "<img src=\"Old-Faithful-Aerial_NPSJimPeaco_2400.jpg\" alt=\"OF\" width=\"600\"/>\n",
    "\n",
    "Why is it called that?\n",
    "\n",
    "The question: How faithful is The Old faithful? \n",
    "\n",
    "Times between two erruptions:\n",
    "\n",
    "Years 1948 - 1952: $n=9340$ observations, $\\bar{x}_1=63.3 min$.\n",
    "\n",
    "Years 1983 - 1987: $n=22111$ observations, $\\bar{x}_2=72.1 min$.\n",
    "\n",
    "Fro historical data, let's say that we know that the population standard deviations at those times were:\n",
    "\n",
    "$\\sigma_1=9.17min$ \n",
    "\n",
    "and\n",
    "\n",
    "$\\sigma_2=12.67min$\n",
    "\n",
    "\n",
    "The question we want to ask, has the time between two eruptions changed?\n",
    "\n",
    "We want to have 99% confidence level in our answer.\n",
    "\n",
    "In other words, is $\\mu_1<\\mu_2$, with confidence level $CL=99\\%$?"
   ]
  },
  {
   "cell_type": "code",
   "execution_count": 41,
   "id": "3989a260",
   "metadata": {},
   "outputs": [
    {
     "data": {
      "text/plain": [
       "([], [])"
      ]
     },
     "execution_count": 41,
     "metadata": {},
     "output_type": "execute_result"
    },
    {
     "data": {
      "image/png": "[encoded data removed]",
      "text/plain": [
       "<Figure size 432x288 with 1 Axes>"
      ]
     },
     "metadata": {},
     "output_type": "display_data"
    }
   ],
   "source": [
    "x=np.linspace(50,90,1000)\n",
    "y=np.zeros(1000)\n",
    "fig=plt.plot(x,y)\n",
    "plt.scatter(63.3,0)\n",
    "plt.text(62.8,0.015,r'$\\bar{x}_1$')\n",
    "plt.scatter(72.1,0)\n",
    "plt.text(71.8,0.015,r'$\\bar{x}_2$')\n",
    "plt.xlim([50,90])\n",
    "plt.ylim([-0.01,0.3])\n",
    "plt.arrow(62.8-9.17/2.0,0.05,9.17,0.0,\n",
    "          shape=\"full\",\n",
    "          color=\"black\",\n",
    "          length_includes_head=True, \n",
    "          head_width=0.008,\n",
    "          head_length=0.2)\n",
    "\n",
    "plt.arrow(62.8+9.17/2.0,0.05,-9.17,0.0,\n",
    "          shape=\"full\",\n",
    "          color=\"black\",\n",
    "          length_includes_head=True, \n",
    "          head_width=0.008,\n",
    "          head_length=0.2)\n",
    "plt.text(62.8,0.06,r'$\\sigma_1$')\n",
    "         \n",
    "plt.arrow(72.1-12.67/2.0,0.1,12.67,0.0,\n",
    "          shape=\"full\",\n",
    "          color=\"black\",\n",
    "          length_includes_head=True, \n",
    "          head_width=0.008,\n",
    "          head_length=0.2)\n",
    "\n",
    "plt.arrow(72.1+12.67/2.0,0.1,-12.7,0.0,\n",
    "          shape=\"full\",\n",
    "          color=\"black\",\n",
    "          length_includes_head=True, \n",
    "          head_width=0.008,\n",
    "          head_length=0.2)\n",
    "plt.text(71.8,0.12,r'$\\sigma_2$')\n",
    "         \n",
    "plt.xlabel(r'$\\bar{x}$')\n",
    "plt.yticks([])\n"
   ]
  },
  {
   "cell_type": "markdown",
   "id": "2257e752",
   "metadata": {},
   "source": [
    "What do we know? \n",
    "\n",
    "We have sample means $\\bar{x}_1$ from a sample of size $n_1$ \n",
    "\n",
    "and \n",
    "\n",
    "$\\bar{x}_2$ from a sample of size $n_2$. \n",
    "\n",
    "But, we also know the $\\bf{populations'}$ $\\sigma_1$ and $\\sigma_2$. \n",
    "\n",
    "The question is: are the two populations different? \n",
    "\n",
    "Or, is $\\mu_1 \\neq\\mu_2$.\n",
    "\n",
    "But, the question can be, has the time between eruptions changet to a higher value?\n",
    "\n",
    "Or, is $\\mu_1 <\\mu_2$.\n",
    "\n",
    "These are two different questions. "
   ]
  },
  {
   "cell_type": "markdown",
   "id": "4adafa05",
   "metadata": {},
   "source": [
    "Let's start with a simpler question. Let's estimate $\\mu$ from a sample, if we know $\\sigma$.\n",
    "\n",
    "We have to set some assumptions about the random variable $x$ and the sample.\n",
    "\n",
    " 1. Simple random sample of $n$ drawn values.\n",
    " 2. $\\sigma$ of the population is known.\n",
    " 3. If the distribution of $x$ is normal, any $n$ is fine to assume normal distribution of $\\bar{x}$.\n",
    " 4. If the distribution of $x$ is not normal, $n\\geq30$ is OK to assume normal distribution of $\\bar{x}$ ($n\\geq30$ if we think the distribution is very skewed).\n",
    " \n",
    " ## Point estimate\n",
    "  \n",
    "The mean of a sample of $n$ is called Point estimate or single value estimate $\\bar{x}$ of $\\mu$.\n",
    "\n",
    "The value of $|\\bar{x}-\\mu|$ is called $\\bf{Margin\\ of\\ error}$.\n",
    "\n",
    "What is the probability that this point estimate is correct? \n",
    "\n",
    "Recall the probability to obtain a single point value of a continuous variable: \n",
    "\n",
    "$P(a)=\\int_a^a f(x)dx=?$ --it's 0!\n"
   ]
  },
  {
   "cell_type": "markdown",
   "id": "c7cb9e0f",
   "metadata": {},
   "source": [
    "## Confidence level\n",
    "\n",
    "Let's calculate the $z$ score (variable, transform).\n",
    "\n",
    "$z=\\frac{x-\\mu}{\\sigma}$\n",
    "\n",
    "Confidence level $C$ is the probability that $x$ is in an interval so that\n",
    "\n",
    "$P(-z_c<z<z_c)=C$\n",
    "\n",
    "In other words, it is the probability that if we draw a value of $x$ at random, we will get a result for $z$ that is in this interval. \n",
    "\n",
    "$z_c$ is called a critical value for confidence $C$. \n",
    "\n",
    "\n",
    "Let's look at an example with the Normal distribution. (The population distribution can be other than normal.)"
   ]
  },
  {
   "cell_type": "code",
   "execution_count": 63,
   "id": "ecd8e970",
   "metadata": {},
   "outputs": [
    {
     "data": {
      "image/png": "[encoded data removed]",
      "text/plain": [
       "<Figure size 432x288 with 1 Axes>"
      ]
     },
     "metadata": {},
     "output_type": "display_data"
    }
   ],
   "source": [
    "#How about 2\\sigma?\n",
    "x=np.linspace(-4,4,1000)\n",
    "std_normal_pdf=stats.norm.pdf(x)\n",
    "\n",
    "fig=plt.plot(x,std_normal_pdf)\n",
    "plt.xlabel(\"z\")\n",
    "plt.ylabel(\"f(z)\")\n",
    "\n",
    "t = np.arange(-4,4,1/40)\n",
    "plt.fill_between(\n",
    "        x= x, \n",
    "        y1= std_normal_pdf, \n",
    "        where= (-1.5 < x)&(x < 1.5),\n",
    "        color= \"b\",\n",
    "        alpha= 0.2)\n",
    "        \n",
    "\n",
    "plt.text(-1.5,0.1,r'The shaded area is')\n",
    "plt.text(-1.5,0.08,r'the Confidence level $C$')\n",
    "plt.text(-1.8,-0.02,r'$\\bf{-z_c}$')\n",
    "plt.text(1.3,-0.02,r'$\\bf{+z_c}$')\n",
    "\n",
    "plt.show()"
   ]
  },
  {
   "cell_type": "markdown",
   "id": "e2e755e4",
   "metadata": {},
   "source": [
    "## How to find the interval give a confidence level?"
   ]
  },
  {
   "cell_type": "code",
   "execution_count": 12,
   "id": "7be4bd6b",
   "metadata": {},
   "outputs": [
    {
     "name": "stdout",
     "output_type": "stream",
     "text": [
      "Critical values interval for 68% confidence is (-0.994457883209753, 0.9944578832097535)\n",
      "Critical values interval for 95.5% confidence is (-2.004654461765096, 2.0046544617650968)\n",
      "Critical values interval for 99.8% confidence is (-3.090232306167813, 3.090232306167813)\n"
     ]
    }
   ],
   "source": [
    "#Use the interval method of the distributions\n",
    "print(\"Critical values interval for 68% confidence is\", stats.norm.interval(0.68, loc=0, scale=1))\n",
    "#Why loc and scale? What is this distribution?\n",
    "\n",
    "print(\"Critical values interval for 95.5% confidence is\", stats.norm.interval(0.955, loc=0, scale=1))\n",
    "\n",
    "print(\"Critical values interval for 99.8% confidence is\", stats.norm.interval(0.998, loc=0, scale=1))"
   ]
  },
  {
   "cell_type": "code",
   "execution_count": 14,
   "id": "d62aab86",
   "metadata": {},
   "outputs": [
    {
     "name": "stdout",
     "output_type": "stream",
     "text": [
      "Integral between -1 and 1 is 0.6826894921370859\n",
      "Integral between -2 and 2 is 0.9544997361036416\n",
      "Integral between -3 and 3 is 0.9973002039367398\n"
     ]
    }
   ],
   "source": [
    "#Recall the difference of the integrals (of the cumulative distribution)) \n",
    "print(\"Integral between -1 and 1 is\",stats.norm.cdf(1)-stats.norm.cdf(-1))\n",
    "print(\"Integral between -2 and 2 is\",stats.norm.cdf(2)-stats.norm.cdf(-2))\n",
    "print(\"Integral between -3 and 3 is\",stats.norm.cdf(3)-stats.norm.cdf(-3))"
   ]
  },
  {
   "cell_type": "markdown",
   "id": "6df6a2b8",
   "metadata": {},
   "source": [
    "## What are these intervals for this distribution? (What is the distribution?)"
   ]
  },
  {
   "cell_type": "markdown",
   "id": "431d3ce3",
   "metadata": {},
   "source": [
    "## The case when we estimate the confidence level for the sample mean\n",
    "\n",
    "We know that the distribution of $\\bar{x}$ is Normal, with a mean same as the population mean $\\mu$. \n",
    "\n",
    "We know that the standard deviation of the normal distribution of $\\bar{x}$ is:\n",
    "\n",
    "$\\sigma_{\\bar{x}}=\\frac{\\sigma}{\\sqrt{n}}$\n",
    "\n",
    "where $\\sigma$ is the standard deviation of the population and $n$ is the sample size.\n",
    "\n",
    "So the $z$-score for $\\bar{x}$ is:\n",
    "\n",
    "$z=\\frac{\\bar{x}-\\mu}{\\frac{\\sigma}{\\sqrt{n}}}$"
   ]
  },
  {
   "cell_type": "markdown",
   "id": "1ba0256f",
   "metadata": {},
   "source": [
    "For a confidence level $C$ we have:\n",
    "\n",
    "$P(-z_c<z<z_c)=C$\n",
    "\n",
    "or \n",
    "\n",
    "$P(-z_c\\frac{\\sigma}{\\sqrt{n}}<\\bar{x}-\\mu<z_c\\frac{\\sigma}{\\sqrt{n}})=C$\n",
    "\n",
    "or:\n",
    "\n",
    "$P(\\bar{x}-z_c\\frac{\\sigma}{\\sqrt{n}}<\\mu<\\bar{x}+z_c\\frac{\\sigma}{\\sqrt{n}})=C$\n",
    "\n",
    "\n",
    "The Marging of error is:\n",
    "\n",
    "$E=z_c\\frac{\\sigma}{\\sqrt{n}}$\n",
    "\n",
    "The result of our estimation of $\\mu$ by sampling therefore is:\n",
    "\n",
    "$P(\\bar{x}-E<\\mu<\\bar{x}+E)=C$\n",
    "\n",
    "or:\n",
    "\n",
    "$\\mu=\\bar{x}\\pm E$\n",
    "\n",
    "at confidence level $C$. "
   ]
  },
  {
   "cell_type": "markdown",
   "id": "67cc91a5",
   "metadata": {},
   "source": [
    "Or the best is to say:\n",
    "\n",
    "$\\mu=\\bar{x}\\pm z_c\\frac{\\sigma}{\\sqrt{n}}$\n",
    "\n",
    "where $\\bar{x}$ is the sample mean, \n",
    "\n",
    "$n$ is the sample size, \n",
    "\n",
    "$\\sigma$ is the standard deviation of the population, \n",
    "\n",
    "and $z_c$ is the critical value for the confidence level $C$ in the Standard normal distribution. "
   ]
  },
  {
   "cell_type": "markdown",
   "id": "03180f27",
   "metadata": {},
   "source": [
    "We speak about a $C$ confidence interval for $\\mu$. \n",
    "\n",
    "$C$ is the probability to create an interval containing $\\mu$ when sampling. \n",
    "\n",
    "or:\n",
    "\n",
    "$C$ is the probability that the interval $(\\bar{x}-E,\\bar{x}+E)$ contains $\\mu$.\n",
    "\n",
    "Rule for rounding $E$: same number of decimal places as the standard deviation. "
   ]
  },
  {
   "cell_type": "code",
   "execution_count": 70,
   "id": "aeb17ecf",
   "metadata": {},
   "outputs": [
    {
     "data": {
      "text/markdown": [
       "The estimate for the mean time between erruptions from 1948-1952 is $63.30 \\pm  0.24$ min."
      ],
      "text/plain": [
       "<IPython.core.display.Markdown object>"
      ]
     },
     "metadata": {},
     "output_type": "display_data"
    },
    {
     "data": {
      "text/markdown": [
       "The estimate for the mean time between erruptions from 1983-1987 is $72.10 \\pm  0.22$ min."
      ],
      "text/plain": [
       "<IPython.core.display.Markdown object>"
      ]
     },
     "metadata": {},
     "output_type": "display_data"
    }
   ],
   "source": [
    "#let's calculate the 99% confidence intervals for the Old faithful example.\n",
    "n1=9340\n",
    "x_bar_1=63.3\n",
    "sigma_1=9.17\n",
    "z_99=stats.norm.interval(0.99)\n",
    "E_1=z_99[1]*sigma_1/np.sqrt(n1)\n",
    "\n",
    "\n",
    "n2=22111\n",
    "x_bar_2=72.1\n",
    "sigma_2=12.67\n",
    "z_99=stats.norm.interval(0.99)\n",
    "E_2=z_99[1]*sigma_2/np.sqrt(n2)\n",
    "\n",
    "\n",
    "from IPython.display import display, Markdown\n",
    "\n",
    "display(Markdown(rf\"\"\"The estimate for the mean time between erruptions from 1948-1952 is ${\"{:.2f}\".format(x_bar_1)} \\pm  {\"{:.2f}\".format(E_1)}$ min.\"\"\"))\n",
    "\n",
    "display(Markdown(rf\"\"\"The estimate for the mean time between erruptions from 1983-1987 is ${\"{:.2f}\".format(x_bar_2)} \\pm  {\"{:.2f}\".format(E_2)}$ min.\"\"\"))"
   ]
  },
  {
   "cell_type": "markdown",
   "id": "13e94ead",
   "metadata": {},
   "source": [
    "From https://www.nps.gov/yell/planyourvisit/exploreoldfaithful.htm\n",
    "\n",
    "Since its formal discovery in 1870, Old Faithful has been one of the more predictable geysers. Over time, the average interval between eruptions has increased, in part due to ongoing processes within its plumbing. Changes also result from earthquakes. Prior to the Hebgen Lake Earthquake (1959), the interval between Old Faithful’s eruptions averaged more than one hour. After the earthquake, it started erupting with two distinct intervals—a short and a long one. Its average interval increased. After the 1983 Borah Peak Earthquake, centered in Idaho, it increased again. In 1998, an earthquake near Old Faithful lengthened the interval again; subsequent earthquake swarms further increased intervals. Sometimes the average interval decreases."
   ]
  },
  {
   "cell_type": "markdown",
   "id": "763fe0c9",
   "metadata": {},
   "source": [
    "## Sample size estimation\n",
    "\n",
    "We can ask a related question:\n",
    "\n",
    "What should be the sample size $n$, if we want to estimate $\\mu$ within a margin of error $E$, with confidence $C$?\n",
    "\n",
    "Recall:\n",
    "\n",
    "$E=z_c\\frac{\\sigma}{\\sqrt{n}}$\n",
    "\n",
    "so:\n",
    "\n",
    "$n=(\\frac{z_c\\sigma}{E})^2$"
   ]
  },
  {
   "cell_type": "markdown",
   "id": "732fb748",
   "metadata": {},
   "source": [
    "Example:\n",
    "\n",
    "Mean weight of caught salmon in Alaska.\n",
    "\n",
    "Let's assume that we know the standard deviation of the weight of salmon is $\\sigma=2.15$ Lb.\n",
    "\n",
    "We want to estimate the mean salmon weight in Alaska withing a margin of error of $E=0.2$ Lb and with confidence of $C=99\\%$."
   ]
  },
  {
   "cell_type": "code",
   "execution_count": 69,
   "id": "311967e3",
   "metadata": {},
   "outputs": [
    {
     "name": "stdout",
     "output_type": "stream",
     "text": [
      "The sample size to estimate the mean salmon weight is 767 .\n"
     ]
    }
   ],
   "source": [
    "E=0.2\n",
    "sigma=2.15\n",
    "C=0.99\n",
    "\n",
    "#We know z_99\n",
    "z_99=stats.norm.interval(0.99)\n",
    "\n",
    "#so\n",
    "\n",
    "n=(z_99[1]*sigma/E)**2\n",
    "\n",
    "print(\"The sample size to estimate the mean salmon weight is\",\"{:.0f}\".format(n),'.')"
   ]
  }
 ],
 "metadata": {
  "kernelspec": {
   "display_name": "Python 3 (ipykernel)",
   "language": "python",
   "name": "python3"
  },
  "language_info": {
   "codemirror_mode": {
    "name": "ipython",
    "version": 3
   },
   "file_extension": ".py",
   "mimetype": "text/x-python",
   "name": "python",
   "nbconvert_exporter": "python",
   "pygments_lexer": "ipython3",
   "version": "3.9.12"
  }
 },
 "nbformat": 4,
 "nbformat_minor": 5
}
