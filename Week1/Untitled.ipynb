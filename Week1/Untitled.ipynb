{
 "cells": [
  {
   "cell_type": "markdown",
   "id": "28c4950b-9570-4a1e-96c6-1adfaf3f50bf",
   "metadata": {},
   "source": [
    "a = 'string'"
   ]
  },
  {
   "cell_type": "code",
   "execution_count": 5,
   "id": "e3323882-d710-4326-af3e-8f8fec49bdcb",
   "metadata": {},
   "outputs": [
    {
     "data": {
      "text/plain": [
       "'string'"
      ]
     },
     "execution_count": 5,
     "metadata": {},
     "output_type": "execute_result"
    }
   ],
   "source": [
    "a = 'string'\n",
    "a"
   ]
  },
  {
   "cell_type": "code",
   "execution_count": null,
   "id": "769f5306-e09b-4cc1-8575-e0773ba71df3",
   "metadata": {},
   "outputs": [],
   "source": []
  },
  {
   "cell_type": "code",
   "execution_count": 1,
   "id": "f901c3bc-87e8-4d25-aae3-075275695a90",
   "metadata": {},
   "outputs": [
    {
     "data": {
      "text/plain": [
       "'string'"
      ]
     },
     "execution_count": 1,
     "metadata": {},
     "output_type": "execute_result"
    }
   ],
   "source": [
    "'string'"
   ]
  },
  {
   "cell_type": "code",
   "execution_count": 2,
   "id": "a39b5950-ff66-4e56-8ed3-90c4cc3dbce5",
   "metadata": {},
   "outputs": [
    {
     "data": {
      "text/plain": [
       "'string'"
      ]
     },
     "execution_count": 2,
     "metadata": {},
     "output_type": "execute_result"
    }
   ],
   "source": [
    "b = 'string'\n",
    "b"
   ]
  },
  {
   "cell_type": "code",
   "execution_count": 3,
   "id": "46a3c99e-7148-45cb-a0c6-43d5c42dfc3a",
   "metadata": {},
   "outputs": [
    {
     "data": {
      "text/plain": [
       "'string'"
      ]
     },
     "execution_count": 3,
     "metadata": {},
     "output_type": "execute_result"
    }
   ],
   "source": [
    "b"
   ]
  },
  {
   "cell_type": "code",
   "execution_count": 4,
   "id": "66f2106d-6781-424c-ab47-789217ee1264",
   "metadata": {},
   "outputs": [
    {
     "data": {
      "text/plain": [
       "'vary'"
      ]
     },
     "execution_count": 4,
     "metadata": {},
     "output_type": "execute_result"
    }
   ],
   "source": [
    "b = 'vary'\n",
    "b"
   ]
  },
  {
   "cell_type": "code",
   "execution_count": 6,
   "id": "7c26cc71-7000-4d12-bc47-51048bcfa8a8",
   "metadata": {},
   "outputs": [
    {
     "data": {
      "text/plain": [
       "False"
      ]
     },
     "execution_count": 6,
     "metadata": {},
     "output_type": "execute_result"
    }
   ],
   "source": [
    "a == b"
   ]
  },
  {
   "cell_type": "code",
   "execution_count": 7,
   "id": "01564574-aba4-4685-8232-082b8c32de78",
   "metadata": {},
   "outputs": [
    {
     "data": {
      "text/plain": [
       "'string'"
      ]
     },
     "execution_count": 7,
     "metadata": {},
     "output_type": "execute_result"
    }
   ],
   "source": [
    "b = 'string'\n",
    "b"
   ]
  },
  {
   "cell_type": "code",
   "execution_count": 8,
   "id": "81f15b1f-8194-42eb-858f-952de13a729c",
   "metadata": {},
   "outputs": [
    {
     "data": {
      "text/plain": [
       "True"
      ]
     },
     "execution_count": 8,
     "metadata": {},
     "output_type": "execute_result"
    }
   ],
   "source": [
    "a == b"
   ]
  },
  {
   "cell_type": "code",
   "execution_count": 10,
   "id": "a2493b69-eb5c-4cf9-934a-3cfae1265c15",
   "metadata": {},
   "outputs": [
    {
     "data": {
      "text/plain": [
       "3"
      ]
     },
     "execution_count": 10,
     "metadata": {},
     "output_type": "execute_result"
    }
   ],
   "source": [
    "c = [1,2,3,4]\n",
    "c [2]"
   ]
  },
  {
   "cell_type": "code",
   "execution_count": 11,
   "id": "a74e1c80-0fb8-41e7-b4b2-2dfe8eba5b36",
   "metadata": {},
   "outputs": [
    {
     "data": {
      "text/plain": [
       "'r'"
      ]
     },
     "execution_count": 11,
     "metadata": {},
     "output_type": "execute_result"
    }
   ],
   "source": [
    "a[2]"
   ]
  },
  {
   "cell_type": "code",
   "execution_count": 14,
   "id": "2cda5f8e-6ed0-447b-817f-4310b167d7c0",
   "metadata": {},
   "outputs": [
    {
     "data": {
      "text/plain": [
       "['', 'ariable ', 'alues colors']"
      ]
     },
     "execution_count": 14,
     "metadata": {},
     "output_type": "execute_result"
    }
   ],
   "source": [
    "d = 'variable values colors'\n",
    "d.split('v')"
   ]
  },
  {
   "cell_type": "code",
   "execution_count": 15,
   "id": "8d9f1be0-afa5-45e4-acfb-ba28b6e4a5db",
   "metadata": {},
   "outputs": [
    {
     "data": {
      "text/plain": [
       "False"
      ]
     },
     "execution_count": 15,
     "metadata": {},
     "output_type": "execute_result"
    }
   ],
   "source": [
    "e = ''\n",
    "e == ' '"
   ]
  },
  {
   "cell_type": "code",
   "execution_count": 16,
   "id": "da45817a-b6d8-4c2e-a756-8f3f9de1bbf9",
   "metadata": {},
   "outputs": [
    {
     "data": {
      "text/plain": [
       "'s'"
      ]
     },
     "execution_count": 16,
     "metadata": {},
     "output_type": "execute_result"
    }
   ],
   "source": [
    "d[-1]"
   ]
  },
  {
   "cell_type": "code",
   "execution_count": 21,
   "id": "58100986-e42b-4d95-b865-860180d1649f",
   "metadata": {},
   "outputs": [
    {
     "data": {
      "text/plain": [
       "{'key': 'value', 1: 2, 3: 4, 'cool': 'beans'}"
      ]
     },
     "execution_count": 21,
     "metadata": {},
     "output_type": "execute_result"
    }
   ],
   "source": [
    "f = {'key' : 'value', 1:2, 3:4, 'cool': 'beans'}\n",
    "f"
   ]
  },
  {
   "cell_type": "code",
   "execution_count": 22,
   "id": "f3203bb7-05be-44fe-a59e-b528cd97ef59",
   "metadata": {},
   "outputs": [
    {
     "data": {
      "text/plain": [
       "'beans'"
      ]
     },
     "execution_count": 22,
     "metadata": {},
     "output_type": "execute_result"
    }
   ],
   "source": [
    "f['cool']"
   ]
  },
  {
   "cell_type": "code",
   "execution_count": 24,
   "id": "f43ae669-5a38-41cb-bbfd-87e34a01fd3f",
   "metadata": {},
   "outputs": [
    {
     "name": "stdout",
     "output_type": "stream",
     "text": [
      "shdjghs\n",
      "beans\n"
     ]
    }
   ],
   "source": [
    "print('shdjghs')\n",
    "print(f['cool'])"
   ]
  },
  {
   "cell_type": "code",
   "execution_count": 25,
   "id": "95af3965-e432-4795-85f8-ee1f4ee5a598",
   "metadata": {},
   "outputs": [
    {
     "ename": "KeyError",
     "evalue": "0",
     "output_type": "error",
     "traceback": [
      "\u001b[0;31m---------------------------------------------------------------------------\u001b[0m",
      "\u001b[0;31mKeyError\u001b[0m                                  Traceback (most recent call last)",
      "Input \u001b[0;32mIn [25]\u001b[0m, in \u001b[0;36m<cell line: 1>\u001b[0;34m()\u001b[0m\n\u001b[0;32m----> 1\u001b[0m \u001b[43mf\u001b[49m\u001b[43m[\u001b[49m\u001b[38;5;241;43m0\u001b[39;49m\u001b[43m]\u001b[49m\n",
      "\u001b[0;31mKeyError\u001b[0m: 0"
     ]
    }
   ],
   "source": [
    "f[0]"
   ]
  },
  {
   "cell_type": "code",
   "execution_count": 29,
   "id": "feb056e2-742f-4037-98df-58beb3d0f40f",
   "metadata": {},
   "outputs": [],
   "source": [
    "def myfunction():\n",
    "    print(1+2)"
   ]
  },
  {
   "cell_type": "code",
   "execution_count": 30,
   "id": "bad4d2f3-7c38-4e5e-afd4-6c13b3ad49a8",
   "metadata": {},
   "outputs": [
    {
     "name": "stdout",
     "output_type": "stream",
     "text": [
      "3\n"
     ]
    }
   ],
   "source": [
    "myfunction()"
   ]
  },
  {
   "cell_type": "code",
   "execution_count": 31,
   "id": "5b155629-a11c-422d-86fa-7cdd6ad172be",
   "metadata": {},
   "outputs": [
    {
     "data": {
      "text/plain": [
       "3"
      ]
     },
     "execution_count": 31,
     "metadata": {},
     "output_type": "execute_result"
    }
   ],
   "source": [
    "def myfunction():\n",
    "    return 3\n",
    "a = myfunction()\n",
    "a"
   ]
  },
  {
   "cell_type": "code",
   "execution_count": null,
   "id": "3d94683b-792f-4ab7-bbc9-36e745513c36",
   "metadata": {},
   "outputs": [],
   "source": []
  }
 ],
 "metadata": {
  "kernelspec": {
   "display_name": "Python 3 (ipykernel)",
   "language": "python",
   "name": "python3"
  },
  "language_info": {
   "codemirror_mode": {
    "name": "ipython",
    "version": 3
   },
   "file_extension": ".py",
   "mimetype": "text/x-python",
   "name": "python",
   "nbconvert_exporter": "python",
   "pygments_lexer": "ipython3",
   "version": "3.9.12"
  }
 },
 "nbformat": 4,
 "nbformat_minor": 5
}
