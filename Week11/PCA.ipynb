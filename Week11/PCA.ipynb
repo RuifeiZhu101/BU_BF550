{
 "cells": [
  {
   "cell_type": "code",
   "execution_count": 1,
   "id": "75dfa345",
   "metadata": {},
   "outputs": [],
   "source": [
    "%matplotlib qt\n",
    "import numpy as np\n",
    "np.random.seed(2022)\n",
    "import matplotlib.pyplot as plt\n",
    "import seaborn as sns\n",
    "sns.set()\n",
    "import scipy.stats as stats\n",
    "\n",
    "# PCA imports\n",
    "from sklearn.decomposition import PCA\n"
   ]
  },
  {
   "cell_type": "markdown",
   "id": "358490c8",
   "metadata": {},
   "source": [
    "### Principal Component Analysis\n",
    "\n",
    "The goal of PCA is to find the axis of the greatest spread in the data, PC1. \n",
    "\n",
    "Then the axis of the second greatest spread, PC2, the PC3 and so on...\n",
    "\n",
    "After that, once you know the vectors that define these axes, you can project the data on that subspace. \n",
    "\n",
    "The space of two greatest spreads is (PC1, PC2), you can choose the two next after PC1, (PC2, PC3) etc.\n"
   ]
  },
  {
   "cell_type": "markdown",
   "id": "7352e886",
   "metadata": {},
   "source": [
    "##### The principal components are the Eigenvectors of the Covariance matrix.\n",
    "\n",
    "The Eigenvectors are the PC axes. \n",
    "\n",
    "The Eigenvales \"explain\" the variances. \n",
    "\n",
    "Note that in the coordinate system where the axes align with the directions of greatest spread, the covariance matrix is diagonal. \n",
    "\n",
    "If we create different variables, linear combos of the original ones, \n",
    "the K matrix on the diagonal has the variances of these new variables. "
   ]
  },
  {
   "cell_type": "code",
   "execution_count": 2,
   "id": "5395f75b",
   "metadata": {},
   "outputs": [
    {
     "name": "stdout",
     "output_type": "stream",
     "text": [
      "(7, 2)\n"
     ]
    },
    {
     "data": {
      "text/plain": [
       "Text(0, 0.5, '$x_2$')"
      ]
     },
     "execution_count": 2,
     "metadata": {},
     "output_type": "execute_result"
    }
   ],
   "source": [
    "#Example\n",
    "x=np.array([[0,0],[1,1],[2,2],[3,3],[4,4],[1,3],[3,1]])\n",
    "print(x.shape)\n",
    "\n",
    "fig =plt.figure()\n",
    "ax=fig.add_subplot()\n",
    "ax.scatter(x.T[0],x.T[1])\n",
    "ax.set_aspect('equal')\n",
    "plt.xlabel(r'$x_1$')\n",
    "plt.ylabel(r'$x_2$')"
   ]
  },
  {
   "cell_type": "code",
   "execution_count": 3,
   "id": "8333dcce",
   "metadata": {},
   "outputs": [
    {
     "data": {
      "text/plain": [
       "array([[2.        , 1.33333333],\n",
       "       [1.33333333, 2.        ]])"
      ]
     },
     "execution_count": 3,
     "metadata": {},
     "output_type": "execute_result"
    }
   ],
   "source": [
    "#Let's assemble the covariance matrix\n",
    "K=np.cov(x.T)\n",
    "K"
   ]
  },
  {
   "cell_type": "code",
   "execution_count": 4,
   "id": "ff4c4176",
   "metadata": {},
   "outputs": [
    {
     "name": "stdout",
     "output_type": "stream",
     "text": [
      "The eigen values are: [3.33333333 0.66666667]\n",
      "The eigenvectors are: [[ 0.70710678 -0.70710678]\n",
      " [ 0.70710678  0.70710678]]\n"
     ]
    }
   ],
   "source": [
    "#Let's solve the eigenproblem for K\n",
    "w,v=np.linalg.eig(K)\n",
    "print(\"The eigen values are:\",w)\n",
    "print(\"The eigenvectors are:\",v)"
   ]
  },
  {
   "cell_type": "markdown",
   "id": "8ed904e0",
   "metadata": {},
   "source": [
    "So the eigenvectors are:\n",
    "\n",
    "$PC1=\\frac{1}{2}\\begin{pmatrix}1\\\\1\\end{pmatrix}$ with eigenvalue $w_1=6.6$\n",
    "\n",
    "and \n",
    "\n",
    "$PC2=\\frac{1}{2}\\begin{pmatrix}1\\\\-1\\end{pmatrix}$ with eigenvalue $w_1=3.3$\n",
    "\n",
    "Here I ordered the eigenvalues from larger to smaller.\n",
    "\n",
    "To go from the original coordinate system \n",
    "$x_1=\\begin{pmatrix}1\\\\0\\end{pmatrix}$ and $x_2=\\begin{pmatrix}0\\\\1\\end{pmatrix}$\n",
    "\n",
    "to the new one, we need to rotate by 45 degrees clockwise with:\n",
    "\n",
    "$R=\\begin{pmatrix}cos(\\pi/4)&sin(\\pi/4)\\\\-sin(\\pi/4)&cos(\\pi/4)\\end{pmatrix}$"
   ]
  },
  {
   "cell_type": "code",
   "execution_count": 5,
   "id": "8e92d66d",
   "metadata": {},
   "outputs": [
    {
     "data": {
      "text/plain": [
       "array([2., 2.])"
      ]
     },
     "execution_count": 5,
     "metadata": {},
     "output_type": "execute_result"
    }
   ],
   "source": [
    "#First, lets find the means:\n",
    "x_bar=np.mean(x,axis=0)\n",
    "x_bar"
   ]
  },
  {
   "cell_type": "code",
   "execution_count": 6,
   "id": "80a1d4c8",
   "metadata": {},
   "outputs": [
    {
     "data": {
      "text/plain": [
       "Text(0, 0.5, '$x_2$')"
      ]
     },
     "execution_count": 6,
     "metadata": {},
     "output_type": "execute_result"
    }
   ],
   "source": [
    "#Then center the data\n",
    "x_c=x-x_bar\n",
    "x_c\n",
    "\n",
    "fig =plt.figure()\n",
    "ax=fig.add_subplot()\n",
    "ax.scatter(x_c.T[0],x_c.T[1])\n",
    "ax.set_aspect('equal')\n",
    "plt.xlabel(r'$x_1$')\n",
    "plt.ylabel(r'$x_2$')"
   ]
  },
  {
   "cell_type": "code",
   "execution_count": 7,
   "id": "eb089b49",
   "metadata": {},
   "outputs": [
    {
     "data": {
      "text/plain": [
       "Text(0, 0.5, '$x_2$')"
      ]
     },
     "execution_count": 7,
     "metadata": {},
     "output_type": "execute_result"
    }
   ],
   "source": [
    "#Then rotate clockwise by 45 degrees\n",
    "R=[[np.cos(np.pi/4),np.sin(np.pi/4)],[-np.sin(np.pi/4),np.cos(np.pi/4)]]\n",
    "\n",
    "x_pca=np.matmul(R,x_c.T)\n",
    "\n",
    "fig =plt.figure()\n",
    "ax=fig.add_subplot()\n",
    "ax.scatter(x_pca[0],x_pca[1])\n",
    "ax.set_aspect('equal')\n",
    "plt.xlabel(r'$x_1$')\n",
    "plt.ylabel(r'$x_2$')\n"
   ]
  },
  {
   "cell_type": "markdown",
   "id": "9a14e467",
   "metadata": {},
   "source": [
    "###### Let's try the same in 3D"
   ]
  },
  {
   "cell_type": "code",
   "execution_count": 8,
   "id": "637fb968",
   "metadata": {},
   "outputs": [
    {
     "data": {
      "text/plain": [
       "(-1.0, 15.0)"
      ]
     },
     "execution_count": 8,
     "metadata": {},
     "output_type": "execute_result"
    }
   ],
   "source": [
    "#Let's cretae the data first.\n",
    "x_1=np.random.normal(loc=3,scale=1.0,size=100)\n",
    "x_2=np.random.normal(loc=2,scale=0.8,size=100)\n",
    "x_3=np.random.normal(loc=1,scale=0.01,size=100)\n",
    "\n",
    "x=np.array([x_1,x_2,x_1+2*x_2])\n",
    "\n",
    "#Rotate with our matrix, around (1,1,1)\n",
    "#R=np.array([[0,1,0],[0,0,1],[1,0,0]])\n",
    "\n",
    "fig = plt.figure()\n",
    "ax = fig.add_subplot(projection='3d')\n",
    "\n",
    "#ax.scatter(x_r[0],x_r[1],x_r[2])\n",
    "\n",
    "ax.scatter(x[0],x[1],x[2],color='b')\n",
    "\n",
    "ax.plot(x[0],x[1],'r+',zdir='z')\n",
    "ax.plot(x[0],x[2],'g+',zdir='y')\n",
    "ax.plot(x[1],x[2],'k+',zdir='x')\n",
    "\n",
    "\n",
    "ax.set_xlabel(r'$x_1$')\n",
    "ax.set_ylabel(r'$x_2$')\n",
    "ax.set_zlabel(r'$x_3$')\n",
    "\n",
    "ax.set_xlim((-1,8))\n",
    "ax.set_ylim((-1,6))\n",
    "ax.set_zlim((-1,15))"
   ]
  },
  {
   "cell_type": "code",
   "execution_count": 9,
   "id": "bd1e3452",
   "metadata": {},
   "outputs": [
    {
     "data": {
      "text/plain": [
       "(-1.0, 15.0)"
      ]
     },
     "execution_count": 9,
     "metadata": {},
     "output_type": "execute_result"
    }
   ],
   "source": [
    "#Let's cretae the data first.\n",
    "x_1=np.random.normal(loc=3,scale=1.0,size=100)\n",
    "x_2=np.random.normal(loc=2,scale=0.8,size=100)\n",
    "x_3=np.random.normal(loc=1,scale=0.01,size=100)\n",
    "\n",
    "x=np.array([x_1,x_2,x_1+2*x_2])\n",
    "\n",
    "#Rotate with our matrix, around (1,1,1)\n",
    "#R=np.array([[0,1,0],[0,0,1],[1,0,0]])\n",
    "\n",
    "fig = plt.figure()\n",
    "ax = fig.add_subplot(projection='3d')\n",
    "\n",
    "#ax.scatter(x_r[0],x_r[1],x_r[2])\n",
    "\n",
    "ax.scatter(x[0],x[1],x[2],color='b')\n",
    "\n",
    "#ax.plot(x[0],x[1],'r+',zdir='z')\n",
    "#ax.plot(x[0],x[2],'g+',zdir='y')\n",
    "#ax.plot(x[1],x[2],'k+',zdir='x')\n",
    "\n",
    "\n",
    "ax.set_xlabel(r'$x_1$')\n",
    "ax.set_ylabel(r'$x_2$')\n",
    "ax.set_zlabel(r'$x_3$')\n",
    "\n",
    "ax.set_xlim((-1,15))\n",
    "ax.set_ylim((-1,15))\n",
    "ax.set_zlim((-1,15))"
   ]
  },
  {
   "cell_type": "code",
   "execution_count": 10,
   "id": "c1b0ab3a",
   "metadata": {},
   "outputs": [
    {
     "data": {
      "text/plain": [
       "array([[0.84173877, 0.05053622, 0.94281121],\n",
       "       [0.05053622, 0.74488086, 1.54029793],\n",
       "       [0.94281121, 1.54029793, 4.02340707]])"
      ]
     },
     "execution_count": 10,
     "metadata": {},
     "output_type": "execute_result"
    }
   ],
   "source": [
    "#Let's calculate the cov matrix\n",
    "K=np.cov(x)\n",
    "K"
   ]
  },
  {
   "cell_type": "code",
   "execution_count": null,
   "id": "90e6ffc3",
   "metadata": {},
   "outputs": [],
   "source": []
  },
  {
   "cell_type": "code",
   "execution_count": 11,
   "id": "65f5acb6",
   "metadata": {},
   "outputs": [
    {
     "name": "stdout",
     "output_type": "stream",
     "text": [
      "Variance Explained:  [8.61876379e-01 1.38123621e-01 1.87583898e-31]\n"
     ]
    },
    {
     "data": {
      "text/plain": [
       "Text(0, 0.5, 'PC2')"
      ]
     },
     "execution_count": 11,
     "metadata": {},
     "output_type": "execute_result"
    }
   ],
   "source": [
    "# finding principle components\n",
    "pca = PCA(n_components = 3) # this defines the model\n",
    "#x_fit=pca.fit(x.T) # this fits the model\n",
    "# a good measure of performance\n",
    "#print('Variance Explained: ', pca.explained_variance_ratio_)\n",
    "\n",
    "# PCA vizualization\n",
    "X_pca = pca.fit_transform(x.T) # transform the dafiginto PCA space\n",
    "print('Variance Explained: ', pca.explained_variance_ratio_)\n",
    "\n",
    "fig =plt.figure()\n",
    "ax=fig.add_subplot()\n",
    "ax.scatter(X_pca[:,0],X_pca[:,1])\n",
    "ax.set_aspect('equal')\n",
    "ax.set_xlim([-6,6])\n",
    "ax.set_ylim([-6,6])\n",
    "plt.xlabel('PC1')\n",
    "plt.ylabel('PC2')"
   ]
  },
  {
   "cell_type": "code",
   "execution_count": 12,
   "id": "78cbf596",
   "metadata": {},
   "outputs": [
    {
     "data": {
      "text/plain": [
       "Text(0, 0.5, 'PC3')"
      ]
     },
     "execution_count": 12,
     "metadata": {},
     "output_type": "execute_result"
    }
   ],
   "source": [
    "fig =plt.figure()\n",
    "ax=fig.add_subplot()\n",
    "ax.scatter(X_pca[:,0],X_pca[:,2])\n",
    "ax.set_aspect('equal')\n",
    "ax.set_xlim([-6,6])\n",
    "ax.set_ylim([-6,6])\n",
    "plt.xlabel('PC1')\n",
    "plt.ylabel('PC3')"
   ]
  },
  {
   "cell_type": "code",
   "execution_count": 13,
   "id": "ee0c97e5",
   "metadata": {},
   "outputs": [
    {
     "data": {
      "text/plain": [
       "Text(0, 0.5, 'PC3')"
      ]
     },
     "execution_count": 13,
     "metadata": {},
     "output_type": "execute_result"
    }
   ],
   "source": [
    "fig =plt.figure()\n",
    "ax=fig.add_subplot()\n",
    "ax.scatter(X_pca[:,1],X_pca[:,2])\n",
    "ax.set_aspect('equal')\n",
    "ax.set_xlim([-6,6])\n",
    "ax.set_ylim([-6,6])\n",
    "plt.xlabel('PC2')\n",
    "plt.ylabel('PC3')"
   ]
  },
  {
   "cell_type": "code",
   "execution_count": 14,
   "id": "c32ec354",
   "metadata": {},
   "outputs": [
    {
     "data": {
      "text/plain": [
       "(-10.0, 15.0)"
      ]
     },
     "execution_count": 14,
     "metadata": {},
     "output_type": "execute_result"
    }
   ],
   "source": [
    "#Let's cretae the data first.\n",
    "x_1=np.random.normal(loc=1,scale=1.0,size=100)\n",
    "x_2=np.random.normal(loc=1,scale=1.2,size=100)\n",
    "x_3=np.random.normal(loc=1,scale=0.7,size=100)\n",
    "\n",
    "x=np.array([x_1,x_2,x_1+2*x_2+x_3])\n",
    "\n",
    "#Rotate with our matrix, around (1,1,1)\n",
    "#R=np.array([[0,1,0],[0,0,1],[1,0,0]])\n",
    "\n",
    "fig = plt.figure()\n",
    "ax = fig.add_subplot(projection='3d')\n",
    "\n",
    "#ax.scatter(x_r[0],x_r[1],x_r[2])\n",
    "\n",
    "ax.scatter(x[0],x[1],x[2],color='b')\n",
    "\n",
    "#ax.plot(x[0],x[1],'r+',zdir='z')\n",
    "#ax.plot(x[0],x[2],'g+',zdir='y')\n",
    "#ax.plot(x[1],x[2],'k+',zdir='x')\n",
    "\n",
    "\n",
    "ax.set_xlabel(r'$x_1$')\n",
    "ax.set_ylabel(r'$x_2$')\n",
    "ax.set_zlabel(r'$x_3$')\n",
    "\n",
    "ax.set_xlim((-10,10))\n",
    "ax.set_ylim((-10,10))\n",
    "ax.set_zlim((-10,15))"
   ]
  },
  {
   "cell_type": "code",
   "execution_count": 15,
   "id": "d32fc7f0",
   "metadata": {},
   "outputs": [
    {
     "name": "stdout",
     "output_type": "stream",
     "text": [
      "Variance Explained:  [0.89129524 0.1016083  0.00709646]\n"
     ]
    },
    {
     "data": {
      "text/plain": [
       "Text(0, 0.5, 'PC2  10.2%')"
      ]
     },
     "execution_count": 15,
     "metadata": {},
     "output_type": "execute_result"
    }
   ],
   "source": [
    "# finding principle components\n",
    "pca = PCA(n_components = 3) # this defines the model\n",
    "#x_fit=pca.fit(x.T) # this fits the model\n",
    "# a good measure of performance\n",
    "#print('Variance Explained: ', pca.explained_variance_ratio_)\n",
    "\n",
    "# PCA vizualization\n",
    "X_pca = pca.fit_transform(x.T) # transform the dafiginto PCA space\n",
    "print('Variance Explained: ', pca.explained_variance_ratio_)\n",
    "\n",
    "fig =plt.figure()\n",
    "ax=fig.add_subplot()\n",
    "ax.scatter(X_pca[:,0],X_pca[:,1])\n",
    "ax.set_aspect('equal')\n",
    "ax.set_xlim([-10,10])\n",
    "ax.set_ylim([-10,10])\n",
    "plt.xlabel('PC1  '+str(100*round(pca.explained_variance_ratio_[0],3))+'%')\n",
    "plt.ylabel('PC2  '+str(100*round(pca.explained_variance_ratio_[1],3))+'%')"
   ]
  },
  {
   "cell_type": "code",
   "execution_count": 16,
   "id": "98a6f468",
   "metadata": {},
   "outputs": [
    {
     "data": {
      "text/plain": [
       "Text(0, 0.5, 'PC3 0.7000000000000001%')"
      ]
     },
     "execution_count": 16,
     "metadata": {},
     "output_type": "execute_result"
    }
   ],
   "source": [
    "fig =plt.figure()\n",
    "ax=fig.add_subplot()\n",
    "ax.scatter(X_pca[:,0],X_pca[:,2])\n",
    "ax.set_aspect('equal')\n",
    "ax.set_xlim([-10,10])\n",
    "ax.set_ylim([-10,10])\n",
    "plt.xlabel('PC1 '+str(100*round(pca.explained_variance_ratio_[0],3))+'%')\n",
    "plt.ylabel('PC3 '+str(100*round(pca.explained_variance_ratio_[2],3))+'%')"
   ]
  },
  {
   "cell_type": "code",
   "execution_count": 17,
   "id": "11363ab2",
   "metadata": {},
   "outputs": [
    {
     "data": {
      "text/plain": [
       "Text(0, 0.5, 'PC3 0.7000000000000001%')"
      ]
     },
     "execution_count": 17,
     "metadata": {},
     "output_type": "execute_result"
    }
   ],
   "source": [
    "fig =plt.figure()\n",
    "ax=fig.add_subplot()\n",
    "ax.scatter(X_pca[:,1],X_pca[:,2])\n",
    "ax.set_aspect('equal')\n",
    "ax.set_xlim([-6,6])\n",
    "ax.set_ylim([-6,6])\n",
    "plt.xlabel('PC2 '+str(100*round(pca.explained_variance_ratio_[1],3))+'%')\n",
    "plt.ylabel('PC3 '+str(100*round(pca.explained_variance_ratio_[2],3))+'%')"
   ]
  },
  {
   "cell_type": "markdown",
   "id": "d0669309",
   "metadata": {},
   "source": [
    "#### Dimensionality reduction\n",
    "\n",
    "PCA can be used to reduce the dimensionality of the data, so we can proceed with another type of analysis.\n",
    "\n",
    "After we reduce the dimensions, we can cluster, for example."
   ]
  },
  {
   "cell_type": "code",
   "execution_count": 21,
   "id": "46cc868a",
   "metadata": {},
   "outputs": [
    {
     "data": {
      "text/plain": [
       "(-10.0, 25.0)"
      ]
     },
     "execution_count": 21,
     "metadata": {},
     "output_type": "execute_result"
    }
   ],
   "source": [
    "#Let's create two clusters\n",
    "\n",
    "#Let's cretae the data first.\n",
    "z_1=np.random.normal(loc=1,scale=1.0,size=100)\n",
    "z_2=np.random.normal(loc=1,scale=1.2,size=100)\n",
    "z_3=np.random.normal(loc=1,scale=0.7,size=100)\n",
    "\n",
    "y_1=np.random.normal(loc=5,scale=0.1,size=100)\n",
    "y_2=np.random.normal(loc=5,scale=1.2,size=100)\n",
    "y_3=np.random.normal(loc=5,scale=1.0,size=100)\n",
    "\n",
    "x_1=np.concatenate((y_1,z_1),axis=0)\n",
    "x_2=np.concatenate((y_2,z_2),axis=0)\n",
    "x_3=np.concatenate((y_3,z_3),axis=0)\n",
    "\n",
    "x=np.array([x_1,x_2,x_1+2*x_2+x_3])\n",
    "\n",
    "\n",
    "#Rotate with our matrix, around (1,1,1)\n",
    "#R=np.array([[0,1,0],[0,0,1],[1,0,0]])\n",
    "\n",
    "fig = plt.figure()\n",
    "ax = fig.add_subplot(projection='3d')\n",
    "\n",
    "#ax.scatter(x_r[0],x_r[1],x_r[2])\n",
    "\n",
    "ax.scatter(x[0],x[1],x[2],color='b')\n",
    "\n",
    "#ax.plot(x[0],x[1],'r+',zdir='z')\n",
    "#ax.plot(x[0],x[2],'g+',zdir='y')\n",
    "#ax.plot(x[1],x[2],'k+',zdir='x')\n",
    "\n",
    "\n",
    "ax.set_xlabel(r'$x_1$')\n",
    "ax.set_ylabel(r'$x_2$')\n",
    "ax.set_zlabel(r'$x_3$')\n",
    "\n",
    "ax.set_xlim((-10,25))\n",
    "ax.set_ylim((-10,25))\n",
    "ax.set_zlim((-10,25))"
   ]
  },
  {
   "cell_type": "code",
   "execution_count": 24,
   "id": "b2854911",
   "metadata": {},
   "outputs": [
    {
     "name": "stdout",
     "output_type": "stream",
     "text": [
      "Variance Explained:  [0.9887569  0.00966381 0.00157928]\n"
     ]
    },
    {
     "data": {
      "text/plain": [
       "Text(0, 0.5, 'PC3  0.2%')"
      ]
     },
     "execution_count": 24,
     "metadata": {},
     "output_type": "execute_result"
    }
   ],
   "source": [
    "# finding principle components\n",
    "pca = PCA(n_components = 3) # this defines the model\n",
    "#x_fit=pca.fit(x.T) # this fits the model\n",
    "# a good measure of performance\n",
    "#print('Variance Explained: ', pca.explained_variance_ratio_)\n",
    "\n",
    "# PCA vizualization\n",
    "X_pca = pca.fit_transform(x.T) # transform the data into PCA space\n",
    "print('Variance Explained: ', pca.explained_variance_ratio_)\n",
    "\n",
    "fig =plt.figure()\n",
    "ax=fig.add_subplot()\n",
    "ax.scatter(X_pca[:,0],X_pca[:,1])\n",
    "ax.set_aspect('equal')\n",
    "ax.set_xlim([-20,20])\n",
    "ax.set_ylim([-20,20])\n",
    "plt.xlabel('PC1  '+str(100*round(pca.explained_variance_ratio_[0],3))+'%')\n",
    "plt.ylabel('PC2  '+str(100*round(pca.explained_variance_ratio_[1],3))+'%')\n",
    "\n",
    "fig =plt.figure()\n",
    "ax=fig.add_subplot()\n",
    "ax.scatter(X_pca[:,0],X_pca[:,2])\n",
    "ax.set_aspect('equal')\n",
    "ax.set_xlim([-20,20])\n",
    "ax.set_ylim([-20,20])\n",
    "plt.xlabel('PC1  '+str(100*round(pca.explained_variance_ratio_[0],3))+'%')\n",
    "plt.ylabel('PC3  '+str(100*round(pca.explained_variance_ratio_[2],3))+'%')\n",
    "\n",
    "fig =plt.figure()\n",
    "ax=fig.add_subplot()\n",
    "ax.scatter(X_pca[:,1],X_pca[:,2])\n",
    "ax.set_aspect('equal')\n",
    "ax.set_xlim([-20,20])\n",
    "ax.set_ylim([-20,20])\n",
    "plt.xlabel('PC2  '+str(100*round(pca.explained_variance_ratio_[1],3))+'%')\n",
    "plt.ylabel('PC3  '+str(100*round(pca.explained_variance_ratio_[2],3))+'%')"
   ]
  },
  {
   "cell_type": "markdown",
   "id": "7dc52aea",
   "metadata": {},
   "source": [
    "Let's do one last example"
   ]
  },
  {
   "cell_type": "code",
   "execution_count": 45,
   "id": "d8e558ed",
   "metadata": {},
   "outputs": [
    {
     "data": {
      "text/plain": [
       "(-10.0, 25.0)"
      ]
     },
     "execution_count": 45,
     "metadata": {},
     "output_type": "execute_result"
    }
   ],
   "source": [
    "z_1=np.random.normal(loc=1,scale=2.0,size=100)\n",
    "z_2=np.random.normal(loc=1,scale=2.0,size=100)\n",
    "z_3=np.random.normal(loc=1,scale=0.7,size=100)\n",
    "\n",
    "y_1=np.random.normal(loc=-1,scale=0.2,size=10)\n",
    "y_2=np.random.normal(loc=-1,scale=0.2,size=10)\n",
    "y_3=np.random.normal(loc=10,scale=0.2,size=10)\n",
    "\n",
    "x_1=np.concatenate((y_1,z_1),axis=0)\n",
    "x_2=np.concatenate((y_2,z_2),axis=0)\n",
    "x_3=np.concatenate((y_3,z_3),axis=0)\n",
    "\n",
    "x=np.array([x_1,x_2,x_1+2*x_2+x_3])\n",
    "\n",
    "\n",
    "#Rotate with our matrix, around (1,1,1)\n",
    "#R=np.array([[0,1,0],[0,0,1],[1,0,0]])\n",
    "\n",
    "fig = plt.figure()\n",
    "ax = fig.add_subplot(projection='3d')\n",
    "\n",
    "#ax.scatter(x_r[0],x_r[1],x_r[2])\n",
    "\n",
    "ax.scatter(x[0],x[1],x[2],color='b')\n",
    "\n",
    "#ax.plot(x[0],x[1],'r+',zdir='z')\n",
    "#ax.plot(x[0],x[2],'g+',zdir='y')\n",
    "#ax.plot(x[1],x[2],'k+',zdir='x')\n",
    "\n",
    "\n",
    "ax.set_xlabel(r'$x_1$')\n",
    "ax.set_ylabel(r'$x_2$')\n",
    "ax.set_zlabel(r'$x_3$')\n",
    "\n",
    "ax.set_xlim((-10,25))\n",
    "ax.set_ylim((-10,25))\n",
    "ax.set_zlim((-10,25))"
   ]
  },
  {
   "cell_type": "code",
   "execution_count": 46,
   "id": "3916415a",
   "metadata": {},
   "outputs": [
    {
     "name": "stdout",
     "output_type": "stream",
     "text": [
      "Variance Explained:  [0.82490126 0.13304561 0.04205313]\n"
     ]
    },
    {
     "data": {
      "text/plain": [
       "Text(0, 0.5, 'PC3  4.2%')"
      ]
     },
     "execution_count": 46,
     "metadata": {},
     "output_type": "execute_result"
    }
   ],
   "source": [
    "# finding principle components\n",
    "pca = PCA(n_components = 3) # this defines the model\n",
    "#x_fit=pca.fit(x.T) # this fits the model\n",
    "# a good measure of performance\n",
    "#print('Variance Explained: ', pca.explained_variance_ratio_)\n",
    "\n",
    "# PCA vizualization\n",
    "X_pca = pca.fit_transform(x.T) # transform the data into PCA space\n",
    "print('Variance Explained: ', pca.explained_variance_ratio_)\n",
    "\n",
    "fig =plt.figure()\n",
    "ax=fig.add_subplot()\n",
    "ax.scatter(X_pca[:,0],X_pca[:,1])\n",
    "ax.set_aspect('equal')\n",
    "ax.set_xlim([-20,20])\n",
    "ax.set_ylim([-20,20])\n",
    "plt.xlabel('PC1  '+str(100*round(pca.explained_variance_ratio_[0],3))+'%')\n",
    "plt.ylabel('PC2  '+str(100*round(pca.explained_variance_ratio_[1],3))+'%')\n",
    "\n",
    "fig =plt.figure()\n",
    "ax=fig.add_subplot()\n",
    "ax.scatter(X_pca[:,0],X_pca[:,2])\n",
    "ax.set_aspect('equal')\n",
    "ax.set_xlim([-20,20])\n",
    "ax.set_ylim([-20,20])\n",
    "plt.xlabel('PC1  '+str(100*round(pca.explained_variance_ratio_[0],3))+'%')\n",
    "plt.ylabel('PC3  '+str(100*round(pca.explained_variance_ratio_[2],3))+'%')\n",
    "\n",
    "fig =plt.figure()\n",
    "ax=fig.add_subplot()\n",
    "ax.scatter(X_pca[:,1],X_pca[:,2])\n",
    "ax.set_aspect('equal')\n",
    "ax.set_xlim([-20,20])\n",
    "ax.set_ylim([-20,20])\n",
    "plt.xlabel('PC2  '+str(100*round(pca.explained_variance_ratio_[1],3))+'%')\n",
    "plt.ylabel('PC3  '+str(100*round(pca.explained_variance_ratio_[2],3))+'%')"
   ]
  },
  {
   "cell_type": "markdown",
   "id": "e4cbedb6",
   "metadata": {},
   "source": [
    "PCA can give wrong picture of the details normal to the PC1-PC2 plane. "
   ]
  }
 ],
 "metadata": {
  "kernelspec": {
   "display_name": "Python 3 (ipykernel)",
   "language": "python",
   "name": "python3"
  },
  "language_info": {
   "codemirror_mode": {
    "name": "ipython",
    "version": 3
   },
   "file_extension": ".py",
   "mimetype": "text/x-python",
   "name": "python",
   "nbconvert_exporter": "python",
   "pygments_lexer": "ipython3",
   "version": "3.9.13"
  }
 },
 "nbformat": 4,
 "nbformat_minor": 5
}
