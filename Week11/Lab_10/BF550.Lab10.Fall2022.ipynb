{
 "cells": [
  {
   "cell_type": "markdown",
   "id": "0672ffbf-3fb9-4102-8f7c-afb515519c43",
   "metadata": {
    "id": "0672ffbf-3fb9-4102-8f7c-afb515519c43"
   },
   "source": [
    "# BF550 Lab 10 Fall 2022\n",
    "\n",
    "Principal component analysis (PCA) is a common dimensionality reduction technique that can allow for the visualization of high-dimensional data. In Python, the most common way to perform PCA is with scikit-learn's implementation: https://scikit-learn.org/stable/modules/generated/sklearn.decomposition.PCA.html."
   ]
  },
  {
   "cell_type": "code",
   "execution_count": 1,
   "id": "7f4c9eda-89a2-44c0-b3e1-26153216cefe",
   "metadata": {
    "id": "7f4c9eda-89a2-44c0-b3e1-26153216cefe"
   },
   "outputs": [],
   "source": [
    "import pandas as pd\n",
    "import numpy as np\n",
    "import matplotlib.pyplot as plt\n",
    "import seaborn as sns\n",
    "\n",
    "from sklearn.decomposition import PCA\n",
    "\n",
    "import scipy.stats as sps\n",
    "from scipy.spatial.distance import pdist, squareform\n",
    "\n",
    "def clr(x):\n",
    "    \"\"\"\n",
    "    Perform the centered-log ratio transform\n",
    "    More info at: https://en.wikipedia.org/wiki/Compositional_data\n",
    "    \"\"\"\n",
    "    return np.log(x / sps.gmean(x))"
   ]
  },
  {
   "cell_type": "markdown",
   "id": "8f213101-5803-4c9e-aa4d-1d27e00c5263",
   "metadata": {
    "id": "8f213101-5803-4c9e-aa4d-1d27e00c5263"
   },
   "source": [
    "# Part 1: PCA on synthetic data\n",
    "Here we will introduce the syntax for implementing PCA in Python on a 4-dimensional synthetic dataset of 60 samples from two populations.\n",
    "\n",
    "# Problem 1.\n",
    "First, we will generate a synthetic dataset with four normally distributed features (dimensions).\n",
    "1. Generate samples for population A: Generate 30 samples from 4 normal distributions each with $\\mu$=0 (resulting in one 30 x 4 matrix). \n",
    "2. Generate samples for population B: Generate 30 samples from 4 normal distributions each with $\\mu$=1.5. *Note how these means differ than those for population A*.\n",
    "3. Stack these two matrices together to create one 60 x 4 dataset."
   ]
  },
  {
   "cell_type": "code",
   "execution_count": null,
   "id": "69a65835-e475-42e8-b1d1-e68dac899cc8",
   "metadata": {},
   "outputs": [],
   "source": []
  },
  {
   "cell_type": "code",
   "execution_count": 8,
   "id": "5b53121f-9499-46ef-af9e-de24c0d94f21",
   "metadata": {
    "id": "5b53121f-9499-46ef-af9e-de24c0d94f21"
   },
   "outputs": [
    {
     "data": {
      "text/plain": [
       "array([[ 1.1610953 , -1.19672442, -0.88563098,  0.87676179],\n",
       "       [-0.47683429,  1.61725128,  1.15407304,  1.09552719],\n",
       "       [-0.9953549 , -0.9717135 , -0.52296249,  0.52097694],\n",
       "       [ 0.12733304, -0.68391319,  0.82096545, -1.79734614],\n",
       "       [ 0.54723975, -2.90375241,  0.19604392,  0.42087704]])"
      ]
     },
     "execution_count": 8,
     "metadata": {},
     "output_type": "execute_result"
    }
   ],
   "source": [
    "\"Generate synthetic data\"\n",
    "N = 30\n",
    "\n",
    "# Sample from normal distributions\n",
    "a = np.random.normal(loc=0.0, scale=1.0, size=(N,4))\n",
    "b = np.random.normal(loc=1.5, scale=1.0, size=(N,4))\n",
    "\n",
    "# Vertically stack a and b into one matrix\n",
    "data = np.vstack((a,b))\n",
    "\n",
    "data[:5]\n",
    "#data.shape"
   ]
  },
  {
   "cell_type": "markdown",
   "id": "00485f0e-896f-405c-95d2-bb6a53237134",
   "metadata": {
    "id": "00485f0e-896f-405c-95d2-bb6a53237134"
   },
   "source": [
    "# Problem 2: Compute PCA on synthetic data\n",
    "You can view sklearn's PCA function here: https://scikit-learn.org/stable/modules/generated/sklearn.decomposition.PCA.html#sklearn.decomposition.PCA.\n",
    "\n",
    "To compute PCA, you make a model object, specify parameters (number of components; in our case 2), and then use the `fit_transform()` method, which train the model and then perform PCA on the provided data. For example:\n",
    "\n",
    "```python\n",
    "# Note that the PCA class has already been imported\n",
    "pca = PCA(2).fit_transform(data)\n",
    "```\n",
    "\n",
    "1. Compute PCA on this dataset for to generate the first 2 components. Notice that sklearn expects samples to be rows and features to be columns of your matrix (as is done here). This will return a matrix of the first two principal components for the provided data.\n",
    "2. Place this matrix into a DataFrame and name the columns `PC1` and `PC2`\n",
    "3. Create a new column called `population` that labels each sample (row) by its corresponding population (A for the first 30 samples and B for the next 30).\n",
    "4. Plot a scatterplot of the dimensionality reduced and color by `population`."
   ]
  },
  {
   "cell_type": "code",
   "execution_count": 32,
   "id": "21910b9d-55cf-4111-a072-0bb7ddc74eca",
   "metadata": {
    "id": "21910b9d-55cf-4111-a072-0bb7ddc74eca"
   },
   "outputs": [
    {
     "data": {
      "image/png": "[encoded data removed]",
      "text/plain": [
       "<Figure size 640x480 with 1 Axes>"
      ]
     },
     "metadata": {},
     "output_type": "display_data"
    }
   ],
   "source": [
    "\"Compute PCA\"\n",
    "pca = PCA(2).fit_transform(data)\n",
    "\n",
    "\"Place into DataFrame\"\n",
    "pca_df = pd.DataFrame(data=pca,columns=[\"PC1\",\"PC2\"])\n",
    "pca_df['population']=np.repeat(['a','b'],30)\n",
    "\"Scatterplot of PCA\"\n",
    "sns.scatterplot(data=pca_df,x=\"PC1\",y=\"PC2\",hue=\"population\")\n",
    "plt.show()"
   ]
  },
  {
   "cell_type": "markdown",
   "id": "0f5e8c22-1762-4e7e-aa30-7e81c1af7b5e",
   "metadata": {
    "id": "0f5e8c22-1762-4e7e-aa30-7e81c1af7b5e"
   },
   "source": [
    "## Explained variance\n",
    "We can get the percent explained variance of each principal component if we first `fit` a PCA model and then access the `explained_variance_ratio_` attrribute. We can then apply the dimensionality reduction with `transform`.  For example:\n",
    "\n",
    "```python\n",
    "# Fit PCA model\n",
    "pca = PCA(2).fit(data)\n",
    "\n",
    "# Get percent explained variance\n",
    "evr = pca.explained_variance_ratio_\n",
    "\n",
    "# Now apply dim reduction\n",
    "dr = pca.transform(data)\n",
    "```\n",
    "\n",
    "Note that doing `fit(data)` and then `tranform(data)` is the same as `fit_transform(data)`, as we did above."
   ]
  },
  {
   "cell_type": "markdown",
   "id": "78c89c55-7302-4400-8c4c-59667c75fb25",
   "metadata": {
    "id": "78c89c55-7302-4400-8c4c-59667c75fb25"
   },
   "source": [
    "# Part 2: PCA on real microbiome data\n",
    "**Motivating question**: How do microbial communities grown in different conditions change in their composition over time?\n",
    "\n",
    "Here, we will use PCA to visualize how different microbial communities cultured in differnt types of media change in their taxonomic membership over time. The dataset for this exercise contains data from two different studies ([Goldford 2018](https://www-science-org.ezproxy.bu.edu/doi/10.1126/science.aat1168) and [Bittleston 2020](https://www.nature.com/articles/s41467-020-15169-0)) with a total of 350 samples recording the relative abundance of 3896 \"ASVs\" or species (that's way too many dimensions to visualize without PCA!). One study (Goldford), grew different microbial communities in glucose and another study (Bittleston), grew different microbial communities in cricket media.\n",
    "\n",
    "\n",
    "In the ASV table, each `Sample` records the relative abundance of all observed species in a particular `study`, grown in a particular `media`, from a particular `source` microbial community, from a particular `days`. Note that each `Sample` in the metadata (index) corresponds to a column of the ASV table.\n",
    "\n",
    "First we will load and pre-process the count data (the ASV table) and the metadata."
   ]
  },
  {
   "cell_type": "code",
   "execution_count": 33,
   "id": "46ee1a2d-395a-4cf2-8d65-6432c7958c93",
   "metadata": {
    "id": "46ee1a2d-395a-4cf2-8d65-6432c7958c93",
    "outputId": "335aca25-ae77-42e5-9cfc-03089190e017"
   },
   "outputs": [
    {
     "data": {
      "text/html": [
       "<div>\n",
       "<style scoped>\n",
       "    .dataframe tbody tr th:only-of-type {\n",
       "        vertical-align: middle;\n",
       "    }\n",
       "\n",
       "    .dataframe tbody tr th {\n",
       "        vertical-align: top;\n",
       "    }\n",
       "\n",
       "    .dataframe thead th {\n",
       "        text-align: right;\n",
       "    }\n",
       "</style>\n",
       "<table border=\"1\" class=\"dataframe\">\n",
       "  <thead>\n",
       "    <tr style=\"text-align: right;\">\n",
       "      <th></th>\n",
       "      <th>SRR9953697</th>\n",
       "      <th>SRR9953699</th>\n",
       "      <th>SRR9953702</th>\n",
       "      <th>SRR9953704</th>\n",
       "      <th>SRR9953706</th>\n",
       "      <th>SRR9953712</th>\n",
       "      <th>SRR9953718</th>\n",
       "      <th>SRR9953720</th>\n",
       "      <th>SRR9953722</th>\n",
       "      <th>SRR9953724</th>\n",
       "      <th>...</th>\n",
       "      <th>SRR7134016_Glucose_goldford_X7_4.0</th>\n",
       "      <th>SRR7134398_Glucose_goldford_X2_1.0</th>\n",
       "      <th>SRR7134401_Glucose_goldford_X8_4.0</th>\n",
       "      <th>SRR7134120_Glucose_goldford_X3_4.0</th>\n",
       "      <th>SRR7134117_Glucose_goldford_X9_4.0</th>\n",
       "      <th>SRR7134107_Glucose_goldford_X4_4.0</th>\n",
       "      <th>SRR7134106_Glucose_goldford_X10_4.0</th>\n",
       "      <th>SRR7133937_Glucose_goldford_X5_4.0</th>\n",
       "      <th>SRR7134351_Glucose_goldford_X6_1.0</th>\n",
       "      <th>SRR7134353_Glucose_goldford_X12_4.0</th>\n",
       "    </tr>\n",
       "    <tr>\n",
       "      <th>asv</th>\n",
       "      <th></th>\n",
       "      <th></th>\n",
       "      <th></th>\n",
       "      <th></th>\n",
       "      <th></th>\n",
       "      <th></th>\n",
       "      <th></th>\n",
       "      <th></th>\n",
       "      <th></th>\n",
       "      <th></th>\n",
       "      <th></th>\n",
       "      <th></th>\n",
       "      <th></th>\n",
       "      <th></th>\n",
       "      <th></th>\n",
       "      <th></th>\n",
       "      <th></th>\n",
       "      <th></th>\n",
       "      <th></th>\n",
       "      <th></th>\n",
       "      <th></th>\n",
       "    </tr>\n",
       "  </thead>\n",
       "  <tbody>\n",
       "    <tr>\n",
       "      <th>d007cee006889a1090c2d5bfb35a1953</th>\n",
       "      <td>7.869019</td>\n",
       "      <td>8.474893</td>\n",
       "      <td>8.985022</td>\n",
       "      <td>9.164119</td>\n",
       "      <td>8.748886</td>\n",
       "      <td>5.545208</td>\n",
       "      <td>9.326909</td>\n",
       "      <td>8.091251</td>\n",
       "      <td>7.558787</td>\n",
       "      <td>7.864320</td>\n",
       "      <td>...</td>\n",
       "      <td>-0.112467</td>\n",
       "      <td>-0.254557</td>\n",
       "      <td>-0.155960</td>\n",
       "      <td>-0.065517</td>\n",
       "      <td>-0.145353</td>\n",
       "      <td>-0.076602</td>\n",
       "      <td>-0.121678</td>\n",
       "      <td>-0.176475</td>\n",
       "      <td>-0.070559</td>\n",
       "      <td>-0.118906</td>\n",
       "    </tr>\n",
       "    <tr>\n",
       "      <th>38c27ceaed634984c1225a82648cf571</th>\n",
       "      <td>-0.040470</td>\n",
       "      <td>6.513475</td>\n",
       "      <td>8.918717</td>\n",
       "      <td>9.643174</td>\n",
       "      <td>8.820274</td>\n",
       "      <td>7.359971</td>\n",
       "      <td>9.663284</td>\n",
       "      <td>9.800240</td>\n",
       "      <td>9.637535</td>\n",
       "      <td>10.044329</td>\n",
       "      <td>...</td>\n",
       "      <td>-0.112467</td>\n",
       "      <td>-0.254557</td>\n",
       "      <td>-0.155960</td>\n",
       "      <td>-0.065517</td>\n",
       "      <td>-0.145353</td>\n",
       "      <td>-0.076602</td>\n",
       "      <td>-0.121678</td>\n",
       "      <td>-0.176475</td>\n",
       "      <td>-0.070559</td>\n",
       "      <td>-0.118906</td>\n",
       "    </tr>\n",
       "    <tr>\n",
       "      <th>d32e579b3ae7b2aae8d5bf9f027c29af</th>\n",
       "      <td>6.677335</td>\n",
       "      <td>6.872532</td>\n",
       "      <td>7.080918</td>\n",
       "      <td>7.258188</td>\n",
       "      <td>6.740694</td>\n",
       "      <td>8.711081</td>\n",
       "      <td>-0.040349</td>\n",
       "      <td>-0.040574</td>\n",
       "      <td>-0.033579</td>\n",
       "      <td>-0.034833</td>\n",
       "      <td>...</td>\n",
       "      <td>-0.112467</td>\n",
       "      <td>-0.254557</td>\n",
       "      <td>-0.155960</td>\n",
       "      <td>-0.065517</td>\n",
       "      <td>-0.145353</td>\n",
       "      <td>-0.076602</td>\n",
       "      <td>-0.121678</td>\n",
       "      <td>-0.176475</td>\n",
       "      <td>-0.070559</td>\n",
       "      <td>-0.118906</td>\n",
       "    </tr>\n",
       "    <tr>\n",
       "      <th>ca8c1cfd11ff0a6977f6772630a85de3</th>\n",
       "      <td>8.158444</td>\n",
       "      <td>8.647002</td>\n",
       "      <td>-0.071351</td>\n",
       "      <td>-0.075488</td>\n",
       "      <td>-0.069448</td>\n",
       "      <td>8.612822</td>\n",
       "      <td>-0.040349</td>\n",
       "      <td>-0.040574</td>\n",
       "      <td>-0.033579</td>\n",
       "      <td>-0.034833</td>\n",
       "      <td>...</td>\n",
       "      <td>-0.112467</td>\n",
       "      <td>-0.254557</td>\n",
       "      <td>-0.155960</td>\n",
       "      <td>-0.065517</td>\n",
       "      <td>-0.145353</td>\n",
       "      <td>-0.076602</td>\n",
       "      <td>-0.121678</td>\n",
       "      <td>-0.176475</td>\n",
       "      <td>-0.070559</td>\n",
       "      <td>-0.118906</td>\n",
       "    </tr>\n",
       "    <tr>\n",
       "      <th>20b3df08cd5fac2be26a2928155bab69</th>\n",
       "      <td>3.766192</td>\n",
       "      <td>5.368944</td>\n",
       "      <td>2.973171</td>\n",
       "      <td>4.318961</td>\n",
       "      <td>3.737215</td>\n",
       "      <td>8.354610</td>\n",
       "      <td>7.937276</td>\n",
       "      <td>7.420491</td>\n",
       "      <td>7.621338</td>\n",
       "      <td>8.147447</td>\n",
       "      <td>...</td>\n",
       "      <td>-0.112467</td>\n",
       "      <td>6.372160</td>\n",
       "      <td>4.820774</td>\n",
       "      <td>-0.065517</td>\n",
       "      <td>-0.145353</td>\n",
       "      <td>-0.076602</td>\n",
       "      <td>-0.121678</td>\n",
       "      <td>7.672459</td>\n",
       "      <td>-0.070559</td>\n",
       "      <td>4.198582</td>\n",
       "    </tr>\n",
       "  </tbody>\n",
       "</table>\n",
       "<p>5 rows × 350 columns</p>\n",
       "</div>"
      ],
      "text/plain": [
       "                                  SRR9953697  SRR9953699  SRR9953702  \\\n",
       "asv                                                                    \n",
       "d007cee006889a1090c2d5bfb35a1953    7.869019    8.474893    8.985022   \n",
       "38c27ceaed634984c1225a82648cf571   -0.040470    6.513475    8.918717   \n",
       "d32e579b3ae7b2aae8d5bf9f027c29af    6.677335    6.872532    7.080918   \n",
       "ca8c1cfd11ff0a6977f6772630a85de3    8.158444    8.647002   -0.071351   \n",
       "20b3df08cd5fac2be26a2928155bab69    3.766192    5.368944    2.973171   \n",
       "\n",
       "                                  SRR9953704  SRR9953706  SRR9953712  \\\n",
       "asv                                                                    \n",
       "d007cee006889a1090c2d5bfb35a1953    9.164119    8.748886    5.545208   \n",
       "38c27ceaed634984c1225a82648cf571    9.643174    8.820274    7.359971   \n",
       "d32e579b3ae7b2aae8d5bf9f027c29af    7.258188    6.740694    8.711081   \n",
       "ca8c1cfd11ff0a6977f6772630a85de3   -0.075488   -0.069448    8.612822   \n",
       "20b3df08cd5fac2be26a2928155bab69    4.318961    3.737215    8.354610   \n",
       "\n",
       "                                  SRR9953718  SRR9953720  SRR9953722  \\\n",
       "asv                                                                    \n",
       "d007cee006889a1090c2d5bfb35a1953    9.326909    8.091251    7.558787   \n",
       "38c27ceaed634984c1225a82648cf571    9.663284    9.800240    9.637535   \n",
       "d32e579b3ae7b2aae8d5bf9f027c29af   -0.040349   -0.040574   -0.033579   \n",
       "ca8c1cfd11ff0a6977f6772630a85de3   -0.040349   -0.040574   -0.033579   \n",
       "20b3df08cd5fac2be26a2928155bab69    7.937276    7.420491    7.621338   \n",
       "\n",
       "                                  SRR9953724  ...  \\\n",
       "asv                                           ...   \n",
       "d007cee006889a1090c2d5bfb35a1953    7.864320  ...   \n",
       "38c27ceaed634984c1225a82648cf571   10.044329  ...   \n",
       "d32e579b3ae7b2aae8d5bf9f027c29af   -0.034833  ...   \n",
       "ca8c1cfd11ff0a6977f6772630a85de3   -0.034833  ...   \n",
       "20b3df08cd5fac2be26a2928155bab69    8.147447  ...   \n",
       "\n",
       "                                  SRR7134016_Glucose_goldford_X7_4.0  \\\n",
       "asv                                                                    \n",
       "d007cee006889a1090c2d5bfb35a1953                           -0.112467   \n",
       "38c27ceaed634984c1225a82648cf571                           -0.112467   \n",
       "d32e579b3ae7b2aae8d5bf9f027c29af                           -0.112467   \n",
       "ca8c1cfd11ff0a6977f6772630a85de3                           -0.112467   \n",
       "20b3df08cd5fac2be26a2928155bab69                           -0.112467   \n",
       "\n",
       "                                  SRR7134398_Glucose_goldford_X2_1.0  \\\n",
       "asv                                                                    \n",
       "d007cee006889a1090c2d5bfb35a1953                           -0.254557   \n",
       "38c27ceaed634984c1225a82648cf571                           -0.254557   \n",
       "d32e579b3ae7b2aae8d5bf9f027c29af                           -0.254557   \n",
       "ca8c1cfd11ff0a6977f6772630a85de3                           -0.254557   \n",
       "20b3df08cd5fac2be26a2928155bab69                            6.372160   \n",
       "\n",
       "                                  SRR7134401_Glucose_goldford_X8_4.0  \\\n",
       "asv                                                                    \n",
       "d007cee006889a1090c2d5bfb35a1953                           -0.155960   \n",
       "38c27ceaed634984c1225a82648cf571                           -0.155960   \n",
       "d32e579b3ae7b2aae8d5bf9f027c29af                           -0.155960   \n",
       "ca8c1cfd11ff0a6977f6772630a85de3                           -0.155960   \n",
       "20b3df08cd5fac2be26a2928155bab69                            4.820774   \n",
       "\n",
       "                                  SRR7134120_Glucose_goldford_X3_4.0  \\\n",
       "asv                                                                    \n",
       "d007cee006889a1090c2d5bfb35a1953                           -0.065517   \n",
       "38c27ceaed634984c1225a82648cf571                           -0.065517   \n",
       "d32e579b3ae7b2aae8d5bf9f027c29af                           -0.065517   \n",
       "ca8c1cfd11ff0a6977f6772630a85de3                           -0.065517   \n",
       "20b3df08cd5fac2be26a2928155bab69                           -0.065517   \n",
       "\n",
       "                                  SRR7134117_Glucose_goldford_X9_4.0  \\\n",
       "asv                                                                    \n",
       "d007cee006889a1090c2d5bfb35a1953                           -0.145353   \n",
       "38c27ceaed634984c1225a82648cf571                           -0.145353   \n",
       "d32e579b3ae7b2aae8d5bf9f027c29af                           -0.145353   \n",
       "ca8c1cfd11ff0a6977f6772630a85de3                           -0.145353   \n",
       "20b3df08cd5fac2be26a2928155bab69                           -0.145353   \n",
       "\n",
       "                                  SRR7134107_Glucose_goldford_X4_4.0  \\\n",
       "asv                                                                    \n",
       "d007cee006889a1090c2d5bfb35a1953                           -0.076602   \n",
       "38c27ceaed634984c1225a82648cf571                           -0.076602   \n",
       "d32e579b3ae7b2aae8d5bf9f027c29af                           -0.076602   \n",
       "ca8c1cfd11ff0a6977f6772630a85de3                           -0.076602   \n",
       "20b3df08cd5fac2be26a2928155bab69                           -0.076602   \n",
       "\n",
       "                                  SRR7134106_Glucose_goldford_X10_4.0  \\\n",
       "asv                                                                     \n",
       "d007cee006889a1090c2d5bfb35a1953                            -0.121678   \n",
       "38c27ceaed634984c1225a82648cf571                            -0.121678   \n",
       "d32e579b3ae7b2aae8d5bf9f027c29af                            -0.121678   \n",
       "ca8c1cfd11ff0a6977f6772630a85de3                            -0.121678   \n",
       "20b3df08cd5fac2be26a2928155bab69                            -0.121678   \n",
       "\n",
       "                                  SRR7133937_Glucose_goldford_X5_4.0  \\\n",
       "asv                                                                    \n",
       "d007cee006889a1090c2d5bfb35a1953                           -0.176475   \n",
       "38c27ceaed634984c1225a82648cf571                           -0.176475   \n",
       "d32e579b3ae7b2aae8d5bf9f027c29af                           -0.176475   \n",
       "ca8c1cfd11ff0a6977f6772630a85de3                           -0.176475   \n",
       "20b3df08cd5fac2be26a2928155bab69                            7.672459   \n",
       "\n",
       "                                  SRR7134351_Glucose_goldford_X6_1.0  \\\n",
       "asv                                                                    \n",
       "d007cee006889a1090c2d5bfb35a1953                           -0.070559   \n",
       "38c27ceaed634984c1225a82648cf571                           -0.070559   \n",
       "d32e579b3ae7b2aae8d5bf9f027c29af                           -0.070559   \n",
       "ca8c1cfd11ff0a6977f6772630a85de3                           -0.070559   \n",
       "20b3df08cd5fac2be26a2928155bab69                           -0.070559   \n",
       "\n",
       "                                  SRR7134353_Glucose_goldford_X12_4.0  \n",
       "asv                                                                    \n",
       "d007cee006889a1090c2d5bfb35a1953                            -0.118906  \n",
       "38c27ceaed634984c1225a82648cf571                            -0.118906  \n",
       "d32e579b3ae7b2aae8d5bf9f027c29af                            -0.118906  \n",
       "ca8c1cfd11ff0a6977f6772630a85de3                            -0.118906  \n",
       "20b3df08cd5fac2be26a2928155bab69                             4.198582  \n",
       "\n",
       "[5 rows x 350 columns]"
      ]
     },
     "execution_count": 33,
     "metadata": {},
     "output_type": "execute_result"
    }
   ],
   "source": [
    "\"Load ASV\"\n",
    "# Load the Amplicon sequence variant table (ASVs)\n",
    "asv = pd.read_csv('bf550_lab10_goldford_bittleston_asv.csv', index_col=0)\n",
    "# Perform CLR transform to account for compositionality\n",
    "asv = asv.add(.5).apply(clr)\n",
    "\n",
    "asv.head()"
   ]
  },
  {
   "cell_type": "code",
   "execution_count": 34,
   "id": "96d2a182-8412-4c32-a375-017daa1a19dd",
   "metadata": {
    "id": "96d2a182-8412-4c32-a375-017daa1a19dd",
    "outputId": "9f1a4c3f-bbc2-4ace-f68e-0b19da5960bd"
   },
   "outputs": [
    {
     "data": {
      "text/html": [
       "<div>\n",
       "<style scoped>\n",
       "    .dataframe tbody tr th:only-of-type {\n",
       "        vertical-align: middle;\n",
       "    }\n",
       "\n",
       "    .dataframe tbody tr th {\n",
       "        vertical-align: top;\n",
       "    }\n",
       "\n",
       "    .dataframe thead th {\n",
       "        text-align: right;\n",
       "    }\n",
       "</style>\n",
       "<table border=\"1\" class=\"dataframe\">\n",
       "  <thead>\n",
       "    <tr style=\"text-align: right;\">\n",
       "      <th></th>\n",
       "      <th>study</th>\n",
       "      <th>media</th>\n",
       "      <th>source</th>\n",
       "      <th>days</th>\n",
       "    </tr>\n",
       "    <tr>\n",
       "      <th>Sample</th>\n",
       "      <th></th>\n",
       "      <th></th>\n",
       "      <th></th>\n",
       "      <th></th>\n",
       "    </tr>\n",
       "  </thead>\n",
       "  <tbody>\n",
       "    <tr>\n",
       "      <th>SRR7134368</th>\n",
       "      <td>goldford</td>\n",
       "      <td>Glucose</td>\n",
       "      <td>goldford_X2</td>\n",
       "      <td>24</td>\n",
       "    </tr>\n",
       "    <tr>\n",
       "      <th>SRR7134372</th>\n",
       "      <td>goldford</td>\n",
       "      <td>Glucose</td>\n",
       "      <td>goldford_X6</td>\n",
       "      <td>24</td>\n",
       "    </tr>\n",
       "    <tr>\n",
       "      <th>SRR7133912</th>\n",
       "      <td>goldford</td>\n",
       "      <td>Glucose</td>\n",
       "      <td>goldford_X1</td>\n",
       "      <td>24</td>\n",
       "    </tr>\n",
       "    <tr>\n",
       "      <th>SRR7133914</th>\n",
       "      <td>goldford</td>\n",
       "      <td>Glucose</td>\n",
       "      <td>goldford_X3</td>\n",
       "      <td>24</td>\n",
       "    </tr>\n",
       "    <tr>\n",
       "      <th>SRR7133915</th>\n",
       "      <td>goldford</td>\n",
       "      <td>Glucose</td>\n",
       "      <td>goldford_X4</td>\n",
       "      <td>24</td>\n",
       "    </tr>\n",
       "  </tbody>\n",
       "</table>\n",
       "</div>"
      ],
      "text/plain": [
       "               study    media       source  days\n",
       "Sample                                          \n",
       "SRR7134368  goldford  Glucose  goldford_X2    24\n",
       "SRR7134372  goldford  Glucose  goldford_X6    24\n",
       "SRR7133912  goldford  Glucose  goldford_X1    24\n",
       "SRR7133914  goldford  Glucose  goldford_X3    24\n",
       "SRR7133915  goldford  Glucose  goldford_X4    24"
      ]
     },
     "execution_count": 34,
     "metadata": {},
     "output_type": "execute_result"
    }
   ],
   "source": [
    "\"Load the metadata\"\n",
    "md = pd.read_csv('bf550_lab10_goldford_bittleston_md.csv', index_col=0)\n",
    "md.head()"
   ]
  },
  {
   "cell_type": "code",
   "execution_count": null,
   "id": "a986a7c0-61d3-4d56-a548-ff9bc5299758",
   "metadata": {
    "id": "a986a7c0-61d3-4d56-a548-ff9bc5299758",
    "outputId": "95b36a84-2692-405b-af69-176841c02110"
   },
   "outputs": [
    {
     "data": {
      "text/plain": [
       "study\n",
       "bittleston    10\n",
       "goldford      11\n",
       "Name: source, dtype: int64"
      ]
     },
     "execution_count": 52,
     "metadata": {},
     "output_type": "execute_result"
    }
   ],
   "source": [
    "\"Number of source communities from each study\"\n",
    "md.groupby('study').source.nunique()"
   ]
  },
  {
   "cell_type": "code",
   "execution_count": 35,
   "id": "698d0dcb-cecf-4499-8b17-288ce2899a8a",
   "metadata": {},
   "outputs": [
    {
     "data": {
      "text/plain": [
       "media\n",
       "Cricket    10\n",
       "Glucose    11\n",
       "Name: source, dtype: int64"
      ]
     },
     "execution_count": 35,
     "metadata": {},
     "output_type": "execute_result"
    }
   ],
   "source": [
    "md.groupby('media').source.nunique()"
   ]
  },
  {
   "cell_type": "code",
   "execution_count": 38,
   "id": "d142e275-50d6-4d77-b676-a69bc8770ad9",
   "metadata": {},
   "outputs": [
    {
     "data": {
      "text/plain": [
       "array(['goldford', 'bittleston'], dtype=object)"
      ]
     },
     "execution_count": 38,
     "metadata": {},
     "output_type": "execute_result"
    }
   ],
   "source": [
    "md.study.unique()"
   ]
  },
  {
   "cell_type": "markdown",
   "id": "a75f43d5-c955-4f8f-8b94-5e2687a81df7",
   "metadata": {
    "id": "a75f43d5-c955-4f8f-8b94-5e2687a81df7"
   },
   "source": [
    "# Problem 3: Compute PCA on microbime data\n",
    "Your goal is to visualize how the structure of these microbial communities changes over time when they are grown in different conditions. To do so, you will:\n",
    "1. Transpose the ASV table (note that the conventional format of these tables is species (features) x samples. We want samples x features for scikit-learn).\n",
    "1. Perform PCA on all of the samples from **each study separately**. We will be looking at these studies independently from one another. Following each PCA calculation, place the principal coordinate data into a DataFrame where the index is the samples and the columns are PC1 and PC2. Then join the metadata from `md`.\n",
    "3. Concatenate PCA data (`pd.concat([df1, df2, ...])`) for both studies together into one DataFrame.\n",
    "2. Visualize the trajectories of each community by media (two subplots, one for each media (Glucose and Cricket)). Use color to indicate source communities and marker size to indicate time."
   ]
  },
  {
   "cell_type": "code",
   "execution_count": 56,
   "id": "326a6fe4-313f-4ae2-beff-c3df84bef06b",
   "metadata": {},
   "outputs": [
    {
     "data": {
      "text/html": [
       "<div>\n",
       "<style scoped>\n",
       "    .dataframe tbody tr th:only-of-type {\n",
       "        vertical-align: middle;\n",
       "    }\n",
       "\n",
       "    .dataframe tbody tr th {\n",
       "        vertical-align: top;\n",
       "    }\n",
       "\n",
       "    .dataframe thead th {\n",
       "        text-align: right;\n",
       "    }\n",
       "</style>\n",
       "<table border=\"1\" class=\"dataframe\">\n",
       "  <thead>\n",
       "    <tr style=\"text-align: right;\">\n",
       "      <th></th>\n",
       "      <th>PC1</th>\n",
       "      <th>PC2</th>\n",
       "      <th>study</th>\n",
       "      <th>media</th>\n",
       "      <th>source</th>\n",
       "      <th>days</th>\n",
       "    </tr>\n",
       "    <tr>\n",
       "      <th>Sample</th>\n",
       "      <th></th>\n",
       "      <th></th>\n",
       "      <th></th>\n",
       "      <th></th>\n",
       "      <th></th>\n",
       "      <th></th>\n",
       "    </tr>\n",
       "  </thead>\n",
       "  <tbody>\n",
       "    <tr>\n",
       "      <th>SRR7134368</th>\n",
       "      <td>-12.541411</td>\n",
       "      <td>3.502449</td>\n",
       "      <td>goldford</td>\n",
       "      <td>Glucose</td>\n",
       "      <td>goldford_X2</td>\n",
       "      <td>24</td>\n",
       "    </tr>\n",
       "    <tr>\n",
       "      <th>SRR7134372</th>\n",
       "      <td>-11.171490</td>\n",
       "      <td>1.194711</td>\n",
       "      <td>goldford</td>\n",
       "      <td>Glucose</td>\n",
       "      <td>goldford_X6</td>\n",
       "      <td>24</td>\n",
       "    </tr>\n",
       "    <tr>\n",
       "      <th>SRR7133912</th>\n",
       "      <td>-12.464681</td>\n",
       "      <td>1.573848</td>\n",
       "      <td>goldford</td>\n",
       "      <td>Glucose</td>\n",
       "      <td>goldford_X1</td>\n",
       "      <td>24</td>\n",
       "    </tr>\n",
       "    <tr>\n",
       "      <th>SRR7133914</th>\n",
       "      <td>-14.606899</td>\n",
       "      <td>1.688520</td>\n",
       "      <td>goldford</td>\n",
       "      <td>Glucose</td>\n",
       "      <td>goldford_X3</td>\n",
       "      <td>24</td>\n",
       "    </tr>\n",
       "    <tr>\n",
       "      <th>SRR7133915</th>\n",
       "      <td>-10.308665</td>\n",
       "      <td>-0.257754</td>\n",
       "      <td>goldford</td>\n",
       "      <td>Glucose</td>\n",
       "      <td>goldford_X4</td>\n",
       "      <td>24</td>\n",
       "    </tr>\n",
       "    <tr>\n",
       "      <th>...</th>\n",
       "      <td>...</td>\n",
       "      <td>...</td>\n",
       "      <td>...</td>\n",
       "      <td>...</td>\n",
       "      <td>...</td>\n",
       "      <td>...</td>\n",
       "    </tr>\n",
       "    <tr>\n",
       "      <th>SRR9954111</th>\n",
       "      <td>11.782647</td>\n",
       "      <td>-10.189151</td>\n",
       "      <td>bittleston</td>\n",
       "      <td>Cricket</td>\n",
       "      <td>bittleston_M10</td>\n",
       "      <td>45</td>\n",
       "    </tr>\n",
       "    <tr>\n",
       "      <th>SRR9954113</th>\n",
       "      <td>12.974081</td>\n",
       "      <td>-10.680610</td>\n",
       "      <td>bittleston</td>\n",
       "      <td>Cricket</td>\n",
       "      <td>bittleston_M10</td>\n",
       "      <td>42</td>\n",
       "    </tr>\n",
       "    <tr>\n",
       "      <th>SRR9954115</th>\n",
       "      <td>13.046028</td>\n",
       "      <td>-8.426329</td>\n",
       "      <td>bittleston</td>\n",
       "      <td>Cricket</td>\n",
       "      <td>bittleston_M10</td>\n",
       "      <td>39</td>\n",
       "    </tr>\n",
       "    <tr>\n",
       "      <th>SRR9954117</th>\n",
       "      <td>11.348518</td>\n",
       "      <td>-8.915323</td>\n",
       "      <td>bittleston</td>\n",
       "      <td>Cricket</td>\n",
       "      <td>bittleston_M10</td>\n",
       "      <td>36</td>\n",
       "    </tr>\n",
       "    <tr>\n",
       "      <th>SRR9954119</th>\n",
       "      <td>11.588902</td>\n",
       "      <td>-9.809680</td>\n",
       "      <td>bittleston</td>\n",
       "      <td>Cricket</td>\n",
       "      <td>bittleston_M10</td>\n",
       "      <td>48</td>\n",
       "    </tr>\n",
       "  </tbody>\n",
       "</table>\n",
       "<p>350 rows × 6 columns</p>\n",
       "</div>"
      ],
      "text/plain": [
       "                  PC1        PC2       study    media          source  days\n",
       "Sample                                                                     \n",
       "SRR7134368 -12.541411   3.502449    goldford  Glucose     goldford_X2    24\n",
       "SRR7134372 -11.171490   1.194711    goldford  Glucose     goldford_X6    24\n",
       "SRR7133912 -12.464681   1.573848    goldford  Glucose     goldford_X1    24\n",
       "SRR7133914 -14.606899   1.688520    goldford  Glucose     goldford_X3    24\n",
       "SRR7133915 -10.308665  -0.257754    goldford  Glucose     goldford_X4    24\n",
       "...               ...        ...         ...      ...             ...   ...\n",
       "SRR9954111  11.782647 -10.189151  bittleston  Cricket  bittleston_M10    45\n",
       "SRR9954113  12.974081 -10.680610  bittleston  Cricket  bittleston_M10    42\n",
       "SRR9954115  13.046028  -8.426329  bittleston  Cricket  bittleston_M10    39\n",
       "SRR9954117  11.348518  -8.915323  bittleston  Cricket  bittleston_M10    36\n",
       "SRR9954119  11.588902  -9.809680  bittleston  Cricket  bittleston_M10    48\n",
       "\n",
       "[350 rows x 6 columns]"
      ]
     },
     "execution_count": 56,
     "metadata": {},
     "output_type": "execute_result"
    }
   ],
   "source": [
    "\"Transpose\"\n",
    "asv_T = asv.T\n",
    "\n",
    "\"Perform PCA for each dataset separately\"\n",
    "#Listing the studies\n",
    "studies = md.study.unique()\n",
    "\n",
    "#for study in md.study.unique():\n",
    "\"Subset ASV table to sudy\"\n",
    "study = studies[0]\n",
    "#Get all of the samples associated with this study\n",
    "samples_in_study=md[md.study.eq(study)].index\n",
    "#get data for these samples\n",
    "asv_T.loc[samples_in_study]\n",
    "\n",
    "\"Perform PCA\"\n",
    "pca_study = PCA(2).fit_transform(asv_study)\n",
    "\n",
    "pca_study_df=pd.DataFrame(data=pca_study,index=asv_study.index,columns=[\"PC1\",\"PC2\"])\n",
    "pca_study_df.join(md)"
   ]
  },
  {
   "cell_type": "code",
   "execution_count": 57,
   "id": "3d682bb6-f7a2-4010-ac09-a6a26e55a1b9",
   "metadata": {
    "id": "3d682bb6-f7a2-4010-ac09-a6a26e55a1b9"
   },
   "outputs": [
    {
     "data": {
      "text/html": [
       "<div>\n",
       "<style scoped>\n",
       "    .dataframe tbody tr th:only-of-type {\n",
       "        vertical-align: middle;\n",
       "    }\n",
       "\n",
       "    .dataframe tbody tr th {\n",
       "        vertical-align: top;\n",
       "    }\n",
       "\n",
       "    .dataframe thead th {\n",
       "        text-align: right;\n",
       "    }\n",
       "</style>\n",
       "<table border=\"1\" class=\"dataframe\">\n",
       "  <thead>\n",
       "    <tr style=\"text-align: right;\">\n",
       "      <th></th>\n",
       "      <th>PC1</th>\n",
       "      <th>PC2</th>\n",
       "      <th>study</th>\n",
       "      <th>media</th>\n",
       "      <th>source</th>\n",
       "      <th>days</th>\n",
       "    </tr>\n",
       "    <tr>\n",
       "      <th>Sample</th>\n",
       "      <th></th>\n",
       "      <th></th>\n",
       "      <th></th>\n",
       "      <th></th>\n",
       "      <th></th>\n",
       "      <th></th>\n",
       "    </tr>\n",
       "  </thead>\n",
       "  <tbody>\n",
       "    <tr>\n",
       "      <th>SRR7134368</th>\n",
       "      <td>-12.541411</td>\n",
       "      <td>3.502384</td>\n",
       "      <td>goldford</td>\n",
       "      <td>Glucose</td>\n",
       "      <td>goldford_X2</td>\n",
       "      <td>24</td>\n",
       "    </tr>\n",
       "    <tr>\n",
       "      <th>SRR7134372</th>\n",
       "      <td>-11.171490</td>\n",
       "      <td>1.194778</td>\n",
       "      <td>goldford</td>\n",
       "      <td>Glucose</td>\n",
       "      <td>goldford_X6</td>\n",
       "      <td>24</td>\n",
       "    </tr>\n",
       "    <tr>\n",
       "      <th>SRR7133912</th>\n",
       "      <td>-12.464681</td>\n",
       "      <td>1.573750</td>\n",
       "      <td>goldford</td>\n",
       "      <td>Glucose</td>\n",
       "      <td>goldford_X1</td>\n",
       "      <td>24</td>\n",
       "    </tr>\n",
       "    <tr>\n",
       "      <th>SRR7133914</th>\n",
       "      <td>-14.606899</td>\n",
       "      <td>1.688539</td>\n",
       "      <td>goldford</td>\n",
       "      <td>Glucose</td>\n",
       "      <td>goldford_X3</td>\n",
       "      <td>24</td>\n",
       "    </tr>\n",
       "    <tr>\n",
       "      <th>SRR7133915</th>\n",
       "      <td>-10.308665</td>\n",
       "      <td>-0.257676</td>\n",
       "      <td>goldford</td>\n",
       "      <td>Glucose</td>\n",
       "      <td>goldford_X4</td>\n",
       "      <td>24</td>\n",
       "    </tr>\n",
       "  </tbody>\n",
       "</table>\n",
       "</div>"
      ],
      "text/plain": [
       "                  PC1       PC2     study    media       source  days\n",
       "Sample                                                               \n",
       "SRR7134368 -12.541411  3.502384  goldford  Glucose  goldford_X2    24\n",
       "SRR7134372 -11.171490  1.194778  goldford  Glucose  goldford_X6    24\n",
       "SRR7133912 -12.464681  1.573750  goldford  Glucose  goldford_X1    24\n",
       "SRR7133914 -14.606899  1.688539  goldford  Glucose  goldford_X3    24\n",
       "SRR7133915 -10.308665 -0.257676  goldford  Glucose  goldford_X4    24"
      ]
     },
     "execution_count": 57,
     "metadata": {},
     "output_type": "execute_result"
    }
   ],
   "source": [
    "\"Transpose\"\n",
    "asv_T = asv.T\n",
    "\n",
    "\"Perform PCA for each dataset separately\"\n",
    "pca_data = []\n",
    "for study in md.study.unique():\n",
    "    # Get list of samples for current study\n",
    "    samples = md.index\n",
    "    asv_study = asv_T.loc[samples]\n",
    "    # Perform PCA\n",
    "    pca_study = PCA(2).fit_transform(asv_study)\n",
    "\n",
    "    # Add metadata\n",
    "    pca_study_df = pd.DataFrame(data=pca_study,columns=[\"PC1\",\"PC2\"],index=asv_study.index).join(md)\n",
    "    pca_data.append(pca_study_df)\n",
    "pca_df = pd.concat(pca_data)\n",
    "pca_df.head()"
   ]
  },
  {
   "cell_type": "code",
   "execution_count": 58,
   "id": "de5f29b8-6612-49c1-b003-86920c10e7a1",
   "metadata": {
    "id": "de5f29b8-6612-49c1-b003-86920c10e7a1"
   },
   "outputs": [
    {
     "data": {
      "image/png": "[encoded data removed]",
      "text/plain": [
       "<Figure size 1152.75x500 with 2 Axes>"
      ]
     },
     "metadata": {},
     "output_type": "display_data"
    }
   ],
   "source": [
    "\"Visualize PCA\"\n",
    "sns.relplot(x=\"PC1\",y=\"PC2\",hue=\"source\",size=\"days\",col=\"media\",data=pca_df)\n",
    "plt.show()"
   ]
  },
  {
   "cell_type": "code",
   "execution_count": null,
   "id": "9e50ecd9-df9b-4f3f-af23-a921e8664afc",
   "metadata": {},
   "outputs": [],
   "source": []
  },
  {
   "cell_type": "markdown",
   "id": "ad175d74-bb85-4286-95ed-9f17e1f2205c",
   "metadata": {
    "id": "ad175d74-bb85-4286-95ed-9f17e1f2205c"
   },
   "source": [
    "# Problem 4: Quantifying the qualitative\n",
    "What differences do you see between the dynamics of the communities grown in glucose vs. cricket media?\n",
    "\n",
    "It appears that microbiomes in gluocse \"converge\" more strongly to the same community composition than those grown in the cricket media.\n",
    "\n",
    "Let's try to quantify this difference by quantifying the distribution of pairwise distances between all samples at day 24 for the two media.\n",
    "\n",
    "In a for loop for each media:\n",
    "1. Get a list of day 24 samples for the given media\n",
    "2. Subset the transposed ASV table to those samples\n",
    "3. Compute the pairwise distance between all of the samples with [pdist()](https://docs.scipy.org/doc/scipy/reference/generated/scipy.spatial.distance.pdist.html). *(Note that by default, `pdist` computes the Euclidean distance between all pairs of samples). Also notice that `pdist` returns a single pairwise distance for each pair of provided samples.*\n",
    "4. Place those pairwise distances into a DataFrame and label the column `dist`.\n",
    "5. Make a new column in that DataFrame that indicates the media.\n",
    "6. Append that DataFrame to a list called `dist_data`, which is initialized before the loop.\n",
    "\n",
    "Once all pairwise distances have been calculated for communities grown in glucose and cricket media:\n",
    "1. Concatenate the pairwise distances from day 24 for both studies into one dataframe.\n",
    "1. Make a boxplot of these pairwise distances for each condition.\n",
    "2. Perform a two-sided Mann-Whitney test on these two distributions."
   ]
  },
  {
   "cell_type": "code",
   "execution_count": null,
   "id": "db4d21e0-b116-4157-981a-7fa70be4766c",
   "metadata": {
    "id": "db4d21e0-b116-4157-981a-7fa70be4766c"
   },
   "outputs": [],
   "source": [
    "\"Compute pairwise distances for each media at day 24\"\n",
    "dist_data = []\n",
    "for media in md.media.unique():\n",
    "    # Get samples for this media at day 24\n",
    "    samples_24 = None\n",
    "    # Subset the ASV table to these samples\n",
    "    asv_24 = asv_T.loc[samples_24]\n",
    "    # Compute the pairwise distances of these samples\n",
    "    dist_24 = None\n",
    "    # Place these distances into a DataFrame, name the column `dist`, and then add a new column \n",
    "    dist_media_df = None\n",
    "    dist_data.append(dist_media_df)\n",
    "    \n",
    "# Concetane into one dataframe\n",
    "dist_24_df = pd.concat(dist_data)\n",
    "dist_24_df.head()"
   ]
  },
  {
   "cell_type": "code",
   "execution_count": null,
   "id": "13997320-adbc-471a-be49-378ae6cc9ef5",
   "metadata": {
    "id": "13997320-adbc-471a-be49-378ae6cc9ef5",
    "outputId": "e4c67aad-831b-47ed-99af-0dda6345d292"
   },
   "outputs": [
    {
     "data": {
      "image/png": "[encoded data removed]",
      "text/plain": [
       "<Figure size 432x288 with 1 Axes>"
      ]
     },
     "metadata": {
      "needs_background": "light"
     },
     "output_type": "display_data"
    }
   ],
   "source": [
    "\"Visaulize\"\n",
    "\n",
    "plt.show()"
   ]
  },
  {
   "cell_type": "code",
   "execution_count": null,
   "id": "7816858c-90ff-4a0a-a10c-02802c9b8fdd",
   "metadata": {
    "id": "7816858c-90ff-4a0a-a10c-02802c9b8fdd",
    "outputId": "f07dc20e-8a8c-4a59-f5fb-87d63e4b0db1"
   },
   "outputs": [
    {
     "data": {
      "text/plain": [
       "MannwhitneyuResult(statistic=0.0, pvalue=5.1466498438574325e-18)"
      ]
     },
     "execution_count": 114,
     "metadata": {},
     "output_type": "execute_result"
    }
   ],
   "source": [
    "\"Statistic\"\n",
    "sps.mannwhitneyu()"
   ]
  }
 ],
 "metadata": {
  "colab": {
   "provenance": []
  },
  "kernelspec": {
   "display_name": "Python 3 (ipykernel)",
   "language": "python",
   "name": "python3"
  },
  "language_info": {
   "codemirror_mode": {
    "name": "ipython",
    "version": 3
   },
   "file_extension": ".py",
   "mimetype": "text/x-python",
   "name": "python",
   "nbconvert_exporter": "python",
   "pygments_lexer": "ipython3",
   "version": "3.9.13"
  }
 },
 "nbformat": 4,
 "nbformat_minor": 5
}
