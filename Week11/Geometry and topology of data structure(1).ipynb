{
 "cells": [
  {
   "cell_type": "code",
   "execution_count": 1,
   "id": "40586f0e",
   "metadata": {},
   "outputs": [],
   "source": [
    "%matplotlib qt\n",
    "import numpy as np\n",
    "np.random.seed(2022)\n",
    "import matplotlib.pyplot as plt\n",
    "import seaborn as sns\n",
    "sns.set()\n",
    "import scipy.stats as stats"
   ]
  },
  {
   "cell_type": "code",
   "execution_count": 2,
   "id": "b59d2d73",
   "metadata": {},
   "outputs": [
    {
     "data": {
      "text/plain": [
       "(-2.0, 6.0)"
      ]
     },
     "execution_count": 2,
     "metadata": {},
     "output_type": "execute_result"
    }
   ],
   "source": [
    "#Let's create some data and rotate it as we did already\n",
    "#Cigar\n",
    "x_1=np.random.normal(loc=3,scale=0.8,size=100)\n",
    "x_2=np.random.normal(loc=1,scale=0.4,size=100)\n",
    "x_3=np.random.normal(loc=4,scale=0.4,size=100)\n",
    "\n",
    "x=np.array([x_1,x_2,x_3])\n",
    "\n",
    "\n",
    "fig = plt.figure()\n",
    "ax = fig.add_subplot(projection='3d')\n",
    "\n",
    "ax.scatter(x[0],x[1],x[2],color='r')\n",
    "\n",
    "#ax.plot(x_1,x_2,'r+',zdir='z')\n",
    "#ax.plot(x_1,x_3,'g+',zdir='y')\n",
    "#ax.plot(x_2,x_3,'k+',zdir='x')\n",
    "\n",
    "\n",
    "ax.set_xlabel(r'$x_1$')\n",
    "ax.set_ylabel(r'$x_2$')\n",
    "ax.set_zlabel(r'$x_3$')\n",
    "\n",
    "ax.set_xlim((-2,6))\n",
    "ax.set_ylim((-2,6))\n",
    "ax.set_zlim((-2,6))\n"
   ]
  },
  {
   "cell_type": "code",
   "execution_count": 3,
   "id": "21aa8f64",
   "metadata": {},
   "outputs": [
    {
     "name": "stdout",
     "output_type": "stream",
     "text": [
      "(100, 3)\n"
     ]
    },
    {
     "data": {
      "text/plain": [
       "array([[2.99957768, 0.8852414 , 3.82453092],\n",
       "       [2.78007886, 0.34353026, 4.02824973],\n",
       "       [2.88857155, 0.1942033 , 4.09494081],\n",
       "       [4.58774893, 0.84772857, 3.79665261],\n",
       "       [3.22568746, 1.33628014, 3.85557811],\n",
       "       [3.60864693, 0.57360436, 3.49112361],\n",
       "       [3.24078528, 1.15701467, 4.01597713],\n",
       "       [3.43223782, 0.99316678, 4.56288852],\n",
       "       [3.29879783, 1.23198741, 3.846133  ],\n",
       "       [3.30225072, 1.06832418, 4.21554586],\n",
       "       [2.92782945, 1.10298608, 4.22059656],\n",
       "       [1.15524538, 0.93009816, 3.65259479],\n",
       "       [3.91420802, 0.89511695, 3.36414575],\n",
       "       [1.77147657, 0.4030704 , 3.9026222 ],\n",
       "       [2.30899839, 0.79453007, 4.13357404],\n",
       "       [3.81323595, 1.1209293 , 4.12290695],\n",
       "       [3.82717111, 0.32598577, 3.812304  ],\n",
       "       [2.34040622, 1.72408543, 4.15167393],\n",
       "       [3.01512389, 0.90742367, 4.14003085],\n",
       "       [2.69332516, 0.80654816, 3.99217261],\n",
       "       [2.75665162, 0.51572844, 4.43344789],\n",
       "       [3.7978332 , 0.30585863, 4.08803143],\n",
       "       [2.89818093, 0.63029203, 4.47239117],\n",
       "       [1.81929128, 1.38166543, 4.16286984],\n",
       "       [1.44727494, 1.45193935, 4.49235712],\n",
       "       [3.66691914, 0.76115497, 3.37824447],\n",
       "       [2.54622569, 0.72992282, 3.89337282],\n",
       "       [3.93958957, 1.92867562, 4.2868177 ],\n",
       "       [3.25525507, 1.63318129, 3.68135901],\n",
       "       [3.15269634, 0.38378834, 4.91114942],\n",
       "       [3.29541614, 1.57846707, 3.23997279],\n",
       "       [2.91908171, 1.07370969, 4.8182529 ],\n",
       "       [2.24655241, 1.08565313, 4.83816408],\n",
       "       [1.87668663, 0.65141045, 4.08169589],\n",
       "       [4.66451761, 0.49840705, 4.21258614],\n",
       "       [2.90374701, 1.4562796 , 4.25229741],\n",
       "       [3.6078335 , 1.08067286, 3.97905201],\n",
       "       [4.46194571, 1.79113635, 4.84935337],\n",
       "       [2.47141833, 1.00244036, 3.72831564],\n",
       "       [2.35375499, 1.25367113, 4.41823446],\n",
       "       [3.71024009, 1.28396019, 4.49699782],\n",
       "       [2.82604204, 0.5676888 , 3.6983548 ],\n",
       "       [2.24838039, 1.13133074, 3.6996848 ],\n",
       "       [3.47963065, 0.43422107, 4.3177665 ],\n",
       "       [4.77849016, 1.21016161, 4.41438919],\n",
       "       [3.80000437, 1.45043419, 4.50680926],\n",
       "       [3.91973963, 1.22523638, 3.69955037],\n",
       "       [2.87553897, 1.66707278, 4.64079954],\n",
       "       [1.67953932, 1.20350811, 4.63756245],\n",
       "       [1.83590867, 0.20431203, 5.05094694],\n",
       "       [3.25660927, 1.23228527, 4.56872262],\n",
       "       [3.64907971, 1.1216883 , 3.81796542],\n",
       "       [2.80735632, 1.2482388 , 3.97229483],\n",
       "       [3.13209686, 0.1759764 , 4.02899535],\n",
       "       [2.97319954, 1.10375808, 4.19318686],\n",
       "       [3.07029167, 1.75238521, 4.25937441],\n",
       "       [3.82731722, 0.88632604, 3.63465883],\n",
       "       [2.15133875, 0.82545977, 3.82947608],\n",
       "       [2.18913243, 1.07385321, 3.98928799],\n",
       "       [2.66381425, 1.50236361, 4.0283627 ],\n",
       "       [3.7457226 , 0.95958125, 3.68345324],\n",
       "       [3.25385915, 0.73792412, 3.32537759],\n",
       "       [2.246023  , 1.29565151, 3.33136548],\n",
       "       [3.25701384, 0.77993824, 3.95914447],\n",
       "       [1.90435702, 1.52932338, 3.5638988 ],\n",
       "       [2.82946557, 0.86029096, 3.78628794],\n",
       "       [2.90820299, 1.0231927 , 3.81387954],\n",
       "       [3.49789545, 1.03667212, 3.77248715],\n",
       "       [3.44419544, 1.390779  , 3.60097043],\n",
       "       [0.63405421, 1.00442277, 3.44283836],\n",
       "       [2.40761952, 0.78596495, 4.25438898],\n",
       "       [3.75566416, 1.20714419, 3.78843557],\n",
       "       [3.8783904 , 0.80971022, 4.31175345],\n",
       "       [3.39596671, 0.55582826, 4.21863775],\n",
       "       [4.00880172, 1.4996289 , 4.48376402],\n",
       "       [3.50812087, 1.58982384, 4.70275612],\n",
       "       [3.52592001, 1.27967084, 3.38943975],\n",
       "       [2.37525759, 1.30704367, 3.46026493],\n",
       "       [2.58487355, 0.48343709, 3.86117961],\n",
       "       [2.37426263, 0.77725047, 4.02508102],\n",
       "       [1.87535589, 0.93697175, 3.86207184],\n",
       "       [2.47874282, 1.2419391 , 4.35323932],\n",
       "       [3.50121367, 0.22371696, 4.31142383],\n",
       "       [2.62019745, 0.67597615, 3.20479038],\n",
       "       [1.68728096, 1.14053236, 3.56597752],\n",
       "       [2.64172502, 1.25739615, 3.49015663],\n",
       "       [3.10431245, 0.62745755, 3.81621067],\n",
       "       [3.70670652, 1.65993837, 4.08673134],\n",
       "       [3.26244633, 1.17937827, 4.51085702],\n",
       "       [2.49081163, 1.09803781, 3.95944184],\n",
       "       [3.44598842, 0.83277112, 4.34835414],\n",
       "       [3.60344524, 1.31172414, 4.15687923],\n",
       "       [2.10509614, 0.48317708, 4.29733805],\n",
       "       [3.2621931 , 1.00058949, 4.11722198],\n",
       "       [3.75983755, 1.33519036, 4.68116549],\n",
       "       [2.51563085, 0.43115724, 3.55795417],\n",
       "       [3.73859629, 0.73186036, 4.22669108],\n",
       "       [2.72973413, 0.88370272, 2.91413095],\n",
       "       [2.96252339, 1.19942275, 3.78221348],\n",
       "       [2.23483344, 1.0787718 , 4.06751672]])"
      ]
     },
     "execution_count": 3,
     "metadata": {},
     "output_type": "execute_result"
    }
   ],
   "source": [
    "X=x.T\n",
    "print(X.shape)\n",
    "X\n"
   ]
  },
  {
   "cell_type": "markdown",
   "id": "27da7350",
   "metadata": {},
   "source": [
    "Typically, the rows are the samples, the columns are the features, the measured variables.\n",
    "\n",
    "Sometimes it is the other way around. Not too important, can work with transposed matrices: $X^T$. \n",
    "\n",
    "Keep in mind that for matrix products:\n",
    "\n",
    "$(\\hat{A}\\hat{B})^T=\\hat{B}^T\\hat{A}^T$\n",
    "\n",
    "when transposing a product, you need to reverse the order of multiplications.\n",
    "\n",
    "Simple proof:\n",
    "\n",
    "We know that: $(\\hat{A}\\hat{B})_{i,j}=\\sum_kA_{i,k}B_{k,j}$\n",
    "\n",
    "so:\n",
    "\n",
    "$(\\hat{A}\\hat{B})^T_{i,j}=(\\hat{A}\\hat{B})_{j,i}=\\sum_kA_{j,k}B_{k,i}=\n",
    "\\sum_kA^T_{k,j}B^T_{i,k}=\\sum_kB^T_{i,k}A^T_{k,j}=(\\hat{A}^T\\hat{B}^T)_{i,j}$"
   ]
  },
  {
   "cell_type": "markdown",
   "id": "a17a4145",
   "metadata": {},
   "source": [
    "#### Covariance matrix \n",
    "\n",
    "Matrix of the measure of spread along the coordinate axes.  \n",
    "\n",
    "Analogous to covariance between two random variables:\n",
    "\n",
    "$cov(x,y)=\\overline{(x-\\bar{x})(y-\\bar{y})}$\n",
    "\n",
    "we can calculate the covariances between any two variabales we measured in a sample:\n",
    "\n",
    "$cov(x_i,x_j)=\\overline{(x_i-\\bar{x_i})(x_j-\\bar{x_j})}$\n",
    "\n",
    "This is the $i,j$ element of the matrix.\n",
    "\n",
    "The covariance matrix is:\n",
    "\n",
    "If the data matrix is $X$ then the centered data matrix is:\n",
    "\n",
    "$X_c=X-\\bar{X}$\n",
    "\n",
    "Remember that the averaging is over samples!\n"
   ]
  },
  {
   "cell_type": "code",
   "execution_count": 4,
   "id": "3ac10b51",
   "metadata": {},
   "outputs": [
    {
     "data": {
      "text/plain": [
       "array([2.99348363, 1.0037916 , 4.03013164])"
      ]
     },
     "execution_count": 4,
     "metadata": {},
     "output_type": "execute_result"
    }
   ],
   "source": [
    "#Let's center our data\n",
    "#First let's calciulate \\bar{X}\n",
    "X_bar=np.mean(X,axis=0)\n",
    "X_bar.view()"
   ]
  },
  {
   "cell_type": "code",
   "execution_count": 5,
   "id": "d15a9d3a",
   "metadata": {},
   "outputs": [
    {
     "data": {
      "text/plain": [
       "array([[ 6.09405031e-03, -1.18550206e-01, -2.05600726e-01],\n",
       "       [-2.13404770e-01, -6.60261340e-01, -1.88191453e-03],\n",
       "       [-1.04912080e-01, -8.09588302e-01,  6.48091676e-02],\n",
       "       [ 1.59426530e+00, -1.56063036e-01, -2.33479035e-01],\n",
       "       [ 2.32203830e-01,  3.32488537e-01, -1.74553528e-01],\n",
       "       [ 6.15163296e-01, -4.30187241e-01, -5.39008027e-01],\n",
       "       [ 2.47301654e-01,  1.53223069e-01, -1.41545150e-02],\n",
       "       [ 4.38754185e-01, -1.06248272e-02,  5.32756875e-01],\n",
       "       [ 3.05314199e-01,  2.28195809e-01, -1.83998641e-01],\n",
       "       [ 3.08767085e-01,  6.45325732e-02,  1.85414214e-01],\n",
       "       [-6.56541845e-02,  9.91944796e-02,  1.90464919e-01],\n",
       "       [-1.83823825e+00, -7.36934417e-02, -3.77536849e-01],\n",
       "       [ 9.20724389e-01, -1.08674653e-01, -6.65985888e-01],\n",
       "       [-1.22200706e+00, -6.00721201e-01, -1.27509440e-01],\n",
       "       [-6.84485245e-01, -2.09261530e-01,  1.03442402e-01],\n",
       "       [ 8.19752318e-01,  1.17137699e-01,  9.27753047e-02],\n",
       "       [ 8.33687476e-01, -6.77805838e-01, -2.17827638e-01],\n",
       "       [-6.53077413e-01,  7.20293825e-01,  1.21542285e-01],\n",
       "       [ 2.16402547e-02, -9.63679296e-02,  1.09899204e-01],\n",
       "       [-3.00158475e-01, -1.97243440e-01, -3.79590271e-02],\n",
       "       [-2.36832010e-01, -4.88063159e-01,  4.03316251e-01],\n",
       "       [ 8.04349574e-01, -6.97932971e-01,  5.78997900e-02],\n",
       "       [-9.53027029e-02, -3.73499573e-01,  4.42259533e-01],\n",
       "       [-1.17419235e+00,  3.77873828e-01,  1.32738199e-01],\n",
       "       [-1.54620869e+00,  4.48147743e-01,  4.62225474e-01],\n",
       "       [ 6.73435508e-01, -2.42636636e-01, -6.51887169e-01],\n",
       "       [-4.47257941e-01, -2.73868781e-01, -1.36758818e-01],\n",
       "       [ 9.46105935e-01,  9.24884019e-01,  2.56686054e-01],\n",
       "       [ 2.61771435e-01,  6.29389689e-01, -3.48772632e-01],\n",
       "       [ 1.59212712e-01, -6.20003264e-01,  8.81017778e-01],\n",
       "       [ 3.01932514e-01,  5.74675466e-01, -7.90158848e-01],\n",
       "       [-7.44019206e-02,  6.99180889e-02,  7.88121255e-01],\n",
       "       [-7.46931222e-01,  8.18615271e-02,  8.08032434e-01],\n",
       "       [-1.11679700e+00, -3.52381149e-01,  5.15642501e-02],\n",
       "       [ 1.67103398e+00, -5.05384555e-01,  1.82454499e-01],\n",
       "       [-8.97366178e-02,  4.52488000e-01,  2.22165772e-01],\n",
       "       [ 6.14349873e-01,  7.68812620e-02, -5.10796296e-02],\n",
       "       [ 1.46846208e+00,  7.87344752e-01,  8.19221732e-01],\n",
       "       [-5.22065300e-01, -1.35124083e-03, -3.01816006e-01],\n",
       "       [-6.39728640e-01,  2.49879528e-01,  3.88102815e-01],\n",
       "       [ 7.16756462e-01,  2.80168589e-01,  4.66866180e-01],\n",
       "       [-1.67441590e-01, -4.36102801e-01, -3.31776845e-01],\n",
       "       [-7.45103243e-01,  1.27539137e-01, -3.30446841e-01],\n",
       "       [ 4.86147023e-01, -5.69570533e-01,  2.87634858e-01],\n",
       "       [ 1.78500653e+00,  2.06370006e-01,  3.84257547e-01],\n",
       "       [ 8.06520737e-01,  4.46642583e-01,  4.76677621e-01],\n",
       "       [ 9.26256004e-01,  2.21444780e-01, -3.30581268e-01],\n",
       "       [-1.17944663e-01,  6.63281178e-01,  6.10667895e-01],\n",
       "       [-1.31394431e+00,  1.99716506e-01,  6.07430805e-01],\n",
       "       [-1.15757496e+00, -7.99479574e-01,  1.02081530e+00],\n",
       "       [ 2.63125642e-01,  2.28493665e-01,  5.38590977e-01],\n",
       "       [ 6.55596075e-01,  1.17896697e-01, -2.12166221e-01],\n",
       "       [-1.86127308e-01,  2.44447193e-01, -5.78368137e-02],\n",
       "       [ 1.38613234e-01, -8.27815201e-01, -1.13628976e-03],\n",
       "       [-2.02840894e-02,  9.99664765e-02,  1.63055220e-01],\n",
       "       [ 7.68080354e-02,  7.48593611e-01,  2.29242771e-01],\n",
       "       [ 8.33833593e-01, -1.17465560e-01, -3.95472814e-01],\n",
       "       [-8.42144878e-01, -1.78331835e-01, -2.00655560e-01],\n",
       "       [-8.04351197e-01,  7.00616025e-02, -4.08436547e-02],\n",
       "       [-3.29669379e-01,  4.98572012e-01, -1.76893736e-03],\n",
       "       [ 7.52238972e-01, -4.42103550e-02, -3.46678404e-01],\n",
       "       [ 2.60375518e-01, -2.65867481e-01, -7.04754055e-01],\n",
       "       [-7.47460630e-01,  2.91859911e-01, -6.98766159e-01],\n",
       "       [ 2.63530209e-01, -2.23853364e-01, -7.09871717e-02],\n",
       "       [-1.08912661e+00,  5.25531772e-01, -4.66232837e-01],\n",
       "       [-1.64018064e-01, -1.43500639e-01, -2.43843706e-01],\n",
       "       [-8.52806424e-02,  1.94011006e-02, -2.16252098e-01],\n",
       "       [ 5.04411822e-01,  3.28805153e-02, -2.57644497e-01],\n",
       "       [ 4.50711806e-01,  3.86987392e-01, -4.29161216e-01],\n",
       "       [-2.35942942e+00,  6.31167087e-04, -5.87293286e-01],\n",
       "       [-5.85864110e-01, -2.17826655e-01,  2.24257342e-01],\n",
       "       [ 7.62180526e-01,  2.03352588e-01, -2.41696071e-01],\n",
       "       [ 8.84906769e-01, -1.94081380e-01,  2.81621806e-01],\n",
       "       [ 4.02483078e-01, -4.47963344e-01,  1.88506107e-01],\n",
       "       [ 1.01531809e+00,  4.95837298e-01,  4.53632376e-01],\n",
       "       [ 5.14637241e-01,  5.86032235e-01,  6.72624476e-01],\n",
       "       [ 5.32436383e-01,  2.75879240e-01, -6.40691893e-01],\n",
       "       [-6.18226040e-01,  3.03252071e-01, -5.69866714e-01],\n",
       "       [-4.08610077e-01, -5.20354512e-01, -1.68952027e-01],\n",
       "       [-6.19220998e-01, -2.26541138e-01, -5.05061970e-03],\n",
       "       [-1.11812774e+00, -6.68198523e-02, -1.68059804e-01],\n",
       "       [-5.14740807e-01,  2.38147493e-01,  3.23107680e-01],\n",
       "       [ 5.07730035e-01, -7.80074641e-01,  2.81292188e-01],\n",
       "       [-3.73286180e-01, -3.27815450e-01, -8.25341265e-01],\n",
       "       [-1.30620267e+00,  1.36740762e-01, -4.64154122e-01],\n",
       "       [-3.51758613e-01,  2.53604549e-01, -5.39975011e-01],\n",
       "       [ 1.10828819e-01, -3.76334057e-01, -2.13920973e-01],\n",
       "       [ 7.13222894e-01,  6.56146767e-01,  5.65996935e-02],\n",
       "       [ 2.68962701e-01,  1.75586665e-01,  4.80725381e-01],\n",
       "       [-5.02671996e-01,  9.42462035e-02, -7.06898025e-02],\n",
       "       [ 4.52504793e-01, -1.71020487e-01,  3.18222498e-01],\n",
       "       [ 6.09961610e-01,  3.07932541e-01,  1.26747592e-01],\n",
       "       [-8.88387494e-01, -5.20614524e-01,  2.67206408e-01],\n",
       "       [ 2.68709474e-01, -3.20211243e-03,  8.70903360e-02],\n",
       "       [ 7.66353916e-01,  3.31398753e-01,  6.51033853e-01],\n",
       "       [-4.77852780e-01, -5.72634366e-01, -4.72177470e-01],\n",
       "       [ 7.45112661e-01, -2.71931246e-01,  1.96559437e-01],\n",
       "       [-2.63749496e-01, -1.20088882e-01, -1.11600069e+00],\n",
       "       [-3.09602402e-02,  1.95631151e-01, -2.47918160e-01],\n",
       "       [-7.58650187e-01,  7.49802005e-02,  3.73850770e-02]])"
      ]
     },
     "execution_count": 5,
     "metadata": {},
     "output_type": "execute_result"
    }
   ],
   "source": [
    "#Let's center the data\n",
    "X_c=X-X_bar\n",
    "X_c.view()"
   ]
  },
  {
   "cell_type": "code",
   "execution_count": 15,
   "id": "6a54d2c6",
   "metadata": {},
   "outputs": [
    {
     "data": {
      "text/plain": [
       "Text(0.5, 0.92, 'Centered')"
      ]
     },
     "execution_count": 15,
     "metadata": {},
     "output_type": "execute_result"
    }
   ],
   "source": [
    "\n",
    "\n",
    "fig = plt.figure()\n",
    "ax = fig.add_subplot(projection='3d')\n",
    "\n",
    "ax.scatter(X_c.T[0],X_c.T[1],X_c.T[2])\n",
    "\n",
    "#ax.scatter(x[0],x[1],x[2],color='r')\n",
    "\n",
    "#ax.plot(x_1,x_2,'r+',zdir='z')\n",
    "#ax.plot(x_1,x_3,'g+',zdir='y')\n",
    "#ax.plot(x_2,x_3,'k+',zdir='x')\n",
    "\n",
    "\n",
    "ax.set_xlabel(r'$x_1$')\n",
    "ax.set_ylabel(r'$x_2$')\n",
    "ax.set_zlabel(r'$x_3$')\n",
    "\n",
    "ax.set_xlim((-3,3))\n",
    "ax.set_ylim((-3,3))\n",
    "ax.set_zlim((-3,3))\n",
    "\n",
    "ax.set_title('Centered')"
   ]
  },
  {
   "cell_type": "markdown",
   "id": "0cf007ec",
   "metadata": {},
   "source": [
    "We can get the covariance matrix by simple multiplication of the centered data matrix, and dividing by the sample size minus 1: $n-1$.\n",
    "\n",
    "First, note that the centered matrix rows are the variables $x_i$ for each sample $j$, minus the sample average $\\bar{x_i}$:\n",
    "\n",
    "$X_{j,i}=x_i(sample\\ j)-\\bar{x_i}$\n",
    "\n",
    "The transposed matrix $X^T$ is:\n",
    "\n",
    "$X^T_{i,j}=x_i(sample\\ j)-\\bar{x_i}$\n",
    "\n",
    "\n",
    "Remember that:\n",
    "\n",
    "$(AB)_{i,j}=\\sum_{k=1}^n A_{i,k}B_{k,j}$\n",
    "\n",
    "So:\n",
    "\n",
    "$(X^T_cX_c)_{i,j}=\\sum_{k=1}^nX^T_{i,k}X_{k,j}$\n",
    "\n",
    "or:\n",
    "\n",
    "$(X^T_cX_c)_{i,j}=\\sum_{k=1}^n(x_i(sample\\ k)-\\bar{x_k})(x_j(sample\\ k)-\\bar{x_j})$\n",
    "\n",
    "similar to:\n",
    "\n",
    "$\\sum_{k=1}^n(x(sample\\ k)-\\bar{x})(y(sample\\ k)-\\bar{y})$\n",
    "\n",
    "of:\n",
    "\n",
    "$\\sum_{k=1}^n(x_k-\\bar{x})(y_k-\\bar{y})$\n",
    "\n",
    "where he index $k$ goes over samples.\n",
    "\n",
    "So the covariance matrix is:\n",
    "\n",
    "$K=\\frac{1}{n-1}X^T_cX_c$\n",
    "\n",
    "Be carefull, sometimes it is all transposed!"
   ]
  },
  {
   "cell_type": "code",
   "execution_count": 7,
   "id": "da24e3fd",
   "metadata": {},
   "outputs": [
    {
     "name": "stdout",
     "output_type": "stream",
     "text": [
      "(100, 3)\n"
     ]
    }
   ],
   "source": [
    "print(X_c.shape)"
   ]
  },
  {
   "cell_type": "code",
   "execution_count": 8,
   "id": "f33ea5e3",
   "metadata": {},
   "outputs": [
    {
     "data": {
      "text/plain": [
       "array([[0.5894005 , 0.02265871, 0.03434024],\n",
       "       [0.02265871, 0.15928863, 0.01088912],\n",
       "       [0.03434024, 0.01088912, 0.17536593]])"
      ]
     },
     "execution_count": 8,
     "metadata": {},
     "output_type": "execute_result"
    }
   ],
   "source": [
    "#Let's do it for our data, remember our n is 100\n",
    "\n",
    "K=np.matmul(X_c.T,X_c)/(99)\n",
    "K"
   ]
  },
  {
   "cell_type": "markdown",
   "id": "22eeeeae",
   "metadata": {},
   "source": [
    "Note that it is not normalized to the product of standard deviations."
   ]
  },
  {
   "cell_type": "code",
   "execution_count": 9,
   "id": "68870a4a",
   "metadata": {},
   "outputs": [
    {
     "data": {
      "text/plain": [
       "array([[0.5894005 , 0.02265871, 0.03434024],\n",
       "       [0.02265871, 0.15928863, 0.01088912],\n",
       "       [0.03434024, 0.01088912, 0.17536593]])"
      ]
     },
     "execution_count": 9,
     "metadata": {},
     "output_type": "execute_result"
    }
   ],
   "source": [
    "#Numpy has a function that will do the same\n",
    "#Note the transposition here :( \n",
    "\n",
    "K_np=np.cov(X.T)\n",
    "K_np"
   ]
  },
  {
   "cell_type": "code",
   "execution_count": 10,
   "id": "66766de3",
   "metadata": {},
   "outputs": [
    {
     "data": {
      "text/plain": [
       "array([[0.76772423, 0.15052811, 0.1853112 ],\n",
       "       [0.15052811, 0.39910979, 0.10435097],\n",
       "       [0.1853112 , 0.10435097, 0.41876715]])"
      ]
     },
     "execution_count": 10,
     "metadata": {},
     "output_type": "execute_result"
    }
   ],
   "source": [
    "#We can calculate the standard deviations (the diagonal elements).\n",
    "#Just take the square root of it. \n",
    "\n",
    "np.sqrt(K_np)"
   ]
  },
  {
   "cell_type": "markdown",
   "id": "0063d584",
   "metadata": {},
   "source": [
    "Remember how we created the data:\n",
    "\n",
    "x_1=np.random.normal(loc=3,scale=0.8,size=100)\n",
    "\n",
    "x_2=np.random.normal(loc=1,scale=0.4,size=100)\n",
    "\n",
    "x_3=np.random.normal(loc=4,scale=0.4,size=100)\n",
    "\n",
    "So the standard deviations are just about right.\n",
    "\n",
    "Remember what the covariance matrix is:\n",
    "\n",
    "$K=\\begin{pmatrix}var(x_1) & cov(x_1,x_2) & cov(x_1,x_3)\\\\\n",
    "                  cov(x_2,x_1) & var(x_2) & cov(x_2,x_3)\\\\\n",
    "                  cov(x_3,x_1) & cov(x_3,x_2) & var(x_3)\n",
    "\\end{pmatrix}$\n",
    "\n"
   ]
  },
  {
   "cell_type": "markdown",
   "id": "3f3fc37f",
   "metadata": {},
   "source": [
    "Now let's rotate the data around the z axis by 45 degrees, $\\pi/4$ radians."
   ]
  },
  {
   "cell_type": "code",
   "execution_count": 14,
   "id": "067d8ee9",
   "metadata": {},
   "outputs": [
    {
     "data": {
      "text/plain": [
       "Text(0.5, 0.92, 'Rotated')"
      ]
     },
     "execution_count": 14,
     "metadata": {},
     "output_type": "execute_result"
    }
   ],
   "source": [
    "phi=np.pi/4\n",
    "R=np.array([[np.cos(phi),-np.sin(phi),0],[np.sin(phi),np.cos(phi),0],[0,0,1]])\n",
    "\n",
    "X_rot=np.matmul(R,X_c.T)\n",
    "\n",
    "fig = plt.figure()\n",
    "ax = fig.add_subplot(projection='3d')\n",
    "\n",
    "ax.scatter(X_rot[0],X_rot[1],X_rot[2])\n",
    "\n",
    "#ax.scatter(x[0],x[1],x[2],color='r')\n",
    "\n",
    "#ax.plot(x_1,x_2,'r+',zdir='z')\n",
    "#ax.plot(x_1,x_3,'g+',zdir='y')\n",
    "#ax.plot(x_2,x_3,'k+',zdir='x')\n",
    "\n",
    "\n",
    "ax.set_xlabel(r'$x_1$')\n",
    "ax.set_ylabel(r'$x_2$')\n",
    "ax.set_zlabel(r'$x_3$')\n",
    "\n",
    "ax.set_xlim((-3,3))\n",
    "ax.set_ylim((-3,3))\n",
    "ax.set_zlim((-3,3))\n",
    "ax.set_title('Rotated')"
   ]
  },
  {
   "cell_type": "code",
   "execution_count": 12,
   "id": "db9403d6",
   "metadata": {},
   "outputs": [
    {
     "data": {
      "text/plain": [
       "array([[0.35168585, 0.21505594, 0.01658244],\n",
       "       [0.21505594, 0.39700327, 0.03198199],\n",
       "       [0.01658244, 0.03198199, 0.17536593]])"
      ]
     },
     "execution_count": 12,
     "metadata": {},
     "output_type": "execute_result"
    }
   ],
   "source": [
    "#Now calculate K for the rotated X\n",
    "K_rot=np.cov(X_rot)\n",
    "K_rot\n"
   ]
  },
  {
   "cell_type": "code",
   "execution_count": 13,
   "id": "89ef3e16",
   "metadata": {},
   "outputs": [
    {
     "data": {
      "text/plain": [
       "array([[0.5894005 , 0.02265871, 0.03434024],\n",
       "       [0.02265871, 0.15928863, 0.01088912],\n",
       "       [0.03434024, 0.01088912, 0.17536593]])"
      ]
     },
     "execution_count": 13,
     "metadata": {},
     "output_type": "execute_result"
    }
   ],
   "source": [
    "K_np"
   ]
  },
  {
   "cell_type": "markdown",
   "id": "fc535400",
   "metadata": {},
   "source": [
    "##### Important: The K matrix is diagonal if the spread is greatest along the axes. \n",
    "\n",
    "If we change the axes to be along the greatest spread, the K matrix will turn into diagonal."
   ]
  }
 ],
 "metadata": {
  "kernelspec": {
   "display_name": "Python 3 (ipykernel)",
   "language": "python",
   "name": "python3"
  },
  "language_info": {
   "codemirror_mode": {
    "name": "ipython",
    "version": 3
   },
   "file_extension": ".py",
   "mimetype": "text/x-python",
   "name": "python",
   "nbconvert_exporter": "python",
   "pygments_lexer": "ipython3",
   "version": "3.9.13"
  }
 },
 "nbformat": 4,
 "nbformat_minor": 5
}
